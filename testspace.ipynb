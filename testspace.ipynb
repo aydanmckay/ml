{
 "cells": [
  {
   "cell_type": "code",
   "execution_count": 2,
   "id": "585f2862-f7b7-4cfe-b550-74c7fcb06617",
   "metadata": {
    "extensions": {
     "jupyter_dashboards": {
      "activeView": "grid_default",
      "views": {
       "grid_default": {
        "col": null,
        "height": 2,
        "hidden": true,
        "row": null,
        "width": 2
       }
      }
     }
    }
   },
   "outputs": [
    {
     "name": "stdout",
     "output_type": "stream",
     "text": [
      "test\n"
     ]
    }
   ],
   "source": [
    "print('test')"
   ]
  },
  {
   "cell_type": "code",
   "execution_count": 4,
   "id": "f7f6d01d-85f5-42ff-a7f3-3edf0c25ac3b",
   "metadata": {
    "extensions": {
     "jupyter_dashboards": {
      "activeView": "grid_default",
      "views": {
       "grid_default": {
        "col": null,
        "height": 2,
        "hidden": true,
        "row": null,
        "width": 2
       }
      }
     }
    },
    "tags": []
   },
   "outputs": [],
   "source": [
    "import numpy as np\n",
    "from astropy.io import fits"
   ]
  },
  {
   "cell_type": "code",
   "execution_count": 31,
   "id": "2f5757c9-bc36-4372-b3dd-91a59f510738",
   "metadata": {
    "extensions": {
     "jupyter_dashboards": {
      "activeView": "grid_default",
      "views": {
       "grid_default": {
        "col": null,
        "height": 2,
        "hidden": true,
        "row": null,
        "width": 2
       }
      }
     }
    }
   },
   "outputs": [],
   "source": [
    "hdul = fits.open('/arc/projects/k-pop/pristine/xmatch/pristine_sdss_photobj_dr17.fits')"
   ]
  },
  {
   "cell_type": "code",
   "execution_count": 32,
   "id": "1a9b7e5b-5ef0-4efb-beca-ac739d758ff7",
   "metadata": {
    "extensions": {
     "jupyter_dashboards": {
      "activeView": "grid_default",
      "views": {
       "grid_default": {
        "col": null,
        "height": 2,
        "hidden": true,
        "row": null,
        "width": 2
       }
      }
     }
    }
   },
   "outputs": [
    {
     "name": "stderr",
     "output_type": "stream",
     "text": [
      "WARNING: VerifyWarning: It is strongly recommended that column names contain only upper and lower-case ASCII letters, digits, or underscores for maximum compatibility with other software (got '<zph>'). [astropy.io.fits.column]\n"
     ]
    }
   ],
   "source": [
    "data = hdul[1].data"
   ]
  },
  {
   "cell_type": "code",
   "execution_count": 33,
   "id": "61e2404f-12ef-4020-bc87-6b2ebf731e45",
   "metadata": {
    "extensions": {
     "jupyter_dashboards": {
      "activeView": "grid_default",
      "views": {
       "grid_default": {
        "col": null,
        "height": 2,
        "hidden": true,
        "row": null,
        "width": 2
       }
      }
     }
    }
   },
   "outputs": [
    {
     "data": {
      "text/plain": [
       "FITS_rec([(180.74253845, 15.87769985,    1,  1, 848.27, 2516.31, 22.139, 0.003, -1, 0.031, 1237661070872019032, 180.742597, 15.877678, 0.001, 0.001, 90., 3, 6,  0, 0.001, 0.001, 15.896, 14.65 , 14.246, 14.73 , 14.071, 0.005, 0.003, 0.003, 0.012, 0.004,    nan,    nan, -32768, '', '',   nan,   nan,  nan,  nan,    nan,    nan,    nan,    nan,    nan, 3, 'SDSS J120258.22+155239.6', '', 52667.4837, 0.217921),\n",
       "          (180.71662903, 15.92425537,    1,  1, 368.91, 1610.7 , 22.482, 0.003, -1, 0.032, 1237661070872019014, 180.716648, 15.924286, 0.052, 0.049,  0., 3, 6,  0, 0.049, 0.052, 16.384, 14.457, 13.54 , 13.311, 13.158, 0.006, 0.003, 0.005, 0.002, 0.003,    nan,    nan, -32768, '', '',   nan,   nan,  nan,  nan,    nan,    nan,    nan,    nan,    nan, 3, 'SDSS J120251.99+155527.4', '', 52667.4837, 0.12832 ),\n",
       "          (180.74597168, 15.91284752,    1,  1, 919.06, 1829.37, 23.194, 0.005, -1, 0.031, 1237661070872019037, 180.746014, 15.912875, 0.001, 0.001, 90., 1, 6,  1, 0.001, 0.001, 17.117, 16.234, 15.998, 15.917, 15.91 , 0.008, 0.003, 0.004, 0.004, 0.007, 7.e-05, 1.e-05,      0, 'STAR', 'A0', -6.01, -5.55, 2.41, 2.41, 162.11,  93.69,    nan,    nan,    nan, 3, 'SDSS J120259.04+155446.3', '1764-53467-0409', 52667.4837, 0.175905),\n",
       "          ...,\n",
       "          (179.95387268,  2.25756955, 9416, 39, 808.07, 4207.4 , 27.862, 0.094,  1, 0.018, 1237651753473409184, 179.953934,  2.257496, 0.012, 0.009, 90., 1, 3,  1, 0.012, 0.009, 21.365, 19.588, 18.683, 18.268, 17.942, 0.189, 0.018, 0.012, 0.013, 0.035,    nan,    nan, -32768, '', '', -2.68,  0.95, 3.82, 3.82,  92.13, 215.87, 0.1196, 0.0227, 0.1237, 3, 'SDSS J115948.94+021526.9', '', 51669.287 , 0.345399),\n",
       "          (179.97267151,  2.16774726, 9416, 39, 446.07, 2462.3 , 27.862, 0.094,  1, 0.019, 1237651753473474801, 179.972587,  2.167748, 0.013, 0.012, 90., 4, 6,  0, 0.013, 0.012, 21.445, 20.435, 20.122, 19.964, 19.902, 0.145, 0.025, 0.024, 0.032, 0.122,    nan,    nan, -32768, '', '',   nan,   nan,  nan,  nan,    nan,    nan,    nan,    nan,    nan, 3, 'SDSS J115953.42+021003.8', '', 51669.2875, 0.303793),\n",
       "          (179.98091125,  2.17193055, 9416, 39, 283.82, 2541.98, 27.872, 0.095,  1, 0.019, 1237651753473474803, 179.980855,  2.171954, 0.015, 0.014,  0., 1, 6,  1, 0.014, 0.015, 21.889, 20.744, 20.299, 20.195, 19.893, 0.214, 0.032, 0.028, 0.04 , 0.124,    nan,    nan, -32768, '', '',  0.  ,  0.  , 0.  , 0.  ,   0.  ,   0.  ,    nan,    nan,    nan, 3, 'SDSS J115955.40+021019.0', '', 51669.2875, 0.217265)],\n",
       "         dtype=(numpy.record, [('RA(CaHK)', '>f8'), ('Dec(CaHK)', '>f8'), ('field_nb', '>i8'), ('ccd_nb', '>i8'), ('X', '>f8'), ('Y', '>f8'), ('CaHK_0', '>f8'), ('e_CaHK', '>f8'), ('flag', '>i8'), ('E_BV', '>f8'), ('objID', '>i8'), ('RA_ICRS', '>f8'), ('DE_ICRS', '>f8'), ('errHalfMaj', '>f4'), ('errHalfMin', '>f4'), ('errPosAng', '>f4'), ('mode', 'u1'), ('class', 'u1'), ('clean', 'i1'), ('e_RA_ICRS', '>f8'), ('e_DE_ICRS', '>f8'), ('umag', '>f4'), ('gmag', '>f4'), ('rmag', '>f4'), ('imag', '>f4'), ('zmag', '>f4'), ('e_umag', '>f4'), ('e_gmag', '>f4'), ('e_rmag', '>f4'), ('e_imag', '>f4'), ('e_zmag', '>f4'), ('zsp', '>f4'), ('e_zsp', '>f4'), ('f_zsp', '>i2'), ('spCl', 'S6'), ('subCl', 'S12'), ('pmRA', '>f4'), ('pmDE', '>f4'), ('e_pmRA', '>f4'), ('e_pmDE', '>f4'), ('sigRA', '>f4'), ('sigDE', '>f4'), ('zph', '>f4'), ('e_zph', '>f4'), ('<zph>', '>f4'), ('Q', 'u1'), ('SDSS16', 'S24'), ('Sp-ID', 'S16'), ('MJD', '>f8'), ('angDist', '>f8')]))"
      ]
     },
     "execution_count": 33,
     "metadata": {},
     "output_type": "execute_result"
    }
   ],
   "source": [
    "data"
   ]
  },
  {
   "cell_type": "code",
   "execution_count": 34,
   "id": "4c784215-c1c1-4b94-89bf-8236c51ff1e9",
   "metadata": {
    "extensions": {
     "jupyter_dashboards": {
      "activeView": "grid_default",
      "views": {
       "grid_default": {
        "col": null,
        "height": 2,
        "hidden": true,
        "row": null,
        "width": 2
       }
      }
     }
    }
   },
   "outputs": [],
   "source": [
    "check = data[0:100000]"
   ]
  },
  {
   "cell_type": "code",
   "execution_count": 13,
   "id": "cb77756c-7b95-4f3b-a6e1-eede243a408b",
   "metadata": {
    "extensions": {
     "jupyter_dashboards": {
      "activeView": "grid_default",
      "views": {
       "grid_default": {
        "col": null,
        "height": 2,
        "hidden": true,
        "row": null,
        "width": 2
       }
      }
     }
    }
   },
   "outputs": [],
   "source": [
    "# RAPMdeg     deg        float64  n/a\n",
    "# 27  DEPMdeg     deg        float64  n/a\n",
    "# 28  e_RAPMdeg   arcsec     float32  n/a\n",
    "# 29  e_DEPMdeg   arcsec     float32  n/a\n",
    "# 30  ePosPM      arcsec     float32  n/a\n",
    "# 31  pmRA        arcsec/yr  float32  n/a\n",
    "# 32  pmDE        arcsec/yr  float32  n/a\n",
    "# 33  e_pmRA      arcsec/yr  float32  n/a\n",
    "# 34  e_pmDE      arcsec/yr  float32  n/a"
   ]
  },
  {
   "cell_type": "code",
   "execution_count": 35,
   "id": "68f535fe-7e56-450c-ae72-a3e2b74bec11",
   "metadata": {
    "extensions": {
     "jupyter_dashboards": {
      "activeView": "grid_default",
      "views": {
       "grid_default": {
        "col": null,
        "height": 2,
        "hidden": true,
        "row": null,
        "width": 2
       }
      }
     }
    }
   },
   "outputs": [],
   "source": [
    "icrs=check['RA_ICRS']\n",
    "racahk = check['RA(CaHK)']"
   ]
  },
  {
   "cell_type": "code",
   "execution_count": 36,
   "id": "df8e5ed0-8891-48d8-93a4-5ad8c2e0d850",
   "metadata": {
    "extensions": {
     "jupyter_dashboards": {
      "activeView": "grid_default",
      "views": {
       "grid_default": {
        "col": null,
        "height": 2,
        "hidden": true,
        "row": null,
        "width": 2
       }
      }
     }
    }
   },
   "outputs": [
    {
     "data": {
      "text/plain": [
       "180.71662903"
      ]
     },
     "execution_count": 36,
     "metadata": {},
     "output_type": "execute_result"
    }
   ],
   "source": [
    "racahk[1]"
   ]
  },
  {
   "cell_type": "code",
   "execution_count": 38,
   "id": "540b2860-8c44-4a97-a093-33f265003406",
   "metadata": {
    "extensions": {
     "jupyter_dashboards": {
      "activeView": "grid_default",
      "views": {
       "grid_default": {
        "col": null,
        "height": 2,
        "hidden": true,
        "row": null,
        "width": 2
       }
      }
     }
    }
   },
   "outputs": [
    {
     "data": {
      "text/plain": [
       "180.716648"
      ]
     },
     "execution_count": 38,
     "metadata": {},
     "output_type": "execute_result"
    }
   ],
   "source": [
    "icrs[1]"
   ]
  },
  {
   "cell_type": "code",
   "execution_count": 25,
   "id": "801c83d6-6eaa-493b-a81e-a6baa7b86825",
   "metadata": {
    "extensions": {
     "jupyter_dashboards": {
      "activeView": "grid_default",
      "views": {
       "grid_default": {
        "col": null,
        "height": 2,
        "hidden": true,
        "row": null,
        "width": 2
       }
      }
     }
    }
   },
   "outputs": [
    {
     "data": {
      "text/plain": [
       "180.7166531"
      ]
     },
     "execution_count": 25,
     "metadata": {},
     "output_type": "execute_result"
    }
   ],
   "source": [
    "rapmdeg[1]"
   ]
  },
  {
   "cell_type": "code",
   "execution_count": 19,
   "id": "aec43725-e0d3-4eeb-9d64-d5d490a3a7bb",
   "metadata": {
    "extensions": {
     "jupyter_dashboards": {
      "activeView": "grid_default",
      "views": {
       "grid_default": {
        "col": null,
        "height": 2,
        "hidden": true,
        "row": null,
        "width": 2
       }
      }
     }
    }
   },
   "outputs": [
    {
     "data": {
      "text/plain": [
       "-0.03568"
      ]
     },
     "execution_count": 19,
     "metadata": {},
     "output_type": "execute_result"
    }
   ],
   "source": [
    "pmra[0]"
   ]
  },
  {
   "cell_type": "code",
   "execution_count": null,
   "id": "c6d76245-42b3-40b0-8f8f-8b474e1f9d50",
   "metadata": {
    "extensions": {
     "jupyter_dashboards": {
      "activeView": "grid_default",
      "views": {
       "grid_default": {
        "col": null,
        "height": 2,
        "hidden": true,
        "row": null,
        "width": 2
       }
      }
     }
    }
   },
   "outputs": [],
   "source": []
  }
 ],
 "metadata": {
  "extensions": {
   "jupyter_dashboards": {
    "activeView": "grid_default",
    "version": 1,
    "views": {
     "grid_default": {
      "cellMargin": 2,
      "defaultCellHeight": 60,
      "maxColumns": 12,
      "name": "grid",
      "type": "grid"
     }
    }
   }
  },
  "kernelspec": {
   "display_name": "Python 3 (ipykernel)",
   "language": "python",
   "name": "python3"
  },
  "language_info": {
   "codemirror_mode": {
    "name": "ipython",
    "version": 3
   },
   "file_extension": ".py",
   "mimetype": "text/x-python",
   "name": "python",
   "nbconvert_exporter": "python",
   "pygments_lexer": "ipython3",
   "version": "3.9.10"
  }
 },
 "nbformat": 4,
 "nbformat_minor": 5
}
