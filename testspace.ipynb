{
 "cells": [
  {
   "cell_type": "code",
   "execution_count": 1,
   "id": "585f2862-f7b7-4cfe-b550-74c7fcb06617",
   "metadata": {
    "extensions": {
     "jupyter_dashboards": {
      "activeView": "grid_default",
      "views": {
       "grid_default": {
        "col": null,
        "height": 2,
        "hidden": true,
        "row": null,
        "width": 2
       }
      }
     }
    }
   },
   "outputs": [
    {
     "name": "stdout",
     "output_type": "stream",
     "text": [
      "test\n"
     ]
    }
   ],
   "source": [
    "print('test')"
   ]
  },
  {
   "cell_type": "code",
   "execution_count": 2,
   "id": "f7f6d01d-85f5-42ff-a7f3-3edf0c25ac3b",
   "metadata": {
    "extensions": {
     "jupyter_dashboards": {
      "activeView": "grid_default",
      "views": {
       "grid_default": {
        "col": null,
        "height": 2,
        "hidden": true,
        "row": null,
        "width": 2
       }
      }
     }
    },
    "tags": []
   },
   "outputs": [],
   "source": [
    "import numpy as np\n",
    "from astropy.io import fits\n",
    "import matplotlib.pyplot as plt"
   ]
  },
  {
   "cell_type": "code",
   "execution_count": 13,
   "id": "2f5757c9-bc36-4372-b3dd-91a59f510738",
   "metadata": {
    "extensions": {
     "jupyter_dashboards": {
      "activeView": "grid_default",
      "views": {
       "grid_default": {
        "col": null,
        "height": 2,
        "hidden": true,
        "row": null,
        "width": 2
       }
      }
     }
    }
   },
   "outputs": [],
   "source": [
    "hdul = fits.open('/arc/projects/k-pop/pristine/xmatch/pristine_gaia_edr3.fits')"
   ]
  },
  {
   "cell_type": "code",
   "execution_count": 14,
   "id": "1a9b7e5b-5ef0-4efb-beca-ac739d758ff7",
   "metadata": {
    "extensions": {
     "jupyter_dashboards": {
      "activeView": "grid_default",
      "views": {
       "grid_default": {
        "col": null,
        "height": 2,
        "hidden": true,
        "row": null,
        "width": 2
       }
      }
     }
    }
   },
   "outputs": [],
   "source": [
    "data = hdul[1].data"
   ]
  },
  {
   "cell_type": "code",
   "execution_count": 15,
   "id": "61e2404f-12ef-4020-bc87-6b2ebf731e45",
   "metadata": {
    "extensions": {
     "jupyter_dashboards": {
      "activeView": "grid_default",
      "views": {
       "grid_default": {
        "col": null,
        "height": 2,
        "hidden": true,
        "row": null,
        "width": 2
       }
      }
     }
    }
   },
   "outputs": [
    {
     "data": {
      "text/plain": [
       "array([15.87769985, 15.92425537, 15.91284752, ...,  2.25756955,\n",
       "        2.16774726,  2.17193055])"
      ]
     },
     "execution_count": 15,
     "metadata": {},
     "output_type": "execute_result"
    }
   ],
   "source": [
    "data['Dec(CaHK)']"
   ]
  },
  {
   "cell_type": "code",
   "execution_count": 16,
   "id": "f9de75f3-86a4-4a49-a0c3-28c31abad8a4",
   "metadata": {},
   "outputs": [
    {
     "data": {
      "text/plain": [
       "0"
      ]
     },
     "execution_count": 16,
     "metadata": {},
     "output_type": "execute_result"
    }
   ],
   "source": [
    "num = 0\n",
    "for i in range(len(data['RA(CaHK)'])):\n",
    "    if np.isnan(data['RA(CaHK)'][i]) == True:\n",
    "        num += 1\n",
    "num"
   ]
  },
  {
   "cell_type": "markdown",
   "id": "c9564e59-934f-4b9e-90fd-70b0b0476a76",
   "metadata": {
    "extensions": {
     "jupyter_dashboards": {
      "activeView": "grid_default",
      "views": {
       "grid_default": {
        "col": null,
        "height": 2,
        "hidden": true,
        "row": null,
        "width": 2
       }
      }
     }
    }
   },
   "source": [
    "Looking to find where a discrepancy arises in the cross matches losing entries despite the fact that exact matching is being used on the tables with the same numbers of columns. So far, the difference between these tables is that they all come from the cds matching instead of the regular tmatch2 using stilts."
   ]
  },
  {
   "cell_type": "code",
   "execution_count": 17,
   "id": "f4459f26-6de9-43e0-b6e1-179ac0aa17ae",
   "metadata": {},
   "outputs": [
    {
     "data": {
      "text/plain": [
       "36354875"
      ]
     },
     "execution_count": 17,
     "metadata": {},
     "output_type": "execute_result"
    }
   ],
   "source": [
    "36331574+23301"
   ]
  },
  {
   "cell_type": "code",
   "execution_count": 18,
   "id": "8f72685f-4a61-433e-a827-d8c5c70a948a",
   "metadata": {},
   "outputs": [
    {
     "data": {
      "text/plain": [
       "36354875"
      ]
     },
     "execution_count": 18,
     "metadata": {},
     "output_type": "execute_result"
    }
   ],
   "source": [
    "36354875"
   ]
  },
  {
   "cell_type": "code",
   "execution_count": 19,
   "id": "9c9cc876-ca97-42c6-9927-97aee98ffedf",
   "metadata": {},
   "outputs": [],
   "source": [
    "hdu = fits.open('/arc/home/aydanmckay/pristine-2mass-catwise-xor.fits')"
   ]
  },
  {
   "cell_type": "code",
   "execution_count": 20,
   "id": "8f212396-f322-4562-98bd-d0b809fa0c3e",
   "metadata": {},
   "outputs": [],
   "source": [
    "check = hdu[1].data"
   ]
  },
  {
   "cell_type": "code",
   "execution_count": 21,
   "id": "068e33fd-d833-46a3-adf6-9ee28b4bf630",
   "metadata": {},
   "outputs": [],
   "source": [
    "num = 0\n",
    "for i in range(len(check['RA(CaHK)_1'])):\n",
    "    if np.isnan(check['RA(CaHK)_1'][i]) == True:\n",
    "        num += 1"
   ]
  },
  {
   "cell_type": "code",
   "execution_count": 22,
   "id": "b3913b08-b8b0-4762-8e6e-a4e5d3fbce11",
   "metadata": {},
   "outputs": [
    {
     "data": {
      "text/plain": [
       "23301"
      ]
     },
     "execution_count": 22,
     "metadata": {},
     "output_type": "execute_result"
    }
   ],
   "source": [
    "num"
   ]
  },
  {
   "cell_type": "code",
   "execution_count": null,
   "id": "8ac189dd-c2b0-4edc-a843-7c1f257c3275",
   "metadata": {},
   "outputs": [],
   "source": []
  }
 ],
 "metadata": {
  "extensions": {
   "jupyter_dashboards": {
    "activeView": "grid_default",
    "version": 1,
    "views": {
     "grid_default": {
      "cellMargin": 2,
      "defaultCellHeight": 60,
      "maxColumns": 12,
      "name": "grid",
      "type": "grid"
     }
    }
   }
  },
  "kernelspec": {
   "display_name": "Python 3 (ipykernel)",
   "language": "python",
   "name": "python3"
  },
  "language_info": {
   "codemirror_mode": {
    "name": "ipython",
    "version": 3
   },
   "file_extension": ".py",
   "mimetype": "text/x-python",
   "name": "python",
   "nbconvert_exporter": "python",
   "pygments_lexer": "ipython3",
   "version": "3.9.10"
  }
 },
 "nbformat": 4,
 "nbformat_minor": 5
}
