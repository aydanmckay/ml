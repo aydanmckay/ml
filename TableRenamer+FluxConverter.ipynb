{
 "cells": [
  {
   "cell_type": "markdown",
   "id": "0888f167-b676-4fa5-a844-fa290bbcfcc9",
   "metadata": {},
   "source": [
    "## Renaming the columns of the new catalogues from separation....ipynb and also converting the flux measurements from DESI into magnitude measurements."
   ]
  },
  {
   "cell_type": "markdown",
   "id": "19bd0fce-15e2-41e1-b887-475a9ce33eec",
   "metadata": {},
   "source": [
    "Importing packages"
   ]
  },
  {
   "cell_type": "code",
   "execution_count": 1,
   "id": "0e46fa0a-eb69-4974-8fa8-471207fcb793",
   "metadata": {},
   "outputs": [],
   "source": [
    "import pandas as pd\n",
    "import numpy as np\n",
    "from astropy.table import Table\n",
    "from astropy.table import Column\n",
    "from astropy.io import fits"
   ]
  },
  {
   "cell_type": "markdown",
   "id": "2e51e71e-0774-4035-96c5-9a496f2ff9c2",
   "metadata": {},
   "source": [
    "Importing the data table as a fits table for now (much more simple to add a column)"
   ]
  },
  {
   "cell_type": "code",
   "execution_count": 2,
   "id": "e3744ef2-208d-4ce5-a79e-f5899b6c4cd4",
   "metadata": {},
   "outputs": [],
   "source": [
    "data = Table.read('/arc/home/aydanmckay/tables/phottable_cuts_intersect.fits')"
   ]
  },
  {
   "cell_type": "code",
   "execution_count": 3,
   "id": "abab105b-32b4-4552-884e-c1457bb68aa7",
   "metadata": {},
   "outputs": [],
   "source": [
    "# data = Table.read('/arc/home/aydanmckay/tables/phottable_lamost_intersect.fits')"
   ]
  },
  {
   "cell_type": "markdown",
   "id": "6a75775c-8a34-4be6-9f86-acf8bf4d011c",
   "metadata": {},
   "source": [
    "Taking the flux measurments and the error in the flux measurments and converting them to magnitudes and error in magnitudes. Adding a new column for each."
   ]
  },
  {
   "cell_type": "code",
   "execution_count": 4,
   "id": "01697732-1d0c-4de8-bfb1-1a53c9e78575",
   "metadata": {
    "collapsed": true,
    "jupyter": {
     "outputs_hidden": true
    },
    "tags": []
   },
   "outputs": [
    {
     "name": "stderr",
     "output_type": "stream",
     "text": [
      "/tmp/ipykernel_1421/4213912541.py:11: RuntimeWarning: divide by zero encountered in log10\n",
      "  mag.append(-2.5*np.log10(i)+22.5)\n",
      "/tmp/ipykernel_1421/4213912541.py:12: RuntimeWarning: divide by zero encountered in true_divide\n",
      "  magerr.append(1.09/np.sqrt(abs(j))/abs(i+0.00001))\n",
      "/tmp/ipykernel_1421/4213912541.py:11: RuntimeWarning: invalid value encountered in log10\n",
      "  mag.append(-2.5*np.log10(i)+22.5)\n",
      "/tmp/ipykernel_1421/4213912541.py:11: RuntimeWarning: divide by zero encountered in log10\n",
      "  mag.append(-2.5*np.log10(i)+22.5)\n",
      "/tmp/ipykernel_1421/4213912541.py:12: RuntimeWarning: divide by zero encountered in true_divide\n",
      "  magerr.append(1.09/np.sqrt(abs(j))/abs(i+0.00001))\n",
      "/tmp/ipykernel_1421/4213912541.py:11: RuntimeWarning: invalid value encountered in log10\n",
      "  mag.append(-2.5*np.log10(i)+22.5)\n",
      "/tmp/ipykernel_1421/4213912541.py:11: RuntimeWarning: divide by zero encountered in log10\n",
      "  mag.append(-2.5*np.log10(i)+22.5)\n",
      "/tmp/ipykernel_1421/4213912541.py:12: RuntimeWarning: divide by zero encountered in true_divide\n",
      "  magerr.append(1.09/np.sqrt(abs(j))/abs(i+0.00001))\n",
      "/tmp/ipykernel_1421/4213912541.py:11: RuntimeWarning: divide by zero encountered in log10\n",
      "  mag.append(-2.5*np.log10(i)+22.5)\n",
      "/tmp/ipykernel_1421/4213912541.py:12: RuntimeWarning: divide by zero encountered in true_divide\n",
      "  magerr.append(1.09/np.sqrt(abs(j))/abs(i+0.00001))\n",
      "/tmp/ipykernel_1421/4213912541.py:11: RuntimeWarning: invalid value encountered in log10\n",
      "  mag.append(-2.5*np.log10(i)+22.5)\n",
      "/tmp/ipykernel_1421/4213912541.py:11: RuntimeWarning: divide by zero encountered in log10\n",
      "  mag.append(-2.5*np.log10(i)+22.5)\n",
      "/tmp/ipykernel_1421/4213912541.py:12: RuntimeWarning: divide by zero encountered in true_divide\n",
      "  magerr.append(1.09/np.sqrt(abs(j))/abs(i+0.00001))\n",
      "/tmp/ipykernel_1421/4213912541.py:11: RuntimeWarning: invalid value encountered in log10\n",
      "  mag.append(-2.5*np.log10(i)+22.5)\n",
      "/tmp/ipykernel_1421/4213912541.py:11: RuntimeWarning: invalid value encountered in log10\n",
      "  mag.append(-2.5*np.log10(i)+22.5)\n",
      "/tmp/ipykernel_1421/4213912541.py:11: RuntimeWarning: divide by zero encountered in log10\n",
      "  mag.append(-2.5*np.log10(i)+22.5)\n",
      "/tmp/ipykernel_1421/4213912541.py:12: RuntimeWarning: divide by zero encountered in true_divide\n",
      "  magerr.append(1.09/np.sqrt(abs(j))/abs(i+0.00001))\n",
      "/tmp/ipykernel_1421/4213912541.py:11: RuntimeWarning: invalid value encountered in log10\n",
      "  mag.append(-2.5*np.log10(i)+22.5)\n",
      "/tmp/ipykernel_1421/4213912541.py:11: RuntimeWarning: divide by zero encountered in log10\n",
      "  mag.append(-2.5*np.log10(i)+22.5)\n",
      "/tmp/ipykernel_1421/4213912541.py:12: RuntimeWarning: divide by zero encountered in true_divide\n",
      "  magerr.append(1.09/np.sqrt(abs(j))/abs(i+0.00001))\n"
     ]
    }
   ],
   "source": [
    "flux = ['FLUX_G','FLUX_R','FLUX_Z','FLUX_W1','FLUX_W2','FLUX_W3','FLUX_W4']\n",
    "fluxerr = ['FLUX_IVAR_G','FLUX_IVAR_R','FLUX_IVAR_Z','FLUX_IVAR_W1','FLUX_IVAR_W2','FLUX_IVAR_W3','FLUX_IVAR_W4']\n",
    "magnames = ['g_desi','r_desi','z_desi','w1_desi','w2_desi','w3_desi','w4_desi']\n",
    "magerrnames = ['g_desi_err','r_desi_err','z_desi_err','w1_desi_err','w2_desi_err','w3_desi_err','w4_desi_err']\n",
    "ix = 49\n",
    "ixx = 63\n",
    "for f,fe,magn,magen in zip(flux,fluxerr,magnames,magerrnames):\n",
    "    mag = []\n",
    "    magerr = []\n",
    "    for it,(i,j) in enumerate(zip(data[f],data[fe])):\n",
    "        mag.append(-2.5*np.log10(i)+22.5)\n",
    "        magerr.append(1.09/np.sqrt(abs(j))/abs(i+0.00001))\n",
    "    data.add_column(mag, name=magn, index=ix)\n",
    "    data.add_column(magerr, name=magen, index=ixx)\n",
    "    ix += 2\n",
    "    ixx += 2"
   ]
  },
  {
   "cell_type": "markdown",
   "id": "da061ecf-3a51-4af5-863e-0a452997f8d4",
   "metadata": {},
   "source": [
    "Converting to pandas (easier to rename a bunch of columns then write to parquet)"
   ]
  },
  {
   "cell_type": "code",
   "execution_count": 5,
   "id": "bfac0be6-e2a2-4136-a45a-21a90a403183",
   "metadata": {},
   "outputs": [
    {
     "data": {
      "text/plain": [
       "Index(['ra', 'dec', 'CaHK', 'e_CaHK', 'flag', 'E_BV', 'Jmag', 'Hmag', 'Kmag',\n",
       "       'e_Jmag',\n",
       "       ...\n",
       "       'e_imag_2', 'iFlags', 'zmag_2', 'e_zmag_2', 'zFlags', 'ymag', 'e_ymag',\n",
       "       'yFlags', 'angDist', 'Separation'],\n",
       "      dtype='object', length=124)"
      ]
     },
     "execution_count": 5,
     "metadata": {},
     "output_type": "execute_result"
    }
   ],
   "source": [
    "df = data.to_pandas()\n",
    "df.columns"
   ]
  },
  {
   "cell_type": "markdown",
   "id": "3b0a290b-006e-4285-ac5e-19812db4eef8",
   "metadata": {},
   "source": [
    "Renaming the columns"
   ]
  },
  {
   "cell_type": "code",
   "execution_count": 6,
   "id": "29b7a339-83fe-4edd-bb4f-8e4b515b2b07",
   "metadata": {},
   "outputs": [],
   "source": [
    "# for phot table\n",
    "df.rename(columns = {'Jmag':'j_2mass', 'Hmag':'h_2mass', 'Kmag':'k_2mass', 'e_Jmag':'j_2mass_err', 'e_Hmag':'h_2mass_err', 'e_Kmag':'k_2mass_err', 'Qfl':'qfl_2mass',\n",
    "                     'pmRA_wise':'pmra_wise','pmDE_wise':'pmde_wise', 'e_pmRA_wise':'pmra_wise_err', 'e_pmDE_wise':'pmde_wise_err',\n",
    "                     'W1mproPM':'w1_wise', 'e_W1mproPM':'w1_wise_err','W2mproPM':'w2_wise', 'e_W2mproPM':'w2_wise_err', 'umag':'u_sdss',\n",
    "                     'gmag_1':'g_sdss', 'rmag_1':'r_sdss', 'imag_1':'i_sdss', 'zmag_1':'z_sdss', 'e_umag':'u_sdss_err', 'e_gmag_1':'g_sdss_err',\n",
    "                     'e_rmag_1':'r_sdss_err', 'e_imag_1':'i_sdss_err', 'e_zmag_1':'z_sdss_err', 'pmRA_sdss':'pmra_sdss', 'pmDE_sdss':'pmde_sdss',\n",
    "                     'e_pmRA_sdss':'pmra_sdss_err', 'e_pmDE_sdss':'pmde_sdss_err', 'E(B-V)':'E_BV_galex', 'FUVmag':'fuv_galex', 'e_FUVmag':'fuv_galex_err',\n",
    "                     'NUVmag':'nuv_galex', 'e_NUVmag':'nuv_galex_err', 'Separation_1':'2mass_wise_galex_sdss_sep','TYPE':'type_desi',\n",
    "                     'FLUX_G':'gflux_desi', 'FLUX_R':'rflux_desi', 'FLUX_Z':'zflux_desi', 'FLUX_W1':'w1flux_desi', 'FLUX_W2':'w2flux_desi',\n",
    "                     'FLUX_W3':'w3flux_desi', 'FLUX_W4':'w4flux_desi', 'FLUX_IVAR_G':'gflux_desi_err', 'FLUX_IVAR_R':'rflux_desi_err',\n",
    "                     'FLUX_IVAR_Z':'zflux_desi_err', 'FLUX_IVAR_W1':'w1flux_desi_err', 'FLUX_IVAR_W2':'w2flux_desi_err', 'FLUX_IVAR_W3':'w3flux_desi_err',\n",
    "                     'FLUX_IVAR_W4':'w4flux_desi_err', 'Z_SPEC':'zspec_desi_err', 'source_id':'source_id_gaia', 'parallax':'para_gaia',\n",
    "                     'parallax_error':'para_gaia_err', 'pmra':'pmra_gaia', 'pmra_error':'pmra_gaia_err', 'pmdec':'pmde_gaia', 'pmdec_error':'pmde_gaia_err',\n",
    "                     'phot_g_mean_mag':'g_gaia','phot_bp_mean_mag':'b_gaia', 'phot_rp_mean_mag':'r_gaia', 'dr2_radial_velocity':'rv_gaia',\n",
    "                     'dr2_radial_velocity_error':'rv_gaia_err', 'phot_g_mean_mag_error':'g_gaia_err', 'phot_bp_mean_mag_error':'b_gaia_err',\n",
    "                     'phot_rp_mean_mag_error':'r_gaia_err', 'u_cfht':'u_cfis', 'r_cfht':'r_cfis', 'u_cfht_err':'u_cfis_err', 'r_cfht_err':'r_cfis_err',\n",
    "                     'i_ps':'i_ps3', 'i_ps_err':'i_ps3_err', 'Separation_2':'desi_gaia_cfis_ps3_sep', 'Separation_1a':'8x_sep', 'Qual':'qfl_ps1', 'gmag_2':'g_ps1',\n",
    "                     'e_gmag_2':'g_ps1_err', 'gFlags':'g_ps1_flag', 'rmag_2':'r_ps1', 'e_rmag_2':'r_ps1_err', 'rFlags':'r_ps1_flag', 'imag_2':'i_ps1',\n",
    "                     'e_imag_2':'i_ps1_err', 'iFlags':'i_ps1_flag', 'zmag_2':'z_ps1', 'e_zmag_2':'z_ps1_err', 'zFlags':'z_ps1_flag', 'ymag':'y_ps1',\n",
    "                     'e_ymag':'y_ps1_err', 'yFlags':'y_ps1_flag', 'angDist':'pris_ps1_sep', 'Separation':'9x_sep'}, inplace = True)"
   ]
  },
  {
   "cell_type": "code",
   "execution_count": 7,
   "id": "10a58a59-a692-4ef2-8fa1-4f1a0c587680",
   "metadata": {},
   "outputs": [],
   "source": [
    "# # for spec table and phot table\n",
    "# df.rename(columns = {'Jmag':'j_2mass', 'Hmag':'h_2mass', 'Kmag':'k_2mass', 'e_Jmag':'j_2mass_err', 'e_Hmag':'h_2mass_err', 'e_Kmag':'k_2mass_err', 'Qfl':'qfl_2mass',\n",
    "#                      'pmRA_wise':'pmra_wise','pmDE_wise':'pmde_wise', 'e_pmRA_wise':'pmra_wise_err', 'e_pmDE_wise':'pmde_wise_err',\n",
    "#                      'W1mproPM':'w1_wise', 'e_W1mproPM':'w1_wise_err','W2mproPM':'w2_wise', 'e_W2mproPM':'w2_wise_err', 'umag':'u_sdss',\n",
    "#                      'gmag_1':'g_sdss', 'rmag_1':'r_sdss', 'imag_1':'i_sdss', 'zmag_1':'z_sdss', 'e_umag':'u_sdss_err', 'e_gmag_1':'g_sdss_err',\n",
    "#                      'e_rmag_1':'r_sdss_err', 'e_imag_1':'i_sdss_err', 'e_zmag_1':'z_sdss_err', 'pmRA_sdss':'pmra_sdss', 'pmDE_sdss':'pmde_sdss',\n",
    "#                      'e_pmRA_sdss':'pmra_sdss_err', 'e_pmDE_sdss':'pmde_sdss_err', 'E(B-V)':'E_BV_galex', 'FUVmag':'fuv_galex', 'e_FUVmag':'fuv_galex_err',\n",
    "#                      'NUVmag':'nuv_galex', 'e_NUVmag':'nuv_galex_err', 'Separation_1':'2mass_wise_galex_sdss_sep','TYPE':'type_desi',\n",
    "#                      'FLUX_G':'gflux_desi', 'FLUX_R':'rflux_desi', 'FLUX_Z':'zflux_desi', 'FLUX_W1':'w1flux_desi', 'FLUX_W2':'w2flux_desi',\n",
    "#                      'FLUX_W3':'w3flux_desi', 'FLUX_W4':'w4flux_desi', 'FLUX_IVAR_G':'gflux_desi_err', 'FLUX_IVAR_R':'rflux_desi_err',\n",
    "#                      'FLUX_IVAR_Z':'zflux_desi_err', 'FLUX_IVAR_W1':'w1flux_desi_err', 'FLUX_IVAR_W2':'w2flux_desi_err', 'FLUX_IVAR_W3':'w3flux_desi_err',\n",
    "#                      'FLUX_IVAR_W4':'w4flux_desi_err', 'Z_SPEC':'zspec_desi_err', 'source_id':'source_id_gaia', 'parallax':'para_gaia',\n",
    "#                      'parallax_error':'para_gaia_err', 'pmra':'pmra_gaia', 'pmra_error':'pmra_gaia_err', 'pmdec':'pmde_gaia', 'pmdec_error':'pmde_gaia_err',\n",
    "#                      'phot_g_mean_mag':'g_gaia','phot_bp_mean_mag':'b_gaia', 'phot_rp_mean_mag':'r_gaia', 'dr2_radial_velocity':'rv_gaia',\n",
    "#                      'dr2_radial_velocity_error':'rv_gaia_err', 'phot_g_mean_mag_error':'g_gaia_err', 'phot_bp_mean_mag_error':'b_gaia_err',\n",
    "#                      'phot_rp_mean_mag_error':'r_gaia_err', 'u_cfht':'u_cfis', 'r_cfht':'r_cfis', 'u_cfht_err':'u_cfis_err', 'r_cfht_err':'r_cfis_err',\n",
    "#                      'i_ps':'i_ps3', 'i_ps_err':'i_ps3_err', 'Separation_2':'desi_gaia_cfis_ps3_sep', 'Separation_1a':'8x_sep', 'Qual':'qfl_ps1', 'gmag_2':'g_ps1',\n",
    "#                      'e_gmag_2':'g_ps1_err', 'gFlags':'g_ps1_flag', 'rmag_2':'r_ps1', 'e_rmag_2':'r_ps1_err', 'rFlags':'r_ps1_flag', 'imag_2':'i_ps1',\n",
    "#                      'e_imag_2':'i_ps1_err', 'iFlags':'i_ps1_flag', 'zmag_2':'z_ps1', 'e_zmag_2':'z_ps1_err', 'zFlags':'z_ps1_flag', 'ymag':'y_ps1',\n",
    "#                      'e_ymag':'y_ps1_err', 'yFlags':'y_ps1_flag', 'angDist_1':'pris_ps1_sep', 'Separation_1b':'9x_sep'}, inplace = True)"
   ]
  },
  {
   "cell_type": "markdown",
   "id": "b1065f35-c5bc-4d39-9a57-892e120062b0",
   "metadata": {},
   "source": [
    "Verifying the columns were renamed"
   ]
  },
  {
   "cell_type": "code",
   "execution_count": 8,
   "id": "ddcdf045-762f-4495-b590-c0f71805684a",
   "metadata": {
    "collapsed": true,
    "jupyter": {
     "outputs_hidden": true
    },
    "tags": []
   },
   "outputs": [
    {
     "name": "stdout",
     "output_type": "stream",
     "text": [
      "ra\n",
      "dec\n",
      "CaHK\n",
      "e_CaHK\n",
      "flag\n",
      "E_BV\n",
      "j_2mass\n",
      "h_2mass\n",
      "k_2mass\n",
      "j_2mass_err\n",
      "h_2mass_err\n",
      "k_2mass_err\n",
      "qfl_2mass\n",
      "pris_2mass_angDist\n",
      "pmra_wise\n",
      "pmde_wise\n",
      "pmra_wise_err\n",
      "pmde_wise_err\n",
      "w1_wise\n",
      "w1_wise_err\n",
      "w2_wise\n",
      "w2_wise_err\n",
      "pris_wise_angDist\n",
      "2mass_wise_sep\n",
      "u_sdss\n",
      "g_sdss\n",
      "r_sdss\n",
      "i_sdss\n",
      "z_sdss\n",
      "u_sdss_err\n",
      "g_sdss_err\n",
      "r_sdss_err\n",
      "i_sdss_err\n",
      "z_sdss_err\n",
      "pmra_sdss\n",
      "pmde_sdss\n",
      "pmra_sdss_err\n",
      "pmde_sdss_err\n",
      "pris_sdss_angDist\n",
      "E_BV_galex\n",
      "fuv_galex\n",
      "fuv_galex_err\n",
      "nuv_galex\n",
      "nuv_galex_err\n",
      "pris_galex_angDist\n",
      "sdss_galex_sep\n",
      "2mass_wise_galex_sdss_sep\n",
      "type_desi\n",
      "gflux_desi\n",
      "g_desi\n",
      "rflux_desi\n",
      "r_desi\n",
      "zflux_desi\n",
      "z_desi\n",
      "w1flux_desi\n",
      "w1_desi\n",
      "w2flux_desi\n",
      "w2_desi\n",
      "w3flux_desi\n",
      "w3_desi\n",
      "w4flux_desi\n",
      "w4_desi\n",
      "gflux_desi_err\n",
      "rflux_desi_err\n",
      "zflux_desi_err\n",
      "w1flux_desi_err\n",
      "w2flux_desi_err\n",
      "w3flux_desi_err\n",
      "w4flux_desi_err\n",
      "g_desi_err\n",
      "r_desi_err\n",
      "z_desi_err\n",
      "w1_desi_err\n",
      "w2_desi_err\n",
      "w3_desi_err\n",
      "w4_desi_err\n",
      "zspec_desi_err\n",
      "pris_legacy_sep\n",
      "source_id_gaia\n",
      "para_gaia\n",
      "para_gaia_err\n",
      "pmra_gaia\n",
      "pmra_gaia_err\n",
      "pmde_gaia\n",
      "pmde_gaia_err\n",
      "g_gaia\n",
      "b_gaia\n",
      "r_gaia\n",
      "rv_gaia\n",
      "rv_gaia_err\n",
      "g_gaia_err\n",
      "b_gaia_err\n",
      "r_gaia_err\n",
      "pris_gaia_sep\n",
      "legacy_gaia_sep\n",
      "u_cfis\n",
      "r_cfis\n",
      "u_cfis_err\n",
      "r_cfis_err\n",
      "pris_cfis_sep\n",
      "i_ps3\n",
      "i_ps3_err\n",
      "pris_pans_sep\n",
      "cfis_pans_sep\n",
      "desi_gaia_cfis_ps3_sep\n",
      "8x_sep\n",
      "qfl_ps1\n",
      "g_ps1\n",
      "g_ps1_err\n",
      "g_ps1_flag\n",
      "r_ps1\n",
      "r_ps1_err\n",
      "r_ps1_flag\n",
      "i_ps1\n",
      "i_ps1_err\n",
      "i_ps1_flag\n",
      "z_ps1\n",
      "z_ps1_err\n",
      "z_ps1_flag\n",
      "y_ps1\n",
      "y_ps1_err\n",
      "y_ps1_flag\n",
      "pris_ps1_sep\n",
      "9x_sep\n"
     ]
    }
   ],
   "source": [
    "for i in df.columns:\n",
    "    print(i)"
   ]
  },
  {
   "cell_type": "markdown",
   "id": "600f04c9-f344-4a97-b9a5-3e41464bc8eb",
   "metadata": {},
   "source": [
    "Saving to parquet for speed and fits for flexibility while still verifying all the columns of the table."
   ]
  },
  {
   "cell_type": "code",
   "execution_count": 9,
   "id": "988ba150-df57-473f-9ee4-975b26820563",
   "metadata": {},
   "outputs": [],
   "source": [
    "df.to_parquet('/arc/home/aydanmckay/phottable_cuts_intersect_renamed.parquet')\n",
    "data = Table.from_pandas(df)\n",
    "data.write('/arc/home/aydanmckay/phottable_cuts_intersect_renamed.fits',overwrite=True)"
   ]
  },
  {
   "cell_type": "code",
   "execution_count": 10,
   "id": "3ed16775-6b92-4b4c-9ce8-fc2fa2ac008f",
   "metadata": {},
   "outputs": [],
   "source": [
    "# df.to_parquet('/arc/home/aydanmckay/phottable_spec_intersect_renamed.parquet')\n",
    "# data = Table.from_pandas(df)\n",
    "# data.write('/arc/home/aydanmckay/phottable_spec_intersect_renamed.fits',overwrite=True)"
   ]
  },
  {
   "cell_type": "code",
   "execution_count": null,
   "id": "d5b10dd0-8405-4c26-9506-10b89e5bcfc8",
   "metadata": {},
   "outputs": [],
   "source": []
  }
 ],
 "metadata": {
  "kernelspec": {
   "display_name": "Python 3 (ipykernel)",
   "language": "python",
   "name": "python3"
  },
  "language_info": {
   "codemirror_mode": {
    "name": "ipython",
    "version": 3
   },
   "file_extension": ".py",
   "mimetype": "text/x-python",
   "name": "python",
   "nbconvert_exporter": "python",
   "pygments_lexer": "ipython3",
   "version": "3.9.12"
  }
 },
 "nbformat": 4,
 "nbformat_minor": 5
}
