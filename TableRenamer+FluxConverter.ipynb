{
 "cells": [
  {
   "cell_type": "markdown",
   "id": "0888f167-b676-4fa5-a844-fa290bbcfcc9",
   "metadata": {},
   "source": [
    "## Renaming the columns of the new catalogues from separation....ipynb and also converting the flux measurements from DESI into magnitude measurements."
   ]
  },
  {
   "cell_type": "markdown",
   "id": "19bd0fce-15e2-41e1-b887-475a9ce33eec",
   "metadata": {},
   "source": [
    "Importing packages"
   ]
  },
  {
   "cell_type": "code",
   "execution_count": 1,
   "id": "0e46fa0a-eb69-4974-8fa8-471207fcb793",
   "metadata": {},
   "outputs": [],
   "source": [
    "# import pandas as pd\n",
    "# import numpy as np\n",
    "# from astropy.table import Table\n",
    "# from astropy.table import Column\n",
    "# from astropy.io import fits"
   ]
  },
  {
   "cell_type": "markdown",
   "id": "2e51e71e-0774-4035-96c5-9a496f2ff9c2",
   "metadata": {},
   "source": [
    "Importing the data table as a fits table for now (much more simple to add a column)"
   ]
  },
  {
   "cell_type": "code",
   "execution_count": 2,
   "id": "e3744ef2-208d-4ce5-a79e-f5899b6c4cd4",
   "metadata": {},
   "outputs": [],
   "source": [
    "# data = Table.read('/arc/home/aydanmckay/tables/phottable_cuts_intersect.fits')"
   ]
  },
  {
   "cell_type": "code",
   "execution_count": 3,
   "id": "abab105b-32b4-4552-884e-c1457bb68aa7",
   "metadata": {},
   "outputs": [],
   "source": [
    "# data = Table.read('/arc/home/aydanmckay/tables/phottable_lamost_intersect.fits')"
   ]
  },
  {
   "cell_type": "markdown",
   "id": "6a75775c-8a34-4be6-9f86-acf8bf4d011c",
   "metadata": {},
   "source": [
    "Taking the flux measurments and the error in the flux measurments and converting them to magnitudes and error in magnitudes. Adding a new column for each."
   ]
  },
  {
   "cell_type": "code",
   "execution_count": 4,
   "id": "01697732-1d0c-4de8-bfb1-1a53c9e78575",
   "metadata": {
    "tags": []
   },
   "outputs": [],
   "source": [
    "# flux = ['FLUX_G','FLUX_R','FLUX_Z','FLUX_W1','FLUX_W2','FLUX_W3','FLUX_W4']\n",
    "# fluxerr = ['FLUX_IVAR_G','FLUX_IVAR_R','FLUX_IVAR_Z','FLUX_IVAR_W1','FLUX_IVAR_W2','FLUX_IVAR_W3','FLUX_IVAR_W4']\n",
    "# magnames = ['g_desi','r_desi','z_desi','w1_desi','w2_desi','w3_desi','w4_desi']\n",
    "# magerrnames = ['g_desi_err','r_desi_err','z_desi_err','w1_desi_err','w2_desi_err','w3_desi_err','w4_desi_err']\n",
    "# ix = 49\n",
    "# ixx = 63\n",
    "# for f,fe,magn,magen in zip(flux,fluxerr,magnames,magerrnames):\n",
    "#     mag = []\n",
    "#     magerr = []\n",
    "#     for it,(i,j) in enumerate(zip(data[f],data[fe])):\n",
    "#         mag.append(-2.5*np.log10(i)+22.5)\n",
    "#         magerr.append(1.09/np.sqrt(abs(j))/abs(i+0.00001))\n",
    "#     data.add_column(mag, name=magn, index=ix)\n",
    "#     data.add_column(magerr, name=magen, index=ixx)\n",
    "#     ix += 2\n",
    "#     ixx += 2"
   ]
  },
  {
   "cell_type": "markdown",
   "id": "da061ecf-3a51-4af5-863e-0a452997f8d4",
   "metadata": {},
   "source": [
    "Converting to pandas (easier to rename a bunch of columns then write to parquet)"
   ]
  },
  {
   "cell_type": "code",
   "execution_count": 5,
   "id": "bfac0be6-e2a2-4136-a45a-21a90a403183",
   "metadata": {},
   "outputs": [],
   "source": [
    "# df = data.to_pandas()\n",
    "# df.columns"
   ]
  },
  {
   "cell_type": "markdown",
   "id": "3b0a290b-006e-4285-ac5e-19812db4eef8",
   "metadata": {},
   "source": [
    "Renaming the columns"
   ]
  },
  {
   "cell_type": "code",
   "execution_count": 6,
   "id": "29b7a339-83fe-4edd-bb4f-8e4b515b2b07",
   "metadata": {},
   "outputs": [],
   "source": [
    "# # for phot table\n",
    "# df.rename(columns = {'Jmag':'j_2mass', 'Hmag':'h_2mass', 'Kmag':'k_2mass', 'e_Jmag':'j_2mass_err', 'e_Hmag':'h_2mass_err', 'e_Kmag':'k_2mass_err', 'Qfl':'qfl_2mass',\n",
    "#                      'pmRA_wise':'pmra_wise','pmDE_wise':'pmde_wise', 'e_pmRA_wise':'pmra_wise_err', 'e_pmDE_wise':'pmde_wise_err',\n",
    "#                      'W1mproPM':'w1_wise', 'e_W1mproPM':'w1_wise_err','W2mproPM':'w2_wise', 'e_W2mproPM':'w2_wise_err', 'umag':'u_sdss',\n",
    "#                      'gmag_1':'g_sdss', 'rmag_1':'r_sdss', 'imag_1':'i_sdss', 'zmag_1':'z_sdss', 'e_umag':'u_sdss_err', 'e_gmag_1':'g_sdss_err',\n",
    "#                      'e_rmag_1':'r_sdss_err', 'e_imag_1':'i_sdss_err', 'e_zmag_1':'z_sdss_err', 'pmRA_sdss':'pmra_sdss', 'pmDE_sdss':'pmde_sdss',\n",
    "#                      'e_pmRA_sdss':'pmra_sdss_err', 'e_pmDE_sdss':'pmde_sdss_err', 'E(B-V)':'E_BV_galex', 'FUVmag':'fuv_galex', 'e_FUVmag':'fuv_galex_err',\n",
    "#                      'NUVmag':'nuv_galex', 'e_NUVmag':'nuv_galex_err', 'Separation_1':'2mass_wise_galex_sdss_sep','TYPE':'type_desi',\n",
    "#                      'FLUX_G':'gflux_desi', 'FLUX_R':'rflux_desi', 'FLUX_Z':'zflux_desi', 'FLUX_W1':'w1flux_desi', 'FLUX_W2':'w2flux_desi',\n",
    "#                      'FLUX_W3':'w3flux_desi', 'FLUX_W4':'w4flux_desi', 'FLUX_IVAR_G':'gflux_desi_err', 'FLUX_IVAR_R':'rflux_desi_err',\n",
    "#                      'FLUX_IVAR_Z':'zflux_desi_err', 'FLUX_IVAR_W1':'w1flux_desi_err', 'FLUX_IVAR_W2':'w2flux_desi_err', 'FLUX_IVAR_W3':'w3flux_desi_err',\n",
    "#                      'FLUX_IVAR_W4':'w4flux_desi_err', 'Z_SPEC':'zspec_desi_err', 'source_id':'source_id_gaia', 'parallax':'para_gaia',\n",
    "#                      'parallax_error':'para_gaia_err', 'pmra':'pmra_gaia', 'pmra_error':'pmra_gaia_err', 'pmdec':'pmde_gaia', 'pmdec_error':'pmde_gaia_err',\n",
    "#                      'phot_g_mean_mag':'g_gaia','phot_bp_mean_mag':'b_gaia', 'phot_rp_mean_mag':'r_gaia', 'dr2_radial_velocity':'rv_gaia',\n",
    "#                      'dr2_radial_velocity_error':'rv_gaia_err', 'phot_g_mean_mag_error':'g_gaia_err', 'phot_bp_mean_mag_error':'b_gaia_err',\n",
    "#                      'phot_rp_mean_mag_error':'r_gaia_err', 'u_cfht':'u_cfis', 'r_cfht':'r_cfis', 'u_cfht_err':'u_cfis_err', 'r_cfht_err':'r_cfis_err',\n",
    "#                      'i_ps':'i_ps3', 'i_ps_err':'i_ps3_err', 'Separation_2':'desi_gaia_cfis_ps3_sep', 'Separation_1a':'8x_sep', 'Qual':'qfl_ps1', 'gmag_2':'g_ps1',\n",
    "#                      'e_gmag_2':'g_ps1_err', 'gFlags':'g_ps1_flag', 'rmag_2':'r_ps1', 'e_rmag_2':'r_ps1_err', 'rFlags':'r_ps1_flag', 'imag_2':'i_ps1',\n",
    "#                      'e_imag_2':'i_ps1_err', 'iFlags':'i_ps1_flag', 'zmag_2':'z_ps1', 'e_zmag_2':'z_ps1_err', 'zFlags':'z_ps1_flag', 'ymag':'y_ps1',\n",
    "#                      'e_ymag':'y_ps1_err', 'yFlags':'y_ps1_flag', 'angDist':'pris_ps1_sep', 'Separation':'9x_sep'}, inplace = True)"
   ]
  },
  {
   "cell_type": "code",
   "execution_count": 7,
   "id": "10a58a59-a692-4ef2-8fa1-4f1a0c587680",
   "metadata": {},
   "outputs": [],
   "source": [
    "# # for spec table and phot table\n",
    "# df.rename(columns = {'Jmag':'j_2mass', 'Hmag':'h_2mass', 'Kmag':'k_2mass', 'e_Jmag':'j_2mass_err', 'e_Hmag':'h_2mass_err', 'e_Kmag':'k_2mass_err', 'Qfl':'qfl_2mass',\n",
    "#                      'pmRA_wise':'pmra_wise','pmDE_wise':'pmde_wise', 'e_pmRA_wise':'pmra_wise_err', 'e_pmDE_wise':'pmde_wise_err',\n",
    "#                      'W1mproPM':'w1_wise', 'e_W1mproPM':'w1_wise_err','W2mproPM':'w2_wise', 'e_W2mproPM':'w2_wise_err', 'umag':'u_sdss',\n",
    "#                      'gmag_1':'g_sdss', 'rmag_1':'r_sdss', 'imag_1':'i_sdss', 'zmag_1':'z_sdss', 'e_umag':'u_sdss_err', 'e_gmag_1':'g_sdss_err',\n",
    "#                      'e_rmag_1':'r_sdss_err', 'e_imag_1':'i_sdss_err', 'e_zmag_1':'z_sdss_err', 'pmRA_sdss':'pmra_sdss', 'pmDE_sdss':'pmde_sdss',\n",
    "#                      'e_pmRA_sdss':'pmra_sdss_err', 'e_pmDE_sdss':'pmde_sdss_err', 'E(B-V)':'E_BV_galex', 'FUVmag':'fuv_galex', 'e_FUVmag':'fuv_galex_err',\n",
    "#                      'NUVmag':'nuv_galex', 'e_NUVmag':'nuv_galex_err', 'Separation_1':'2mass_wise_galex_sdss_sep','TYPE':'type_desi',\n",
    "#                      'FLUX_G':'gflux_desi', 'FLUX_R':'rflux_desi', 'FLUX_Z':'zflux_desi', 'FLUX_W1':'w1flux_desi', 'FLUX_W2':'w2flux_desi',\n",
    "#                      'FLUX_W3':'w3flux_desi', 'FLUX_W4':'w4flux_desi', 'FLUX_IVAR_G':'gflux_desi_err', 'FLUX_IVAR_R':'rflux_desi_err',\n",
    "#                      'FLUX_IVAR_Z':'zflux_desi_err', 'FLUX_IVAR_W1':'w1flux_desi_err', 'FLUX_IVAR_W2':'w2flux_desi_err', 'FLUX_IVAR_W3':'w3flux_desi_err',\n",
    "#                      'FLUX_IVAR_W4':'w4flux_desi_err', 'Z_SPEC':'zspec_desi_err', 'source_id':'source_id_gaia', 'parallax':'para_gaia',\n",
    "#                      'parallax_error':'para_gaia_err', 'pmra':'pmra_gaia', 'pmra_error':'pmra_gaia_err', 'pmdec':'pmde_gaia', 'pmdec_error':'pmde_gaia_err',\n",
    "#                      'phot_g_mean_mag':'g_gaia','phot_bp_mean_mag':'b_gaia', 'phot_rp_mean_mag':'r_gaia', 'dr2_radial_velocity':'rv_gaia',\n",
    "#                      'dr2_radial_velocity_error':'rv_gaia_err', 'phot_g_mean_mag_error':'g_gaia_err', 'phot_bp_mean_mag_error':'b_gaia_err',\n",
    "#                      'phot_rp_mean_mag_error':'r_gaia_err', 'u_cfht':'u_cfis', 'r_cfht':'r_cfis', 'u_cfht_err':'u_cfis_err', 'r_cfht_err':'r_cfis_err',\n",
    "#                      'i_ps':'i_ps3', 'i_ps_err':'i_ps3_err', 'Separation_2':'desi_gaia_cfis_ps3_sep', 'Separation_1a':'8x_sep', 'Qual':'qfl_ps1', 'gmag_2':'g_ps1',\n",
    "#                      'e_gmag_2':'g_ps1_err', 'gFlags':'g_ps1_flag', 'rmag_2':'r_ps1', 'e_rmag_2':'r_ps1_err', 'rFlags':'r_ps1_flag', 'imag_2':'i_ps1',\n",
    "#                      'e_imag_2':'i_ps1_err', 'iFlags':'i_ps1_flag', 'zmag_2':'z_ps1', 'e_zmag_2':'z_ps1_err', 'zFlags':'z_ps1_flag', 'ymag':'y_ps1',\n",
    "#                      'e_ymag':'y_ps1_err', 'yFlags':'y_ps1_flag', 'angDist_1':'pris_ps1_sep', 'Separation_1b':'9x_sep'}, inplace = True)"
   ]
  },
  {
   "cell_type": "markdown",
   "id": "b1065f35-c5bc-4d39-9a57-892e120062b0",
   "metadata": {},
   "source": [
    "Verifying the columns were renamed"
   ]
  },
  {
   "cell_type": "code",
   "execution_count": 8,
   "id": "ddcdf045-762f-4495-b590-c0f71805684a",
   "metadata": {
    "tags": []
   },
   "outputs": [],
   "source": [
    "# for i in df.columns:\n",
    "#     print(i)"
   ]
  },
  {
   "cell_type": "markdown",
   "id": "600f04c9-f344-4a97-b9a5-3e41464bc8eb",
   "metadata": {},
   "source": [
    "Saving to parquet for speed and fits for flexibility while still verifying all the columns of the table."
   ]
  },
  {
   "cell_type": "code",
   "execution_count": 9,
   "id": "988ba150-df57-473f-9ee4-975b26820563",
   "metadata": {},
   "outputs": [],
   "source": [
    "# df.to_parquet('/arc/home/aydanmckay/phottable_cuts_intersect_renamed.parquet')\n",
    "# data = Table.from_pandas(df)\n",
    "# data.write('/arc/home/aydanmckay/phottable_cuts_intersect_renamed.fits',overwrite=True)"
   ]
  },
  {
   "cell_type": "code",
   "execution_count": 10,
   "id": "3ed16775-6b92-4b4c-9ce8-fc2fa2ac008f",
   "metadata": {},
   "outputs": [],
   "source": [
    "# df.to_parquet('/arc/home/aydanmckay/phottable_spec_intersect_renamed.parquet')\n",
    "# data = Table.from_pandas(df)\n",
    "# data.write('/arc/home/aydanmckay/phottable_spec_intersect_renamed.fits',overwrite=True)"
   ]
  },
  {
   "cell_type": "markdown",
   "id": "944893c6-57db-49ff-8af2-da60e158500d",
   "metadata": {},
   "source": [
    "## Renaming the Final Photometry X LAMOST Table"
   ]
  },
  {
   "cell_type": "markdown",
   "id": "b9c7396f-21c7-4140-b9d9-48e1ecc57bf2",
   "metadata": {},
   "source": [
    "Importing the correct packages."
   ]
  },
  {
   "cell_type": "code",
   "execution_count": 11,
   "id": "10521620-2681-44da-8246-1a80c8729079",
   "metadata": {},
   "outputs": [],
   "source": [
    "import pandas as pd\n",
    "import numpy as np\n",
    "from astropy.table import Table"
   ]
  },
  {
   "cell_type": "markdown",
   "id": "9fceb38c-8b72-4aec-a855-111e0ae55d3a",
   "metadata": {},
   "source": [
    "Importing the data table."
   ]
  },
  {
   "cell_type": "code",
   "execution_count": 12,
   "id": "80f597f9-0328-48ef-ac71-966f777cfab5",
   "metadata": {},
   "outputs": [],
   "source": [
    "data = Table.read('/arc/home/aydanmckay/phottable-x-lamost-post-edit.fits')"
   ]
  },
  {
   "cell_type": "markdown",
   "id": "95472399-7d1c-49ec-a884-04dae8c1427d",
   "metadata": {},
   "source": [
    "Converting the Legacy Survey WISE flux measurements to mags."
   ]
  },
  {
   "cell_type": "code",
   "execution_count": 13,
   "id": "97c7aed7-79af-41fb-9dff-a356a0191af9",
   "metadata": {
    "collapsed": true,
    "jupyter": {
     "outputs_hidden": true
    },
    "tags": []
   },
   "outputs": [
    {
     "name": "stderr",
     "output_type": "stream",
     "text": [
      "/tmp/ipykernel_9123/4213912541.py:11: RuntimeWarning: divide by zero encountered in log10\n",
      "  mag.append(-2.5*np.log10(i)+22.5)\n",
      "/tmp/ipykernel_9123/4213912541.py:12: RuntimeWarning: divide by zero encountered in true_divide\n",
      "  magerr.append(1.09/np.sqrt(abs(j))/abs(i+0.00001))\n",
      "/tmp/ipykernel_9123/4213912541.py:11: RuntimeWarning: invalid value encountered in log10\n",
      "  mag.append(-2.5*np.log10(i)+22.5)\n",
      "/tmp/ipykernel_9123/4213912541.py:11: RuntimeWarning: divide by zero encountered in log10\n",
      "  mag.append(-2.5*np.log10(i)+22.5)\n",
      "/tmp/ipykernel_9123/4213912541.py:12: RuntimeWarning: divide by zero encountered in true_divide\n",
      "  magerr.append(1.09/np.sqrt(abs(j))/abs(i+0.00001))\n",
      "/tmp/ipykernel_9123/4213912541.py:11: RuntimeWarning: invalid value encountered in log10\n",
      "  mag.append(-2.5*np.log10(i)+22.5)\n",
      "/tmp/ipykernel_9123/4213912541.py:11: RuntimeWarning: divide by zero encountered in log10\n",
      "  mag.append(-2.5*np.log10(i)+22.5)\n",
      "/tmp/ipykernel_9123/4213912541.py:12: RuntimeWarning: divide by zero encountered in true_divide\n",
      "  magerr.append(1.09/np.sqrt(abs(j))/abs(i+0.00001))\n",
      "/tmp/ipykernel_9123/4213912541.py:11: RuntimeWarning: invalid value encountered in log10\n",
      "  mag.append(-2.5*np.log10(i)+22.5)\n",
      "/tmp/ipykernel_9123/4213912541.py:11: RuntimeWarning: divide by zero encountered in log10\n",
      "  mag.append(-2.5*np.log10(i)+22.5)\n",
      "/tmp/ipykernel_9123/4213912541.py:11: RuntimeWarning: invalid value encountered in log10\n",
      "  mag.append(-2.5*np.log10(i)+22.5)\n",
      "/tmp/ipykernel_9123/4213912541.py:12: RuntimeWarning: divide by zero encountered in true_divide\n",
      "  magerr.append(1.09/np.sqrt(abs(j))/abs(i+0.00001))\n",
      "/tmp/ipykernel_9123/4213912541.py:11: RuntimeWarning: divide by zero encountered in log10\n",
      "  mag.append(-2.5*np.log10(i)+22.5)\n",
      "/tmp/ipykernel_9123/4213912541.py:12: RuntimeWarning: divide by zero encountered in true_divide\n",
      "  magerr.append(1.09/np.sqrt(abs(j))/abs(i+0.00001))\n",
      "/tmp/ipykernel_9123/4213912541.py:11: RuntimeWarning: invalid value encountered in log10\n",
      "  mag.append(-2.5*np.log10(i)+22.5)\n",
      "/tmp/ipykernel_9123/4213912541.py:11: RuntimeWarning: invalid value encountered in log10\n",
      "  mag.append(-2.5*np.log10(i)+22.5)\n",
      "/tmp/ipykernel_9123/4213912541.py:11: RuntimeWarning: divide by zero encountered in log10\n",
      "  mag.append(-2.5*np.log10(i)+22.5)\n",
      "/tmp/ipykernel_9123/4213912541.py:12: RuntimeWarning: divide by zero encountered in true_divide\n",
      "  magerr.append(1.09/np.sqrt(abs(j))/abs(i+0.00001))\n",
      "/tmp/ipykernel_9123/4213912541.py:11: RuntimeWarning: invalid value encountered in log10\n",
      "  mag.append(-2.5*np.log10(i)+22.5)\n",
      "/tmp/ipykernel_9123/4213912541.py:11: RuntimeWarning: divide by zero encountered in log10\n",
      "  mag.append(-2.5*np.log10(i)+22.5)\n",
      "/tmp/ipykernel_9123/4213912541.py:12: RuntimeWarning: divide by zero encountered in true_divide\n",
      "  magerr.append(1.09/np.sqrt(abs(j))/abs(i+0.00001))\n"
     ]
    }
   ],
   "source": [
    "flux = ['FLUX_G','FLUX_R','FLUX_Z','FLUX_W1','FLUX_W2','FLUX_W3','FLUX_W4']\n",
    "fluxerr = ['FLUX_IVAR_G','FLUX_IVAR_R','FLUX_IVAR_Z','FLUX_IVAR_W1','FLUX_IVAR_W2','FLUX_IVAR_W3','FLUX_IVAR_W4']\n",
    "magnames = ['g_desi','r_desi','z_desi','w1_desi','w2_desi','w3_desi','w4_desi']\n",
    "magerrnames = ['g_desi_err','r_desi_err','z_desi_err','w1_desi_err','w2_desi_err','w3_desi_err','w4_desi_err']\n",
    "ix = 49\n",
    "ixx = 63\n",
    "for f,fe,magn,magen in zip(flux,fluxerr,magnames,magerrnames):\n",
    "    mag = []\n",
    "    magerr = []\n",
    "    for it,(i,j) in enumerate(zip(data[f],data[fe])):\n",
    "        mag.append(-2.5*np.log10(i)+22.5)\n",
    "        magerr.append(1.09/np.sqrt(abs(j))/abs(i+0.00001))\n",
    "    data.add_column(mag, name=magn, index=ix)\n",
    "    data.add_column(magerr, name=magen, index=ixx)\n",
    "    ix += 2\n",
    "    ixx += 2"
   ]
  },
  {
   "cell_type": "markdown",
   "id": "3cedfe6d-7066-4103-8b64-ec8e58d5626b",
   "metadata": {},
   "source": [
    "Taking the i-band measurement from Pan-STARRS dr3 if it exists, otherwise just taking the Pan-STARRS dr1 measurement."
   ]
  },
  {
   "cell_type": "code",
   "execution_count": 14,
   "id": "ac73f43b-e564-4a97-9242-72bee956b594",
   "metadata": {},
   "outputs": [],
   "source": [
    "# pancol = []\n",
    "# pancolerr = []\n",
    "# for pan3,epan3,pan1,epan1 in zip(data['i_ps'],data['i_ps_err'],data['imag_2'],data['e_imag_2']):\n",
    "#     if pan3.dtype == 'float32':\n",
    "#         pancol.append(pan3)\n",
    "#         pancolerr.append(epan3)\n",
    "#     else:\n",
    "#         pancol.append(pan1)\n",
    "#         pancolerr.append(epan1)\n",
    "# data.add_column(pancol, name='i_pans', index = -1)\n",
    "# data.add_column(pancolerr, name='i_pans_err', index = -1)"
   ]
  },
  {
   "cell_type": "markdown",
   "id": "4206e154-edcc-46c4-8e36-4c5b6b95fdb7",
   "metadata": {},
   "source": [
    "Removing fodder."
   ]
  },
  {
   "cell_type": "code",
   "execution_count": 15,
   "id": "d6865a6b-8148-4d32-a9d8-ffbe859e4807",
   "metadata": {},
   "outputs": [],
   "source": [
    "data.remove_columns(['e_CaHK_2','flag_2','E_BV_2','RAJ2000','DEJ2000','parallax_over_error','e_CaHK_1a','flag_1a','e_CaHK_2a','flag_2a','e_CaHK_1b',\n",
    "                     'flag_1b','e_CaHK_2b','flag_2b','E_BV'])"
   ]
  },
  {
   "cell_type": "markdown",
   "id": "1048daf1-50b5-48b9-8c2b-ba6fdd0490f9",
   "metadata": {},
   "source": [
    "Converting to pandas as its a simple code to rename columns then convert to parquet."
   ]
  },
  {
   "cell_type": "code",
   "execution_count": 16,
   "id": "39c0c42b-596b-4e91-a233-d6571822fff2",
   "metadata": {},
   "outputs": [
    {
     "data": {
      "text/plain": [
       "Index(['ra', 'dec', 'CaHK', 'e_CaHK_1', 'flag_1', 'E_BV_1', 'obsid', 'ra_obs',\n",
       "       'dec_obs', 'FEH_APOGEE',\n",
       "       ...\n",
       "       'zmag_2', 'e_zmag_2', 'zFlags', 'ymag', 'e_ymag', 'yFlags',\n",
       "       'angDist_2a', 'Separation', 'i_pans', 'i_pans_err'],\n",
       "      dtype='object', length=216)"
      ]
     },
     "execution_count": 16,
     "metadata": {},
     "output_type": "execute_result"
    }
   ],
   "source": [
    "df = data.to_pandas()\n",
    "df.columns"
   ]
  },
  {
   "cell_type": "markdown",
   "id": "688ae369-df6a-408e-929a-5da8bb3af1b3",
   "metadata": {},
   "source": [
    "Renaming columns."
   ]
  },
  {
   "cell_type": "code",
   "execution_count": 17,
   "id": "b7bbb6fd-51c4-4c0d-a8c9-383dde997713",
   "metadata": {},
   "outputs": [],
   "source": [
    "df.rename(columns = {'Jmag':'j_2mass', 'Hmag':'h_2mass', 'Kmag':'k_2mass', 'e_Jmag':'j_2mass_err', 'e_Hmag':'h_2mass_err', 'e_Kmag':'k_2mass_err', 'Qfl':'qfl_2mass',\n",
    "                     'umag':'u_sdss','gmag_1':'g_sdss', 'rmag_1':'r_sdss', 'imag_1':'i_sdss', 'zmag_1':'z_sdss', 'e_umag':'u_sdss_err', 'e_gmag_1':'g_sdss_err',\n",
    "                     'e_rmag_1':'r_sdss_err', 'e_imag_1':'i_sdss_err', 'e_zmag_1':'z_sdss_err', 'pmRA_2s':'pmra_sdss', 'pmDE':'pmde_sdss',\n",
    "                     'e_pmRA':'pmra_sdss_err', 'e_pmDE':'pmde_sdss_err','TYPE':'type_desi','FLUX_G':'gflux_desi', 'FLUX_R':'rflux_desi', 'FLUX_Z':'zflux_desi',\n",
    "                     'FLUX_W1':'w1flux_desi', 'FLUX_W2':'w2flux_desi','FLUX_W3':'w3flux_desi', 'FLUX_W4':'w4flux_desi', 'FLUX_IVAR_G':'gflux_desi_err',\n",
    "                     'FLUX_IVAR_R':'rflux_desi_err','FLUX_IVAR_Z':'zflux_desi_err', 'FLUX_IVAR_W1':'w1flux_desi_err', 'FLUX_IVAR_W2':'w2flux_desi_err',\n",
    "                     'FLUX_IVAR_W3':'w3flux_desi_err','FLUX_IVAR_W4':'w4flux_desi_err', 'Z_SPEC':'zspec_desi_err', 'source_id':'source_id_gaia', 'parallax':'para_gaia',\n",
    "                     'parallax_error':'para_gaia_err', 'pmra_1':'pmra_gaia', 'pmra_error':'pmra_gaia_err', 'pmdec':'pmde_gaia', 'pmdec_error':'pmde_gaia_err',\n",
    "                     'phot_g_mean_mag':'g_gaia','phot_bp_mean_mag':'b_gaia', 'phot_rp_mean_mag':'r_gaia', 'dr2_radial_velocity':'rv_gaia',\n",
    "                     'dr2_radial_velocity_error':'rv_gaia_err', 'phot_g_mean_mag_error':'g_gaia_err', 'phot_bp_mean_mag_error':'b_gaia_err',\n",
    "                     'phot_rp_mean_mag_error':'r_gaia_err', 'u_cfht':'u_cfis', 'r_cfht':'r_cfis', 'u_cfht_err':'u_cfis_err', 'r_cfht_err':'r_cfis_err',\n",
    "                     'i_ps':'i_ps3', 'i_ps_err':'i_ps3_err', 'Qual':'qfl_ps1', 'gmag_2':'g_ps1','e_gmag_2':'g_ps1_err', 'gFlags':'g_ps1_flag', 'rmag_2':'r_ps1',\n",
    "                     'e_rmag_2':'r_ps1_err', 'rFlags':'r_ps1_flag', 'imag_2':'i_ps1','e_imag_2':'i_ps1_err', 'iFlags':'i_ps1_flag', 'zmag_2':'z_ps1',\n",
    "                     'e_zmag_2':'z_ps1_err', 'zFlags':'z_ps1_flag', 'ymag':'y_ps1','e_ymag':'y_ps1_err', 'yFlags':'y_ps1_flag', 'e_CaHK_1':'e_CaHK',\n",
    "                     'flag_1':'flag', 'E_BV_1':'E_BV', 'angDist_1':'lam_gaia_sep', 'Separation_1':'pris_lam_gaia_sep', 'angDist_2':'pris_2mass_sep',\n",
    "                     'Separation_1a':'pris_lam_gaia_2mass_sep', 'Separation_2':'pris_cfis_sep', 'Separation_1b':'pris_lam_gaia_2mass_cfis_sep',\n",
    "                     'Separation_2a':'pris_ps3_sep', 'Separation_1c':'pris_lam_gaia_2mass_cfis_ps3_sep', 'Separation_2b':'pris_desi_sep',\n",
    "                     'Separation_1d':'pris_lam_gaia_2mass_cfis_ps3_desi_sep', 'angDist_1a':'pris_sdss_sep',\n",
    "                     'Separation_1e':'pris_lam_gaia_2mass_cfis_ps3_desi_sdss_sep', 'angDist_2a':'pris_ps1_sep',\n",
    "                     'Separation':'pris_lam_gaia_2mass_cfis_ps3_desi_sdss_ps1_sep'}, inplace = True)"
   ]
  },
  {
   "cell_type": "markdown",
   "id": "f8d6e66a-e972-42d0-bbd0-3d38ec5a5694",
   "metadata": {},
   "source": [
    "Writing new cat to parquet and to fits."
   ]
  },
  {
   "cell_type": "code",
   "execution_count": 18,
   "id": "92b76d9f-7681-42bf-9939-dd037fecf56c",
   "metadata": {},
   "outputs": [],
   "source": [
    "df.to_parquet('/arc/home/aydanmckay/phottable-x-lamost-final.parquet')\n",
    "data = Table.from_pandas(df)\n",
    "data.write('/arc/home/aydanmckay/phottable-x-lamost-final.fits',overwrite=True)"
   ]
  },
  {
   "cell_type": "markdown",
   "id": "1b265082-d0a9-4030-b7c3-e5aab7714aac",
   "metadata": {},
   "source": [
    "#### What I have to do:\n",
    "Take intersection, then recreate these final tables. refer to \"separationplots.ipynb\""
   ]
  },
  {
   "cell_type": "code",
   "execution_count": null,
   "id": "bf6511cf-93e1-48ba-b692-f41dcc28a5eb",
   "metadata": {},
   "outputs": [],
   "source": []
  }
 ],
 "metadata": {
  "kernelspec": {
   "display_name": "Python 3 (ipykernel)",
   "language": "python",
   "name": "python3"
  },
  "language_info": {
   "codemirror_mode": {
    "name": "ipython",
    "version": 3
   },
   "file_extension": ".py",
   "mimetype": "text/x-python",
   "name": "python",
   "nbconvert_exporter": "python",
   "pygments_lexer": "ipython3",
   "version": "3.9.12"
  }
 },
 "nbformat": 4,
 "nbformat_minor": 5
}
