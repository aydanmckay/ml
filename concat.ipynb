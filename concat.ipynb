{
 "cells": [
  {
   "cell_type": "code",
   "execution_count": 1,
   "id": "8d9525ce-3366-4470-a4ca-8a19256347d7",
   "metadata": {},
   "outputs": [],
   "source": [
    "import pandas as pd\n",
    "from astropy.table import Table, vstack\n",
    "import glob"
   ]
  },
  {
   "cell_type": "code",
   "execution_count": 2,
   "id": "c483e740-7727-4f93-90c1-092a6cf1d9cc",
   "metadata": {},
   "outputs": [],
   "source": [
    "# dr3tabs = glob.glob('/arc/home/aydanmckay/dr3tables/*')"
   ]
  },
  {
   "cell_type": "code",
   "execution_count": 3,
   "id": "d15fe149-523a-4668-bd1f-da94c2077da9",
   "metadata": {},
   "outputs": [],
   "source": [
    "# tables = []\n",
    "# for it,tab in enumerate(dr3tabs):\n",
    "#     data = Table.read(tab)\n",
    "#     tables.append(data)"
   ]
  },
  {
   "cell_type": "code",
   "execution_count": 4,
   "id": "deab3cb0-1864-45d3-8539-ddace9a8fda2",
   "metadata": {
    "tags": []
   },
   "outputs": [],
   "source": [
    "# combined = vstack(tables)"
   ]
  },
  {
   "cell_type": "code",
   "execution_count": 5,
   "id": "d50c8083-b509-429a-a98f-566dbe002e1b",
   "metadata": {},
   "outputs": [],
   "source": [
    "# combined.write('/arc/home/aydanmckay/lamost8_gaia3.fits', overwrite=True)"
   ]
  },
  {
   "cell_type": "code",
   "execution_count": 6,
   "id": "39d42535-8158-405a-ac3c-1555b53b6cdb",
   "metadata": {},
   "outputs": [],
   "source": [
    "apogee = Table.read('/arc/home/aydanmckay/gaiahike/bp_rp_apogee.fits').to_pandas()\n",
    "lamost = Table.read('/arc/home/aydanmckay/gaiahike/bp_rp_lamost.fits').to_pandas()"
   ]
  },
  {
   "cell_type": "code",
   "execution_count": 7,
   "id": "f230a8f0-e824-4077-862c-c39311929121",
   "metadata": {},
   "outputs": [],
   "source": [
    "apogee.rename(columns = {'sfd_ebv':'ebv', 'gaiaedr3_phot_g_mean_mag':'phot_g_mean_mag', 'fe_h':'feh'}, inplace = True)"
   ]
  },
  {
   "cell_type": "code",
   "execution_count": 8,
   "id": "dd4baa38-a562-4d00-b7cf-82e6b98fc8ad",
   "metadata": {},
   "outputs": [],
   "source": [
    "stackingapogee = apogee.drop(['alpha_m', 'm_h'], axis=1)"
   ]
  },
  {
   "cell_type": "code",
   "execution_count": 9,
   "id": "69164545-f107-4647-97ec-7f1554acd7d2",
   "metadata": {},
   "outputs": [],
   "source": [
    "lamost['feh'] += 0.06"
   ]
  },
  {
   "cell_type": "code",
   "execution_count": 10,
   "id": "79996563-e0b3-4791-9fd2-488e9dd432b0",
   "metadata": {},
   "outputs": [],
   "source": [
    "df3 = pd.concat([stackingapogee,lamost], ignore_index=True)"
   ]
  },
  {
   "cell_type": "code",
   "execution_count": 11,
   "id": "5080576d-ff38-416f-a422-d1867911f679",
   "metadata": {},
   "outputs": [],
   "source": [
    "apolamo = Table.from_pandas(df3)"
   ]
  },
  {
   "cell_type": "code",
   "execution_count": 12,
   "id": "6e74ba7e-ed4c-4ac7-89ef-e5c47991fe1e",
   "metadata": {},
   "outputs": [],
   "source": [
    "apolamo.write('/arc/home/aydanmckay/gaiahike/bp_rp_apogee_lamost.fits')"
   ]
  },
  {
   "cell_type": "code",
   "execution_count": null,
   "id": "1aa8fa7c-dfc6-4d33-a7a2-02ca98b4d348",
   "metadata": {},
   "outputs": [],
   "source": []
  }
 ],
 "metadata": {
  "kernelspec": {
   "display_name": "Python 3 (ipykernel)",
   "language": "python",
   "name": "python3"
  },
  "language_info": {
   "codemirror_mode": {
    "name": "ipython",
    "version": 3
   },
   "file_extension": ".py",
   "mimetype": "text/x-python",
   "name": "python",
   "nbconvert_exporter": "python",
   "pygments_lexer": "ipython3",
   "version": "3.9.13"
  }
 },
 "nbformat": 4,
 "nbformat_minor": 5
}
