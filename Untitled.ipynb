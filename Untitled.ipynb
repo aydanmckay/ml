{
 "cells": [
  {
   "cell_type": "code",
   "execution_count": 12,
   "id": "bed96f9d-8e3a-4fb0-bf72-0b8742dd9997",
   "metadata": {},
   "outputs": [],
   "source": [
    "from astropy.table import Table"
   ]
  },
  {
   "cell_type": "code",
   "execution_count": 2,
   "id": "bcb8531a-06ea-4b9f-bb9f-943ad99099fe",
   "metadata": {},
   "outputs": [],
   "source": [
    "data = Table.read('/arc/home/aydanmckay/lamost8_gaia3.fits')"
   ]
  },
  {
   "cell_type": "code",
   "execution_count": 3,
   "id": "23284cbd-07a6-4f7c-9e5b-de68f5cedefd",
   "metadata": {},
   "outputs": [],
   "source": [
    "# data"
   ]
  },
  {
   "cell_type": "code",
   "execution_count": 4,
   "id": "7cd9d944-d918-469f-a027-23657de0e698",
   "metadata": {},
   "outputs": [],
   "source": [
    "from gaiaxpy import calibrate"
   ]
  },
  {
   "cell_type": "code",
   "execution_count": 5,
   "id": "18d55892-ec28-4d66-bdfc-238019fb62d1",
   "metadata": {},
   "outputs": [],
   "source": [
    "f = '/arc/home/aydanmckay/XpContinuousMeanSpectrum_407725-409897.csv'"
   ]
  },
  {
   "cell_type": "code",
   "execution_count": 6,
   "id": "bcf98904-a9aa-4882-b715-bfc9e363e76e",
   "metadata": {},
   "outputs": [
    {
     "name": "stdout",
     "output_type": "stream",
     "text": [
      "                              \r"
     ]
    }
   ],
   "source": [
    "calibrated_spectra, sampling = calibrate(f)\n",
    "# calibrated_spectra"
   ]
  },
  {
   "cell_type": "code",
   "execution_count": 13,
   "id": "b118f3cd-d1d8-42fa-9202-4289366013e7",
   "metadata": {
    "tags": []
   },
   "outputs": [
    {
     "name": "stdout",
     "output_type": "stream",
     "text": [
      "0 tensor([48, 52,  1, 76, 90, 98, 79, 80, 54, 85])\n",
      "1 tensor([57, 86, 69, 44, 91, 60, 71, 75, 34, 14])\n",
      "2 tensor([55, 26, 78, 36, 68, 51, 92, 59, 24, 12])\n",
      "3 tensor([39, 19, 11, 99, 82, 72, 25, 87, 21, 27])\n",
      "4 tensor([66, 89, 70, 23, 95, 32, 46, 29, 35, 93])\n",
      "5 tensor([47, 13, 94, 77, 65, 20, 16,  5, 43, 37])\n",
      "6 tensor([56, 73,  3,  8, 38, 97, 58, 18,  6, 17])\n",
      "7 tensor([40, 84, 53, 50, 15, 28, 61, 49, 67,  7])\n",
      "8 tensor([63, 88,  9, 64, 22, 30, 83, 42,  4, 74])\n",
      "9 tensor([45,  2, 33, 81,  0, 96, 10, 41, 31, 62])\n"
     ]
    }
   ],
   "source": [
    "# importing the required libraries\n",
    "import torch\n",
    "from torch.utils.data import Dataset\n",
    "from torch.utils.data import DataLoader\n",
    "  \n",
    "# defining the Dataset class\n",
    "class BasicSet(Dataset):\n",
    "    def __init__(self):\n",
    "        numbers = list(range(0, 100, 1))\n",
    "        self.data = numbers\n",
    "  \n",
    "    def __len__(self):\n",
    "        return len(self.data)\n",
    "  \n",
    "    def __getitem__(self, index):\n",
    "        return self.data[index]\n",
    "basicset = BasicSet()\n",
    "  \n",
    "# implementing dataloader on the dataset and printing per batch\n",
    "basicdataloader = DataLoader(basicset, batch_size=10, shuffle=True)\n",
    "for i, batch in enumerate(basicdataloader):\n",
    "    print(i, batch)"
   ]
  },
  {
   "cell_type": "code",
   "execution_count": 14,
   "id": "cf382c8b-0d3f-49c6-bdd5-a33259061b17",
   "metadata": {
    "tags": []
   },
   "outputs": [],
   "source": [
    "# for i in dataloader:\n",
    "#     print(i)"
   ]
  },
  {
   "cell_type": "code",
   "execution_count": 15,
   "id": "5a36e685-9ceb-4ce6-ab46-a5ddfa6ff1c8",
   "metadata": {
    "tags": []
   },
   "outputs": [],
   "source": [
    "# dataloader.batch_size"
   ]
  },
  {
   "cell_type": "code",
   "execution_count": 30,
   "id": "7cac69e2-1d5b-416e-b719-75d7c101363a",
   "metadata": {
    "tags": []
   },
   "outputs": [],
   "source": [
    "import h5py\n",
    "import numpy as np\n",
    "from pathlib import Path\n",
    "from torch.utils import data\n",
    "\n",
    "class HDF5Dataset(data.Dataset):\n",
    "    \"\"\"Represents an abstract HDF5 dataset.\n",
    "    \n",
    "    Input params:\n",
    "        file_path: Path to the folder containing the dataset (one or multiple HDF5 files).\n",
    "        recursive: If True, searches for h5 files in subdirectories.\n",
    "        load_data: If True, loads all the data immediately into RAM. Use this if\n",
    "            the dataset is fits into memory. Otherwise, leave this at false and \n",
    "            the data will load lazily.\n",
    "        data_cache_size: Number of HDF5 files that can be cached in the cache (default=3).\n",
    "        transform: PyTorch transform to apply to every data instance (default=None).\n",
    "    \"\"\"\n",
    "    def __init__(self, file_path, recursive, load_data, data_cache_size=3, transform=None):\n",
    "        super().__init__()\n",
    "        self.data_info = []\n",
    "        self.data_cache = {}\n",
    "        self.data_cache_size = data_cache_size\n",
    "        self.transform = transform\n",
    "\n",
    "        # Search for all h5 files\n",
    "        p = Path(file_path)\n",
    "        assert(p.is_dir())\n",
    "        if recursive:\n",
    "            files = sorted(p.glob('**/*.h5'))\n",
    "        else:\n",
    "            files = sorted(p.glob('*.h5'))\n",
    "        if len(files) < 1:\n",
    "            raise RuntimeError('No hdf5 datasets found')\n",
    "\n",
    "        for h5dataset_fp in files:\n",
    "            self._add_data_infos(str(h5dataset_fp.resolve()), load_data)\n",
    "            \n",
    "    def __getitem__(self, index):\n",
    "        # get data\n",
    "        x = self.get_data(\"data\", index)\n",
    "        if self.transform:\n",
    "            x = self.transform(x)\n",
    "        else:\n",
    "            x = torch.from_numpy(x)\n",
    "\n",
    "        # get label\n",
    "        y = self.get_data(\"label\", index)\n",
    "        y = torch.from_numpy(y)\n",
    "        return (x, y)\n",
    "\n",
    "    def __len__(self):\n",
    "        return len(self.get_data_infos('data'))\n",
    "    \n",
    "    def _add_data_infos(self, file_path, load_data):\n",
    "        with h5py.File(file_path) as h5_file:\n",
    "            print(h5_file)\n",
    "            # Walk through all groups, extracting datasets\n",
    "            for gname, group in h5_file.items():\n",
    "                print(gname,group)\n",
    "                for dname, ds in group.items():\n",
    "                    print(dname)\n",
    "                    # if data is not loaded its cache index is -1\n",
    "                    idx = -1\n",
    "                    if load_data:\n",
    "                        # add data to the data cache\n",
    "                        idx = self._add_to_cache(ds.value, file_path)\n",
    "                    \n",
    "                    # type is derived from the name of the dataset; we expect the dataset\n",
    "                    # name to have a name such as 'data' or 'label' to identify its type\n",
    "                    # we also store the shape of the data in case we need it\n",
    "                    print(ds)\n",
    "                    # self.data_info.append({'file_path': file_path, 'type': dname, 'shape': ds.value.shape, 'cache_idx': idx})\n",
    "                    self.data_info.append({'file_path': file_path, 'type': dname, 'shape': ds.shape, 'cache_idx': idx})\n",
    "\n",
    "    def _load_data(self, file_path):\n",
    "        \"\"\"Load data to the cache given the file\n",
    "        path and update the cache index in the\n",
    "        data_info structure.\n",
    "        \"\"\"\n",
    "        with h5py.File(file_path) as h5_file:\n",
    "            for gname, group in h5_file.items():\n",
    "                for dname, ds in group.items():\n",
    "                    # add data to the data cache and retrieve\n",
    "                    # the cache index\n",
    "                    idx = self._add_to_cache(ds.value, file_path)\n",
    "\n",
    "                    # find the beginning index of the hdf5 file we are looking for\n",
    "                    file_idx = next(i for i,v in enumerate(self.data_info) if v['file_path'] == file_path)\n",
    "\n",
    "                    # the data info should have the same index since we loaded it in the same way\n",
    "                    self.data_info[file_idx + idx]['cache_idx'] = idx\n",
    "\n",
    "        # remove an element from data cache if size was exceeded\n",
    "        if len(self.data_cache) > self.data_cache_size:\n",
    "            # remove one item from the cache at random\n",
    "            removal_keys = list(self.data_cache)\n",
    "            removal_keys.remove(file_path)\n",
    "            self.data_cache.pop(removal_keys[0])\n",
    "            # remove invalid cache_idx\n",
    "            self.data_info = [{'file_path': di['file_path'], 'type': di['type'], 'shape': di['shape'], 'cache_idx': -1} if di['file_path'] == removal_keys[0] else di for di in self.data_info]\n",
    "\n",
    "    def _add_to_cache(self, data, file_path):\n",
    "        \"\"\"Adds data to the cache and returns its index. There is one cache\n",
    "        list for every file_path, containing all datasets in that file.\n",
    "        \"\"\"\n",
    "        if file_path not in self.data_cache:\n",
    "            self.data_cache[file_path] = [data]\n",
    "        else:\n",
    "            self.data_cache[file_path].append(data)\n",
    "        return len(self.data_cache[file_path]) - 1\n",
    "\n",
    "    def get_data_infos(self, type):\n",
    "        \"\"\"Get data infos belonging to a certain type of data.\n",
    "        \"\"\"\n",
    "        data_info_type = [di for di in self.data_info if di['type'] == type]\n",
    "        return data_info_type\n",
    "\n",
    "    def get_data(self, type, i):\n",
    "        \"\"\"Call this function anytime you want to access a chunk of data from the\n",
    "            dataset. This will make sure that the data is loaded in case it is\n",
    "            not part of the data cache.\n",
    "        \"\"\"\n",
    "        fp = self.get_data_infos(type)[i]['file_path']\n",
    "        if fp not in self.data_cache:\n",
    "            self._load_data(fp)\n",
    "        \n",
    "        # get new cache_idx assigned by _load_data_info\n",
    "        cache_idx = self.get_data_infos(type)[i]['cache_idx']\n",
    "        return self.data_cache[fp][cache_idx]"
   ]
  },
  {
   "cell_type": "code",
   "execution_count": 33,
   "id": "d3ddbe36-62e8-4a4b-86c0-bb3a6e7108da",
   "metadata": {
    "tags": []
   },
   "outputs": [
    {
     "name": "stdout",
     "output_type": "stream",
     "text": [
      "<HDF5 file \"mydata.h5\" (mode r)>\n",
      "group_1 <HDF5 group \"/group_1\" (2 members)>\n",
      "data\n",
      "<HDF5 dataset \"data\": shape (3, 578275), type \"|V12\">\n",
      "label\n",
      "<HDF5 dataset \"label\": shape (110, 578275), type \"<f8\">\n",
      "group_2 <HDF5 group \"/group_2\" (2 members)>\n",
      "data\n",
      "<HDF5 dataset \"data\": shape (3, 64253), type \"|V12\">\n",
      "label\n",
      "<HDF5 dataset \"label\": shape (110, 64253), type \"<f8\">\n"
     ]
    },
    {
     "ename": "AttributeError",
     "evalue": "Caught AttributeError in DataLoader worker process 0.\nOriginal Traceback (most recent call last):\n  File \"/opt/conda/lib/python3.9/site-packages/torch/utils/data/_utils/worker.py\", line 287, in _worker_loop\n    data = fetcher.fetch(index)\n  File \"/opt/conda/lib/python3.9/site-packages/torch/utils/data/_utils/fetch.py\", line 49, in fetch\n    data = [self.dataset[idx] for idx in possibly_batched_index]\n  File \"/opt/conda/lib/python3.9/site-packages/torch/utils/data/_utils/fetch.py\", line 49, in <listcomp>\n    data = [self.dataset[idx] for idx in possibly_batched_index]\n  File \"/tmp/ipykernel_124/1725768936.py\", line 40, in __getitem__\n    x = self.get_data(\"data\", index)\n  File \"/tmp/ipykernel_124/1725768936.py\", line 125, in get_data\n    self._load_data(fp)\n  File \"/tmp/ipykernel_124/1725768936.py\", line 85, in _load_data\n    idx = self._add_to_cache(ds.value, file_path)\nAttributeError: 'Dataset' object has no attribute 'value'\n",
     "output_type": "error",
     "traceback": [
      "\u001b[0;31m---------------------------------------------------------------------------\u001b[0m",
      "\u001b[0;31mAttributeError\u001b[0m                            Traceback (most recent call last)",
      "Input \u001b[0;32mIn [33]\u001b[0m, in \u001b[0;36m<cell line: 9>\u001b[0;34m()\u001b[0m\n\u001b[1;32m      7\u001b[0m data_loader \u001b[38;5;241m=\u001b[39m data\u001b[38;5;241m.\u001b[39mDataLoader(dataset, \u001b[38;5;241m*\u001b[39m\u001b[38;5;241m*\u001b[39mloader_params)\n\u001b[1;32m      9\u001b[0m \u001b[38;5;28;01mfor\u001b[39;00m i \u001b[38;5;129;01min\u001b[39;00m \u001b[38;5;28mrange\u001b[39m(num_epochs):\n\u001b[0;32m---> 10\u001b[0m     \u001b[38;5;28;01mfor\u001b[39;00m x,y \u001b[38;5;129;01min\u001b[39;00m data_loader:\n\u001b[1;32m     11\u001b[0m         \u001b[38;5;28mprint\u001b[39m(x,y)\n\u001b[1;32m     12\u001b[0m         \u001b[38;5;28;01mbreak\u001b[39;00m\n",
      "File \u001b[0;32m/opt/conda/lib/python3.9/site-packages/torch/utils/data/dataloader.py:530\u001b[0m, in \u001b[0;36m_BaseDataLoaderIter.__next__\u001b[0;34m(self)\u001b[0m\n\u001b[1;32m    528\u001b[0m \u001b[38;5;28;01mif\u001b[39;00m \u001b[38;5;28mself\u001b[39m\u001b[38;5;241m.\u001b[39m_sampler_iter \u001b[38;5;129;01mis\u001b[39;00m \u001b[38;5;28;01mNone\u001b[39;00m:\n\u001b[1;32m    529\u001b[0m     \u001b[38;5;28mself\u001b[39m\u001b[38;5;241m.\u001b[39m_reset()\n\u001b[0;32m--> 530\u001b[0m data \u001b[38;5;241m=\u001b[39m \u001b[38;5;28;43mself\u001b[39;49m\u001b[38;5;241;43m.\u001b[39;49m\u001b[43m_next_data\u001b[49m\u001b[43m(\u001b[49m\u001b[43m)\u001b[49m\n\u001b[1;32m    531\u001b[0m \u001b[38;5;28mself\u001b[39m\u001b[38;5;241m.\u001b[39m_num_yielded \u001b[38;5;241m+\u001b[39m\u001b[38;5;241m=\u001b[39m \u001b[38;5;241m1\u001b[39m\n\u001b[1;32m    532\u001b[0m \u001b[38;5;28;01mif\u001b[39;00m \u001b[38;5;28mself\u001b[39m\u001b[38;5;241m.\u001b[39m_dataset_kind \u001b[38;5;241m==\u001b[39m _DatasetKind\u001b[38;5;241m.\u001b[39mIterable \u001b[38;5;129;01mand\u001b[39;00m \\\n\u001b[1;32m    533\u001b[0m         \u001b[38;5;28mself\u001b[39m\u001b[38;5;241m.\u001b[39m_IterableDataset_len_called \u001b[38;5;129;01mis\u001b[39;00m \u001b[38;5;129;01mnot\u001b[39;00m \u001b[38;5;28;01mNone\u001b[39;00m \u001b[38;5;129;01mand\u001b[39;00m \\\n\u001b[1;32m    534\u001b[0m         \u001b[38;5;28mself\u001b[39m\u001b[38;5;241m.\u001b[39m_num_yielded \u001b[38;5;241m>\u001b[39m \u001b[38;5;28mself\u001b[39m\u001b[38;5;241m.\u001b[39m_IterableDataset_len_called:\n",
      "File \u001b[0;32m/opt/conda/lib/python3.9/site-packages/torch/utils/data/dataloader.py:1224\u001b[0m, in \u001b[0;36m_MultiProcessingDataLoaderIter._next_data\u001b[0;34m(self)\u001b[0m\n\u001b[1;32m   1222\u001b[0m \u001b[38;5;28;01melse\u001b[39;00m:\n\u001b[1;32m   1223\u001b[0m     \u001b[38;5;28;01mdel\u001b[39;00m \u001b[38;5;28mself\u001b[39m\u001b[38;5;241m.\u001b[39m_task_info[idx]\n\u001b[0;32m-> 1224\u001b[0m     \u001b[38;5;28;01mreturn\u001b[39;00m \u001b[38;5;28;43mself\u001b[39;49m\u001b[38;5;241;43m.\u001b[39;49m\u001b[43m_process_data\u001b[49m\u001b[43m(\u001b[49m\u001b[43mdata\u001b[49m\u001b[43m)\u001b[49m\n",
      "File \u001b[0;32m/opt/conda/lib/python3.9/site-packages/torch/utils/data/dataloader.py:1250\u001b[0m, in \u001b[0;36m_MultiProcessingDataLoaderIter._process_data\u001b[0;34m(self, data)\u001b[0m\n\u001b[1;32m   1248\u001b[0m \u001b[38;5;28mself\u001b[39m\u001b[38;5;241m.\u001b[39m_try_put_index()\n\u001b[1;32m   1249\u001b[0m \u001b[38;5;28;01mif\u001b[39;00m \u001b[38;5;28misinstance\u001b[39m(data, ExceptionWrapper):\n\u001b[0;32m-> 1250\u001b[0m     \u001b[43mdata\u001b[49m\u001b[38;5;241;43m.\u001b[39;49m\u001b[43mreraise\u001b[49m\u001b[43m(\u001b[49m\u001b[43m)\u001b[49m\n\u001b[1;32m   1251\u001b[0m \u001b[38;5;28;01mreturn\u001b[39;00m data\n",
      "File \u001b[0;32m/opt/conda/lib/python3.9/site-packages/torch/_utils.py:457\u001b[0m, in \u001b[0;36mExceptionWrapper.reraise\u001b[0;34m(self)\u001b[0m\n\u001b[1;32m    453\u001b[0m \u001b[38;5;28;01mexcept\u001b[39;00m \u001b[38;5;167;01mTypeError\u001b[39;00m:\n\u001b[1;32m    454\u001b[0m     \u001b[38;5;66;03m# If the exception takes multiple arguments, don't try to\u001b[39;00m\n\u001b[1;32m    455\u001b[0m     \u001b[38;5;66;03m# instantiate since we don't know how to\u001b[39;00m\n\u001b[1;32m    456\u001b[0m     \u001b[38;5;28;01mraise\u001b[39;00m \u001b[38;5;167;01mRuntimeError\u001b[39;00m(msg) \u001b[38;5;28;01mfrom\u001b[39;00m \u001b[38;5;28mNone\u001b[39m\n\u001b[0;32m--> 457\u001b[0m \u001b[38;5;28;01mraise\u001b[39;00m exception\n",
      "\u001b[0;31mAttributeError\u001b[0m: Caught AttributeError in DataLoader worker process 0.\nOriginal Traceback (most recent call last):\n  File \"/opt/conda/lib/python3.9/site-packages/torch/utils/data/_utils/worker.py\", line 287, in _worker_loop\n    data = fetcher.fetch(index)\n  File \"/opt/conda/lib/python3.9/site-packages/torch/utils/data/_utils/fetch.py\", line 49, in fetch\n    data = [self.dataset[idx] for idx in possibly_batched_index]\n  File \"/opt/conda/lib/python3.9/site-packages/torch/utils/data/_utils/fetch.py\", line 49, in <listcomp>\n    data = [self.dataset[idx] for idx in possibly_batched_index]\n  File \"/tmp/ipykernel_124/1725768936.py\", line 40, in __getitem__\n    x = self.get_data(\"data\", index)\n  File \"/tmp/ipykernel_124/1725768936.py\", line 125, in get_data\n    self._load_data(fp)\n  File \"/tmp/ipykernel_124/1725768936.py\", line 85, in _load_data\n    idx = self._add_to_cache(ds.value, file_path)\nAttributeError: 'Dataset' object has no attribute 'value'\n"
     ]
    }
   ],
   "source": [
    "num_epochs = 50\n",
    "loader_params = {'batch_size': 100, 'shuffle': True, 'num_workers': 6}\n",
    "\n",
    "dataset = HDF5Dataset('/arc/home/aydanmckay', recursive=False, load_data=False, \n",
    "   data_cache_size=4, transform=None)\n",
    "\n",
    "data_loader = data.DataLoader(dataset, **loader_params)\n",
    "\n",
    "for i in range(num_epochs):\n",
    "    for x,y in data_loader:\n",
    "        print(x,y)\n",
    "        break\n",
    "    pass"
   ]
  },
  {
   "cell_type": "code",
   "execution_count": 18,
   "id": "e8f02c56-c21d-4f07-a764-188f684f1b5e",
   "metadata": {},
   "outputs": [],
   "source": [
    "import pandas as pd\n",
    "    \n",
    "# defining the Dataset class\n",
    "class data_set(Dataset):\n",
    "    def __init__(self,file):\n",
    "        datum = Table.read(file)\n",
    "        self.data = datum\n",
    "  \n",
    "    def __len__(self):\n",
    "        return len(self.data)\n",
    "  \n",
    "    def __getitem__(self, index):\n",
    "        return self.data[index]"
   ]
  },
  {
   "cell_type": "code",
   "execution_count": 21,
   "id": "965b116b-817a-4c84-8619-204fc53eecca",
   "metadata": {},
   "outputs": [
    {
     "name": "stdout",
     "output_type": "stream",
     "text": [
      "0 [tensor([-0.3640, -0.0110]), tensor([0.0690, 0.0694]), tensor([12.4963, 12.7018]), tensor([6330331376789732224, 6330335530022502784]), tensor([5302.0200, 6069.3301]), tensor([4.4990, 4.2070]), tensor([219.1310, 219.0966], dtype=torch.float64), tensor([-7.6277, -7.5659], dtype=torch.float64), tensor([12029.7314, 10450.9819], dtype=torch.float64), tensor([-1411.8249, -1930.3344], dtype=torch.float64), tensor([-219.1894,   35.6158], dtype=torch.float64), tensor([129.3349,  52.6922], dtype=torch.float64), tensor([-68.3525, -62.8730], dtype=torch.float64), tensor([-86.3349, -19.8526], dtype=torch.float64), tensor([-56.4289, -28.1879], dtype=torch.float64), tensor([37.5401, 21.8474], dtype=torch.float64), tensor([-42.2532, -17.0194], dtype=torch.float64), tensor([-5.6693,  8.7219], dtype=torch.float64), tensor([4.0050, 6.2666], dtype=torch.float64), tensor([1.2507, 9.6351], dtype=torch.float64), tensor([-13.1181,   8.2519], dtype=torch.float64), tensor([-5.8534, -3.2109], dtype=torch.float64), tensor([2.9191, 0.8045], dtype=torch.float64), tensor([-5.9654, -0.9210], dtype=torch.float64), tensor([5.1775, 6.2465], dtype=torch.float64), tensor([-1.5113, -1.9177], dtype=torch.float64), tensor([-18.6939,   2.1845], dtype=torch.float64), tensor([ -4.3800, -12.6343], dtype=torch.float64), tensor([-2.5716, -4.0757], dtype=torch.float64), tensor([30.6678,  8.4563], dtype=torch.float64), tensor([2.8763, 9.7600], dtype=torch.float64), tensor([6.4548, 1.5960], dtype=torch.float64), tensor([-0.6158,  4.0614], dtype=torch.float64), tensor([-1.7318,  0.9574], dtype=torch.float64), tensor([-2.5889, -0.6469], dtype=torch.float64), tensor([-4.7354,  2.8862], dtype=torch.float64), tensor([ 2.7234, -3.1816], dtype=torch.float64), tensor([-1.1091,  1.6490], dtype=torch.float64), tensor([-3.7561,  1.7013], dtype=torch.float64), tensor([2.8903, 1.7298], dtype=torch.float64), tensor([ 2.5824, -2.7685], dtype=torch.float64), tensor([-3.4973, -3.4990], dtype=torch.float64), tensor([5.5899, 1.2041], dtype=torch.float64), tensor([-0.7090,  4.0294], dtype=torch.float64), tensor([-0.0718, -2.9762], dtype=torch.float64), tensor([-1.4330,  1.2932], dtype=torch.float64), tensor([-0.1145, -2.3860], dtype=torch.float64), tensor([-1.4061, -1.5158], dtype=torch.float64), tensor([-1.5373,  2.0345], dtype=torch.float64), tensor([ 0.8771, -1.8530], dtype=torch.float64), tensor([-1.7386, -1.7152], dtype=torch.float64), tensor([1.4631, 1.3810], dtype=torch.float64), tensor([-1.3289, -1.1512], dtype=torch.float64), tensor([-3.2746, -0.2074], dtype=torch.float64), tensor([0.4117, 1.6770], dtype=torch.float64), tensor([-1.0175, -1.7182], dtype=torch.float64), tensor([-3.7384, -0.5782], dtype=torch.float64), tensor([-0.6898, -0.2005], dtype=torch.float64), tensor([-1.4107, -0.2784], dtype=torch.float64), tensor([-0.7304, -0.3424], dtype=torch.float64), tensor([1.3069, 1.0001], dtype=torch.float64), tensor([0.0787, 0.1399], dtype=torch.float64), tensor([-0.1583, -0.3753], dtype=torch.float64), tensor([13046.3314,  9752.0489], dtype=torch.float64), tensor([-1641.1660, -1551.7653], dtype=torch.float64), tensor([ -72.7972, -112.7968], dtype=torch.float64), tensor([ -2.6778, -48.4768], dtype=torch.float64), tensor([10.0558,  0.9452], dtype=torch.float64), tensor([-20.1438,   1.8598], dtype=torch.float64), tensor([-31.0557, -21.8719], dtype=torch.float64), tensor([13.8819, -4.5277], dtype=torch.float64), tensor([-12.7439, -10.9022], dtype=torch.float64), tensor([-0.3268, -1.4595], dtype=torch.float64), tensor([-3.2582,  7.3824], dtype=torch.float64), tensor([2.5590, 1.3012], dtype=torch.float64), tensor([ 1.5826, -1.8510], dtype=torch.float64), tensor([-0.0241,  1.9654], dtype=torch.float64), tensor([-7.5540, -6.0667], dtype=torch.float64), tensor([-4.2836, -3.9353], dtype=torch.float64), tensor([-3.7671, -0.5010], dtype=torch.float64), tensor([-4.6184,  3.5788], dtype=torch.float64), tensor([-0.3827, -0.9511], dtype=torch.float64), tensor([-1.5771, -0.9789], dtype=torch.float64), tensor([ 2.8325, -1.0947], dtype=torch.float64), tensor([ 2.2806, -0.4792], dtype=torch.float64), tensor([-0.3554, -1.1984], dtype=torch.float64), tensor([-0.5694,  1.7491], dtype=torch.float64), tensor([ 1.8659, -0.1876], dtype=torch.float64), tensor([ 1.6445, -3.9070], dtype=torch.float64), tensor([-5.8095,  1.3100], dtype=torch.float64), tensor([-11.6311,   1.3541], dtype=torch.float64), tensor([ 3.0483, -2.8978], dtype=torch.float64), tensor([ 5.6334, -2.5031], dtype=torch.float64), tensor([ 4.4011, -4.0487], dtype=torch.float64), tensor([2.5597, 1.5433], dtype=torch.float64), tensor([0.6904, 0.9900], dtype=torch.float64), tensor([-3.0978, -3.3454], dtype=torch.float64), tensor([5.7320, 1.8936], dtype=torch.float64), tensor([-2.0009,  1.2696], dtype=torch.float64), tensor([0.2466, 0.0286], dtype=torch.float64), tensor([-1.5644,  0.6668], dtype=torch.float64), tensor([ 1.6276, -0.7972], dtype=torch.float64), tensor([ 4.0301, -0.0883], dtype=torch.float64), tensor([ 2.1876, -0.5365], dtype=torch.float64), tensor([-0.4969,  1.3611], dtype=torch.float64), tensor([-0.1315,  0.4001], dtype=torch.float64), tensor([ 2.9290, -0.4612], dtype=torch.float64), tensor([-0.3512,  1.5021], dtype=torch.float64), tensor([ 0.0427, -2.0105], dtype=torch.float64), tensor([-0.4796,  0.2945], dtype=torch.float64), tensor([-0.0048,  1.0827], dtype=torch.float64), tensor([-0.4631,  0.3321], dtype=torch.float64), tensor([-0.0370,  0.3157], dtype=torch.float64), tensor([ 1.1115, -0.1732], dtype=torch.float64), tensor([-0.1676,  0.5462], dtype=torch.float64), tensor([ 0.6725, -0.0422], dtype=torch.float64), tensor([-0.0576, -0.0165], dtype=torch.float64), tensor([-0.2589, -0.2447], dtype=torch.float64), tensor([8.5617, 8.4480]), tensor([7.3583, 7.0834]), tensor([7.6541, 7.5441]), tensor([7.6339, 7.5657]), tensor([7.9895, 7.7917]), tensor([6.3382, 6.1048]), tensor([6.0024, 5.7584]), tensor([11.0299, 11.0537]), tensor([6.0726, 6.1652]), tensor([6.9424, 6.7503]), tensor([7.5021, 7.4164]), tensor([6.8736, 7.0522]), tensor([7.0946, 7.1485]), tensor([5.0051, 5.0880]), tensor([5.3847, 5.8356]), tensor([6.5941, 6.4420]), tensor([6.0688, 5.9239]), tensor([5.2045, 4.9942]), tensor([5.5154, 5.4751]), tensor([3.6736, 3.8487]), tensor([6.3637, 6.1386]), tensor([4.4263, 4.6468]), tensor([5.4216, 5.2434]), tensor([4.7866, 4.7911]), tensor([5.1069, 4.9283]), tensor([4.6616, 4.5721]), tensor([3.6922, 3.7645]), tensor([2.3151, 2.4040]), tensor([3.8289, 3.7863]), tensor([2.5999, 2.5170]), tensor([2.9319, 3.0195]), tensor([2.8181, 3.1905]), tensor([1.9504, 2.1015]), tensor([2.7553, 2.8212]), tensor([1.9910, 1.9705]), tensor([2.2177, 2.2226]), tensor([1.9789, 2.0188]), tensor([1.9711, 2.0940]), tensor([2.0606, 2.0704]), tensor([2.1407, 2.2910]), tensor([1.7200, 1.7165]), tensor([2.1398, 2.1952]), tensor([2.6687, 2.8741]), tensor([1.6198, 1.5215]), tensor([2.0461, 2.0076]), tensor([2.6405, 3.4276]), tensor([2.8194, 3.3711]), tensor([1.5778, 1.9276]), tensor([1.5943, 2.3196]), tensor([1.3192, 1.7016]), tensor([1.2595, 1.2685]), tensor([0.6594, 0.5823]), tensor([0.9388, 1.1152]), tensor([0.4602, 0.4044]), tensor([0.1884, 0.1710]), tensor([4.0155, 4.2282]), tensor([3.7662, 3.7143]), tensor([3.7020, 3.6581]), tensor([4.0721, 4.2377]), tensor([3.7484, 3.7133]), tensor([3.9840, 3.9989]), tensor([3.8836, 4.0075]), tensor([3.6255, 3.5330]), tensor([3.5446, 3.5417]), tensor([3.8871, 3.9284]), tensor([3.2847, 3.2083]), tensor([3.8214, 3.8726]), tensor([2.6216, 2.4428]), tensor([3.7501, 3.7463]), tensor([3.6375, 3.5079]), tensor([3.8894, 3.9907]), tensor([3.6577, 3.4887]), tensor([3.3957, 3.0972]), tensor([3.4788, 3.0334]), tensor([3.7911, 3.7880]), tensor([2.9942, 2.5863]), tensor([3.6324, 3.6177]), tensor([3.2659, 3.1035]), tensor([3.1895, 3.0581]), tensor([3.5184, 3.4357]), tensor([3.3934, 3.2591]), tensor([3.4711, 3.2022]), tensor([3.1633, 2.8654]), tensor([2.8703, 2.4830]), tensor([2.6645, 2.3785]), tensor([2.8838, 2.5527]), tensor([2.3235, 2.0020]), tensor([2.7359, 2.4469]), tensor([2.2943, 1.9701]), tensor([2.2070, 1.8696]), tensor([2.0609, 1.7676]), tensor([1.9894, 1.6796]), tensor([1.8449, 1.5981]), tensor([1.6734, 1.3928]), tensor([1.4515, 1.2006]), tensor([1.3412, 1.0248]), tensor([1.4243, 1.1395]), tensor([1.6949, 1.3978]), tensor([1.3802, 1.0637]), tensor([1.3381, 1.0957]), tensor([1.3828, 1.1604]), tensor([1.1669, 0.9172]), tensor([1.0986, 1.0857]), tensor([1.2063, 0.8524]), tensor([1.1319, 0.9194]), tensor([0.9540, 0.9409]), tensor([0.8092, 0.6816]), tensor([0.7473, 0.5584]), tensor([0.3120, 0.2445]), tensor([0.1531, 0.1315])]\n"
     ]
    }
   ],
   "source": [
    "dataset = data_set('/arc/home/aydanmckay/gaiahike/bp_rp_lamost.fits')\n",
    "\n",
    "len(dataset)\n",
    "# implementing dataloader on the dataset and printing per batch\n",
    "dataloader = DataLoader(dataset, batch_size=2, shuffle=True)\n",
    "for i, batch in enumerate(dataloader):\n",
    "    print(i, batch)\n",
    "    break\n",
    "# So this works the way that it should be working! at least for fits files."
   ]
  },
  {
   "cell_type": "code",
   "execution_count": 20,
   "id": "6ff4c4f3-76ea-4773-96cf-8032b2b76064",
   "metadata": {},
   "outputs": [
    {
     "data": {
      "text/html": [
       "<div><i>Table length=2</i>\n",
       "<table id=\"table140578458084688\" class=\"table-striped table-bordered table-condensed\">\n",
       "<thead><tr><th>feh</th><th>ebv</th><th>phot_g_mean_mag</th><th>source_id</th><th>teff</th><th>logg</th><th>ra</th><th>dec</th><th>bp_1</th><th>bp_2</th><th>bp_3</th><th>bp_4</th><th>bp_5</th><th>bp_6</th><th>bp_7</th><th>bp_8</th><th>bp_9</th><th>bp_10</th><th>bp_11</th><th>bp_12</th><th>bp_13</th><th>bp_14</th><th>bp_15</th><th>bp_16</th><th>bp_17</th><th>bp_18</th><th>bp_19</th><th>bp_20</th><th>bp_21</th><th>bp_22</th><th>bp_23</th><th>bp_24</th><th>bp_25</th><th>bp_26</th><th>bp_27</th><th>bp_28</th><th>bp_29</th><th>bp_30</th><th>bp_31</th><th>bp_32</th><th>bp_33</th><th>bp_34</th><th>bp_35</th><th>bp_36</th><th>bp_37</th><th>bp_38</th><th>bp_39</th><th>bp_40</th><th>bp_41</th><th>bp_42</th><th>bp_43</th><th>bp_44</th><th>bp_45</th><th>bp_46</th><th>bp_47</th><th>bp_48</th><th>bp_49</th><th>bp_50</th><th>bp_51</th><th>bp_52</th><th>bp_53</th><th>bp_54</th><th>bp_55</th><th>rp_1</th><th>rp_2</th><th>rp_3</th><th>rp_4</th><th>rp_5</th><th>rp_6</th><th>rp_7</th><th>rp_8</th><th>rp_9</th><th>rp_10</th><th>rp_11</th><th>rp_12</th><th>rp_13</th><th>rp_14</th><th>rp_15</th><th>rp_16</th><th>rp_17</th><th>rp_18</th><th>rp_19</th><th>rp_20</th><th>rp_21</th><th>rp_22</th><th>rp_23</th><th>rp_24</th><th>rp_25</th><th>rp_26</th><th>rp_27</th><th>rp_28</th><th>rp_29</th><th>rp_30</th><th>rp_31</th><th>rp_32</th><th>rp_33</th><th>rp_34</th><th>rp_35</th><th>rp_36</th><th>rp_37</th><th>rp_38</th><th>rp_39</th><th>rp_40</th><th>rp_41</th><th>rp_42</th><th>rp_43</th><th>rp_44</th><th>rp_45</th><th>rp_46</th><th>rp_47</th><th>rp_48</th><th>rp_49</th><th>rp_50</th><th>rp_51</th><th>rp_52</th><th>rp_53</th><th>rp_54</th><th>rp_55</th><th>bpe_1</th><th>bpe_2</th><th>bpe_3</th><th>bpe_4</th><th>bpe_5</th><th>bpe_6</th><th>bpe_7</th><th>bpe_8</th><th>bpe_9</th><th>bpe_10</th><th>bpe_11</th><th>bpe_12</th><th>bpe_13</th><th>bpe_14</th><th>bpe_15</th><th>bpe_16</th><th>bpe_17</th><th>bpe_18</th><th>bpe_19</th><th>bpe_20</th><th>bpe_21</th><th>bpe_22</th><th>bpe_23</th><th>bpe_24</th><th>bpe_25</th><th>bpe_26</th><th>bpe_27</th><th>bpe_28</th><th>bpe_29</th><th>bpe_30</th><th>bpe_31</th><th>bpe_32</th><th>bpe_33</th><th>bpe_34</th><th>bpe_35</th><th>bpe_36</th><th>bpe_37</th><th>bpe_38</th><th>bpe_39</th><th>bpe_40</th><th>bpe_41</th><th>bpe_42</th><th>bpe_43</th><th>bpe_44</th><th>bpe_45</th><th>bpe_46</th><th>bpe_47</th><th>bpe_48</th><th>bpe_49</th><th>bpe_50</th><th>bpe_51</th><th>bpe_52</th><th>bpe_53</th><th>bpe_54</th><th>bpe_55</th><th>rpe_1</th><th>rpe_2</th><th>rpe_3</th><th>rpe_4</th><th>rpe_5</th><th>rpe_6</th><th>rpe_7</th><th>rpe_8</th><th>rpe_9</th><th>rpe_10</th><th>rpe_11</th><th>rpe_12</th><th>rpe_13</th><th>rpe_14</th><th>rpe_15</th><th>rpe_16</th><th>rpe_17</th><th>rpe_18</th><th>rpe_19</th><th>rpe_20</th><th>rpe_21</th><th>rpe_22</th><th>rpe_23</th><th>rpe_24</th><th>rpe_25</th><th>rpe_26</th><th>rpe_27</th><th>rpe_28</th><th>rpe_29</th><th>rpe_30</th><th>rpe_31</th><th>rpe_32</th><th>rpe_33</th><th>rpe_34</th><th>rpe_35</th><th>rpe_36</th><th>rpe_37</th><th>rpe_38</th><th>rpe_39</th><th>rpe_40</th><th>rpe_41</th><th>rpe_42</th><th>rpe_43</th><th>rpe_44</th><th>rpe_45</th><th>rpe_46</th><th>rpe_47</th><th>rpe_48</th><th>rpe_49</th><th>rpe_50</th><th>rpe_51</th><th>rpe_52</th><th>rpe_53</th><th>rpe_54</th><th>rpe_55</th></tr></thead>\n",
       "<thead><tr><th>float32</th><th>float32</th><th>float32</th><th>int64</th><th>float32</th><th>float32</th><th>float64</th><th>float64</th><th>float64</th><th>float64</th><th>float64</th><th>float64</th><th>float64</th><th>float64</th><th>float64</th><th>float64</th><th>float64</th><th>float64</th><th>float64</th><th>float64</th><th>float64</th><th>float64</th><th>float64</th><th>float64</th><th>float64</th><th>float64</th><th>float64</th><th>float64</th><th>float64</th><th>float64</th><th>float64</th><th>float64</th><th>float64</th><th>float64</th><th>float64</th><th>float64</th><th>float64</th><th>float64</th><th>float64</th><th>float64</th><th>float64</th><th>float64</th><th>float64</th><th>float64</th><th>float64</th><th>float64</th><th>float64</th><th>float64</th><th>float64</th><th>float64</th><th>float64</th><th>float64</th><th>float64</th><th>float64</th><th>float64</th><th>float64</th><th>float64</th><th>float64</th><th>float64</th><th>float64</th><th>float64</th><th>float64</th><th>float64</th><th>float64</th><th>float64</th><th>float64</th><th>float64</th><th>float64</th><th>float64</th><th>float64</th><th>float64</th><th>float64</th><th>float64</th><th>float64</th><th>float64</th><th>float64</th><th>float64</th><th>float64</th><th>float64</th><th>float64</th><th>float64</th><th>float64</th><th>float64</th><th>float64</th><th>float64</th><th>float64</th><th>float64</th><th>float64</th><th>float64</th><th>float64</th><th>float64</th><th>float64</th><th>float64</th><th>float64</th><th>float64</th><th>float64</th><th>float64</th><th>float64</th><th>float64</th><th>float64</th><th>float64</th><th>float64</th><th>float64</th><th>float64</th><th>float64</th><th>float64</th><th>float64</th><th>float64</th><th>float64</th><th>float64</th><th>float64</th><th>float64</th><th>float64</th><th>float64</th><th>float64</th><th>float64</th><th>float64</th><th>float64</th><th>float32</th><th>float32</th><th>float32</th><th>float32</th><th>float32</th><th>float32</th><th>float32</th><th>float32</th><th>float32</th><th>float32</th><th>float32</th><th>float32</th><th>float32</th><th>float32</th><th>float32</th><th>float32</th><th>float32</th><th>float32</th><th>float32</th><th>float32</th><th>float32</th><th>float32</th><th>float32</th><th>float32</th><th>float32</th><th>float32</th><th>float32</th><th>float32</th><th>float32</th><th>float32</th><th>float32</th><th>float32</th><th>float32</th><th>float32</th><th>float32</th><th>float32</th><th>float32</th><th>float32</th><th>float32</th><th>float32</th><th>float32</th><th>float32</th><th>float32</th><th>float32</th><th>float32</th><th>float32</th><th>float32</th><th>float32</th><th>float32</th><th>float32</th><th>float32</th><th>float32</th><th>float32</th><th>float32</th><th>float32</th><th>float32</th><th>float32</th><th>float32</th><th>float32</th><th>float32</th><th>float32</th><th>float32</th><th>float32</th><th>float32</th><th>float32</th><th>float32</th><th>float32</th><th>float32</th><th>float32</th><th>float32</th><th>float32</th><th>float32</th><th>float32</th><th>float32</th><th>float32</th><th>float32</th><th>float32</th><th>float32</th><th>float32</th><th>float32</th><th>float32</th><th>float32</th><th>float32</th><th>float32</th><th>float32</th><th>float32</th><th>float32</th><th>float32</th><th>float32</th><th>float32</th><th>float32</th><th>float32</th><th>float32</th><th>float32</th><th>float32</th><th>float32</th><th>float32</th><th>float32</th><th>float32</th><th>float32</th><th>float32</th><th>float32</th><th>float32</th><th>float32</th><th>float32</th><th>float32</th><th>float32</th><th>float32</th><th>float32</th><th>float32</th></tr></thead>\n",
       "<tr><td>-0.364</td><td>0.069047</td><td>12.496257</td><td>6330331376789732224</td><td>5302.02</td><td>4.499</td><td>219.131024159976</td><td>-7.627747806774632</td><td>12029.731355170541</td><td>-1411.8248991274577</td><td>-219.18935203560088</td><td>129.3348848741412</td><td>-68.352525797212</td><td>-86.33485312462123</td><td>-56.4288840072494</td><td>37.54006039545181</td><td>-42.253209717230725</td><td>-5.6692959487722865</td><td>4.004988672031573</td><td>1.2507178330215867</td><td>-13.118147685652408</td><td>-5.85335558891185</td><td>2.9191199559863232</td><td>-5.965406814068504</td><td>5.177502148362913</td><td>-1.5113064835079113</td><td>-18.69389942111117</td><td>-4.379951794261879</td><td>-2.5716124742393425</td><td>30.66784215809901</td><td>2.876339656676244</td><td>6.454842594753531</td><td>-0.61580096904663</td><td>-1.7317637586582897</td><td>-2.588875180594774</td><td>-4.735372993232711</td><td>2.723404584233639</td><td>-1.1091093260693008</td><td>-3.7560568288042226</td><td>2.890264768375606</td><td>2.5824034496278974</td><td>-3.497321617526314</td><td>5.5899379857320515</td><td>-0.7089629513504392</td><td>-0.07182461890543924</td><td>-1.4329553488097782</td><td>-0.11445606168103394</td><td>-1.4060874340832676</td><td>-1.5372627056743757</td><td>0.8771477849850234</td><td>-1.7386455707367487</td><td>1.4631076869393875</td><td>-1.3289241778167353</td><td>-3.2746437067797762</td><td>0.41166111486170043</td><td>-1.0174916596287713</td><td>-3.738424779524977</td><td>-0.6897691817834506</td><td>-1.4106974343514804</td><td>-0.7303907037970297</td><td>1.3068588431755979</td><td>0.07869833910051038</td><td>-0.15829669194157261</td><td>13046.33144200603</td><td>-1641.1659606254582</td><td>-72.79720741636</td><td>-2.677841493543232</td><td>10.055829317762027</td><td>-20.143786078792143</td><td>-31.05569621899466</td><td>13.881915332812644</td><td>-12.743859650291846</td><td>-0.3267925620378819</td><td>-3.2582235331732914</td><td>2.558959605270238</td><td>1.5825889322962132</td><td>-0.024073284983923415</td><td>-7.55396995370354</td><td>-4.283636898855539</td><td>-3.767099542506233</td><td>-4.618424796668488</td><td>-0.3826847544621197</td><td>-1.577114815999789</td><td>2.8324680315599533</td><td>2.280628581999916</td><td>-0.35541051268050916</td><td>-0.5694349607244443</td><td>1.8658913680483216</td><td>1.6444537186539219</td><td>-5.809488718174509</td><td>-11.631083641392221</td><td>3.0483466373117345</td><td>5.633366560349695</td><td>4.401141964353226</td><td>2.559657930312138</td><td>0.6903658363187258</td><td>-3.0978335446019725</td><td>5.73198818206075</td><td>-2.0008666025375224</td><td>0.24658860854685627</td><td>-1.56444414310446</td><td>1.6276078835139491</td><td>4.030101009558468</td><td>2.1875656947864535</td><td>-0.4969029627920216</td><td>-0.13145825283683998</td><td>2.9290008561937504</td><td>-0.35118917456595844</td><td>0.042714171153479086</td><td>-0.4795971956055125</td><td>-0.004754122776750691</td><td>-0.46306889946790375</td><td>-0.03703781209828816</td><td>1.1114843293653611</td><td>-0.16758544290762978</td><td>0.6724553206073789</td><td>-0.05763679337001859</td><td>-0.25894251533294477</td><td>8.561699</td><td>7.358293</td><td>7.6541004</td><td>7.633931</td><td>7.9895453</td><td>6.338178</td><td>6.002439</td><td>11.029905</td><td>6.072579</td><td>6.942428</td><td>7.5021367</td><td>6.873598</td><td>7.094597</td><td>5.0050745</td><td>5.3846564</td><td>6.5940742</td><td>6.068771</td><td>5.204529</td><td>5.515418</td><td>3.6735656</td><td>6.363709</td><td>4.426275</td><td>5.4215794</td><td>4.7866</td><td>5.1068697</td><td>4.6616454</td><td>3.692223</td><td>2.315076</td><td>3.8289065</td><td>2.5999148</td><td>2.931904</td><td>2.8181386</td><td>1.950434</td><td>2.7553375</td><td>1.9909607</td><td>2.217723</td><td>1.9788728</td><td>1.9711441</td><td>2.0606232</td><td>2.1406999</td><td>1.7199641</td><td>2.1398177</td><td>2.668717</td><td>1.6198235</td><td>2.0461445</td><td>2.6404948</td><td>2.8194392</td><td>1.577793</td><td>1.5943475</td><td>1.3191528</td><td>1.2595327</td><td>0.65944815</td><td>0.93880457</td><td>0.46021208</td><td>0.18836597</td><td>4.0155005</td><td>3.766243</td><td>3.701974</td><td>4.0720973</td><td>3.7484212</td><td>3.9839602</td><td>3.883636</td><td>3.6255498</td><td>3.544636</td><td>3.8870735</td><td>3.2846787</td><td>3.8213787</td><td>2.6216357</td><td>3.7501376</td><td>3.6374953</td><td>3.8894465</td><td>3.6576526</td><td>3.3956966</td><td>3.4787664</td><td>3.791071</td><td>2.994246</td><td>3.632406</td><td>3.2658532</td><td>3.1895466</td><td>3.5184424</td><td>3.3933523</td><td>3.4710796</td><td>3.163262</td><td>2.8702621</td><td>2.6644864</td><td>2.8838375</td><td>2.3235414</td><td>2.7359493</td><td>2.2942936</td><td>2.2069607</td><td>2.0608687</td><td>1.9893657</td><td>1.8448502</td><td>1.6733536</td><td>1.4514717</td><td>1.3412256</td><td>1.424264</td><td>1.6948938</td><td>1.3802388</td><td>1.3380924</td><td>1.3827865</td><td>1.1668892</td><td>1.0986447</td><td>1.2063049</td><td>1.1319106</td><td>0.95395327</td><td>0.8091774</td><td>0.7472917</td><td>0.31202096</td><td>0.15312435</td></tr>\n",
       "<tr><td>-0.011</td><td>0.069432</td><td>12.701829</td><td>6330335530022502784</td><td>6069.33</td><td>4.207</td><td>219.0966001120319</td><td>-7.565927097484413</td><td>10450.981910560535</td><td>-1930.3344105529313</td><td>35.615812818200475</td><td>52.69218574703245</td><td>-62.87298551956982</td><td>-19.852564120676377</td><td>-28.187943536664285</td><td>21.847374723681234</td><td>-17.019447673512392</td><td>8.721890502290824</td><td>6.2665831801422405</td><td>9.635065798618005</td><td>8.251927581655977</td><td>-3.2108990470866963</td><td>0.8044745243967977</td><td>-0.9209852324015669</td><td>6.246545953406075</td><td>-1.917701623417716</td><td>2.1844547136362635</td><td>-12.634269744319026</td><td>-4.075712710813704</td><td>8.456264680259682</td><td>9.760010216805421</td><td>1.5959934754073979</td><td>4.061371526016699</td><td>0.9573741379844802</td><td>-0.6469127390911892</td><td>2.8862223856838938</td><td>-3.181575704343859</td><td>1.6490460456530285</td><td>1.701258841142636</td><td>1.7298380979490657</td><td>-2.768455832477895</td><td>-3.4989954072216585</td><td>1.2041100360184671</td><td>4.02940177850777</td><td>-2.976214229960119</td><td>1.2931910873327723</td><td>-2.3860109425045555</td><td>-1.5157774168240885</td><td>2.0344535409510476</td><td>-1.8529780069908357</td><td>-1.7151643668441203</td><td>1.3810026711899195</td><td>-1.151165570409796</td><td>-0.20736687076038207</td><td>1.6770265070899069</td><td>-1.7181508147575446</td><td>-0.5781798442961438</td><td>-0.20050667296175392</td><td>-0.2783862389047136</td><td>-0.34242243786058657</td><td>1.0000986341497642</td><td>0.13993507828398682</td><td>-0.3752983926383662</td><td>9752.04893944838</td><td>-1551.7652900258624</td><td>-112.796791292405</td><td>-48.47676802655127</td><td>0.9451947898401423</td><td>1.8597990316997817</td><td>-21.87189424262403</td><td>-4.527711885014163</td><td>-10.902243439742335</td><td>-1.4595328861673846</td><td>7.382360766125392</td><td>1.3011996091072986</td><td>-1.8510208958874894</td><td>1.9654346332252493</td><td>-6.066745024190991</td><td>-3.935317431344419</td><td>-0.5009986255532003</td><td>3.5787569856699264</td><td>-0.9511405520364407</td><td>-0.9789355691436454</td><td>-1.0947417711533278</td><td>-0.4792429176340852</td><td>-1.1984403390121703</td><td>1.7491379838799168</td><td>-0.18763620039982143</td><td>-3.907016148195573</td><td>1.3100022783810066</td><td>1.3540556254385032</td><td>-2.8978221213551847</td><td>-2.5031154165401652</td><td>-4.048710745442849</td><td>1.5433298224994128</td><td>0.9900319371514414</td><td>-3.3453990080322416</td><td>1.8936067263130858</td><td>1.269586483125818</td><td>0.02855274952169795</td><td>0.6667782707861785</td><td>-0.797214142170213</td><td>-0.08826701649148458</td><td>-0.5365249641330267</td><td>1.361111312173033</td><td>0.4001007791042277</td><td>-0.4611911634788381</td><td>1.5020961761438931</td><td>-2.0104611607766154</td><td>0.2945297332682139</td><td>1.0826764480460125</td><td>0.33211170930496037</td><td>0.3157423658021551</td><td>-0.17322992114060298</td><td>0.5461690846164245</td><td>-0.04220868040844483</td><td>-0.016457442842696235</td><td>-0.244732106145499</td><td>8.447972</td><td>7.0834284</td><td>7.5440526</td><td>7.565726</td><td>7.7916765</td><td>6.104835</td><td>5.758369</td><td>11.053668</td><td>6.1651845</td><td>6.7502637</td><td>7.416419</td><td>7.052223</td><td>7.148545</td><td>5.0879917</td><td>5.8355975</td><td>6.441967</td><td>5.923933</td><td>4.9942284</td><td>5.475122</td><td>3.8486683</td><td>6.1385727</td><td>4.6468277</td><td>5.2434373</td><td>4.791053</td><td>4.9283032</td><td>4.572143</td><td>3.7644968</td><td>2.4040082</td><td>3.7863429</td><td>2.517023</td><td>3.019513</td><td>3.1905012</td><td>2.1015317</td><td>2.8211997</td><td>1.970466</td><td>2.2226217</td><td>2.0188181</td><td>2.0939827</td><td>2.0704157</td><td>2.290988</td><td>1.7165297</td><td>2.1951559</td><td>2.8740735</td><td>1.5214671</td><td>2.0076058</td><td>3.427612</td><td>3.3711236</td><td>1.927568</td><td>2.3196056</td><td>1.7015835</td><td>1.268457</td><td>0.58226115</td><td>1.1152003</td><td>0.40442988</td><td>0.17098732</td><td>4.228244</td><td>3.7142632</td><td>3.6580877</td><td>4.2376585</td><td>3.7133286</td><td>3.9989412</td><td>4.0074525</td><td>3.5329695</td><td>3.5416896</td><td>3.9283783</td><td>3.2082567</td><td>3.8726315</td><td>2.442821</td><td>3.7463374</td><td>3.507902</td><td>3.990694</td><td>3.488716</td><td>3.0971622</td><td>3.0333781</td><td>3.788047</td><td>2.586261</td><td>3.617715</td><td>3.1034687</td><td>3.0581264</td><td>3.4357011</td><td>3.2590563</td><td>3.2022147</td><td>2.865373</td><td>2.4829512</td><td>2.3784854</td><td>2.5526812</td><td>2.00205</td><td>2.446931</td><td>1.9701358</td><td>1.8695737</td><td>1.7675664</td><td>1.6795605</td><td>1.5981243</td><td>1.392807</td><td>1.2006375</td><td>1.0248477</td><td>1.1394763</td><td>1.3978342</td><td>1.0637425</td><td>1.0956715</td><td>1.1603894</td><td>0.917158</td><td>1.0857401</td><td>0.85240316</td><td>0.9193995</td><td>0.9409097</td><td>0.6815596</td><td>0.5583514</td><td>0.24447003</td><td>0.13148484</td></tr>\n",
       "</table></div>"
      ],
      "text/plain": [
       "<Table length=2>\n",
       "  feh     ebv    phot_g_mean_mag ...   rpe_53    rpe_54     rpe_55  \n",
       "float32 float32      float32     ...  float32   float32    float32  \n",
       "------- -------- --------------- ... --------- ---------- ----------\n",
       " -0.364 0.069047       12.496257 ... 0.7472917 0.31202096 0.15312435\n",
       " -0.011 0.069432       12.701829 ... 0.5583514 0.24447003 0.13148484"
      ]
     },
     "execution_count": 20,
     "metadata": {},
     "output_type": "execute_result"
    }
   ],
   "source": [
    "dataset[:2]"
   ]
  },
  {
   "cell_type": "code",
   "execution_count": null,
   "id": "267bd1bc-83f5-494d-8970-8e83d5feeec6",
   "metadata": {},
   "outputs": [],
   "source": [
    "dataloader = DataLoader(dataset, batch_size=10, shuffle=True)"
   ]
  },
  {
   "cell_type": "code",
   "execution_count": null,
   "id": "6a0d24f4-3483-4101-bebd-48929145c6fc",
   "metadata": {},
   "outputs": [],
   "source": [
    "dataloader"
   ]
  },
  {
   "cell_type": "code",
   "execution_count": null,
   "id": "dacc973f-33b2-4118-9e73-4c9e63b1059f",
   "metadata": {},
   "outputs": [],
   "source": []
  }
 ],
 "metadata": {
  "kernelspec": {
   "display_name": "Python 3 (ipykernel)",
   "language": "python",
   "name": "python3"
  },
  "language_info": {
   "codemirror_mode": {
    "name": "ipython",
    "version": 3
   },
   "file_extension": ".py",
   "mimetype": "text/x-python",
   "name": "python",
   "nbconvert_exporter": "python",
   "pygments_lexer": "ipython3",
   "version": "3.9.13"
  }
 },
 "nbformat": 4,
 "nbformat_minor": 5
}
