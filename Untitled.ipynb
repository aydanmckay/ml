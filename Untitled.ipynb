{
 "cells": [
  {
   "cell_type": "code",
   "execution_count": 1,
   "id": "3a140740-f955-4884-8f0b-32bf839374e1",
   "metadata": {},
   "outputs": [],
   "source": [
    "import pandas as pd\n",
    "import numpy as np\n",
    "import matplotlib.pyplot as plt\n",
    "from astropy.table import Table"
   ]
  },
  {
   "cell_type": "code",
   "execution_count": 15,
   "id": "8015145c-ca80-4081-876b-529532b5811d",
   "metadata": {},
   "outputs": [],
   "source": [
    "df = pd.read_csv('/arc/home/aydanmckay/xmatch/Pristine_CaHK.lamost-dr8-gaiaedr3.csv',usecols=['ra_obs'])\n",
    "dfl = pd.read_csv('/arc/home/aydanmckay/xmatch/Pristine_CaHK.lamost-lrs-dr7v2.csv',usecols=['ra_obs'])\n",
    "dfm = pd.read_csv('/arc/home/aydanmckay/xmatch/Pristine_CaHK.lamost-mrs-dr7v2.csv',usecols=['ra_obs'])"
   ]
  },
  {
   "cell_type": "code",
   "execution_count": 16,
   "id": "eaf51fc5-4cc2-4f62-a592-11d2315faae8",
   "metadata": {},
   "outputs": [],
   "source": [
    "# for colname in df.columns:\n",
    "#     print(colname)\n",
    "# refer to fits version and asttable -i Pristine_CaHK.lamost-dr8-gaiaedr3.fits for the column names in cmd"
   ]
  },
  {
   "cell_type": "code",
   "execution_count": 17,
   "id": "41562d4e-e38e-40ed-adb8-8334120b1239",
   "metadata": {},
   "outputs": [
    {
     "data": {
      "text/html": [
       "<div>\n",
       "<style scoped>\n",
       "    .dataframe tbody tr th:only-of-type {\n",
       "        vertical-align: middle;\n",
       "    }\n",
       "\n",
       "    .dataframe tbody tr th {\n",
       "        vertical-align: top;\n",
       "    }\n",
       "\n",
       "    .dataframe thead th {\n",
       "        text-align: right;\n",
       "    }\n",
       "</style>\n",
       "<table border=\"1\" class=\"dataframe\">\n",
       "  <thead>\n",
       "    <tr style=\"text-align: right;\">\n",
       "      <th></th>\n",
       "      <th>ra_obs</th>\n",
       "    </tr>\n",
       "  </thead>\n",
       "  <tbody>\n",
       "    <tr>\n",
       "      <th>1</th>\n",
       "      <td>180.716654</td>\n",
       "    </tr>\n",
       "    <tr>\n",
       "      <th>5</th>\n",
       "      <td>180.790767</td>\n",
       "    </tr>\n",
       "    <tr>\n",
       "      <th>32</th>\n",
       "      <td>180.641527</td>\n",
       "    </tr>\n",
       "    <tr>\n",
       "      <th>34</th>\n",
       "      <td>180.595980</td>\n",
       "    </tr>\n",
       "    <tr>\n",
       "      <th>86</th>\n",
       "      <td>180.611162</td>\n",
       "    </tr>\n",
       "    <tr>\n",
       "      <th>...</th>\n",
       "      <td>...</td>\n",
       "    </tr>\n",
       "    <tr>\n",
       "      <th>36057762</th>\n",
       "      <td>189.436903</td>\n",
       "    </tr>\n",
       "    <tr>\n",
       "      <th>36059856</th>\n",
       "      <td>190.092603</td>\n",
       "    </tr>\n",
       "    <tr>\n",
       "      <th>36060998</th>\n",
       "      <td>190.235716</td>\n",
       "    </tr>\n",
       "    <tr>\n",
       "      <th>36061018</th>\n",
       "      <td>190.128502</td>\n",
       "    </tr>\n",
       "    <tr>\n",
       "      <th>36061066</th>\n",
       "      <td>190.249666</td>\n",
       "    </tr>\n",
       "  </tbody>\n",
       "</table>\n",
       "<p>1000653 rows × 1 columns</p>\n",
       "</div>"
      ],
      "text/plain": [
       "              ra_obs\n",
       "1         180.716654\n",
       "5         180.790767\n",
       "32        180.641527\n",
       "34        180.595980\n",
       "86        180.611162\n",
       "...              ...\n",
       "36057762  189.436903\n",
       "36059856  190.092603\n",
       "36060998  190.235716\n",
       "36061018  190.128502\n",
       "36061066  190.249666\n",
       "\n",
       "[1000653 rows x 1 columns]"
      ]
     },
     "execution_count": 17,
     "metadata": {},
     "output_type": "execute_result"
    }
   ],
   "source": [
    "df.dropna()"
   ]
  },
  {
   "cell_type": "code",
   "execution_count": 18,
   "id": "35085ee3-a88f-427b-9cb3-d69cb702dbc7",
   "metadata": {},
   "outputs": [
    {
     "data": {
      "text/html": [
       "<div>\n",
       "<style scoped>\n",
       "    .dataframe tbody tr th:only-of-type {\n",
       "        vertical-align: middle;\n",
       "    }\n",
       "\n",
       "    .dataframe tbody tr th {\n",
       "        vertical-align: top;\n",
       "    }\n",
       "\n",
       "    .dataframe thead th {\n",
       "        text-align: right;\n",
       "    }\n",
       "</style>\n",
       "<table border=\"1\" class=\"dataframe\">\n",
       "  <thead>\n",
       "    <tr style=\"text-align: right;\">\n",
       "      <th></th>\n",
       "      <th>ra_obs</th>\n",
       "    </tr>\n",
       "  </thead>\n",
       "  <tbody>\n",
       "    <tr>\n",
       "      <th>1</th>\n",
       "      <td>180.716654</td>\n",
       "    </tr>\n",
       "    <tr>\n",
       "      <th>9</th>\n",
       "      <td>180.784274</td>\n",
       "    </tr>\n",
       "    <tr>\n",
       "      <th>32</th>\n",
       "      <td>180.641527</td>\n",
       "    </tr>\n",
       "    <tr>\n",
       "      <th>33</th>\n",
       "      <td>180.678130</td>\n",
       "    </tr>\n",
       "    <tr>\n",
       "      <th>34</th>\n",
       "      <td>180.595991</td>\n",
       "    </tr>\n",
       "    <tr>\n",
       "      <th>...</th>\n",
       "      <td>...</td>\n",
       "    </tr>\n",
       "    <tr>\n",
       "      <th>36060994</th>\n",
       "      <td>190.124776</td>\n",
       "    </tr>\n",
       "    <tr>\n",
       "      <th>36060998</th>\n",
       "      <td>190.235716</td>\n",
       "    </tr>\n",
       "    <tr>\n",
       "      <th>36061018</th>\n",
       "      <td>190.128502</td>\n",
       "    </tr>\n",
       "    <tr>\n",
       "      <th>36061066</th>\n",
       "      <td>190.249666</td>\n",
       "    </tr>\n",
       "    <tr>\n",
       "      <th>36061554</th>\n",
       "      <td>190.208947</td>\n",
       "    </tr>\n",
       "  </tbody>\n",
       "</table>\n",
       "<p>1488954 rows × 1 columns</p>\n",
       "</div>"
      ],
      "text/plain": [
       "              ra_obs\n",
       "1         180.716654\n",
       "9         180.784274\n",
       "32        180.641527\n",
       "33        180.678130\n",
       "34        180.595991\n",
       "...              ...\n",
       "36060994  190.124776\n",
       "36060998  190.235716\n",
       "36061018  190.128502\n",
       "36061066  190.249666\n",
       "36061554  190.208947\n",
       "\n",
       "[1488954 rows x 1 columns]"
      ]
     },
     "execution_count": 18,
     "metadata": {},
     "output_type": "execute_result"
    }
   ],
   "source": [
    "dfl.dropna()"
   ]
  },
  {
   "cell_type": "code",
   "execution_count": 19,
   "id": "d596e6cf-f1e6-4fed-8f8b-fc72d593c8b7",
   "metadata": {},
   "outputs": [
    {
     "data": {
      "text/html": [
       "<div>\n",
       "<style scoped>\n",
       "    .dataframe tbody tr th:only-of-type {\n",
       "        vertical-align: middle;\n",
       "    }\n",
       "\n",
       "    .dataframe tbody tr th {\n",
       "        vertical-align: top;\n",
       "    }\n",
       "\n",
       "    .dataframe thead th {\n",
       "        text-align: right;\n",
       "    }\n",
       "</style>\n",
       "<table border=\"1\" class=\"dataframe\">\n",
       "  <thead>\n",
       "    <tr style=\"text-align: right;\">\n",
       "      <th></th>\n",
       "      <th>ra_obs</th>\n",
       "    </tr>\n",
       "  </thead>\n",
       "  <tbody>\n",
       "    <tr>\n",
       "      <th>15925</th>\n",
       "      <td>182.58833</td>\n",
       "    </tr>\n",
       "    <tr>\n",
       "      <th>15926</th>\n",
       "      <td>182.60881</td>\n",
       "    </tr>\n",
       "    <tr>\n",
       "      <th>15927</th>\n",
       "      <td>182.68752</td>\n",
       "    </tr>\n",
       "    <tr>\n",
       "      <th>16360</th>\n",
       "      <td>182.49598</td>\n",
       "    </tr>\n",
       "    <tr>\n",
       "      <th>16361</th>\n",
       "      <td>182.56129</td>\n",
       "    </tr>\n",
       "    <tr>\n",
       "      <th>...</th>\n",
       "      <td>...</td>\n",
       "    </tr>\n",
       "    <tr>\n",
       "      <th>36253016</th>\n",
       "      <td>202.56083</td>\n",
       "    </tr>\n",
       "    <tr>\n",
       "      <th>36253055</th>\n",
       "      <td>202.34834</td>\n",
       "    </tr>\n",
       "    <tr>\n",
       "      <th>36253059</th>\n",
       "      <td>202.22745</td>\n",
       "    </tr>\n",
       "    <tr>\n",
       "      <th>36253062</th>\n",
       "      <td>202.20578</td>\n",
       "    </tr>\n",
       "    <tr>\n",
       "      <th>36264934</th>\n",
       "      <td>254.24937</td>\n",
       "    </tr>\n",
       "  </tbody>\n",
       "</table>\n",
       "<p>129765 rows × 1 columns</p>\n",
       "</div>"
      ],
      "text/plain": [
       "             ra_obs\n",
       "15925     182.58833\n",
       "15926     182.60881\n",
       "15927     182.68752\n",
       "16360     182.49598\n",
       "16361     182.56129\n",
       "...             ...\n",
       "36253016  202.56083\n",
       "36253055  202.34834\n",
       "36253059  202.22745\n",
       "36253062  202.20578\n",
       "36264934  254.24937\n",
       "\n",
       "[129765 rows x 1 columns]"
      ]
     },
     "execution_count": 19,
     "metadata": {},
     "output_type": "execute_result"
    }
   ],
   "source": [
    "dfm.dropna()"
   ]
  },
  {
   "cell_type": "code",
   "execution_count": 9,
   "id": "b1ab4910-f32a-4f6b-9f38-2b2a0fda83ac",
   "metadata": {},
   "outputs": [],
   "source": [
    "# df.obsid.value_counts()"
   ]
  },
  {
   "cell_type": "code",
   "execution_count": 10,
   "id": "618fc85c-e81f-4977-bd96-ac9bcd56df86",
   "metadata": {},
   "outputs": [],
   "source": [
    "# df.GAIAID.value_counts()"
   ]
  },
  {
   "cell_type": "code",
   "execution_count": 7,
   "id": "a45f5fc6-19f0-4453-bab1-ea0ac14cc253",
   "metadata": {},
   "outputs": [
    {
     "data": {
      "text/plain": [
       "1.0    875025\n",
       "0.0    125628\n",
       "Name: uqflag, dtype: int64"
      ]
     },
     "execution_count": 7,
     "metadata": {},
     "output_type": "execute_result"
    }
   ],
   "source": [
    "df.uqflag.value_counts()"
   ]
  },
  {
   "cell_type": "code",
   "execution_count": 11,
   "id": "a9b90a95-8e10-4ffe-b00d-a8111aad49f4",
   "metadata": {},
   "outputs": [],
   "source": [
    "# df.source_id.value_counts()"
   ]
  },
  {
   "cell_type": "markdown",
   "id": "85db0627-9e72-488e-9225-8a60f9c7991f",
   "metadata": {},
   "source": [
    "Okay I think I'll take the gaia xmatched one because I think thats the lamost xmatch thats going to be solely stars."
   ]
  },
  {
   "cell_type": "markdown",
   "id": "07cacece-b1e7-4af4-85be-27902aecbc1d",
   "metadata": {},
   "source": [
    "Now checking to see if I can just import the data to remove the rows without spec"
   ]
  },
  {
   "cell_type": "code",
   "execution_count": 2,
   "id": "f8701f43-e425-47dc-aab4-368491bce957",
   "metadata": {},
   "outputs": [],
   "source": [
    "df = Table.read('/arc/home/aydanmckay/xmatch/Pristine_CaHK.lamost-dr8-gaiaedr3.fits')"
   ]
  },
  {
   "cell_type": "code",
   "execution_count": null,
   "id": "45d30e33-b7e6-4b5a-ae3a-34ca64f34b05",
   "metadata": {},
   "outputs": [],
   "source": []
  }
 ],
 "metadata": {
  "kernelspec": {
   "display_name": "Python 3 (ipykernel)",
   "language": "python",
   "name": "python3"
  },
  "language_info": {
   "codemirror_mode": {
    "name": "ipython",
    "version": 3
   },
   "file_extension": ".py",
   "mimetype": "text/x-python",
   "name": "python",
   "nbconvert_exporter": "python",
   "pygments_lexer": "ipython3",
   "version": "3.9.12"
  }
 },
 "nbformat": 4,
 "nbformat_minor": 5
}
