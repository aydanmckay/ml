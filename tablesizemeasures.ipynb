{
 "cells": [
  {
   "cell_type": "markdown",
   "id": "7668f424-96a6-419d-a714-76e09c7205f5",
   "metadata": {},
   "source": [
    "## Seeing which Catalogues are reducing the number of entries the most."
   ]
  },
  {
   "cell_type": "markdown",
   "id": "44aafd88-567a-4710-9f25-454e32620190",
   "metadata": {},
   "source": [
    "Importing packages"
   ]
  },
  {
   "cell_type": "code",
   "execution_count": 1,
   "id": "2c55a06c-df56-433b-9126-21b9c783b4e6",
   "metadata": {},
   "outputs": [],
   "source": [
    "import numpy as np\n",
    "from astropy.table import Table"
   ]
  },
  {
   "cell_type": "markdown",
   "id": "6b473ddf-8278-4efe-983c-5e4ee8c307b6",
   "metadata": {},
   "source": [
    "Importing xmatched catalogues. These are Pristine X LAMOSTXGAIA X the catalogue in the title."
   ]
  },
  {
   "cell_type": "code",
   "execution_count": 2,
   "id": "5ea4cf92-7c2e-43ba-a4de-cce5bcc90b05",
   "metadata": {},
   "outputs": [],
   "source": [
    "mass = Table.read('/arc/home/aydanmckay/tables/inter-lamost-gaia-pristine_2mass.fits')\n",
    "wise = Table.read('/arc/home/aydanmckay/tables/inter-lamost-gaia-pristine_catwise_2020.fits')\n",
    "galx = Table.read('/arc/home/aydanmckay/tables/inter-lamost-gaia-pristine_galex_gr67.fits')\n",
    "desi = Table.read('/arc/home/aydanmckay/tables/inter-lamost-gaia-pristine_legacysurvey_dr9.fits')\n",
    "pan1 = Table.read('/arc/home/aydanmckay/tables/inter-lamost-gaia-pristine_panstarrs_dr1.fits')\n",
    "sdss = Table.read('/arc/home/aydanmckay/tables/inter-lamost-gaia-pristine_sdss_photobj_dr17.fits')\n",
    "cfis = Table.read('/arc/home/aydanmckay/tables/inter-lamost-gaia-pristine_unions_cfis_dr3.fits')\n",
    "pan3 = Table.read('/arc/home/aydanmckay/tables/inter-lamost-gaia-pristine_unions_panstarrs_dr3.fits')"
   ]
  },
  {
   "cell_type": "markdown",
   "id": "3993e59b-fb61-4ef1-9df7-1ccdcfd82191",
   "metadata": {},
   "source": [
    "Checking to see the total length of the of the tables are the same, then seeing how many sources are left after the xmatch."
   ]
  },
  {
   "cell_type": "code",
   "execution_count": 3,
   "id": "7c1dbdcd-a520-4407-bfa2-7c3cef6770e0",
   "metadata": {},
   "outputs": [
    {
     "name": "stdout",
     "output_type": "stream",
     "text": [
      "Total length of table: 1000653\n",
      "Total length of intersection of 2MASS table: 968590\n"
     ]
    }
   ],
   "source": [
    "print('Total length of table:',len(mass['Jmag']))\n",
    "print('Total length of intersection of 2MASS table:',len(mass['Jmag'][mass['Jmag'].mask == False]))"
   ]
  },
  {
   "cell_type": "code",
   "execution_count": 4,
   "id": "0866f721-a920-4cda-946d-f0b34e5284b0",
   "metadata": {},
   "outputs": [
    {
     "name": "stdout",
     "output_type": "stream",
     "text": [
      "Total length of table: 1000653\n",
      "Total length of intersection of CatWISE table: 984362\n"
     ]
    }
   ],
   "source": [
    "print('Total length of table:',len(wise['W1mproPM']))\n",
    "print('Total length of intersection of CatWISE table:',len(wise['W1mproPM'][wise['W1mproPM'].mask == False]))"
   ]
  },
  {
   "cell_type": "code",
   "execution_count": 5,
   "id": "064d5f93-d98c-4134-8e66-af49d50ab38e",
   "metadata": {},
   "outputs": [
    {
     "name": "stdout",
     "output_type": "stream",
     "text": [
      "Total length of table: 1000653\n",
      "Total length of intersection of GALEX table: 23984\n"
     ]
    }
   ],
   "source": [
    "print('Total length of table:',len(galx['FUVmag']))\n",
    "print('Total length of intersection of GALEX table:',len(galx['FUVmag'][galx['FUVmag'].mask == False]))"
   ]
  },
  {
   "cell_type": "code",
   "execution_count": 6,
   "id": "72e6e7ca-3f17-4191-ab7c-77fed89e386b",
   "metadata": {},
   "outputs": [
    {
     "name": "stdout",
     "output_type": "stream",
     "text": [
      "Total length of table: 1000653\n",
      "Total length of intersection of Legacy table: 872814\n"
     ]
    }
   ],
   "source": [
    "print('Total length of table:',len(desi['FLUX_G']))\n",
    "print('Total length of intersection of Legacy table:',len(desi['FLUX_G'][desi['FLUX_G'].mask == False]))"
   ]
  },
  {
   "cell_type": "code",
   "execution_count": 7,
   "id": "e0a23bdb-3533-45fd-a2f6-497719d5eb37",
   "metadata": {},
   "outputs": [
    {
     "name": "stdout",
     "output_type": "stream",
     "text": [
      "Total length of table: 1000653\n",
      "Total length of intersection of Pan-STARRS dr1 table: 994066\n"
     ]
    }
   ],
   "source": [
    "print('Total length of table:',len(pan1['gmag']))\n",
    "print('Total length of intersection of Pan-STARRS dr1 table:',len(pan1['gmag'][pan1['gmag'].mask == False]))"
   ]
  },
  {
   "cell_type": "code",
   "execution_count": 8,
   "id": "f03b170d-0497-487e-ad0c-ad7401cbd6b6",
   "metadata": {},
   "outputs": [
    {
     "name": "stdout",
     "output_type": "stream",
     "text": [
      "Total length of table: 1000653\n",
      "Total length of intersection of SDSS PhotObjs dr17 table: 945799\n"
     ]
    }
   ],
   "source": [
    "print('Total length of table:',len(sdss['gmag']))\n",
    "print('Total length of intersection of SDSS PhotObjs dr17 table:',len(sdss['gmag'][sdss['gmag'].mask == False]))"
   ]
  },
  {
   "cell_type": "code",
   "execution_count": 9,
   "id": "cb007729-de2a-4b73-a456-39fef576f9a7",
   "metadata": {},
   "outputs": [
    {
     "name": "stdout",
     "output_type": "stream",
     "text": [
      "Total length of table: 1000653\n",
      "Total length of intersection of CFIS/UNIONS table: 606540\n"
     ]
    }
   ],
   "source": [
    "print('Total length of table:',len(cfis['u_cfht']))\n",
    "print('Total length of intersection of CFIS/UNIONS table:',len(cfis['u_cfht'][cfis['u_cfht'].mask == False]))"
   ]
  },
  {
   "cell_type": "code",
   "execution_count": 10,
   "id": "a3df17e5-7b67-4fc2-9de2-ea8fef669665",
   "metadata": {},
   "outputs": [
    {
     "name": "stdout",
     "output_type": "stream",
     "text": [
      "Total length of table: 1000653\n",
      "Total length of intersection of Pan-STARRS dr3 table: 24608\n"
     ]
    }
   ],
   "source": [
    "print('Total length of table:',len(pan3['i_ps']))\n",
    "print('Total length of intersection of Pan-STARRS dr3 table:',len(pan3['i_ps'][pan3['i_ps'].mask == False]))"
   ]
  },
  {
   "cell_type": "markdown",
   "id": "4527fad9-cd66-46bd-bbd8-9132e369f31a",
   "metadata": {},
   "source": [
    "Seems as though 2MASS, CatWISE, SDSS, Pan-STARRS dr1 are completely fine. \\\n",
    "CFIS and Legacy are alright, but still remove many sources. \\\n",
    "GALEX and Pan-STARRS dr3 are the biggest contributers to why the final catalogue is so small."
   ]
  },
  {
   "cell_type": "code",
   "execution_count": null,
   "id": "244d845f-4e15-4962-933a-1cdc0472450d",
   "metadata": {},
   "outputs": [],
   "source": []
  }
 ],
 "metadata": {
  "kernelspec": {
   "display_name": "Python 3 (ipykernel)",
   "language": "python",
   "name": "python3"
  },
  "language_info": {
   "codemirror_mode": {
    "name": "ipython",
    "version": 3
   },
   "file_extension": ".py",
   "mimetype": "text/x-python",
   "name": "python",
   "nbconvert_exporter": "python",
   "pygments_lexer": "ipython3",
   "version": "3.9.12"
  }
 },
 "nbformat": 4,
 "nbformat_minor": 5
}
