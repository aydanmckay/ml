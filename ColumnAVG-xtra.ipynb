{
 "cells": [
  {
   "cell_type": "code",
   "execution_count": 1,
   "id": "54ade68e-c082-4da7-91a6-d3c566f1609f",
   "metadata": {},
   "outputs": [],
   "source": [
    "from astropy.table import Table, Column\n",
    "import pandas as pd\n",
    "import numpy as np"
   ]
  },
  {
   "cell_type": "code",
   "execution_count": 2,
   "id": "b9e2a186-3fca-4e93-939c-9359b977de09",
   "metadata": {},
   "outputs": [],
   "source": [
    "data = Table.read('/arc/home/aydanmckay/intermediarytables/spec-paramp.fits')"
   ]
  },
  {
   "cell_type": "code",
   "execution_count": 3,
   "id": "b4ccc3b3-ed62-4c4e-9cf4-0b30eddf6e41",
   "metadata": {},
   "outputs": [],
   "source": [
    "# data.columns"
   ]
  },
  {
   "cell_type": "code",
   "execution_count": 4,
   "id": "83315e86-1cb9-4dea-8864-54387ef3bac1",
   "metadata": {},
   "outputs": [
    {
     "name": "stderr",
     "output_type": "stream",
     "text": [
      "/tmp/ipykernel_175673/1233125614.py:1: RuntimeWarning: Mean of empty slice\n",
      "  teffs = np.nanmean([data['RV_TEFF'],data['TEFF_in_apo'],data['TEFF_SPEC_apoeso'],data['TEFF_in_eso'],data['teff_cal_madera'],\n"
     ]
    }
   ],
   "source": [
    "teffs = np.nanmean([data['RV_TEFF'],data['TEFF_in_apo'],data['TEFF_SPEC_apoeso'],data['TEFF_in_eso'],data['teff_cal_madera'],\n",
    "                    data['TEFF_SPEC_ravseg'],data['teff_in'],data['TEFF_PASTEL'],data['teff_rvs_apo'],data['teff_rvs_eso'],\n",
    "                   data['teff_rvs_rav'],data['teff_rvs_seg'],data['teff_rvs_gal'],data['teff_rvs_leg'],data['teff_rvs']],axis=0)"
   ]
  },
  {
   "cell_type": "code",
   "execution_count": 5,
   "id": "7d460569-0b1d-4bb4-8fe5-feaba18d96a8",
   "metadata": {},
   "outputs": [
    {
     "name": "stderr",
     "output_type": "stream",
     "text": [
      "/tmp/ipykernel_175673/392207906.py:1: RuntimeWarning: Mean of empty slice\n",
      "  fehs = np.nanmean([data['RV_FEH'],data['FE_H_aers'],data['FE_H_SPEC'],data['FEH'],data['m_h_cal_madera'],\n"
     ]
    }
   ],
   "source": [
    "fehs = np.nanmean([data['RV_FEH'],data['FE_H_aers'],data['FE_H_SPEC'],data['FEH'],data['m_h_cal_madera'],\n",
    "                   data['FEH_SPEC'],data['fe_h_glp'],data['FEH_APOGEE'],data['FEH_PASTEL'],data['FeHphot_gen'],data['fe/h_rvs_apo'],data['fe/h_rvs_eso'],\n",
    "                   data['fe/h_rvs_rav'],data['fe/h_rvs_seg'],data['fe/h_rvs_gal'],data['fe/h_rvs_leg'],data['fe/h_rvs']],axis=0)"
   ]
  },
  {
   "cell_type": "code",
   "execution_count": 6,
   "id": "a04cae12-a60d-4368-a0c3-1146012927a9",
   "metadata": {},
   "outputs": [
    {
     "name": "stderr",
     "output_type": "stream",
     "text": [
      "/tmp/ipykernel_175673/3928483248.py:1: RuntimeWarning: Mean of empty slice\n",
      "  loggs = np.nanmean([data['RV_LOGG'],data['LOGG_in_apo'],data['LOGG_SPEC_apoeso'],data['LOGG_in_eso'],data['logg_cal_madera'],\n"
     ]
    }
   ],
   "source": [
    "loggs = np.nanmean([data['RV_LOGG'],data['LOGG_in_apo'],data['LOGG_SPEC_apoeso'],data['LOGG_in_eso'],data['logg_cal_madera'],\n",
    "                    data['LOGG_SPEC_ravseg'],data['logg_in'],data['LOGG_APOGEE'],data['LOGG_PASTEL'],data['logg_rvs_apo'],data['logg_rvs_eso'],\n",
    "                    data['logg_rvs_rav'],data['logg_rvs_seg'],data['logg_rvs_gal'],data['logg_rvs_leg'],data['logg_rvs']],axis=0)"
   ]
  },
  {
   "cell_type": "code",
   "execution_count": 7,
   "id": "c696a27e-b985-47cf-80e8-2b272f054bb9",
   "metadata": {},
   "outputs": [],
   "source": [
    "t = Table([data['Source'],teffs, fehs, loggs], names=['Source','Teff', 'Fe/H', 'log_g'])"
   ]
  },
  {
   "cell_type": "code",
   "execution_count": 8,
   "id": "64071037-da7e-43bf-a76d-6e78da4cc458",
   "metadata": {},
   "outputs": [],
   "source": [
    "t.write('/arc/home/aydanmckay/spectable_simple_average.fits', overwrite=True)"
   ]
  },
  {
   "cell_type": "code",
   "execution_count": 9,
   "id": "24bc0b09-09e0-406c-b970-029761c546e8",
   "metadata": {},
   "outputs": [],
   "source": [
    "datacuts = data[((data['RV_TEFF'] < 29999) & (data['RV_TEFF'] > 2000)) | (np.isnan(data['RV_TEFF']))]\n",
    "datacuts = datacuts[((datacuts['TEFF_in_apo'] < 29999) & (datacuts['TEFF_in_apo'] > 2000)) | (np.isnan(datacuts['TEFF_in_apo']))]\n",
    "datacuts = datacuts[((datacuts['TEFF_SPEC_apoeso'] < 29999) & (datacuts['TEFF_SPEC_apoeso'] > 2000)) | (np.isnan(datacuts['TEFF_SPEC_apoeso']))]\n",
    "datacuts = datacuts[((datacuts['TEFF_in_eso'] < 29999) & (datacuts['TEFF_in_eso'] > 2000)) | (np.isnan(datacuts['TEFF_in_eso']))]\n",
    "datacuts = datacuts[((datacuts['teff_cal_madera'] < 29999) & (datacuts['teff_cal_madera'] > 2000)) | (np.isnan(datacuts['teff_cal_madera']))]\n",
    "datacuts = datacuts[((datacuts['TEFF_SPEC_ravseg'] < 29999) & (datacuts['TEFF_SPEC_ravseg'] > 2000)) | (np.isnan(datacuts['TEFF_SPEC_ravseg']))]\n",
    "datacuts = datacuts[((datacuts['teff_in'] < 29999) & (datacuts['teff_in'] > 2000)) | (np.isnan(datacuts['teff_in']))]\n",
    "datacuts = datacuts[((datacuts['TEFF_PASTEL'] < 29999) & (datacuts['TEFF_PASTEL'] > 2000)) | (np.isnan(datacuts['TEFF_PASTEL']))]\n",
    "datacuts = datacuts[((datacuts['teff_rvs_apo'] < 29999) & (datacuts['teff_rvs_apo'] > 2000)) | (np.isnan(datacuts['teff_rvs_apo']))]\n",
    "datacuts = datacuts[((datacuts['teff_rvs_eso'] < 29999) & (datacuts['teff_rvs_eso'] > 2000)) | (np.isnan(datacuts['teff_rvs_eso']))]\n",
    "datacuts = datacuts[((datacuts['teff_rvs_rav'] < 29999) & (datacuts['teff_rvs_rav'] > 2000)) | (np.isnan(datacuts['teff_rvs_rav']))]\n",
    "datacuts = datacuts[((datacuts['teff_rvs_seg'] < 29999) & (datacuts['teff_rvs_seg'] > 2000)) | (np.isnan(datacuts['teff_rvs_seg']))]\n",
    "datacuts = datacuts[((datacuts['teff_rvs_gal'] < 29999) & (datacuts['teff_rvs_gal'] > 2000)) | (np.isnan(datacuts['teff_rvs_gal']))]\n",
    "datacuts = datacuts[((datacuts['teff_rvs_leg'] < 29999) & (datacuts['teff_rvs_leg'] > 2000)) | (np.isnan(datacuts['teff_rvs_leg']))]\n",
    "datacuts = datacuts[((datacuts['teff_rvs'] < 29999) & (datacuts['teff_rvs'] > 2000)) | (np.isnan(datacuts['teff_rvs']))]\n",
    "\n",
    "datacuts = datacuts[((datacuts['RV_FEH'] < 5) & (datacuts['RV_FEH'] > -6)) | (np.isnan(datacuts['RV_FEH']))]\n",
    "datacuts = datacuts[((datacuts['FE_H_aers'] < 5) & (datacuts['FE_H_aers'] > -6)) | (np.isnan(datacuts['FE_H_aers']))]\n",
    "datacuts = datacuts[((datacuts['FE_H_SPEC'] < 5) & (datacuts['FE_H_SPEC'] > -6)) | (np.isnan(datacuts['FE_H_SPEC']))]\n",
    "datacuts = datacuts[((datacuts['FEH'] < 5) & (datacuts['FEH'] > -6)) | (np.isnan(datacuts['FEH']))]\n",
    "datacuts = datacuts[((datacuts['m_h_cal_madera'] < 5) & (datacuts['m_h_cal_madera'] > -6)) | (np.isnan(datacuts['m_h_cal_madera']))]\n",
    "datacuts = datacuts[((datacuts['FEH_SPEC'] < 5) & (datacuts['FEH_SPEC'] > -6)) | (np.isnan(datacuts['FEH_SPEC']))]\n",
    "datacuts = datacuts[((datacuts['fe_h_glp'] < 5) & (datacuts['fe_h_glp'] > -6)) | (np.isnan(datacuts['fe_h_glp']))]\n",
    "datacuts = datacuts[((datacuts['FEH_APOGEE'] < 5) & (datacuts['FEH_APOGEE'] > -6)) | (np.isnan(datacuts['FEH_APOGEE']))]\n",
    "datacuts = datacuts[((datacuts['FEH_PASTEL'] < 5) & (datacuts['FEH_PASTEL'] > -6)) | (np.isnan(datacuts['FEH_PASTEL']))]\n",
    "datacuts = datacuts[((datacuts['fe/h_rvs_apo'] < 5) & (datacuts['fe/h_rvs_apo'] > -6)) | (np.isnan(datacuts['fe/h_rvs_apo']))]\n",
    "datacuts = datacuts[((datacuts['fe/h_rvs_eso'] < 5) & (datacuts['fe/h_rvs_eso'] > -6)) | (np.isnan(datacuts['fe/h_rvs_eso']))]\n",
    "datacuts = datacuts[((datacuts['fe/h_rvs_rav'] < 5) & (datacuts['fe/h_rvs_rav'] > -6)) | (np.isnan(datacuts['fe/h_rvs_rav']))]\n",
    "datacuts = datacuts[((datacuts['fe/h_rvs_seg'] < 5) & (datacuts['fe/h_rvs_seg'] > -6)) | (np.isnan(datacuts['fe/h_rvs_seg']))]\n",
    "datacuts = datacuts[((datacuts['fe/h_rvs_gal'] < 5) & (datacuts['fe/h_rvs_gal'] > -6)) | (np.isnan(datacuts['fe/h_rvs_gal']))]\n",
    "datacuts = datacuts[((datacuts['fe/h_rvs_leg'] < 5) & (datacuts['fe/h_rvs_leg'] > -6)) | (np.isnan(datacuts['fe/h_rvs_leg']))]\n",
    "datacuts = datacuts[((datacuts['fe/h_rvs'] < 5) & (datacuts['fe/h_rvs'] > -6)) | (np.isnan(datacuts['fe/h_rvs']))]\n",
    "datacuts = datacuts[((datacuts['FeHphot_gen'] < 5) & (datacuts['FeHphot_gen'] > -6)) | (np.isnan(datacuts['FeHphot_gen']))]\n",
    "\n",
    "datacuts = datacuts[((datacuts['RV_LOGG'] < 6) & (datacuts['RV_LOGG'] > 0.1)) | (np.isnan(datacuts['RV_LOGG']))]\n",
    "datacuts = datacuts[((datacuts['LOGG_in_apo'] < 6) & (datacuts['LOGG_in_apo'] > 0.1)) | (np.isnan(datacuts['LOGG_in_apo']))]\n",
    "datacuts = datacuts[((datacuts['LOGG_SPEC_apoeso'] < 6) & (datacuts['LOGG_SPEC_apoeso'] > 0.1)) | (np.isnan(datacuts['LOGG_SPEC_apoeso']))]\n",
    "datacuts = datacuts[((datacuts['LOGG_in_eso'] < 6) & (datacuts['LOGG_in_eso'] > 0.1)) | (np.isnan(datacuts['LOGG_in_eso']))]\n",
    "datacuts = datacuts[((datacuts['logg_cal_madera'] < 6) & (datacuts['logg_cal_madera'] > 0.1)) | (np.isnan(datacuts['logg_cal_madera']))]\n",
    "datacuts = datacuts[((datacuts['LOGG_SPEC_ravseg'] < 6) & (datacuts['LOGG_SPEC_ravseg'] > 0.1)) | (np.isnan(datacuts['LOGG_SPEC_ravseg']))]\n",
    "datacuts = datacuts[((datacuts['logg_in'] < 6) & (datacuts['logg_in'] > 0.1)) | (np.isnan(datacuts['logg_in']))]\n",
    "datacuts = datacuts[((datacuts['LOGG_APOGEE'] < 6) & (datacuts['LOGG_APOGEE'] > 0.1)) | (np.isnan(datacuts['LOGG_APOGEE']))]\n",
    "datacuts = datacuts[((datacuts['LOGG_PASTEL'] < 6) & (datacuts['LOGG_PASTEL'] > 0.1)) | (np.isnan(datacuts['LOGG_PASTEL']))]\n",
    "datacuts = datacuts[((datacuts['logg_rvs_apo'] < 6) & (datacuts['logg_rvs_apo'] > 0.1)) | (np.isnan(datacuts['logg_rvs_apo']))]\n",
    "datacuts = datacuts[((datacuts['logg_rvs_eso'] < 6) & (datacuts['logg_rvs_eso'] > 0.1)) | (np.isnan(datacuts['logg_rvs_eso']))]\n",
    "datacuts = datacuts[((datacuts['logg_rvs_rav'] < 6) & (datacuts['logg_rvs_rav'] > 0.1)) | (np.isnan(datacuts['logg_rvs_rav']))]\n",
    "datacuts = datacuts[((datacuts['logg_rvs_seg'] < 6) & (datacuts['logg_rvs_seg'] > 0.1)) | (np.isnan(datacuts['logg_rvs_seg']))]\n",
    "datacuts = datacuts[((datacuts['logg_rvs_gal'] < 6) & (datacuts['logg_rvs_gal'] > 0.1)) | (np.isnan(datacuts['logg_rvs_gal']))]\n",
    "datacuts = datacuts[((datacuts['logg_rvs_leg'] < 6) & (datacuts['logg_rvs_leg'] > 0.1)) | (np.isnan(datacuts['logg_rvs_leg']))]\n",
    "datacuts = datacuts[((datacuts['logg_rvs'] < 6) & (datacuts['logg_rvs'] > 0.1)) | (np.isnan(datacuts['logg_rvs']))]"
   ]
  },
  {
   "cell_type": "code",
   "execution_count": 10,
   "id": "bb6c9cfa-9473-43e5-a1fd-ec24bd01f82d",
   "metadata": {
    "tags": []
   },
   "outputs": [],
   "source": [
    "# datacuts"
   ]
  },
  {
   "cell_type": "code",
   "execution_count": 11,
   "id": "594e75ca-bd7e-4e5a-81f3-9ee642ec9155",
   "metadata": {},
   "outputs": [
    {
     "name": "stderr",
     "output_type": "stream",
     "text": [
      "/tmp/ipykernel_175673/1175989580.py:1: RuntimeWarning: Mean of empty slice\n",
      "  teffcuts = np.nanmean([datacuts['RV_TEFF'],datacuts['TEFF_in_apo'],datacuts['TEFF_SPEC_apoeso'],datacuts['TEFF_in_eso'],datacuts['teff_cal_madera'],\n",
      "/tmp/ipykernel_175673/1175989580.py:4: RuntimeWarning: Mean of empty slice\n",
      "  fehcuts = np.nanmean([datacuts['RV_FEH'],datacuts['FE_H_aers'],datacuts['FE_H_SPEC'],datacuts['FEH'],datacuts['m_h_cal_madera'],\n",
      "/tmp/ipykernel_175673/1175989580.py:7: RuntimeWarning: Mean of empty slice\n",
      "  loggcuts = np.nanmean([datacuts['RV_LOGG'],datacuts['LOGG_in_apo'],datacuts['LOGG_SPEC_apoeso'],datacuts['LOGG_in_eso'],datacuts['logg_cal_madera'],\n"
     ]
    }
   ],
   "source": [
    "teffcuts = np.nanmean([datacuts['RV_TEFF'],datacuts['TEFF_in_apo'],datacuts['TEFF_SPEC_apoeso'],datacuts['TEFF_in_eso'],datacuts['teff_cal_madera'],\n",
    "                    datacuts['TEFF_SPEC_ravseg'],datacuts['teff_in'],datacuts['TEFF_PASTEL'],datacuts['teff_rvs_apo'],datacuts['teff_rvs_eso'],\n",
    "                    datacuts['teff_rvs_rav'],datacuts['teff_rvs_seg'],datacuts['teff_rvs_gal'],datacuts['teff_rvs_leg'],datacuts['teff_rvs']],axis=0)\n",
    "fehcuts = np.nanmean([datacuts['RV_FEH'],datacuts['FE_H_aers'],datacuts['FE_H_SPEC'],datacuts['FEH'],datacuts['m_h_cal_madera'],\n",
    "                   datacuts['FEH_SPEC'],datacuts['fe_h_glp'],datacuts['FEH_APOGEE'],datacuts['FEH_PASTEL'],datacuts['FeHphot_gen'],datacuts['fe/h_rvs_apo'],datacuts['fe/h_rvs_eso'],\n",
    "                   datacuts['fe/h_rvs_rav'],datacuts['fe/h_rvs_seg'],datacuts['fe/h_rvs_gal'],datacuts['fe/h_rvs_leg'],datacuts['fe/h_rvs']],axis=0)\n",
    "loggcuts = np.nanmean([datacuts['RV_LOGG'],datacuts['LOGG_in_apo'],datacuts['LOGG_SPEC_apoeso'],datacuts['LOGG_in_eso'],datacuts['logg_cal_madera'],\n",
    "                    datacuts['LOGG_SPEC_ravseg'],datacuts['logg_in'],datacuts['LOGG_APOGEE'],datacuts['LOGG_PASTEL'],datacuts['logg_rvs_apo'],datacuts['logg_rvs_eso'],\n",
    "                    datacuts['logg_rvs_rav'],datacuts['logg_rvs_seg'],datacuts['logg_rvs_gal'],datacuts['logg_rvs_leg'],datacuts['logg_rvs']],axis=0)"
   ]
  },
  {
   "cell_type": "code",
   "execution_count": 12,
   "id": "ed1001db-c76b-4e34-9d53-25787d6ee8fd",
   "metadata": {},
   "outputs": [],
   "source": [
    "tdatacuts = Table([datacuts['Source'],teffcuts, fehcuts, loggcuts], names=['Source','Teff', 'Fe/H', 'log_g'])"
   ]
  },
  {
   "cell_type": "code",
   "execution_count": 13,
   "id": "90ece98a-fea1-474b-8950-34e39cc19306",
   "metadata": {},
   "outputs": [],
   "source": [
    "tdatacuts.write('/arc/home/aydanmckay/spectable_simple_average_datacuts.fits', overwrite=True)"
   ]
  },
  {
   "cell_type": "code",
   "execution_count": 14,
   "id": "863d2ec0-1272-4d76-b569-87e822ee1d8e",
   "metadata": {},
   "outputs": [],
   "source": [
    "datacuts['RV_TEFF'].name = 'teff_rv_apogee'\n",
    "datacuts['TEFF_in_apo'].name = 'teff_apogee'\n",
    "datacuts['TEFF_SPEC_apoeso'].name = 'teff_spec_apogee'\n",
    "datacuts['TEFF_in_eso'].name = 'teff_ges'\n",
    "datacuts['teff_cal_madera'].name = 'teff_rave'\n",
    "datacuts['TEFF_SPEC_ravseg'].name = 'teff_segue'\n",
    "datacuts['teff_in'].name = 'teff_galah'\n",
    "datacuts['TEFF_PASTEL'].name = 'teff_pastel_legue'\n",
    "datacuts['teff_rvs_apo'].name = 'teff_rvs_x_apogee'\n",
    "datacuts['teff_rvs_eso'].name = 'teff_rvs_x_ges'\n",
    "datacuts['teff_rvs_rav'].name = 'teff_rvs_x_rave'\n",
    "datacuts['teff_rvs_seg'].name = 'teff_rvs_x_segue'\n",
    "datacuts['teff_rvs_gal'].name = 'teff_rvs_x_galah'\n",
    "datacuts['teff_rvs_leg'].name = 'teff_rvs_x_legue'\n",
    "datacuts['teff_rvs'].name = 'teff_rvs_x_pristine'\n",
    "datacuts['RV_FEH'].name = 'feh_rv_apogee'\n",
    "datacuts['FE_H_aers'].name = 'feh_apogee'\n",
    "datacuts['FE_H_SPEC'].name = 'feh_spec_apogee'\n",
    "datacuts['FEH'].name = 'feh_ges'\n",
    "datacuts['m_h_cal_madera'].name = 'feh_rave'\n",
    "datacuts['FEH_SPEC'].name = 'feh_segue'\n",
    "datacuts['fe_h_glp'].name = 'feh_galah'\n",
    "datacuts['FEH_PASTEL'].name = 'feh_pastel_legue'\n",
    "datacuts['FEH_APOGEE'].name = 'feh_apogee_legue'\n",
    "datacuts['FeHphot_gen'].name = 'feh_pristine'\n",
    "datacuts['fe/h_rvs_apo'].name = 'feh_rvs_x_apogee'\n",
    "datacuts['fe/h_rvs_eso'].name = 'feh_rvs_x_ges'\n",
    "datacuts['fe/h_rvs_rav'].name = 'feh_rvs_x_rave'\n",
    "datacuts['fe/h_rvs_seg'].name = 'feh_rvs_x_segue'\n",
    "datacuts['fe/h_rvs_gal'].name = 'feh_rvs_x_galah'\n",
    "datacuts['fe/h_rvs_leg'].name = 'feh_rvs_x_legue'\n",
    "datacuts['fe/h_rvs'].name = 'feh_rvs_x_pristine'\n",
    "datacuts['RV_LOGG'].name = 'logg_rv_apogee'\n",
    "datacuts['LOGG_in_apo'].name = 'logg_apogee'\n",
    "datacuts['LOGG_SPEC_apoeso'].name = 'logg_spec_apogee'\n",
    "datacuts['LOGG_in_eso'].name = 'logg_ges'\n",
    "datacuts['logg_cal_madera'].name = 'logg_rave'\n",
    "datacuts['LOGG_SPEC_ravseg'].name = 'logg_segue'\n",
    "datacuts['logg_in'].name = 'logg_galah'\n",
    "datacuts['LOGG_PASTEL'].name = 'logg_pastel_legue'\n",
    "datacuts['LOGG_APOGEE'].name = 'logg_apogee_legue'\n",
    "datacuts['logg_rvs_apo'].name = 'logg_rvs_x_apogee'\n",
    "datacuts['logg_rvs_eso'].name = 'logg_rvs_x_ges'\n",
    "datacuts['logg_rvs_rav'].name = 'logg_rvs_x_rave'\n",
    "datacuts['logg_rvs_seg'].name = 'logg_rvs_x_segue'\n",
    "datacuts['logg_rvs_gal'].name = 'logg_rvs_x_galah'\n",
    "datacuts['logg_rvs_leg'].name = 'logg_rvs_x_legue'\n",
    "datacuts['logg_rvs'].name = 'logg_rvs_x_pristine'"
   ]
  },
  {
   "cell_type": "code",
   "execution_count": 15,
   "id": "8a2d7e83-32af-484d-91d9-13b3fdd6f8b2",
   "metadata": {},
   "outputs": [],
   "source": [
    "datacuts.write('/arc/home/aydanmckay/spectable_datacuts_paramp_renamed.fits', overwrite=True)"
   ]
  },
  {
   "cell_type": "code",
   "execution_count": 16,
   "id": "cefeb977-98dc-4e85-8058-814f0c7c868c",
   "metadata": {},
   "outputs": [],
   "source": [
    "# df = tdatacuts.to_pandas()"
   ]
  },
  {
   "cell_type": "code",
   "execution_count": 17,
   "id": "321c6175-b367-4469-976a-9727ad4769e0",
   "metadata": {},
   "outputs": [],
   "source": [
    "# df.describe()"
   ]
  },
  {
   "cell_type": "code",
   "execution_count": 18,
   "id": "456ded05-5827-4bf7-bd70-752574c22730",
   "metadata": {},
   "outputs": [],
   "source": [
    "# with pd.option_context('mode.use_inf_as_na', True):\n",
    "#     df.dropna(inplace=True)\n",
    "# df.shape"
   ]
  },
  {
   "cell_type": "code",
   "execution_count": 19,
   "id": "ca8d5b96-3cd5-487e-ab20-5123990b0e29",
   "metadata": {},
   "outputs": [],
   "source": [
    "# plt.scatter(df['Teff'],df['log_g'],c=df['Fe/H'],alpha=0.005)\n",
    "# plt.xlim(10000,2000);\n",
    "# plt.ylim(6,0);\n",
    "# plt.xlabel('Teff')\n",
    "# plt.ylabel('logg')\n",
    "# plt.savefig('kieldiagraminputcatalogue.png')"
   ]
  },
  {
   "cell_type": "code",
   "execution_count": 20,
   "id": "4a76955d-200b-437b-b10d-aadecca2c45c",
   "metadata": {},
   "outputs": [],
   "source": [
    "# plt.hist(df['Teff'],bins=100,log=True);\n",
    "# plt.title('Histogram of Teff in Input Catalogue')\n",
    "# plt.xlabel('Teff')\n",
    "# plt.ylabel('N')\n",
    "# plt.savefig('histteffinputcatalogue.png')"
   ]
  },
  {
   "cell_type": "code",
   "execution_count": 21,
   "id": "aa6a60d9-bdc4-4f5d-8da9-c45d73c24722",
   "metadata": {},
   "outputs": [],
   "source": [
    "# plt.hist(df['log_g'],bins=100,log=True);\n",
    "# plt.title('Histogram of logg in Input Catalogue')\n",
    "# plt.xlabel('logg')\n",
    "# plt.ylabel('N')\n",
    "# plt.savefig('histlogginputcatalogue.png')"
   ]
  },
  {
   "cell_type": "code",
   "execution_count": 22,
   "id": "e2f7f64a-04aa-4d3b-9eb1-cc5cddbb78af",
   "metadata": {},
   "outputs": [],
   "source": [
    "# plt.hist(df['Fe/H'],bins=100);\n",
    "# plt.title('Histogram of Fe/H in Input Catalogue')\n",
    "# plt.xlabel('Fe/H')\n",
    "# plt.ylabel('N')\n",
    "# plt.savefig('histfehinputcatalogue.png')"
   ]
  },
  {
   "cell_type": "code",
   "execution_count": null,
   "id": "7795a4be-963e-4610-b08e-eee297e2c6c1",
   "metadata": {},
   "outputs": [],
   "source": []
  },
  {
   "cell_type": "markdown",
   "id": "0691ed06-b9b7-4c94-9602-5a6ad48a97f5",
   "metadata": {},
   "source": [
    "For the Final input catalogue, add the pristine spectroscopic data, Gaia RVS,\n",
    "verify the inputs/coefficients so that they aren't impossible."
   ]
  }
 ],
 "metadata": {
  "kernelspec": {
   "display_name": "Python 3 (ipykernel)",
   "language": "python",
   "name": "python3"
  },
  "language_info": {
   "codemirror_mode": {
    "name": "ipython",
    "version": 3
   },
   "file_extension": ".py",
   "mimetype": "text/x-python",
   "name": "python",
   "nbconvert_exporter": "python",
   "pygments_lexer": "ipython3",
   "version": "3.9.13"
  }
 },
 "nbformat": 4,
 "nbformat_minor": 5
}
