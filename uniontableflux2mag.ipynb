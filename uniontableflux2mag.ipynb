{
 "cells": [
  {
   "cell_type": "markdown",
   "id": "19bd0fce-15e2-41e1-b887-475a9ce33eec",
   "metadata": {},
   "source": [
    "Importing packages"
   ]
  },
  {
   "cell_type": "code",
   "execution_count": 1,
   "id": "0e46fa0a-eb69-4974-8fa8-471207fcb793",
   "metadata": {},
   "outputs": [],
   "source": [
    "import numpy as np\n",
    "from astropy.table import Table\n",
    "from astropy.table import Column\n",
    "from astropy.io import fits\n",
    "import pandas as pd"
   ]
  },
  {
   "cell_type": "markdown",
   "id": "2e51e71e-0774-4035-96c5-9a496f2ff9c2",
   "metadata": {},
   "source": [
    "Importing the data table as a fits table for now (much more simple to add a column)"
   ]
  },
  {
   "cell_type": "code",
   "execution_count": 2,
   "id": "e3744ef2-208d-4ce5-a79e-f5899b6c4cd4",
   "metadata": {},
   "outputs": [],
   "source": [
    "data = Table.read('/arc/home/aydanmckay/union-photometry-table.fits').to_pandas()"
   ]
  },
  {
   "cell_type": "markdown",
   "id": "6a75775c-8a34-4be6-9f86-acf8bf4d011c",
   "metadata": {},
   "source": [
    "Taking the flux measurments and the error in the flux measurments and converting them to magnitudes and error in magnitudes. Adding a new column for each."
   ]
  },
  {
   "cell_type": "code",
   "execution_count": 3,
   "id": "01697732-1d0c-4de8-bfb1-1a53c9e78575",
   "metadata": {
    "tags": []
   },
   "outputs": [],
   "source": [
    "# flux = ['gflx_desi','rflx_desi','zflx_desi','w1flx_desi','w2flx_desi','w3flx_desi','w4flx_desi']\n",
    "# fluxerr = ['gflx_desi_err','rflx_desi_err','zflx_desi_err','w1flx_desi_err','w2flx_desi_err','w3flx_desi_err','w4flx_desi_err']\n",
    "# magnames = ['g_desi','r_desi','z_desi','w1_desi','w2_desi','w3_desi','w4_desi']\n",
    "# magerrnames = ['g_desi_err','r_desi_err','z_desi_err','w1_desi_err','w2_desi_err','w3_desi_err','w4_desi_err']\n",
    "# ix = 49\n",
    "# ixx = 63\n",
    "# for f,fe,magn,magen in zip(flux,fluxerr,magnames,magerrnames):\n",
    "#     mag = []\n",
    "#     magerr = []\n",
    "#     for it,(i,j) in enumerate(zip(data[f],data[fe])):\n",
    "#         mag.append(-2.5*np.log10(i)+22.5)\n",
    "#         magerr.append(1.09/np.sqrt(abs(j))/abs(i+0.00001))\n",
    "#     data.add_column(mag, name=magn, index=ix)\n",
    "#     data.add_column(magerr, name=magen, index=ixx)\n",
    "#     ix += 2\n",
    "#     ixx += 2\n",
    "#     print('Done'+magn)"
   ]
  },
  {
   "cell_type": "code",
   "execution_count": 4,
   "id": "3ed16775-6b92-4b4c-9ce8-fc2fa2ac008f",
   "metadata": {},
   "outputs": [],
   "source": [
    "# data.write('/arc/home/aydanmckay/union-phot_only-table.fits',overwrite=True)"
   ]
  },
  {
   "cell_type": "code",
   "execution_count": 5,
   "id": "f33e850e-bb54-4117-9768-03cd6d269761",
   "metadata": {},
   "outputs": [],
   "source": [
    "# import pandas as pd\n",
    "# data = pd.read_csv('/arc/home/aydanmckay/union-phot_only-table.csv')"
   ]
  },
  {
   "cell_type": "code",
   "execution_count": 6,
   "id": "2053f60a-3c25-478e-ae9c-cfb9da2cc6b4",
   "metadata": {},
   "outputs": [
    {
     "name": "stderr",
     "output_type": "stream",
     "text": [
      "/tmp/ipykernel_331749/3598811592.py:12: RuntimeWarning: divide by zero encountered in log10\n",
      "  mag.append(-2.5*np.log10(i)+22.5)\n",
      "/tmp/ipykernel_331749/3598811592.py:13: RuntimeWarning: divide by zero encountered in double_scalars\n",
      "  magerr.append(1.09/np.sqrt(abs(j))/abs(i+0.00001))\n",
      "/tmp/ipykernel_331749/3598811592.py:12: RuntimeWarning: invalid value encountered in log10\n",
      "  mag.append(-2.5*np.log10(i)+22.5)\n"
     ]
    },
    {
     "name": "stdout",
     "output_type": "stream",
     "text": [
      "Done g_desi\n",
      "Done r_desi\n",
      "Done z_desi\n",
      "Done w1_desi\n",
      "Done w2_desi\n",
      "Done w3_desi\n",
      "Done w4_desi\n"
     ]
    }
   ],
   "source": [
    "import numpy as np\n",
    "flux = ['gflx_desi','rflx_desi','zflx_desi','w1flx_desi','w2flx_desi','w3flx_desi','w4flx_desi']\n",
    "fluxerr = ['gflx_desi_err','rflx_desi_err','zflx_desi_err','w1flx_desi_err','w2flx_desi_err','w3flx_desi_err','w4flx_desi_err']\n",
    "magnames = ['g_desi','r_desi','z_desi','w1_desi','w2_desi','w3_desi','w4_desi']\n",
    "magerrnames = ['g_desi_err','r_desi_err','z_desi_err','w1_desi_err','w2_desi_err','w3_desi_err','w4_desi_err']\n",
    "ix = 49\n",
    "ixx = 63\n",
    "for f,fe,magn,magen in zip(flux,fluxerr,magnames,magerrnames):\n",
    "    mag = []\n",
    "    magerr = []\n",
    "    for it,(i,j) in enumerate(zip(data[f],data[fe])):\n",
    "        mag.append(-2.5*np.log10(i)+22.5)\n",
    "        magerr.append(1.09/np.sqrt(abs(j))/abs(i+0.00001))\n",
    "    data[magn] = mag\n",
    "    data[magen] = magerr\n",
    "    ix += 2\n",
    "    ixx += 2\n",
    "    print('Done '+magn)"
   ]
  },
  {
   "cell_type": "code",
   "execution_count": 7,
   "id": "cff32a3c-bacd-4262-b438-63f279664727",
   "metadata": {},
   "outputs": [
    {
     "data": {
      "text/html": [
       "<div>\n",
       "<style scoped>\n",
       "    .dataframe tbody tr th:only-of-type {\n",
       "        vertical-align: middle;\n",
       "    }\n",
       "\n",
       "    .dataframe tbody tr th {\n",
       "        vertical-align: top;\n",
       "    }\n",
       "\n",
       "    .dataframe thead th {\n",
       "        text-align: right;\n",
       "    }\n",
       "</style>\n",
       "<table border=\"1\" class=\"dataframe\">\n",
       "  <thead>\n",
       "    <tr style=\"text-align: right;\">\n",
       "      <th></th>\n",
       "      <th>ra</th>\n",
       "      <th>dec</th>\n",
       "      <th>CaHK</th>\n",
       "      <th>e_CaHK</th>\n",
       "      <th>E_BV</th>\n",
       "      <th>para_gaia</th>\n",
       "      <th>para_gaia_err</th>\n",
       "      <th>pmra_gaia</th>\n",
       "      <th>pmra_gaia_err</th>\n",
       "      <th>pmde_gaia</th>\n",
       "      <th>...</th>\n",
       "      <th>z_desi</th>\n",
       "      <th>z_desi_err</th>\n",
       "      <th>w1_desi</th>\n",
       "      <th>w1_desi_err</th>\n",
       "      <th>w2_desi</th>\n",
       "      <th>w2_desi_err</th>\n",
       "      <th>w3_desi</th>\n",
       "      <th>w3_desi_err</th>\n",
       "      <th>w4_desi</th>\n",
       "      <th>w4_desi_err</th>\n",
       "    </tr>\n",
       "  </thead>\n",
       "  <tbody>\n",
       "    <tr>\n",
       "      <th>36331569</th>\n",
       "      <td>179.898026</td>\n",
       "      <td>2.080325</td>\n",
       "      <td>27.738</td>\n",
       "      <td>0.087</td>\n",
       "      <td>0.022</td>\n",
       "      <td>0.1494</td>\n",
       "      <td>0.6207</td>\n",
       "      <td>-0.729</td>\n",
       "      <td>0.726</td>\n",
       "      <td>-3.688</td>\n",
       "      <td>...</td>\n",
       "      <td>NaN</td>\n",
       "      <td>NaN</td>\n",
       "      <td>NaN</td>\n",
       "      <td>NaN</td>\n",
       "      <td>NaN</td>\n",
       "      <td>NaN</td>\n",
       "      <td>NaN</td>\n",
       "      <td>NaN</td>\n",
       "      <td>NaN</td>\n",
       "      <td>NaN</td>\n",
       "    </tr>\n",
       "    <tr>\n",
       "      <th>36331570</th>\n",
       "      <td>179.929047</td>\n",
       "      <td>2.073580</td>\n",
       "      <td>27.800</td>\n",
       "      <td>0.091</td>\n",
       "      <td>0.022</td>\n",
       "      <td>0.7633</td>\n",
       "      <td>0.2258</td>\n",
       "      <td>5.088</td>\n",
       "      <td>0.228</td>\n",
       "      <td>-5.164</td>\n",
       "      <td>...</td>\n",
       "      <td>NaN</td>\n",
       "      <td>NaN</td>\n",
       "      <td>NaN</td>\n",
       "      <td>NaN</td>\n",
       "      <td>NaN</td>\n",
       "      <td>NaN</td>\n",
       "      <td>NaN</td>\n",
       "      <td>NaN</td>\n",
       "      <td>NaN</td>\n",
       "      <td>NaN</td>\n",
       "    </tr>\n",
       "    <tr>\n",
       "      <th>36331571</th>\n",
       "      <td>179.953873</td>\n",
       "      <td>2.257570</td>\n",
       "      <td>27.862</td>\n",
       "      <td>0.094</td>\n",
       "      <td>0.018</td>\n",
       "      <td>NaN</td>\n",
       "      <td>NaN</td>\n",
       "      <td>NaN</td>\n",
       "      <td>NaN</td>\n",
       "      <td>NaN</td>\n",
       "      <td>...</td>\n",
       "      <td>NaN</td>\n",
       "      <td>NaN</td>\n",
       "      <td>NaN</td>\n",
       "      <td>NaN</td>\n",
       "      <td>NaN</td>\n",
       "      <td>NaN</td>\n",
       "      <td>NaN</td>\n",
       "      <td>NaN</td>\n",
       "      <td>NaN</td>\n",
       "      <td>NaN</td>\n",
       "    </tr>\n",
       "    <tr>\n",
       "      <th>36331572</th>\n",
       "      <td>179.972672</td>\n",
       "      <td>2.167747</td>\n",
       "      <td>27.862</td>\n",
       "      <td>0.094</td>\n",
       "      <td>0.019</td>\n",
       "      <td>0.1402</td>\n",
       "      <td>0.6374</td>\n",
       "      <td>-2.934</td>\n",
       "      <td>0.722</td>\n",
       "      <td>-2.063</td>\n",
       "      <td>...</td>\n",
       "      <td>NaN</td>\n",
       "      <td>NaN</td>\n",
       "      <td>NaN</td>\n",
       "      <td>NaN</td>\n",
       "      <td>NaN</td>\n",
       "      <td>NaN</td>\n",
       "      <td>NaN</td>\n",
       "      <td>NaN</td>\n",
       "      <td>NaN</td>\n",
       "      <td>NaN</td>\n",
       "    </tr>\n",
       "    <tr>\n",
       "      <th>36331573</th>\n",
       "      <td>179.980911</td>\n",
       "      <td>2.171931</td>\n",
       "      <td>27.872</td>\n",
       "      <td>0.095</td>\n",
       "      <td>0.019</td>\n",
       "      <td>1.1150</td>\n",
       "      <td>0.7013</td>\n",
       "      <td>-4.955</td>\n",
       "      <td>0.839</td>\n",
       "      <td>-4.164</td>\n",
       "      <td>...</td>\n",
       "      <td>NaN</td>\n",
       "      <td>NaN</td>\n",
       "      <td>NaN</td>\n",
       "      <td>NaN</td>\n",
       "      <td>NaN</td>\n",
       "      <td>NaN</td>\n",
       "      <td>NaN</td>\n",
       "      <td>NaN</td>\n",
       "      <td>NaN</td>\n",
       "      <td>NaN</td>\n",
       "    </tr>\n",
       "  </tbody>\n",
       "</table>\n",
       "<p>5 rows × 121 columns</p>\n",
       "</div>"
      ],
      "text/plain": [
       "                  ra       dec    CaHK  e_CaHK   E_BV  para_gaia  \\\n",
       "36331569  179.898026  2.080325  27.738   0.087  0.022     0.1494   \n",
       "36331570  179.929047  2.073580  27.800   0.091  0.022     0.7633   \n",
       "36331571  179.953873  2.257570  27.862   0.094  0.018        NaN   \n",
       "36331572  179.972672  2.167747  27.862   0.094  0.019     0.1402   \n",
       "36331573  179.980911  2.171931  27.872   0.095  0.019     1.1150   \n",
       "\n",
       "          para_gaia_err  pmra_gaia  pmra_gaia_err  pmde_gaia  ...  z_desi  \\\n",
       "36331569         0.6207     -0.729          0.726     -3.688  ...     NaN   \n",
       "36331570         0.2258      5.088          0.228     -5.164  ...     NaN   \n",
       "36331571            NaN        NaN            NaN        NaN  ...     NaN   \n",
       "36331572         0.6374     -2.934          0.722     -2.063  ...     NaN   \n",
       "36331573         0.7013     -4.955          0.839     -4.164  ...     NaN   \n",
       "\n",
       "          z_desi_err  w1_desi  w1_desi_err  w2_desi  w2_desi_err  w3_desi  \\\n",
       "36331569         NaN      NaN          NaN      NaN          NaN      NaN   \n",
       "36331570         NaN      NaN          NaN      NaN          NaN      NaN   \n",
       "36331571         NaN      NaN          NaN      NaN          NaN      NaN   \n",
       "36331572         NaN      NaN          NaN      NaN          NaN      NaN   \n",
       "36331573         NaN      NaN          NaN      NaN          NaN      NaN   \n",
       "\n",
       "          w3_desi_err  w4_desi  w4_desi_err  \n",
       "36331569          NaN      NaN          NaN  \n",
       "36331570          NaN      NaN          NaN  \n",
       "36331571          NaN      NaN          NaN  \n",
       "36331572          NaN      NaN          NaN  \n",
       "36331573          NaN      NaN          NaN  \n",
       "\n",
       "[5 rows x 121 columns]"
      ]
     },
     "execution_count": 7,
     "metadata": {},
     "output_type": "execute_result"
    }
   ],
   "source": [
    "data.tail()"
   ]
  },
  {
   "cell_type": "code",
   "execution_count": 8,
   "id": "193360e3-f1c1-424c-809d-f158092d66a1",
   "metadata": {},
   "outputs": [],
   "source": [
    "# data.to_parquet('/arc/home/aydanmckay/union-phot_only-table.parquet')"
   ]
  },
  {
   "cell_type": "code",
   "execution_count": 9,
   "id": "a20cfbe0-225d-4334-a64a-a36135e8e40e",
   "metadata": {},
   "outputs": [],
   "source": [
    "dat = Table.from_pandas(data)\n",
    "dat.write('/arc/home/aydanmckay/union-photometry-table.fits',overwrite=True)"
   ]
  },
  {
   "cell_type": "code",
   "execution_count": 10,
   "id": "8ff65012-2abd-403c-94db-209469be6532",
   "metadata": {},
   "outputs": [],
   "source": [
    "# usecols=['gflx_desi','rflx_desi','zflx_desi','w1flx_desi','w2flx_desi','w3flx_desi','w4flx_desi','gflx_desi_err','rflx_desi_err','zflx_desi_err',\n",
    "#          'w1flx_desi_err','w2flx_desi_err','w3flx_desi_err','w4flx_desi_err']"
   ]
  }
 ],
 "metadata": {
  "kernelspec": {
   "display_name": "Python 3 (ipykernel)",
   "language": "python",
   "name": "python3"
  },
  "language_info": {
   "codemirror_mode": {
    "name": "ipython",
    "version": 3
   },
   "file_extension": ".py",
   "mimetype": "text/x-python",
   "name": "python",
   "nbconvert_exporter": "python",
   "pygments_lexer": "ipython3",
   "version": "3.9.12"
  }
 },
 "nbformat": 4,
 "nbformat_minor": 5
}
