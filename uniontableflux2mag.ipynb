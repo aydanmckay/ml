{
 "cells": [
  {
   "cell_type": "markdown",
   "id": "19bd0fce-15e2-41e1-b887-475a9ce33eec",
   "metadata": {},
   "source": [
    "Importing packages"
   ]
  },
  {
   "cell_type": "code",
   "execution_count": 4,
   "id": "0e46fa0a-eb69-4974-8fa8-471207fcb793",
   "metadata": {},
   "outputs": [],
   "source": [
    "import numpy as np\n",
    "from astropy.table import Table\n",
    "from astropy.table import Column\n",
    "from astropy.io import fits"
   ]
  },
  {
   "cell_type": "markdown",
   "id": "2e51e71e-0774-4035-96c5-9a496f2ff9c2",
   "metadata": {},
   "source": [
    "Importing the data table as a fits table for now (much more simple to add a column)"
   ]
  },
  {
   "cell_type": "code",
   "execution_count": 5,
   "id": "e3744ef2-208d-4ce5-a79e-f5899b6c4cd4",
   "metadata": {},
   "outputs": [],
   "source": [
    "data = Table.read('/arc/home/aydanmckay/union-phot_only-table.fits')"
   ]
  },
  {
   "cell_type": "markdown",
   "id": "6a75775c-8a34-4be6-9f86-acf8bf4d011c",
   "metadata": {},
   "source": [
    "Taking the flux measurments and the error in the flux measurments and converting them to magnitudes and error in magnitudes. Adding a new column for each."
   ]
  },
  {
   "cell_type": "code",
   "execution_count": null,
   "id": "01697732-1d0c-4de8-bfb1-1a53c9e78575",
   "metadata": {
    "tags": []
   },
   "outputs": [
    {
     "name": "stderr",
     "output_type": "stream",
     "text": [
      "/tmp/ipykernel_105722/2900549867.py:11: RuntimeWarning: divide by zero encountered in log10\n",
      "  mag.append(-2.5*np.log10(i)+22.5)\n",
      "/tmp/ipykernel_105722/2900549867.py:12: RuntimeWarning: divide by zero encountered in true_divide\n",
      "  magerr.append(1.09/np.sqrt(abs(j))/abs(i+0.00001))\n",
      "/tmp/ipykernel_105722/2900549867.py:11: RuntimeWarning: invalid value encountered in log10\n",
      "  mag.append(-2.5*np.log10(i)+22.5)\n",
      "/tmp/ipykernel_105722/2900549867.py:11: RuntimeWarning: divide by zero encountered in log10\n",
      "  mag.append(-2.5*np.log10(i)+22.5)\n",
      "/tmp/ipykernel_105722/2900549867.py:12: RuntimeWarning: divide by zero encountered in true_divide\n",
      "  magerr.append(1.09/np.sqrt(abs(j))/abs(i+0.00001))\n",
      "/tmp/ipykernel_105722/2900549867.py:11: RuntimeWarning: invalid value encountered in log10\n",
      "  mag.append(-2.5*np.log10(i)+22.5)\n"
     ]
    }
   ],
   "source": [
    "flux = ['gflx_desi','rflx_desi','zflx_desi','w1flx_desi','w2flx_desi','w3flx_desi','w4flx_desi']\n",
    "fluxerr = ['gflx_desi_err','rflx_desi_err','zflx_desi_err','w1flx_desi_err','w2flx_desi_err','w3flx_desi_err','w4flx_desi_err']\n",
    "magnames = ['g_desi','r_desi','z_desi','w1_desi','w2_desi','w3_desi','w4_desi']\n",
    "magerrnames = ['g_desi_err','r_desi_err','z_desi_err','w1_desi_err','w2_desi_err','w3_desi_err','w4_desi_err']\n",
    "ix = 49\n",
    "ixx = 63\n",
    "for f,fe,magn,magen in zip(flux,fluxerr,magnames,magerrnames):\n",
    "    mag = []\n",
    "    magerr = []\n",
    "    for it,(i,j) in enumerate(zip(data[f],data[fe])):\n",
    "        mag.append(-2.5*np.log10(i)+22.5)\n",
    "        magerr.append(1.09/np.sqrt(abs(j))/abs(i+0.00001))\n",
    "    data.add_column(mag, name=magn, index=ix)\n",
    "    data.add_column(magerr, name=magen, index=ixx)\n",
    "    ix += 2\n",
    "    ixx += 2"
   ]
  },
  {
   "cell_type": "code",
   "execution_count": null,
   "id": "3ed16775-6b92-4b4c-9ce8-fc2fa2ac008f",
   "metadata": {},
   "outputs": [],
   "source": [
    "data.write('/arc/home/aydanmckay/union-phot_only-table.fits',overwrite=True)"
   ]
  },
  {
   "cell_type": "code",
   "execution_count": null,
   "id": "f33e850e-bb54-4117-9768-03cd6d269761",
   "metadata": {},
   "outputs": [],
   "source": []
  }
 ],
 "metadata": {
  "kernelspec": {
   "display_name": "Python 3 (ipykernel)",
   "language": "python",
   "name": "python3"
  },
  "language_info": {
   "codemirror_mode": {
    "name": "ipython",
    "version": 3
   },
   "file_extension": ".py",
   "mimetype": "text/x-python",
   "name": "python",
   "nbconvert_exporter": "python",
   "pygments_lexer": "ipython3",
   "version": "3.9.12"
  }
 },
 "nbformat": 4,
 "nbformat_minor": 5
}
