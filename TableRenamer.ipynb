{
 "cells": [
  {
   "cell_type": "code",
   "execution_count": 1,
   "id": "0e46fa0a-eb69-4974-8fa8-471207fcb793",
   "metadata": {},
   "outputs": [],
   "source": [
    "import pandas as pd\n",
    "import numpy as np\n",
    "from astropy.table import Table"
   ]
  },
  {
   "cell_type": "code",
   "execution_count": 2,
   "id": "e3744ef2-208d-4ce5-a79e-f5899b6c4cd4",
   "metadata": {},
   "outputs": [],
   "source": [
    "df = Table.read('/arc/home/aydanmckay/phottable_cuts_intersect.fits').to_pandas()"
   ]
  },
  {
   "cell_type": "code",
   "execution_count": 3,
   "id": "cd8d3f55-88d9-4ac4-8a0e-51b5dae7a695",
   "metadata": {},
   "outputs": [
    {
     "data": {
      "text/plain": [
       "Index(['ra', 'dec', 'CaHK', 'e_CaHK', 'flag', 'E_BV', 'Jmag', 'Hmag', 'Kmag',\n",
       "       'e_Jmag', 'e_Hmag', 'e_Kmag', 'Qfl', 'pris_2mass_angDist', 'pmRA_wise',\n",
       "       'pmDE_wise', 'e_pmRA_wise', 'e_pmDE_wise', 'W1mproPM', 'e_W1mproPM',\n",
       "       'W2mproPM', 'e_W2mproPM', 'pris_wise_angDist', '2mass_wise_sep', 'umag',\n",
       "       'gmag', 'rmag', 'imag', 'zmag', 'e_umag', 'e_gmag', 'e_rmag', 'e_imag',\n",
       "       'e_zmag', 'pmRA_sdss', 'pmDE_sdss', 'e_pmRA_sdss', 'e_pmDE_sdss',\n",
       "       'pris_sdss_angDist', 'E(B-V)', 'FUVmag', 'e_FUVmag', 'NUVmag',\n",
       "       'e_NUVmag', 'pris_galex_angDist', 'sdss_galex_sep', 'Separation_1',\n",
       "       'TYPE', 'FLUX_G', 'FLUX_R', 'FLUX_Z', 'FLUX_W1', 'FLUX_W2', 'FLUX_W3',\n",
       "       'FLUX_W4', 'FLUX_IVAR_G', 'FLUX_IVAR_R', 'FLUX_IVAR_Z', 'FLUX_IVAR_W1',\n",
       "       'FLUX_IVAR_W2', 'FLUX_IVAR_W3', 'FLUX_IVAR_W4', 'Z_SPEC',\n",
       "       'pris_legacy_sep', 'source_id', 'parallax', 'parallax_error', 'pmra',\n",
       "       'pmra_error', 'pmdec', 'pmdec_error', 'phot_g_mean_mag',\n",
       "       'phot_bp_mean_mag', 'phot_rp_mean_mag', 'dr2_radial_velocity',\n",
       "       'dr2_radial_velocity_error', 'phot_g_mean_mag_error',\n",
       "       'phot_bp_mean_mag_error', 'phot_rp_mean_mag_error', 'pris_gaia_sep',\n",
       "       'legacy_gaia_sep', 'u_cfht', 'r_cfht', 'u_cfht_err', 'r_cfht_err',\n",
       "       'pris_cfis_sep', 'i_ps', 'i_ps_err', 'pris_pans_sep', 'cfis_pans_sep',\n",
       "       'Separation_2', 'Separation'],\n",
       "      dtype='object')"
      ]
     },
     "execution_count": 3,
     "metadata": {},
     "output_type": "execute_result"
    }
   ],
   "source": [
    "df.columns"
   ]
  },
  {
   "cell_type": "code",
   "execution_count": 4,
   "id": "29b7a339-83fe-4edd-bb4f-8e4b515b2b07",
   "metadata": {},
   "outputs": [],
   "source": [
    "df.rename(columns = {'Jmag':'j_2mass', 'Hmag':'h_2mass', 'Kmag':'k_2mass', 'e_Jmag':'j_2mass_err', 'e_Hmag':'h_2mass_err', 'e_Kmag':'k_2mass_err', 'Qfl':'qfl_2mass',\n",
    "                     'pmRA_wise':'pmra_wise','pmDE_wise':'pmde_wise', 'e_pmRA_wise':'pmra_wise_err', 'e_pmDE_wise':'pmde_wise_err',\n",
    "                     'W1mproPM':'w1_wise', 'e_W1mproPM':'w1_wise_err','W2mproPM':'w2_wise', 'e_W2mproPM':'w2_wise_err', 'umag':'u_sdss',\n",
    "                     'gmag':'g_sdss', 'rmag':'r_sdss', 'imag':'i_sdss', 'zmag':'z_sdss', 'e_umag':'u_sdss_err', 'e_gmag':'g_sdss_err',\n",
    "                     'e_rmag':'r_sdss_err', 'e_imag':'i_sdss_err', 'e_zmag':'z_sdss_err', 'pmRA_sdss':'pmra_sdss', 'pmDE_sdss':'pmde_sdss',\n",
    "                     'e_pmRA_sdss':'pmra_sdss_err', 'e_pmDE_sdss':'pmde_sdss_err', 'E(B-V)':'E_BV_galex', 'FUVmag':'fuv_galex', 'e_FUVmag':'fuv_galex_err',\n",
    "                     'NUVmag':'nuv_galex', 'e_NUVmag':'nuv_galex_err', 'Separation_1':'2mass_wise_galex_sdss_sep','TYPE':'type_desi',\n",
    "                     'FLUX_G':'gflux_desi', 'FLUX_R':'rflux_desi', 'FLUX_Z':'zflux_desi', 'FLUX_W1':'w1flux_desi', 'FLUX_W2':'w2flux_desi',\n",
    "                     'FLUX_W3':'w3flux_desi', 'FLUX_W4':'w4flux_desi', 'FLUX_IVAR_G':'gflux_desi_err', 'FLUX_IVAR_R':'rflux_desi_err',\n",
    "                     'FLUX_IVAR_Z':'zflux_desi_err', 'FLUX_IVAR_W1':'w1flux_desi_err', 'FLUX_IVAR_W2':'w2flux_desi_err', 'FLUX_IVAR_W3':'w3flux_desi_err',\n",
    "                     'FLUX_IVAR_W4':'w4flux_desi_err', 'Z_SPEC':'zspec_desi_err', 'source_id':'source_id_gaia', 'parallax':'para_gaia',\n",
    "                     'parallax_error':'para_gaia_err', 'pmra':'pmra_gaia', 'pmra_error':'pmra_gaia_err', 'pmdec':'pmde_gaia', 'pmdec_error':'pmde_gaia_err',\n",
    "                     'phot_g_mean_mag':'g_gaia','phot_bp_mean_mag':'b_gaia', 'phot_rp_mean_mag':'r_gaia', 'dr2_radial_velocity':'rv_gaia',\n",
    "                     'dr2_radial_velocity_error':'rv_gaia_err', 'phot_g_mean_mag_error':'g_gaia_err', 'phot_bp_mean_mag_error':'b_gaia_err',\n",
    "                     'phot_rp_mean_mag_error':'r_gaia_err', 'u_cfht':'u_cfis', 'r_cfht':'r_cfis', 'u_cfht_err':'u_cfis_err', 'r_cfht_err':'r_cfis_err',\n",
    "                     'i_ps':'i_pans', 'i_ps_err':'i_pans_err', 'Separation_2':'desi_gaia_cfis_pans_sep', 'Separation':'total_sep'}, inplace = True)"
   ]
  },
  {
   "cell_type": "code",
   "execution_count": 5,
   "id": "ddcdf045-762f-4495-b590-c0f71805684a",
   "metadata": {},
   "outputs": [
    {
     "data": {
      "text/plain": [
       "Index(['ra', 'dec', 'CaHK', 'e_CaHK', 'flag', 'E_BV', 'j_2mass', 'h_2mass',\n",
       "       'k_2mass', 'j_2mass_err', 'h_2mass_err', 'k_2mass_err', 'qfl_2mass',\n",
       "       'pris_2mass_angDist', 'pmra_wise', 'pmde_wise', 'pmra_wise_err',\n",
       "       'pmde_wise_err', 'w1_wise', 'w1_wise_err', 'w2_wise', 'w2_wise_err',\n",
       "       'pris_wise_angDist', '2mass_wise_sep', 'u_sdss', 'g_sdss', 'r_sdss',\n",
       "       'i_sdss', 'z_sdss', 'u_sdss_err', 'g_sdss_err', 'r_sdss_err',\n",
       "       'i_sdss_err', 'z_sdss_err', 'pmra_sdss', 'pmde_sdss', 'pmra_sdss_err',\n",
       "       'pmde_sdss_err', 'pris_sdss_angDist', 'E_BV_galex', 'fuv_galex',\n",
       "       'fuv_galex_err', 'nuv_galex', 'nuv_galex_err', 'pris_galex_angDist',\n",
       "       'sdss_galex_sep', '2mass_wise_galex_sdss_sep', 'type_desi',\n",
       "       'gflux_desi', 'rflux_desi', 'zflux_desi', 'w1flux_desi', 'w2flux_desi',\n",
       "       'w3flux_desi', 'w4flux_desi', 'gflux_desi_err', 'rflux_desi_err',\n",
       "       'zflux_desi_err', 'w1flux_desi_err', 'w2flux_desi_err',\n",
       "       'w3flux_desi_err', 'w4flux_desi_err', 'zspec_desi_err',\n",
       "       'pris_legacy_sep', 'source_id_gaia', 'para_gaia', 'para_gaia_err',\n",
       "       'pmra_gaia', 'pmra_gaia_err', 'pmde_gaia', 'pmde_gaia_err', 'g_gaia',\n",
       "       'b_gaia', 'r_gaia', 'rv_gaia', 'rv_gaia_err', 'g_gaia_err',\n",
       "       'b_gaia_err', 'r_gaia_err', 'pris_gaia_sep', 'legacy_gaia_sep',\n",
       "       'u_cfis', 'r_cfis', 'u_cfis_err', 'r_cfis_err', 'pris_cfis_sep',\n",
       "       'i_pans', 'i_pans_err', 'pris_pans_sep', 'cfis_pans_sep',\n",
       "       'desi_gaia_cfis_pans_sep', 'total_sep'],\n",
       "      dtype='object')"
      ]
     },
     "execution_count": 5,
     "metadata": {},
     "output_type": "execute_result"
    }
   ],
   "source": [
    "df.columns"
   ]
  },
  {
   "cell_type": "code",
   "execution_count": 6,
   "id": "988ba150-df57-473f-9ee4-975b26820563",
   "metadata": {},
   "outputs": [],
   "source": [
    "df.to_parquet('/arc/home/aydanmckay/phottable_cuts_intersect_renamed.parquet')"
   ]
  },
  {
   "cell_type": "code",
   "execution_count": null,
   "id": "3ed16775-6b92-4b4c-9ce8-fc2fa2ac008f",
   "metadata": {},
   "outputs": [],
   "source": []
  }
 ],
 "metadata": {
  "kernelspec": {
   "display_name": "Python 3 (ipykernel)",
   "language": "python",
   "name": "python3"
  },
  "language_info": {
   "codemirror_mode": {
    "name": "ipython",
    "version": 3
   },
   "file_extension": ".py",
   "mimetype": "text/x-python",
   "name": "python",
   "nbconvert_exporter": "python",
   "pygments_lexer": "ipython3",
   "version": "3.9.12"
  }
 },
 "nbformat": 4,
 "nbformat_minor": 5
}
