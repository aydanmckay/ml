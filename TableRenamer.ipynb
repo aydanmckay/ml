{
 "cells": [
  {
   "cell_type": "code",
   "execution_count": 1,
   "id": "0e46fa0a-eb69-4974-8fa8-471207fcb793",
   "metadata": {},
   "outputs": [],
   "source": [
    "import pandas as pd\n",
    "import numpy as np\n",
    "from astropy.table import Table"
   ]
  },
  {
   "cell_type": "code",
   "execution_count": 12,
   "id": "e3744ef2-208d-4ce5-a79e-f5899b6c4cd4",
   "metadata": {},
   "outputs": [],
   "source": [
    "df = Table.read('/arc/home/aydanmckay/phottable_cuts_intersect.fits').to_pandas()"
   ]
  },
  {
   "cell_type": "code",
   "execution_count": 3,
   "id": "abab105b-32b4-4552-884e-c1457bb68aa7",
   "metadata": {},
   "outputs": [],
   "source": [
    "# df = Table.read('/arc/home/aydanmckay/phottable_lamost_intersect.fits').to_pandas()"
   ]
  },
  {
   "cell_type": "code",
   "execution_count": 13,
   "id": "cd8d3f55-88d9-4ac4-8a0e-51b5dae7a695",
   "metadata": {},
   "outputs": [
    {
     "data": {
      "text/plain": [
       "Index(['ra', 'dec', 'CaHK', 'e_CaHK', 'flag', 'E_BV', 'Jmag', 'Hmag', 'Kmag',\n",
       "       'e_Jmag',\n",
       "       ...\n",
       "       'e_imag_2', 'iFlags', 'zmag_2', 'e_zmag_2', 'zFlags', 'ymag', 'e_ymag',\n",
       "       'yFlags', 'angDist', 'Separation'],\n",
       "      dtype='object', length=110)"
      ]
     },
     "execution_count": 13,
     "metadata": {},
     "output_type": "execute_result"
    }
   ],
   "source": [
    "df.columns"
   ]
  },
  {
   "cell_type": "code",
   "execution_count": 5,
   "id": "29b7a339-83fe-4edd-bb4f-8e4b515b2b07",
   "metadata": {},
   "outputs": [],
   "source": [
    "# for phot table\n",
    "df.rename(columns = {'Jmag':'j_2mass', 'Hmag':'h_2mass', 'Kmag':'k_2mass', 'e_Jmag':'j_2mass_err', 'e_Hmag':'h_2mass_err', 'e_Kmag':'k_2mass_err', 'Qfl':'qfl_2mass',\n",
    "                     'pmRA_wise':'pmra_wise','pmDE_wise':'pmde_wise', 'e_pmRA_wise':'pmra_wise_err', 'e_pmDE_wise':'pmde_wise_err',\n",
    "                     'W1mproPM':'w1_wise', 'e_W1mproPM':'w1_wise_err','W2mproPM':'w2_wise', 'e_W2mproPM':'w2_wise_err', 'umag':'u_sdss',\n",
    "                     'gmag_1':'g_sdss', 'rmag_1':'r_sdss', 'imag_1':'i_sdss', 'zmag_1':'z_sdss', 'e_umag':'u_sdss_err', 'e_gmag_1':'g_sdss_err',\n",
    "                     'e_rmag_1':'r_sdss_err', 'e_imag_1':'i_sdss_err', 'e_zmag_1':'z_sdss_err', 'pmRA_sdss':'pmra_sdss', 'pmDE_sdss':'pmde_sdss',\n",
    "                     'e_pmRA_sdss':'pmra_sdss_err', 'e_pmDE_sdss':'pmde_sdss_err', 'E(B-V)':'E_BV_galex', 'FUVmag':'fuv_galex', 'e_FUVmag':'fuv_galex_err',\n",
    "                     'NUVmag':'nuv_galex', 'e_NUVmag':'nuv_galex_err', 'Separation_1':'2mass_wise_galex_sdss_sep','TYPE':'type_desi',\n",
    "                     'FLUX_G':'gflux_desi', 'FLUX_R':'rflux_desi', 'FLUX_Z':'zflux_desi', 'FLUX_W1':'w1flux_desi', 'FLUX_W2':'w2flux_desi',\n",
    "                     'FLUX_W3':'w3flux_desi', 'FLUX_W4':'w4flux_desi', 'FLUX_IVAR_G':'gflux_desi_err', 'FLUX_IVAR_R':'rflux_desi_err',\n",
    "                     'FLUX_IVAR_Z':'zflux_desi_err', 'FLUX_IVAR_W1':'w1flux_desi_err', 'FLUX_IVAR_W2':'w2flux_desi_err', 'FLUX_IVAR_W3':'w3flux_desi_err',\n",
    "                     'FLUX_IVAR_W4':'w4flux_desi_err', 'Z_SPEC':'zspec_desi_err', 'source_id':'source_id_gaia', 'parallax':'para_gaia',\n",
    "                     'parallax_error':'para_gaia_err', 'pmra':'pmra_gaia', 'pmra_error':'pmra_gaia_err', 'pmdec':'pmde_gaia', 'pmdec_error':'pmde_gaia_err',\n",
    "                     'phot_g_mean_mag':'g_gaia','phot_bp_mean_mag':'b_gaia', 'phot_rp_mean_mag':'r_gaia', 'dr2_radial_velocity':'rv_gaia',\n",
    "                     'dr2_radial_velocity_error':'rv_gaia_err', 'phot_g_mean_mag_error':'g_gaia_err', 'phot_bp_mean_mag_error':'b_gaia_err',\n",
    "                     'phot_rp_mean_mag_error':'r_gaia_err', 'u_cfht':'u_cfis', 'r_cfht':'r_cfis', 'u_cfht_err':'u_cfis_err', 'r_cfht_err':'r_cfis_err',\n",
    "                     'i_ps':'i_ps3', 'i_ps_err':'i_ps3_err', 'Separation_2':'desi_gaia_cfis_ps3_sep', 'Separation_1a':'8x_sep', 'Qual':'qfl_ps1', 'gmag_2':'g_ps1',\n",
    "                     'e_gmag_2':'g_ps1_err', 'gFlags':'g_ps1_flag', 'rmag_2':'r_ps1', 'e_rmag_2':'r_ps1_err', 'rFlags':'r_ps1_flag', 'imag_2':'i_ps1',\n",
    "                     'e_imag_2':'i_ps1_err', 'iFlags':'i_ps1_flag', 'zmag_2':'z_ps1', 'e_zmag_2':'z_ps1_err', 'zFlags':'z_ps1_flag', 'ymag':'y_ps1',\n",
    "                     'e_ymag':'y_ps1_err', 'yFlags':'y_ps1_flag', 'angDist':'pris_ps1_sep', 'Separation':'9x_sep'}, inplace = True)"
   ]
  },
  {
   "cell_type": "code",
   "execution_count": 14,
   "id": "10a58a59-a692-4ef2-8fa1-4f1a0c587680",
   "metadata": {},
   "outputs": [],
   "source": [
    "# # for spec table and phot table\n",
    "# df.rename(columns = {'Jmag':'j_2mass', 'Hmag':'h_2mass', 'Kmag':'k_2mass', 'e_Jmag':'j_2mass_err', 'e_Hmag':'h_2mass_err', 'e_Kmag':'k_2mass_err', 'Qfl':'qfl_2mass',\n",
    "#                      'pmRA_wise':'pmra_wise','pmDE_wise':'pmde_wise', 'e_pmRA_wise':'pmra_wise_err', 'e_pmDE_wise':'pmde_wise_err',\n",
    "#                      'W1mproPM':'w1_wise', 'e_W1mproPM':'w1_wise_err','W2mproPM':'w2_wise', 'e_W2mproPM':'w2_wise_err', 'umag':'u_sdss',\n",
    "#                      'gmag_1':'g_sdss', 'rmag_1':'r_sdss', 'imag_1':'i_sdss', 'zmag_1':'z_sdss', 'e_umag':'u_sdss_err', 'e_gmag_1':'g_sdss_err',\n",
    "#                      'e_rmag_1':'r_sdss_err', 'e_imag_1':'i_sdss_err', 'e_zmag_1':'z_sdss_err', 'pmRA_sdss':'pmra_sdss', 'pmDE_sdss':'pmde_sdss',\n",
    "#                      'e_pmRA_sdss':'pmra_sdss_err', 'e_pmDE_sdss':'pmde_sdss_err', 'E(B-V)':'E_BV_galex', 'FUVmag':'fuv_galex', 'e_FUVmag':'fuv_galex_err',\n",
    "#                      'NUVmag':'nuv_galex', 'e_NUVmag':'nuv_galex_err', 'Separation_1':'2mass_wise_galex_sdss_sep','TYPE':'type_desi',\n",
    "#                      'FLUX_G':'gflux_desi', 'FLUX_R':'rflux_desi', 'FLUX_Z':'zflux_desi', 'FLUX_W1':'w1flux_desi', 'FLUX_W2':'w2flux_desi',\n",
    "#                      'FLUX_W3':'w3flux_desi', 'FLUX_W4':'w4flux_desi', 'FLUX_IVAR_G':'gflux_desi_err', 'FLUX_IVAR_R':'rflux_desi_err',\n",
    "#                      'FLUX_IVAR_Z':'zflux_desi_err', 'FLUX_IVAR_W1':'w1flux_desi_err', 'FLUX_IVAR_W2':'w2flux_desi_err', 'FLUX_IVAR_W3':'w3flux_desi_err',\n",
    "#                      'FLUX_IVAR_W4':'w4flux_desi_err', 'Z_SPEC':'zspec_desi_err', 'source_id':'source_id_gaia', 'parallax':'para_gaia',\n",
    "#                      'parallax_error':'para_gaia_err', 'pmra':'pmra_gaia', 'pmra_error':'pmra_gaia_err', 'pmdec':'pmde_gaia', 'pmdec_error':'pmde_gaia_err',\n",
    "#                      'phot_g_mean_mag':'g_gaia','phot_bp_mean_mag':'b_gaia', 'phot_rp_mean_mag':'r_gaia', 'dr2_radial_velocity':'rv_gaia',\n",
    "#                      'dr2_radial_velocity_error':'rv_gaia_err', 'phot_g_mean_mag_error':'g_gaia_err', 'phot_bp_mean_mag_error':'b_gaia_err',\n",
    "#                      'phot_rp_mean_mag_error':'r_gaia_err', 'u_cfht':'u_cfis', 'r_cfht':'r_cfis', 'u_cfht_err':'u_cfis_err', 'r_cfht_err':'r_cfis_err',\n",
    "#                      'i_ps':'i_ps3', 'i_ps_err':'i_ps3_err', 'Separation_2':'desi_gaia_cfis_ps3_sep', 'Separation_1a':'8x_sep', 'Qual':'qfl_ps1', 'gmag_2':'g_ps1',\n",
    "#                      'e_gmag_2':'g_ps1_err', 'gFlags':'g_ps1_flag', 'rmag_2':'r_ps1', 'e_rmag_2':'r_ps1_err', 'rFlags':'r_ps1_flag', 'imag_2':'i_ps1',\n",
    "#                      'e_imag_2':'i_ps1_err', 'iFlags':'i_ps1_flag', 'zmag_2':'z_ps1', 'e_zmag_2':'z_ps1_err', 'zFlags':'z_ps1_flag', 'ymag':'y_ps1',\n",
    "#                      'e_ymag':'y_ps1_err', 'yFlags':'y_ps1_flag', 'angDist_1':'pris_ps1_sep', 'Separation_1b':'9x_sep'}, inplace = True)"
   ]
  },
  {
   "cell_type": "code",
   "execution_count": 15,
   "id": "ddcdf045-762f-4495-b590-c0f71805684a",
   "metadata": {},
   "outputs": [
    {
     "name": "stdout",
     "output_type": "stream",
     "text": [
      "ra\n",
      "dec\n",
      "CaHK\n",
      "e_CaHK\n",
      "flag\n",
      "E_BV\n",
      "Jmag\n",
      "Hmag\n",
      "Kmag\n",
      "e_Jmag\n",
      "e_Hmag\n",
      "e_Kmag\n",
      "Qfl\n",
      "pris_2mass_angDist\n",
      "pmRA_wise\n",
      "pmDE_wise\n",
      "e_pmRA_wise\n",
      "e_pmDE_wise\n",
      "W1mproPM\n",
      "e_W1mproPM\n",
      "W2mproPM\n",
      "e_W2mproPM\n",
      "pris_wise_angDist\n",
      "2mass_wise_sep\n",
      "umag\n",
      "gmag_1\n",
      "rmag_1\n",
      "imag_1\n",
      "zmag_1\n",
      "e_umag\n",
      "e_gmag_1\n",
      "e_rmag_1\n",
      "e_imag_1\n",
      "e_zmag_1\n",
      "pmRA_sdss\n",
      "pmDE_sdss\n",
      "e_pmRA_sdss\n",
      "e_pmDE_sdss\n",
      "pris_sdss_angDist\n",
      "E(B-V)\n",
      "FUVmag\n",
      "e_FUVmag\n",
      "NUVmag\n",
      "e_NUVmag\n",
      "pris_galex_angDist\n",
      "sdss_galex_sep\n",
      "Separation_1\n",
      "TYPE\n",
      "FLUX_G\n",
      "FLUX_R\n",
      "FLUX_Z\n",
      "FLUX_W1\n",
      "FLUX_W2\n",
      "FLUX_W3\n",
      "FLUX_W4\n",
      "FLUX_IVAR_G\n",
      "FLUX_IVAR_R\n",
      "FLUX_IVAR_Z\n",
      "FLUX_IVAR_W1\n",
      "FLUX_IVAR_W2\n",
      "FLUX_IVAR_W3\n",
      "FLUX_IVAR_W4\n",
      "Z_SPEC\n",
      "pris_legacy_sep\n",
      "source_id\n",
      "parallax\n",
      "parallax_error\n",
      "pmra\n",
      "pmra_error\n",
      "pmdec\n",
      "pmdec_error\n",
      "phot_g_mean_mag\n",
      "phot_bp_mean_mag\n",
      "phot_rp_mean_mag\n",
      "dr2_radial_velocity\n",
      "dr2_radial_velocity_error\n",
      "phot_g_mean_mag_error\n",
      "phot_bp_mean_mag_error\n",
      "phot_rp_mean_mag_error\n",
      "pris_gaia_sep\n",
      "legacy_gaia_sep\n",
      "u_cfht\n",
      "r_cfht\n",
      "u_cfht_err\n",
      "r_cfht_err\n",
      "pris_cfis_sep\n",
      "i_ps\n",
      "i_ps_err\n",
      "pris_pans_sep\n",
      "cfis_pans_sep\n",
      "Separation_2\n",
      "Separation_1a\n",
      "Qual\n",
      "gmag_2\n",
      "e_gmag_2\n",
      "gFlags\n",
      "rmag_2\n",
      "e_rmag_2\n",
      "rFlags\n",
      "imag_2\n",
      "e_imag_2\n",
      "iFlags\n",
      "zmag_2\n",
      "e_zmag_2\n",
      "zFlags\n",
      "ymag\n",
      "e_ymag\n",
      "yFlags\n",
      "angDist\n",
      "Separation\n"
     ]
    }
   ],
   "source": [
    "for i in df.columns:\n",
    "    print(i)"
   ]
  },
  {
   "cell_type": "code",
   "execution_count": 16,
   "id": "988ba150-df57-473f-9ee4-975b26820563",
   "metadata": {},
   "outputs": [],
   "source": [
    "df.to_parquet('/arc/home/aydanmckay/phottable_cuts_intersect_renamed.parquet')"
   ]
  },
  {
   "cell_type": "code",
   "execution_count": 17,
   "id": "3ed16775-6b92-4b4c-9ce8-fc2fa2ac008f",
   "metadata": {},
   "outputs": [],
   "source": [
    "# df.to_parquet('/arc/home/aydanmckay/phottable_spec_intersect_renamed.parquet')"
   ]
  },
  {
   "cell_type": "code",
   "execution_count": null,
   "id": "d5b10dd0-8405-4c26-9506-10b89e5bcfc8",
   "metadata": {},
   "outputs": [],
   "source": []
  }
 ],
 "metadata": {
  "kernelspec": {
   "display_name": "Python 3 (ipykernel)",
   "language": "python",
   "name": "python3"
  },
  "language_info": {
   "codemirror_mode": {
    "name": "ipython",
    "version": 3
   },
   "file_extension": ".py",
   "mimetype": "text/x-python",
   "name": "python",
   "nbconvert_exporter": "python",
   "pygments_lexer": "ipython3",
   "version": "3.9.12"
  }
 },
 "nbformat": 4,
 "nbformat_minor": 5
}
