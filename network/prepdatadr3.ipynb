{
 "cells": [
  {
   "cell_type": "markdown",
   "id": "68d6ff70-d455-4f9c-a6c1-d14a8b47c829",
   "metadata": {
    "tags": []
   },
   "source": [
    "### Preparing the data in the same way that Green+2020 did\n",
    "The original functions from data-driven-stars.py are imported above, and below you'll find my adaptions."
   ]
  },
  {
   "cell_type": "markdown",
   "id": "7d43e9cf-061d-42dc-a21c-7e8a119e2e3f",
   "metadata": {
    "tags": []
   },
   "source": [
    "Importing the appropriate packages."
   ]
  },
  {
   "cell_type": "code",
   "execution_count": 1,
   "id": "478ad2cb-3652-4014-b556-f159bef7d1e1",
   "metadata": {
    "jupyter": {
     "source_hidden": true
    },
    "tags": []
   },
   "outputs": [],
   "source": [
    "# hdu = fits.open('/arc/home/aydanmckay/phottable-x-lamost-final.fits')\n",
    "# from astropy.table import Table\n",
    "# hdu = fits.open('/arc/home/aydanmckay/gaiahike/bp_rp_lamost.fits')\n",
    "# d = hdu[1].data"
   ]
  },
  {
   "cell_type": "code",
   "execution_count": 2,
   "id": "f51a8dc7-6a69-4e04-905d-4617f60feb7e",
   "metadata": {
    "jupyter": {
     "source_hidden": true
    },
    "tags": []
   },
   "outputs": [],
   "source": [
    "# d = d[np.random.choice(len(d), size=100000, replace=False)]"
   ]
  },
  {
   "cell_type": "code",
   "execution_count": 3,
   "id": "15f9c20f-5e85-4145-9b82-8da927eb12d4",
   "metadata": {
    "jupyter": {
     "source_hidden": true
    },
    "tags": []
   },
   "outputs": [],
   "source": [
    "# # Gather into one dataset\n",
    "# dtype = [\n",
    "#     ('atm_param', '3f4'),\n",
    "#     ('atm_param_cov', 'f4', (3,3)),\n",
    "#     ('atm_param_p', '3f4'),           # normalized\n",
    "#     ('atm_param_cov_p', 'f4', (3,3)), # normalized\n",
    "#     ('bprp', '110f4'),\n",
    "#     ('bprperr', '110f4'),\n",
    "#     ('atm_source', 'S6')\n",
    "# ]\n",
    "\n",
    "# # mask = (d['r_ps1'] > 13.500888) & (d['E_BV'] < 0.2)\n",
    "# # d = d[mask]\n",
    "# # this is for the datav3 only, where the mask is applied\n",
    "# # just remove everywhere where [mask] exists\n",
    "\n",
    "# io_data = np.empty(d.size, dtype=dtype)\n",
    "\n",
    "# io_data['atm_source'] = 'lamost'\n",
    "\n",
    "# # Copy in parameters\n",
    "# io_data['atm_param'][:,0] = d['teff'][:]\n",
    "# io_data['atm_param'][:,1] = d['logg'][:]\n",
    "# io_data['atm_param'][:,2] = d['feh'][:]\n",
    "# # io_data['atm_param'][:,0] = d['TEFF_PASTEL'][:]\n",
    "# # io_data['atm_param'][:,1] = d['LOGG_PASTEL'][:]\n",
    "# # io_data['atm_param'][:,2] = d['FEH_PASTEL'][:]\n",
    "\n",
    "# # Diagonal covariance matrix\n",
    "# io_data['atm_param_cov'][:] = 0.\n",
    "# # io_data['atm_param_cov'][:,0,0] = d['err_teff_pastel']**2.\n",
    "# # io_data['atm_param_cov'][:,1,1] = d['err_logg_pastel']**2.\n",
    "# # io_data['atm_param_cov'][:,2,2] = d['err_feh_pastel']**2.\n",
    "# io_data['atm_param_cov'][:,0,0] = 0\n",
    "# io_data['atm_param_cov'][:,1,1] = 0\n",
    "# io_data['atm_param_cov'][:,2,2] = 0\n",
    "\n",
    "# # Add in error floor to atmospheric parameters\n",
    "# sigma_atm_param_floor = [10., 0.05, 0.03] # (T_eff, logg, [M/H])\n",
    "# for i,sig in enumerate(sigma_atm_param_floor):\n",
    "#     io_data['atm_param_cov'][:,i,i] += sig**2\n",
    "\n",
    "# # Print correlation matrices, for fun\n",
    "# for i in range(10):\n",
    "#     rho = get_corr_matrix(io_data['atm_param_cov'][i])\n",
    "#     print('Correlation matrices:')\n",
    "#     print(np.array2string(\n",
    "#         rho,\n",
    "#         formatter={'float_kind':lambda z:'{: >7.4f}'.format(z)}\n",
    "#     ))\n",
    "\n",
    "# ###################################################################################################################\n",
    "\n",
    "# xps = [ \"bp_1\", \"bp_2\", \"bp_3\", \"bp_4\", \"bp_5\", \"bp_6\", \"bp_7\", \"bp_8\", \"bp_9\", \"bp_10\", \"bp_11\", \"bp_12\", \"bp_13\", \"bp_14\", \"bp_15\",\n",
    "#              \"bp_16\", \"bp_17\", \"bp_18\", \"bp_19\", \"bp_20\", \"bp_21\", \"bp_22\", \"bp_23\", \"bp_24\", \"bp_25\", \"bp_26\", \"bp_27\", \"bp_28\", \"bp_29\",\n",
    "#              \"bp_30\", \"bp_31\", \"bp_32\", \"bp_33\", \"bp_34\", \"bp_35\", \"bp_36\", \"bp_37\", \"bp_38\", \"bp_39\", \"bp_40\", \"bp_41\", \"bp_42\", \"bp_43\",\n",
    "#              \"bp_44\", \"bp_45\", \"bp_46\", \"bp_47\", \"bp_48\", \"bp_49\", \"bp_50\", \"bp_51\", \"bp_52\", \"bp_53\", \"bp_54\", \"bp_55\", \"rp_1\", \"rp_2\",\n",
    "#              \"rp_3\", \"rp_4\", \"rp_5\", \"rp_6\", \"rp_7\", \"rp_8\", \"rp_9\", \"rp_10\", \"rp_11\", \"rp_12\", \"rp_13\", \"rp_14\", \"rp_15\", \"rp_16\", \"rp_17\",\n",
    "#              \"rp_18\", \"rp_19\", \"rp_20\", \"rp_21\", \"rp_22\", \"rp_23\", \"rp_24\", \"rp_25\", \"rp_26\", \"rp_27\", \"rp_28\", \"rp_29\", \"rp_30\", \"rp_31\",\n",
    "#              \"rp_32\", \"rp_33\", \"rp_34\", \"rp_35\", \"rp_36\", \"rp_37\", \"rp_38\", \"rp_39\", \"rp_40\", \"rp_41\", \"rp_42\", \"rp_43\", \"rp_44\", \"rp_45\",\n",
    "#              \"rp_46\", \"rp_47\", \"rp_48\", \"rp_49\", \"rp_50\", \"rp_51\", \"rp_52\", \"rp_53\", \"rp_54\", \"rp_55\"]\n",
    "\n",
    "# xpes = [\"bpe_1\", \"bpe_2\", \"bpe_3\", \"bpe_4\", \"bpe_5\", \"bpe_6\", \"bpe_7\", \"bpe_8\", \"bpe_9\", \"bpe_10\", \"bpe_11\", \"bpe_12\", \"bpe_13\", \"bpe_14\",\n",
    "#        \"bpe_15\", \"bpe_16\", \"bpe_17\", \"bpe_18\", \"bpe_19\", \"bpe_20\", \"bpe_21\", \"bpe_22\", \"bpe_23\", \"bpe_24\", \"bpe_25\", \"bpe_26\", \"bpe_27\",\n",
    "#        \"bpe_28\", \"bpe_29\", \"bpe_30\", \"bpe_31\", \"bpe_32\", \"bpe_33\", \"bpe_34\", \"bpe_35\", \"bpe_36\", \"bpe_37\", \"bpe_38\", \"bpe_39\", \"bpe_40\",\n",
    "#        \"bpe_41\", \"bpe_42\", \"bpe_43\", \"bpe_44\", \"bpe_45\", \"bpe_46\", \"bpe_47\", \"bpe_48\", \"bpe_49\", \"bpe_50\", \"bpe_51\", \"bpe_52\", \"bpe_53\",\n",
    "#        \"bpe_54\", \"bpe_55\", \"rpe_1\", \"rpe_2\", \"rpe_3\", \"rpe_4\", \"rpe_5\", \"rpe_6\", \"rpe_7\", \"rpe_8\", \"rpe_9\", \"rpe_10\", \"rpe_11\", \"rpe_12\",\n",
    "#        \"rpe_13\", \"rpe_14\", \"rpe_15\", \"rpe_16\", \"rpe_17\", \"rpe_18\", \"rpe_19\", \"rpe_20\", \"rpe_21\", \"rpe_22\", \"rpe_23\", \"rpe_24\", \"rpe_25\",\n",
    "#        \"rpe_26\", \"rpe_27\", \"rpe_28\", \"rpe_29\", \"rpe_30\", \"rpe_31\", \"rpe_32\", \"rpe_33\", \"rpe_34\", \"rpe_35\", \"rpe_36\", \"rpe_37\", \"rpe_38\",\n",
    "#        \"rpe_39\", \"rpe_40\", \"rpe_41\", \"rpe_42\", \"rpe_43\", \"rpe_44\", \"rpe_45\", \"rpe_46\", \"rpe_47\", \"rpe_48\", \"rpe_49\", \"rpe_50\", \"rpe_51\",\n",
    "#        \"rpe_52\", \"rpe_53\", \"rpe_54\", \"rpe_55\"]\n",
    "\n",
    "# # Copy in spectra\n",
    "# for it,(xp,xpe) in enumerate(zip(xps,xpes)):\n",
    "#     io_data['bprp'][:,it] = d[xp]\n",
    "#     io_data['bprperr'][:,it] = d[xpe]"
   ]
  },
  {
   "cell_type": "code",
   "execution_count": 4,
   "id": "a466a7eb-5fa7-4bc0-98c0-796ef175ab28",
   "metadata": {
    "jupyter": {
     "source_hidden": true
    },
    "tags": []
   },
   "outputs": [],
   "source": [
    "# io_data,(atm_param_med,atm_param_std) = finalize_data(io_data)\n",
    "# print_stats(io_data)\n",
    "\n",
    "# with h5py.File('/arc/home/aydanmckay/ml/network/datasets/dr3datasmall.h5', 'w') as f:\n",
    "#     dset = f.create_dataset(\n",
    "#         'io_data',\n",
    "#         data=io_data,\n",
    "#         chunks=True,\n",
    "#         compression='gzip',\n",
    "#         compression_opts=3\n",
    "#     )\n",
    "#     dset.attrs['atm_param_med'] = atm_param_med\n",
    "#     dset.attrs['atm_param_std'] = atm_param_std"
   ]
  },
  {
   "cell_type": "code",
   "execution_count": 5,
   "id": "8afb5a59-a521-43e7-ac3b-4e8ec17f52ca",
   "metadata": {
    "jupyter": {
     "source_hidden": true
    },
    "tags": []
   },
   "outputs": [],
   "source": [
    "# with h5py.File('/arc/home/aydanmckay/ml/network/datasets/dr3datasmall.h5', 'r') as f:\n",
    "#     # d = f['data'][:]       # All the data needed to train or test the model\n",
    "#     print(f)"
   ]
  },
  {
   "cell_type": "code",
   "execution_count": 6,
   "id": "0f53ab21-e249-4b49-b746-6ad2a5d2d20f",
   "metadata": {},
   "outputs": [],
   "source": [
    "# hdu = fits.open('/arc/home/aydanmckay/phottable-x-lamost-final.fits')\n",
    "from astropy.table import Table\n",
    "from astropy.io import fits\n",
    "import numpy as np\n",
    "from sklearn.model_selection import train_test_split"
   ]
  },
  {
   "cell_type": "code",
   "execution_count": 7,
   "id": "d833bfe8-ef55-4a92-ade0-d283b14c30b2",
   "metadata": {},
   "outputs": [],
   "source": [
    "hdu = fits.open('/arc/home/aydanmckay/gaiahike/bp_rp_apogee.fits')\n",
    "dataset = hdu[1].data"
   ]
  },
  {
   "cell_type": "code",
   "execution_count": 8,
   "id": "a2cba141-256c-464c-9dca-6ddeb88656a4",
   "metadata": {},
   "outputs": [],
   "source": [
    "# idx = np.random.choice(int(len(d)*.9), size=len(d), replace=False)\n",
    "# d_train = d[idx]\n",
    "# d_test = d[~idx]\n",
    "# len(d_test)\n",
    "d_train, d_test = train_test_split(dataset,test_size=0.1)"
   ]
  },
  {
   "cell_type": "code",
   "execution_count": 9,
   "id": "f6070098-e929-436f-940a-564954b91682",
   "metadata": {},
   "outputs": [
    {
     "data": {
      "text/plain": [
       "642528"
      ]
     },
     "execution_count": 9,
     "metadata": {},
     "output_type": "execute_result"
    }
   ],
   "source": [
    "len(dataset)"
   ]
  },
  {
   "cell_type": "code",
   "execution_count": 10,
   "id": "041ef08d-e338-41a7-96f2-fb9d22c2eecf",
   "metadata": {},
   "outputs": [
    {
     "data": {
      "text/plain": [
       "578275"
      ]
     },
     "execution_count": 10,
     "metadata": {},
     "output_type": "execute_result"
    }
   ],
   "source": [
    "len(d_train)"
   ]
  },
  {
   "cell_type": "code",
   "execution_count": 11,
   "id": "58887ba8-9ef9-4bb7-a33a-0d46c6470f95",
   "metadata": {},
   "outputs": [
    {
     "name": "stdout",
     "output_type": "stream",
     "text": [
      "<HDF5 group \"/\" (2 members)>\n",
      "<HDF5 group \"/group_1\" (2 members)>\n",
      "<HDF5 group \"/group_2\" (2 members)>\n",
      "<HDF5 dataset \"data\": shape (3, 578275), type \"|V12\">\n",
      "<HDF5 group \"/group_1\" (2 members)>\n"
     ]
    }
   ],
   "source": [
    "# Example Python program that creates a hierarchy of groups\n",
    "# and datasets in a HDF5 file using h5py\n",
    "import h5py\n",
    "import random\n",
    "import numpy.random\n",
    "\n",
    "# Create a HDF5 file\n",
    "hierarchicalFileName  = \"/arc/home/aydanmckay/mydata.h5\"\n",
    "with h5py.File(hierarchicalFileName, 'w') as hierarchicalFile:\n",
    "    # Create a group under root\n",
    "    train = hierarchicalFile.create_group(\"group_1\")\n",
    "    test = hierarchicalFile.create_group(\"group_2\")\n",
    "\n",
    "    train['data'] = np.array([d_train['fe_h'],d_train['logg'],d_train['teff']],dtype=[('fe_h','f4'),('logg','f4'),('teff','f4')])\n",
    "    train['label'] = np.array([d_train[\"bp_1\"],d_train[\"bp_2\"],d_train[\"bp_3\"],d_train[\"bp_4\"],d_train[\"bp_5\"],d_train[\"bp_6\"],d_train[\"bp_7\"],\n",
    "                               d_train[\"bp_8\"],d_train[\"bp_9\"],d_train[\"bp_10\"],d_train[\"bp_11\"],d_train[\"bp_12\"],d_train[\"bp_13\"],d_train[\"bp_14\"],\n",
    "                               d_train[\"bp_15\"],d_train[\"bp_16\"],d_train[\"bp_17\"],d_train[\"bp_18\"],d_train[\"bp_19\"],d_train[\"bp_20\"],d_train[\"bp_21\"],\n",
    "                               d_train[\"bp_22\"],d_train[\"bp_23\"],d_train[\"bp_24\"],d_train[\"bp_25\"],d_train[\"bp_26\"],d_train[\"bp_27\"],d_train[\"bp_28\"],\n",
    "                               d_train[\"bp_29\"],d_train[\"bp_30\"],d_train[\"bp_31\"],d_train[\"bp_32\"],d_train[\"bp_33\"],d_train[\"bp_34\"],d_train[\"bp_35\"],\n",
    "                               d_train[\"bp_36\"],d_train[\"bp_37\"],d_train[\"bp_38\"],d_train[\"bp_39\"],d_train[\"bp_40\"],d_train[\"bp_41\"],d_train[\"bp_42\"],\n",
    "                               d_train[\"bp_43\"],d_train[\"bp_44\"],d_train[\"bp_45\"],d_train[\"bp_46\"],d_train[\"bp_47\"],d_train[\"bp_48\"],d_train[\"bp_49\"],\n",
    "                               d_train[\"bp_50\"],d_train[\"bp_51\"],d_train[\"bp_52\"],d_train[\"bp_53\"],d_train[\"bp_54\"],d_train[\"bp_55\"],d_train[\"rp_1\"],\n",
    "                               d_train[\"rp_2\"],d_train[\"rp_3\"],d_train[\"rp_4\"],d_train[\"rp_5\"],d_train[\"rp_6\"],d_train[\"rp_7\"],d_train[\"rp_8\"],\n",
    "                               d_train[\"rp_9\"],d_train[\"rp_10\"],d_train[\"rp_11\"],d_train[\"rp_12\"],d_train[\"rp_13\"],d_train[\"rp_14\"],d_train[\"rp_15\"],\n",
    "                               d_train[\"rp_16\"],d_train[\"rp_17\"],d_train[\"rp_18\"],d_train[\"rp_19\"],d_train[\"rp_20\"],d_train[\"rp_21\"],d_train[\"rp_22\"],\n",
    "                               d_train[\"rp_23\"],d_train[\"rp_24\"],d_train[\"rp_25\"],d_train[\"rp_26\"],d_train[\"rp_27\"],d_train[\"rp_28\"],d_train[\"rp_29\"],\n",
    "                               d_train[\"rp_30\"],d_train[\"rp_31\"],d_train[\"rp_32\"],d_train[\"rp_33\"],d_train[\"rp_34\"],d_train[\"rp_35\"],d_train[\"rp_36\"],\n",
    "                               d_train[\"rp_37\"],d_train[\"rp_38\"],d_train[\"rp_39\"],d_train[\"rp_40\"],d_train[\"rp_41\"],d_train[\"rp_42\"],d_train[\"rp_43\"],\n",
    "                               d_train[\"rp_44\"],d_train[\"rp_45\"],d_train[\"rp_46\"],d_train[\"rp_47\"],d_train[\"rp_48\"],d_train[\"rp_49\"],d_train[\"rp_50\"],\n",
    "                               d_train[\"rp_51\"],d_train[\"rp_52\"],d_train[\"rp_53\"],d_train[\"rp_54\"],d_train[\"rp_55\"]])\n",
    "    # train['e_label'] = np.array([d_train[\"bpe_1\"],d_train[\"bpe_2\"],d_train[\"bpe_3\"],d_train[\"bpe_4\"],d_train[\"bpe_5\"],d_train[\"bpe_6\"],d_train[\"bpe_7\"],\n",
    "    #                            d_train[\"bpe_8\"],d_train[\"bpe_9\"],d_train[\"bpe_10\"],d_train[\"bpe_11\"],d_train[\"bpe_12\"],d_train[\"bpe_13\"],d_train[\"bpe_14\"],\n",
    "    #                            d_train[\"bpe_15\"],d_train[\"bpe_16\"],d_train[\"bpe_17\"],d_train[\"bpe_18\"],d_train[\"bpe_19\"],d_train[\"bpe_20\"],d_train[\"bpe_21\"],\n",
    "    #                            d_train[\"bpe_22\"],d_train[\"bpe_23\"],d_train[\"bpe_24\"],d_train[\"bpe_25\"],d_train[\"bpe_26\"],d_train[\"bpe_27\"],d_train[\"bpe_28\"],\n",
    "    #                            d_train[\"bpe_29\"],d_train[\"bpe_30\"],d_train[\"bpe_31\"],d_train[\"bpe_32\"],d_train[\"bpe_33\"],d_train[\"bpe_34\"],d_train[\"bpe_35\"],\n",
    "    #                            d_train[\"bpe_36\"],d_train[\"bpe_37\"],d_train[\"bpe_38\"],d_train[\"bpe_39\"],d_train[\"bpe_40\"],d_train[\"bpe_41\"],d_train[\"bpe_42\"],\n",
    "    #                            d_train[\"bpe_43\"],d_train[\"bpe_44\"],d_train[\"bpe_45\"],d_train[\"bpe_46\"],d_train[\"bpe_47\"],d_train[\"bpe_48\"],d_train[\"bpe_49\"],\n",
    "    #                            d_train[\"bpe_50\"],d_train[\"bpe_51\"],d_train[\"bpe_52\"],d_train[\"bpe_53\"],d_train[\"bpe_54\"],d_train[\"bpe_55\"],d_train[\"rpe_1\"],\n",
    "    #                            d_train[\"rpe_2\"],d_train[\"rpe_3\"],d_train[\"rpe_4\"],d_train[\"rpe_5\"],d_train[\"rpe_6\"],d_train[\"rpe_7\"],d_train[\"rpe_8\"],\n",
    "    #                            d_train[\"rpe_9\"],d_train[\"rpe_10\"],d_train[\"rpe_11\"],d_train[\"rpe_12\"],d_train[\"rpe_13\"],d_train[\"rpe_14\"],d_train[\"rpe_15\"],\n",
    "    #                            d_train[\"rpe_16\"],d_train[\"rpe_17\"],d_train[\"rpe_18\"],d_train[\"rpe_19\"],d_train[\"rpe_20\"],d_train[\"rpe_21\"],d_train[\"rpe_22\"],\n",
    "    #                            d_train[\"rpe_23\"],d_train[\"rpe_24\"],d_train[\"rpe_25\"],d_train[\"rpe_26\"],d_train[\"rpe_27\"],d_train[\"rpe_28\"],d_train[\"rpe_29\"],\n",
    "    #                            d_train[\"rpe_30\"],d_train[\"rpe_31\"],d_train[\"rpe_32\"],d_train[\"rpe_33\"],d_train[\"rpe_34\"],d_train[\"rpe_35\"],d_train[\"rpe_36\"],\n",
    "    #                            d_train[\"rpe_37\"],d_train[\"rpe_38\"],d_train[\"rpe_39\"],d_train[\"rpe_40\"],d_train[\"rpe_41\"],d_train[\"rpe_42\"],d_train[\"rpe_43\"],\n",
    "    #                            d_train[\"rpe_44\"],d_train[\"rpe_45\"],d_train[\"rpe_46\"],d_train[\"rpe_47\"],d_train[\"rpe_48\"],d_train[\"rpe_49\"],d_train[\"rpe_50\"],\n",
    "    #                            d_train[\"rpe_51\"],d_train[\"rpe_52\"],d_train[\"rpe_53\"],d_train[\"rpe_54\"],d_train[\"rpe_55\"]])\n",
    "    test['data'] = np.array([d_test['fe_h'],d_test['logg'],d_test['teff']],dtype=[('fe_h','f4'),('logg','f4'),('teff','f4')])\n",
    "    test['label'] = np.array([d_test[\"bp_1\"],d_test[\"bp_2\"],d_test[\"bp_3\"],d_test[\"bp_4\"],d_test[\"bp_5\"],d_test[\"bp_6\"],d_test[\"bp_7\"],\n",
    "                               d_test[\"bp_8\"],d_test[\"bp_9\"],d_test[\"bp_10\"],d_test[\"bp_11\"],d_test[\"bp_12\"],d_test[\"bp_13\"],d_test[\"bp_14\"],\n",
    "                               d_test[\"bp_15\"],d_test[\"bp_16\"],d_test[\"bp_17\"],d_test[\"bp_18\"],d_test[\"bp_19\"],d_test[\"bp_20\"],d_test[\"bp_21\"],\n",
    "                               d_test[\"bp_22\"],d_test[\"bp_23\"],d_test[\"bp_24\"],d_test[\"bp_25\"],d_test[\"bp_26\"],d_test[\"bp_27\"],d_test[\"bp_28\"],\n",
    "                               d_test[\"bp_29\"],d_test[\"bp_30\"],d_test[\"bp_31\"],d_test[\"bp_32\"],d_test[\"bp_33\"],d_test[\"bp_34\"],d_test[\"bp_35\"],\n",
    "                               d_test[\"bp_36\"],d_test[\"bp_37\"],d_test[\"bp_38\"],d_test[\"bp_39\"],d_test[\"bp_40\"],d_test[\"bp_41\"],d_test[\"bp_42\"],\n",
    "                               d_test[\"bp_43\"],d_test[\"bp_44\"],d_test[\"bp_45\"],d_test[\"bp_46\"],d_test[\"bp_47\"],d_test[\"bp_48\"],d_test[\"bp_49\"],\n",
    "                               d_test[\"bp_50\"],d_test[\"bp_51\"],d_test[\"bp_52\"],d_test[\"bp_53\"],d_test[\"bp_54\"],d_test[\"bp_55\"],d_test[\"rp_1\"],\n",
    "                               d_test[\"rp_2\"],d_test[\"rp_3\"],d_test[\"rp_4\"],d_test[\"rp_5\"],d_test[\"rp_6\"],d_test[\"rp_7\"],d_test[\"rp_8\"],\n",
    "                               d_test[\"rp_9\"],d_test[\"rp_10\"],d_test[\"rp_11\"],d_test[\"rp_12\"],d_test[\"rp_13\"],d_test[\"rp_14\"],d_test[\"rp_15\"],\n",
    "                               d_test[\"rp_16\"],d_test[\"rp_17\"],d_test[\"rp_18\"],d_test[\"rp_19\"],d_test[\"rp_20\"],d_test[\"rp_21\"],d_test[\"rp_22\"],\n",
    "                               d_test[\"rp_23\"],d_test[\"rp_24\"],d_test[\"rp_25\"],d_test[\"rp_26\"],d_test[\"rp_27\"],d_test[\"rp_28\"],d_test[\"rp_29\"],\n",
    "                               d_test[\"rp_30\"],d_test[\"rp_31\"],d_test[\"rp_32\"],d_test[\"rp_33\"],d_test[\"rp_34\"],d_test[\"rp_35\"],d_test[\"rp_36\"],\n",
    "                               d_test[\"rp_37\"],d_test[\"rp_38\"],d_test[\"rp_39\"],d_test[\"rp_40\"],d_test[\"rp_41\"],d_test[\"rp_42\"],d_test[\"rp_43\"],\n",
    "                               d_test[\"rp_44\"],d_test[\"rp_45\"],d_test[\"rp_46\"],d_test[\"rp_47\"],d_test[\"rp_48\"],d_test[\"rp_49\"],d_test[\"rp_50\"],\n",
    "                               d_test[\"rp_51\"],d_test[\"rp_52\"],d_test[\"rp_53\"],d_test[\"rp_54\"],d_test[\"rp_55\"]])\n",
    "    # test['e_label'] = np.array([d_test[\"bpe_1\"],d_test[\"bpe_2\"],d_test[\"bpe_3\"],d_test[\"bpe_4\"],d_test[\"bpe_5\"],d_test[\"bpe_6\"],d_test[\"bpe_7\"],\n",
    "    #                            d_test[\"bpe_8\"],d_test[\"bpe_9\"],d_test[\"bpe_10\"],d_test[\"bpe_11\"],d_test[\"bpe_12\"],d_test[\"bpe_13\"],d_test[\"bpe_14\"],\n",
    "    #                            d_test[\"bpe_15\"],d_test[\"bpe_16\"],d_test[\"bpe_17\"],d_test[\"bpe_18\"],d_test[\"bpe_19\"],d_test[\"bpe_20\"],d_test[\"bpe_21\"],\n",
    "    #                            d_test[\"bpe_22\"],d_test[\"bpe_23\"],d_test[\"bpe_24\"],d_test[\"bpe_25\"],d_test[\"bpe_26\"],d_test[\"bpe_27\"],d_test[\"bpe_28\"],\n",
    "    #                            d_test[\"bpe_29\"],d_test[\"bpe_30\"],d_test[\"bpe_31\"],d_test[\"bpe_32\"],d_test[\"bpe_33\"],d_test[\"bpe_34\"],d_test[\"bpe_35\"],\n",
    "    #                            d_test[\"bpe_36\"],d_test[\"bpe_37\"],d_test[\"bpe_38\"],d_test[\"bpe_39\"],d_test[\"bpe_40\"],d_test[\"bpe_41\"],d_test[\"bpe_42\"],\n",
    "    #                            d_test[\"bpe_43\"],d_test[\"bpe_44\"],d_test[\"bpe_45\"],d_test[\"bpe_46\"],d_test[\"bpe_47\"],d_test[\"bpe_48\"],d_test[\"bpe_49\"],\n",
    "    #                            d_test[\"bpe_50\"],d_test[\"bpe_51\"],d_test[\"bpe_52\"],d_test[\"bpe_53\"],d_test[\"bpe_54\"],d_test[\"bpe_55\"],d_test[\"rpe_1\"],\n",
    "    #                            d_test[\"rpe_2\"],d_test[\"rpe_3\"],d_test[\"rpe_4\"],d_test[\"rpe_5\"],d_test[\"rpe_6\"],d_test[\"rpe_7\"],d_test[\"rpe_8\"],\n",
    "    #                            d_test[\"rpe_9\"],d_test[\"rpe_10\"],d_test[\"rpe_11\"],d_test[\"rpe_12\"],d_test[\"rpe_13\"],d_test[\"rpe_14\"],d_test[\"rpe_15\"],\n",
    "    #                            d_test[\"rpe_16\"],d_test[\"rpe_17\"],d_test[\"rpe_18\"],d_test[\"rpe_19\"],d_test[\"rpe_20\"],d_test[\"rpe_21\"],d_test[\"rpe_22\"],\n",
    "    #                            d_test[\"rpe_23\"],d_test[\"rpe_24\"],d_test[\"rpe_25\"],d_test[\"rpe_26\"],d_test[\"rpe_27\"],d_test[\"rpe_28\"],d_test[\"rpe_29\"],\n",
    "    #                            d_test[\"rpe_30\"],d_test[\"rpe_31\"],d_test[\"rpe_32\"],d_test[\"rpe_33\"],d_test[\"rpe_34\"],d_test[\"rpe_35\"],d_test[\"rpe_36\"],\n",
    "    #                            d_test[\"rpe_37\"],d_test[\"rpe_38\"],d_test[\"rpe_39\"],d_test[\"rpe_40\"],d_test[\"rpe_41\"],d_test[\"rpe_42\"],d_test[\"rpe_43\"],\n",
    "    #                            d_test[\"rpe_44\"],d_test[\"rpe_45\"],d_test[\"rpe_46\"],d_test[\"rpe_47\"],d_test[\"rpe_48\"],d_test[\"rpe_49\"],d_test[\"rpe_50\"],\n",
    "    #                            d_test[\"rpe_51\"],d_test[\"rpe_52\"],d_test[\"rpe_53\"],d_test[\"rpe_54\"],d_test[\"rpe_55\"]])\n",
    "    # Print the groups\n",
    "    print(hierarchicalFile[\"/\"])\n",
    "    print(train)\n",
    "    print(test)\n",
    "    print(train['data'])\n",
    "    print(train[\"data\"].parent)"
   ]
  },
  {
   "cell_type": "code",
   "execution_count": 12,
   "id": "88e03dc1-ebca-4f1b-bcfd-b5e7df8d014b",
   "metadata": {},
   "outputs": [],
   "source": [
    "with h5py.File(\"/arc/home/aydanmckay/mydata.h5\", 'r') as f:\n",
    "    d = f['group_2']['data']\n",
    "    dset = d[:]"
   ]
  },
  {
   "cell_type": "code",
   "execution_count": 13,
   "id": "e906b63c-a2ad-4e35-a5e1-bcfc6d4d1664",
   "metadata": {},
   "outputs": [
    {
     "data": {
      "text/plain": [
       "(3, 64253)"
      ]
     },
     "execution_count": 13,
     "metadata": {},
     "output_type": "execute_result"
    }
   ],
   "source": [
    "dset.shape"
   ]
  },
  {
   "cell_type": "code",
   "execution_count": 14,
   "id": "489525ec-7192-4fda-b789-24dcd19a56b7",
   "metadata": {},
   "outputs": [
    {
     "data": {
      "text/plain": [
       "True"
      ]
     },
     "execution_count": 14,
     "metadata": {},
     "output_type": "execute_result"
    }
   ],
   "source": [
    "dset.shape[1]+len(d_train) == len(dataset)"
   ]
  },
  {
   "cell_type": "code",
   "execution_count": 15,
   "id": "95631143-beef-43d6-8826-b5142bb6263e",
   "metadata": {},
   "outputs": [
    {
     "data": {
      "text/plain": [
       "642528"
      ]
     },
     "execution_count": 15,
     "metadata": {},
     "output_type": "execute_result"
    }
   ],
   "source": [
    "len(dataset)"
   ]
  },
  {
   "cell_type": "code",
   "execution_count": null,
   "id": "bc5e3752-7e60-47b6-9634-ca6aa20a5a5a",
   "metadata": {},
   "outputs": [],
   "source": []
  }
 ],
 "metadata": {
  "kernelspec": {
   "display_name": "Python 3 (ipykernel)",
   "language": "python",
   "name": "python3"
  },
  "language_info": {
   "codemirror_mode": {
    "name": "ipython",
    "version": 3
   },
   "file_extension": ".py",
   "mimetype": "text/x-python",
   "name": "python",
   "nbconvert_exporter": "python",
   "pygments_lexer": "ipython3",
   "version": "3.9.13"
  }
 },
 "nbformat": 4,
 "nbformat_minor": 5
}
