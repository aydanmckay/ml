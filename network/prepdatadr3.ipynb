{
 "cells": [
  {
   "cell_type": "markdown",
   "id": "68d6ff70-d455-4f9c-a6c1-d14a8b47c829",
   "metadata": {
    "tags": []
   },
   "source": [
    "### Preparing the data in HDF5 Formatting\n",
    "Switching the .fits file to an HDF5 for better storage management and mainly practice"
   ]
  },
  {
   "cell_type": "markdown",
   "id": "7d43e9cf-061d-42dc-a21c-7e8a119e2e3f",
   "metadata": {
    "tags": []
   },
   "source": [
    "Importing the appropriate packages."
   ]
  },
  {
   "cell_type": "code",
   "execution_count": 1,
   "id": "0f53ab21-e249-4b49-b746-6ad2a5d2d20f",
   "metadata": {},
   "outputs": [],
   "source": [
    "from astropy.table import Table\n",
    "from astropy.io import fits\n",
    "import numpy as np\n",
    "from sklearn.model_selection import train_test_split\n",
    "import pandas as pd\n",
    "import h5py"
   ]
  },
  {
   "cell_type": "code",
   "execution_count": 10,
   "id": "8c8c3405-9409-4188-a894-799384ac4ea0",
   "metadata": {},
   "outputs": [],
   "source": [
    "data = Table.read('/arc/home/aydanmckay/gaiahike/bp_rp_apogee.fits').to_pandas()"
   ]
  },
  {
   "cell_type": "code",
   "execution_count": 11,
   "id": "ee019e60-87d5-4929-8a3a-402762699890",
   "metadata": {},
   "outputs": [
    {
     "data": {
      "text/html": [
       "<div>\n",
       "<style scoped>\n",
       "    .dataframe tbody tr th:only-of-type {\n",
       "        vertical-align: middle;\n",
       "    }\n",
       "\n",
       "    .dataframe tbody tr th {\n",
       "        vertical-align: top;\n",
       "    }\n",
       "\n",
       "    .dataframe thead th {\n",
       "        text-align: right;\n",
       "    }\n",
       "</style>\n",
       "<table border=\"1\" class=\"dataframe\">\n",
       "  <thead>\n",
       "    <tr style=\"text-align: right;\">\n",
       "      <th></th>\n",
       "      <th>sfd_ebv</th>\n",
       "      <th>gaiaedr3_phot_g_mean_mag</th>\n",
       "      <th>source_id</th>\n",
       "      <th>fe_h</th>\n",
       "      <th>m_h</th>\n",
       "      <th>alpha_m</th>\n",
       "      <th>logg</th>\n",
       "      <th>teff</th>\n",
       "      <th>ra</th>\n",
       "      <th>dec</th>\n",
       "      <th>...</th>\n",
       "      <th>rpe_46</th>\n",
       "      <th>rpe_47</th>\n",
       "      <th>rpe_48</th>\n",
       "      <th>rpe_49</th>\n",
       "      <th>rpe_50</th>\n",
       "      <th>rpe_51</th>\n",
       "      <th>rpe_52</th>\n",
       "      <th>rpe_53</th>\n",
       "      <th>rpe_54</th>\n",
       "      <th>rpe_55</th>\n",
       "    </tr>\n",
       "  </thead>\n",
       "  <tbody>\n",
       "    <tr>\n",
       "      <th>count</th>\n",
       "      <td>535928.000000</td>\n",
       "      <td>642528.000000</td>\n",
       "      <td>6.425280e+05</td>\n",
       "      <td>572305.000000</td>\n",
       "      <td>572279.000000</td>\n",
       "      <td>572028.000000</td>\n",
       "      <td>608715.000000</td>\n",
       "      <td>608715.000000</td>\n",
       "      <td>642528.000000</td>\n",
       "      <td>642528.000000</td>\n",
       "      <td>...</td>\n",
       "      <td>642528.000000</td>\n",
       "      <td>642528.000000</td>\n",
       "      <td>642528.000000</td>\n",
       "      <td>642528.000000</td>\n",
       "      <td>642528.000000</td>\n",
       "      <td>642528.000000</td>\n",
       "      <td>642528.000000</td>\n",
       "      <td>642528.000000</td>\n",
       "      <td>642528.000000</td>\n",
       "      <td>642528.000000</td>\n",
       "    </tr>\n",
       "    <tr>\n",
       "      <th>mean</th>\n",
       "      <td>0.220359</td>\n",
       "      <td>13.210278</td>\n",
       "      <td>2.830327e+18</td>\n",
       "      <td>-0.234036</td>\n",
       "      <td>-0.234631</td>\n",
       "      <td>0.072114</td>\n",
       "      <td>3.094697</td>\n",
       "      <td>5013.174316</td>\n",
       "      <td>175.519527</td>\n",
       "      <td>7.960083</td>\n",
       "      <td>...</td>\n",
       "      <td>4.854111</td>\n",
       "      <td>3.789136</td>\n",
       "      <td>3.838794</td>\n",
       "      <td>3.560125</td>\n",
       "      <td>3.602133</td>\n",
       "      <td>3.097025</td>\n",
       "      <td>2.747941</td>\n",
       "      <td>2.496227</td>\n",
       "      <td>1.032372</td>\n",
       "      <td>0.588982</td>\n",
       "    </tr>\n",
       "    <tr>\n",
       "      <th>std</th>\n",
       "      <td>1.075900</td>\n",
       "      <td>1.901047</td>\n",
       "      <td>1.841647e+18</td>\n",
       "      <td>0.371935</td>\n",
       "      <td>0.375699</td>\n",
       "      <td>0.102390</td>\n",
       "      <td>1.222225</td>\n",
       "      <td>1338.826050</td>\n",
       "      <td>95.943660</td>\n",
       "      <td>41.185402</td>\n",
       "      <td>...</td>\n",
       "      <td>96.112526</td>\n",
       "      <td>67.441620</td>\n",
       "      <td>71.901985</td>\n",
       "      <td>66.543945</td>\n",
       "      <td>66.796387</td>\n",
       "      <td>54.086079</td>\n",
       "      <td>48.531826</td>\n",
       "      <td>42.599335</td>\n",
       "      <td>16.954266</td>\n",
       "      <td>12.840849</td>\n",
       "    </tr>\n",
       "    <tr>\n",
       "      <th>min</th>\n",
       "      <td>0.002474</td>\n",
       "      <td>2.651680</td>\n",
       "      <td>2.851858e+12</td>\n",
       "      <td>-2.468600</td>\n",
       "      <td>-2.468600</td>\n",
       "      <td>-0.714365</td>\n",
       "      <td>-0.482825</td>\n",
       "      <td>3100.844482</td>\n",
       "      <td>0.000103</td>\n",
       "      <td>-87.224808</td>\n",
       "      <td>...</td>\n",
       "      <td>0.091793</td>\n",
       "      <td>0.084758</td>\n",
       "      <td>0.064332</td>\n",
       "      <td>0.065701</td>\n",
       "      <td>0.075551</td>\n",
       "      <td>0.055099</td>\n",
       "      <td>0.053387</td>\n",
       "      <td>0.048981</td>\n",
       "      <td>0.023190</td>\n",
       "      <td>0.011225</td>\n",
       "    </tr>\n",
       "    <tr>\n",
       "      <th>25%</th>\n",
       "      <td>0.029444</td>\n",
       "      <td>11.959400</td>\n",
       "      <td>1.313496e+18</td>\n",
       "      <td>-0.404150</td>\n",
       "      <td>-0.402940</td>\n",
       "      <td>0.004917</td>\n",
       "      <td>2.308385</td>\n",
       "      <td>4412.790039</td>\n",
       "      <td>89.839767</td>\n",
       "      <td>-23.176965</td>\n",
       "      <td>...</td>\n",
       "      <td>0.500238</td>\n",
       "      <td>0.453001</td>\n",
       "      <td>0.441088</td>\n",
       "      <td>0.393016</td>\n",
       "      <td>0.400751</td>\n",
       "      <td>0.367162</td>\n",
       "      <td>0.324858</td>\n",
       "      <td>0.293619</td>\n",
       "      <td>0.110627</td>\n",
       "      <td>0.056413</td>\n",
       "    </tr>\n",
       "    <tr>\n",
       "      <th>50%</th>\n",
       "      <td>0.062410</td>\n",
       "      <td>13.144300</td>\n",
       "      <td>2.536361e+18</td>\n",
       "      <td>-0.174640</td>\n",
       "      <td>-0.176610</td>\n",
       "      <td>0.042937</td>\n",
       "      <td>2.995981</td>\n",
       "      <td>4800.755859</td>\n",
       "      <td>178.490082</td>\n",
       "      <td>16.192937</td>\n",
       "      <td>...</td>\n",
       "      <td>0.972698</td>\n",
       "      <td>0.823608</td>\n",
       "      <td>0.848126</td>\n",
       "      <td>0.764647</td>\n",
       "      <td>0.757259</td>\n",
       "      <td>0.689114</td>\n",
       "      <td>0.592611</td>\n",
       "      <td>0.531611</td>\n",
       "      <td>0.203665</td>\n",
       "      <td>0.104177</td>\n",
       "    </tr>\n",
       "    <tr>\n",
       "      <th>75%</th>\n",
       "      <td>0.208363</td>\n",
       "      <td>14.581500</td>\n",
       "      <td>4.204890e+18</td>\n",
       "      <td>0.009171</td>\n",
       "      <td>0.008376</td>\n",
       "      <td>0.109349</td>\n",
       "      <td>4.314407</td>\n",
       "      <td>5223.474609</td>\n",
       "      <td>261.744846</td>\n",
       "      <td>41.740414</td>\n",
       "      <td>...</td>\n",
       "      <td>2.151097</td>\n",
       "      <td>1.763614</td>\n",
       "      <td>1.771294</td>\n",
       "      <td>1.627090</td>\n",
       "      <td>1.622607</td>\n",
       "      <td>1.431115</td>\n",
       "      <td>1.250225</td>\n",
       "      <td>1.124677</td>\n",
       "      <td>0.462224</td>\n",
       "      <td>0.240940</td>\n",
       "    </tr>\n",
       "    <tr>\n",
       "      <th>max</th>\n",
       "      <td>62.374294</td>\n",
       "      <td>20.164499</td>\n",
       "      <td>6.917528e+18</td>\n",
       "      <td>0.957890</td>\n",
       "      <td>0.968570</td>\n",
       "      <td>0.992785</td>\n",
       "      <td>5.370551</td>\n",
       "      <td>19869.988281</td>\n",
       "      <td>359.999181</td>\n",
       "      <td>87.608246</td>\n",
       "      <td>...</td>\n",
       "      <td>44037.816406</td>\n",
       "      <td>31293.429688</td>\n",
       "      <td>33479.109375</td>\n",
       "      <td>28020.875000</td>\n",
       "      <td>29163.664062</td>\n",
       "      <td>23545.835938</td>\n",
       "      <td>22205.037109</td>\n",
       "      <td>19124.441406</td>\n",
       "      <td>7081.585449</td>\n",
       "      <td>5876.122559</td>\n",
       "    </tr>\n",
       "  </tbody>\n",
       "</table>\n",
       "<p>8 rows × 230 columns</p>\n",
       "</div>"
      ],
      "text/plain": [
       "             sfd_ebv  gaiaedr3_phot_g_mean_mag     source_id           fe_h  \\\n",
       "count  535928.000000             642528.000000  6.425280e+05  572305.000000   \n",
       "mean        0.220359                 13.210278  2.830327e+18      -0.234036   \n",
       "std         1.075900                  1.901047  1.841647e+18       0.371935   \n",
       "min         0.002474                  2.651680  2.851858e+12      -2.468600   \n",
       "25%         0.029444                 11.959400  1.313496e+18      -0.404150   \n",
       "50%         0.062410                 13.144300  2.536361e+18      -0.174640   \n",
       "75%         0.208363                 14.581500  4.204890e+18       0.009171   \n",
       "max        62.374294                 20.164499  6.917528e+18       0.957890   \n",
       "\n",
       "                 m_h        alpha_m           logg           teff  \\\n",
       "count  572279.000000  572028.000000  608715.000000  608715.000000   \n",
       "mean       -0.234631       0.072114       3.094697    5013.174316   \n",
       "std         0.375699       0.102390       1.222225    1338.826050   \n",
       "min        -2.468600      -0.714365      -0.482825    3100.844482   \n",
       "25%        -0.402940       0.004917       2.308385    4412.790039   \n",
       "50%        -0.176610       0.042937       2.995981    4800.755859   \n",
       "75%         0.008376       0.109349       4.314407    5223.474609   \n",
       "max         0.968570       0.992785       5.370551   19869.988281   \n",
       "\n",
       "                  ra            dec  ...         rpe_46         rpe_47  \\\n",
       "count  642528.000000  642528.000000  ...  642528.000000  642528.000000   \n",
       "mean      175.519527       7.960083  ...       4.854111       3.789136   \n",
       "std        95.943660      41.185402  ...      96.112526      67.441620   \n",
       "min         0.000103     -87.224808  ...       0.091793       0.084758   \n",
       "25%        89.839767     -23.176965  ...       0.500238       0.453001   \n",
       "50%       178.490082      16.192937  ...       0.972698       0.823608   \n",
       "75%       261.744846      41.740414  ...       2.151097       1.763614   \n",
       "max       359.999181      87.608246  ...   44037.816406   31293.429688   \n",
       "\n",
       "              rpe_48         rpe_49         rpe_50         rpe_51  \\\n",
       "count  642528.000000  642528.000000  642528.000000  642528.000000   \n",
       "mean        3.838794       3.560125       3.602133       3.097025   \n",
       "std        71.901985      66.543945      66.796387      54.086079   \n",
       "min         0.064332       0.065701       0.075551       0.055099   \n",
       "25%         0.441088       0.393016       0.400751       0.367162   \n",
       "50%         0.848126       0.764647       0.757259       0.689114   \n",
       "75%         1.771294       1.627090       1.622607       1.431115   \n",
       "max     33479.109375   28020.875000   29163.664062   23545.835938   \n",
       "\n",
       "              rpe_52         rpe_53         rpe_54         rpe_55  \n",
       "count  642528.000000  642528.000000  642528.000000  642528.000000  \n",
       "mean        2.747941       2.496227       1.032372       0.588982  \n",
       "std        48.531826      42.599335      16.954266      12.840849  \n",
       "min         0.053387       0.048981       0.023190       0.011225  \n",
       "25%         0.324858       0.293619       0.110627       0.056413  \n",
       "50%         0.592611       0.531611       0.203665       0.104177  \n",
       "75%         1.250225       1.124677       0.462224       0.240940  \n",
       "max     22205.037109   19124.441406    7081.585449    5876.122559  \n",
       "\n",
       "[8 rows x 230 columns]"
      ]
     },
     "execution_count": 11,
     "metadata": {},
     "output_type": "execute_result"
    }
   ],
   "source": [
    "data.describe()"
   ]
  },
  {
   "cell_type": "code",
   "execution_count": 2,
   "id": "517ebfde-2b9a-4007-891b-6977b0044fc6",
   "metadata": {},
   "outputs": [
    {
     "data": {
      "text/plain": [
       "(481813, 230)"
      ]
     },
     "execution_count": 2,
     "metadata": {},
     "output_type": "execute_result"
    }
   ],
   "source": [
    "with pd.option_context('mode.use_inf_as_na', True):\n",
    "    data.dropna(inplace=True)\n",
    "data.shape"
   ]
  },
  {
   "cell_type": "code",
   "execution_count": 3,
   "id": "a2cba141-256c-464c-9dca-6ddeb88656a4",
   "metadata": {},
   "outputs": [
    {
     "data": {
      "text/plain": [
       "481813"
      ]
     },
     "execution_count": 3,
     "metadata": {},
     "output_type": "execute_result"
    }
   ],
   "source": [
    "d_train, d_test = train_test_split(data,test_size=0.1)\n",
    "len(data)"
   ]
  },
  {
   "cell_type": "code",
   "execution_count": 4,
   "id": "041ef08d-e338-41a7-96f2-fb9d22c2eecf",
   "metadata": {},
   "outputs": [
    {
     "data": {
      "text/plain": [
       "433631"
      ]
     },
     "execution_count": 4,
     "metadata": {},
     "output_type": "execute_result"
    }
   ],
   "source": [
    "len(d_train)"
   ]
  },
  {
   "cell_type": "code",
   "execution_count": 5,
   "id": "58887ba8-9ef9-4bb7-a33a-0d46c6470f95",
   "metadata": {},
   "outputs": [
    {
     "name": "stdout",
     "output_type": "stream",
     "text": [
      "<HDF5 group \"/\" (2 members)>\n",
      "<HDF5 group \"/group_1\" (2 members)>\n",
      "<HDF5 group \"/group_2\" (2 members)>\n",
      "<HDF5 dataset \"data\": shape (3, 433631), type \"<f4\">\n",
      "<HDF5 dataset \"label\": shape (110, 48182), type \"<f8\">\n"
     ]
    }
   ],
   "source": [
    "# Create a HDF5 file\n",
    "hierarchicalFileName  = \"/arc/home/aydanmckay/mydata.h5\"\n",
    "with h5py.File(hierarchicalFileName, 'w') as hierarchicalFile:\n",
    "    # Create a group under root\n",
    "    train = hierarchicalFile.create_group(\"group_1\")\n",
    "    test = hierarchicalFile.create_group(\"group_2\")\n",
    "\n",
    "    train['data'] = np.array([d_train['fe_h'],d_train['logg'],d_train['teff']],#dtype=[('fe_h','f4'),('logg','f4'),('teff','f4')])\n",
    "                            )\n",
    "    train['label'] = np.array([d_train[\"bp_1\"],d_train[\"bp_2\"],d_train[\"bp_3\"],d_train[\"bp_4\"],d_train[\"bp_5\"],d_train[\"bp_6\"],d_train[\"bp_7\"],\n",
    "                               d_train[\"bp_8\"],d_train[\"bp_9\"],d_train[\"bp_10\"],d_train[\"bp_11\"],d_train[\"bp_12\"],d_train[\"bp_13\"],d_train[\"bp_14\"],\n",
    "                               d_train[\"bp_15\"],d_train[\"bp_16\"],d_train[\"bp_17\"],d_train[\"bp_18\"],d_train[\"bp_19\"],d_train[\"bp_20\"],d_train[\"bp_21\"],\n",
    "                               d_train[\"bp_22\"],d_train[\"bp_23\"],d_train[\"bp_24\"],d_train[\"bp_25\"],d_train[\"bp_26\"],d_train[\"bp_27\"],d_train[\"bp_28\"],\n",
    "                               d_train[\"bp_29\"],d_train[\"bp_30\"],d_train[\"bp_31\"],d_train[\"bp_32\"],d_train[\"bp_33\"],d_train[\"bp_34\"],d_train[\"bp_35\"],\n",
    "                               d_train[\"bp_36\"],d_train[\"bp_37\"],d_train[\"bp_38\"],d_train[\"bp_39\"],d_train[\"bp_40\"],d_train[\"bp_41\"],d_train[\"bp_42\"],\n",
    "                               d_train[\"bp_43\"],d_train[\"bp_44\"],d_train[\"bp_45\"],d_train[\"bp_46\"],d_train[\"bp_47\"],d_train[\"bp_48\"],d_train[\"bp_49\"],\n",
    "                               d_train[\"bp_50\"],d_train[\"bp_51\"],d_train[\"bp_52\"],d_train[\"bp_53\"],d_train[\"bp_54\"],d_train[\"bp_55\"],d_train[\"rp_1\"],\n",
    "                               d_train[\"rp_2\"],d_train[\"rp_3\"],d_train[\"rp_4\"],d_train[\"rp_5\"],d_train[\"rp_6\"],d_train[\"rp_7\"],d_train[\"rp_8\"],\n",
    "                               d_train[\"rp_9\"],d_train[\"rp_10\"],d_train[\"rp_11\"],d_train[\"rp_12\"],d_train[\"rp_13\"],d_train[\"rp_14\"],d_train[\"rp_15\"],\n",
    "                               d_train[\"rp_16\"],d_train[\"rp_17\"],d_train[\"rp_18\"],d_train[\"rp_19\"],d_train[\"rp_20\"],d_train[\"rp_21\"],d_train[\"rp_22\"],\n",
    "                               d_train[\"rp_23\"],d_train[\"rp_24\"],d_train[\"rp_25\"],d_train[\"rp_26\"],d_train[\"rp_27\"],d_train[\"rp_28\"],d_train[\"rp_29\"],\n",
    "                               d_train[\"rp_30\"],d_train[\"rp_31\"],d_train[\"rp_32\"],d_train[\"rp_33\"],d_train[\"rp_34\"],d_train[\"rp_35\"],d_train[\"rp_36\"],\n",
    "                               d_train[\"rp_37\"],d_train[\"rp_38\"],d_train[\"rp_39\"],d_train[\"rp_40\"],d_train[\"rp_41\"],d_train[\"rp_42\"],d_train[\"rp_43\"],\n",
    "                               d_train[\"rp_44\"],d_train[\"rp_45\"],d_train[\"rp_46\"],d_train[\"rp_47\"],d_train[\"rp_48\"],d_train[\"rp_49\"],d_train[\"rp_50\"],\n",
    "                               d_train[\"rp_51\"],d_train[\"rp_52\"],d_train[\"rp_53\"],d_train[\"rp_54\"],d_train[\"rp_55\"]])\n",
    "    # train['e_label'] = np.array([d_train[\"bpe_1\"],d_train[\"bpe_2\"],d_train[\"bpe_3\"],d_train[\"bpe_4\"],d_train[\"bpe_5\"],d_train[\"bpe_6\"],d_train[\"bpe_7\"],\n",
    "    #                            d_train[\"bpe_8\"],d_train[\"bpe_9\"],d_train[\"bpe_10\"],d_train[\"bpe_11\"],d_train[\"bpe_12\"],d_train[\"bpe_13\"],d_train[\"bpe_14\"],\n",
    "    #                            d_train[\"bpe_15\"],d_train[\"bpe_16\"],d_train[\"bpe_17\"],d_train[\"bpe_18\"],d_train[\"bpe_19\"],d_train[\"bpe_20\"],d_train[\"bpe_21\"],\n",
    "    #                            d_train[\"bpe_22\"],d_train[\"bpe_23\"],d_train[\"bpe_24\"],d_train[\"bpe_25\"],d_train[\"bpe_26\"],d_train[\"bpe_27\"],d_train[\"bpe_28\"],\n",
    "    #                            d_train[\"bpe_29\"],d_train[\"bpe_30\"],d_train[\"bpe_31\"],d_train[\"bpe_32\"],d_train[\"bpe_33\"],d_train[\"bpe_34\"],d_train[\"bpe_35\"],\n",
    "    #                            d_train[\"bpe_36\"],d_train[\"bpe_37\"],d_train[\"bpe_38\"],d_train[\"bpe_39\"],d_train[\"bpe_40\"],d_train[\"bpe_41\"],d_train[\"bpe_42\"],\n",
    "    #                            d_train[\"bpe_43\"],d_train[\"bpe_44\"],d_train[\"bpe_45\"],d_train[\"bpe_46\"],d_train[\"bpe_47\"],d_train[\"bpe_48\"],d_train[\"bpe_49\"],\n",
    "    #                            d_train[\"bpe_50\"],d_train[\"bpe_51\"],d_train[\"bpe_52\"],d_train[\"bpe_53\"],d_train[\"bpe_54\"],d_train[\"bpe_55\"],d_train[\"rpe_1\"],\n",
    "    #                            d_train[\"rpe_2\"],d_train[\"rpe_3\"],d_train[\"rpe_4\"],d_train[\"rpe_5\"],d_train[\"rpe_6\"],d_train[\"rpe_7\"],d_train[\"rpe_8\"],\n",
    "    #                            d_train[\"rpe_9\"],d_train[\"rpe_10\"],d_train[\"rpe_11\"],d_train[\"rpe_12\"],d_train[\"rpe_13\"],d_train[\"rpe_14\"],d_train[\"rpe_15\"],\n",
    "    #                            d_train[\"rpe_16\"],d_train[\"rpe_17\"],d_train[\"rpe_18\"],d_train[\"rpe_19\"],d_train[\"rpe_20\"],d_train[\"rpe_21\"],d_train[\"rpe_22\"],\n",
    "    #                            d_train[\"rpe_23\"],d_train[\"rpe_24\"],d_train[\"rpe_25\"],d_train[\"rpe_26\"],d_train[\"rpe_27\"],d_train[\"rpe_28\"],d_train[\"rpe_29\"],\n",
    "    #                            d_train[\"rpe_30\"],d_train[\"rpe_31\"],d_train[\"rpe_32\"],d_train[\"rpe_33\"],d_train[\"rpe_34\"],d_train[\"rpe_35\"],d_train[\"rpe_36\"],\n",
    "    #                            d_train[\"rpe_37\"],d_train[\"rpe_38\"],d_train[\"rpe_39\"],d_train[\"rpe_40\"],d_train[\"rpe_41\"],d_train[\"rpe_42\"],d_train[\"rpe_43\"],\n",
    "    #                            d_train[\"rpe_44\"],d_train[\"rpe_45\"],d_train[\"rpe_46\"],d_train[\"rpe_47\"],d_train[\"rpe_48\"],d_train[\"rpe_49\"],d_train[\"rpe_50\"],\n",
    "    #                            d_train[\"rpe_51\"],d_train[\"rpe_52\"],d_train[\"rpe_53\"],d_train[\"rpe_54\"],d_train[\"rpe_55\"]])\n",
    "    test['data'] = np.array([d_test['fe_h'],d_test['logg'],d_test['teff']],#dtype=[('fe_h','f4'),('logg','f4'),('teff','f4')])\n",
    "                           )\n",
    "    test['label'] = np.array([d_test[\"bp_1\"],d_test[\"bp_2\"],d_test[\"bp_3\"],d_test[\"bp_4\"],d_test[\"bp_5\"],d_test[\"bp_6\"],d_test[\"bp_7\"],\n",
    "                               d_test[\"bp_8\"],d_test[\"bp_9\"],d_test[\"bp_10\"],d_test[\"bp_11\"],d_test[\"bp_12\"],d_test[\"bp_13\"],d_test[\"bp_14\"],\n",
    "                               d_test[\"bp_15\"],d_test[\"bp_16\"],d_test[\"bp_17\"],d_test[\"bp_18\"],d_test[\"bp_19\"],d_test[\"bp_20\"],d_test[\"bp_21\"],\n",
    "                               d_test[\"bp_22\"],d_test[\"bp_23\"],d_test[\"bp_24\"],d_test[\"bp_25\"],d_test[\"bp_26\"],d_test[\"bp_27\"],d_test[\"bp_28\"],\n",
    "                               d_test[\"bp_29\"],d_test[\"bp_30\"],d_test[\"bp_31\"],d_test[\"bp_32\"],d_test[\"bp_33\"],d_test[\"bp_34\"],d_test[\"bp_35\"],\n",
    "                               d_test[\"bp_36\"],d_test[\"bp_37\"],d_test[\"bp_38\"],d_test[\"bp_39\"],d_test[\"bp_40\"],d_test[\"bp_41\"],d_test[\"bp_42\"],\n",
    "                               d_test[\"bp_43\"],d_test[\"bp_44\"],d_test[\"bp_45\"],d_test[\"bp_46\"],d_test[\"bp_47\"],d_test[\"bp_48\"],d_test[\"bp_49\"],\n",
    "                               d_test[\"bp_50\"],d_test[\"bp_51\"],d_test[\"bp_52\"],d_test[\"bp_53\"],d_test[\"bp_54\"],d_test[\"bp_55\"],d_test[\"rp_1\"],\n",
    "                               d_test[\"rp_2\"],d_test[\"rp_3\"],d_test[\"rp_4\"],d_test[\"rp_5\"],d_test[\"rp_6\"],d_test[\"rp_7\"],d_test[\"rp_8\"],\n",
    "                               d_test[\"rp_9\"],d_test[\"rp_10\"],d_test[\"rp_11\"],d_test[\"rp_12\"],d_test[\"rp_13\"],d_test[\"rp_14\"],d_test[\"rp_15\"],\n",
    "                               d_test[\"rp_16\"],d_test[\"rp_17\"],d_test[\"rp_18\"],d_test[\"rp_19\"],d_test[\"rp_20\"],d_test[\"rp_21\"],d_test[\"rp_22\"],\n",
    "                               d_test[\"rp_23\"],d_test[\"rp_24\"],d_test[\"rp_25\"],d_test[\"rp_26\"],d_test[\"rp_27\"],d_test[\"rp_28\"],d_test[\"rp_29\"],\n",
    "                               d_test[\"rp_30\"],d_test[\"rp_31\"],d_test[\"rp_32\"],d_test[\"rp_33\"],d_test[\"rp_34\"],d_test[\"rp_35\"],d_test[\"rp_36\"],\n",
    "                               d_test[\"rp_37\"],d_test[\"rp_38\"],d_test[\"rp_39\"],d_test[\"rp_40\"],d_test[\"rp_41\"],d_test[\"rp_42\"],d_test[\"rp_43\"],\n",
    "                               d_test[\"rp_44\"],d_test[\"rp_45\"],d_test[\"rp_46\"],d_test[\"rp_47\"],d_test[\"rp_48\"],d_test[\"rp_49\"],d_test[\"rp_50\"],\n",
    "                               d_test[\"rp_51\"],d_test[\"rp_52\"],d_test[\"rp_53\"],d_test[\"rp_54\"],d_test[\"rp_55\"]])\n",
    "    # test['e_label'] = np.array([d_test[\"bpe_1\"],d_test[\"bpe_2\"],d_test[\"bpe_3\"],d_test[\"bpe_4\"],d_test[\"bpe_5\"],d_test[\"bpe_6\"],d_test[\"bpe_7\"],\n",
    "    #                            d_test[\"bpe_8\"],d_test[\"bpe_9\"],d_test[\"bpe_10\"],d_test[\"bpe_11\"],d_test[\"bpe_12\"],d_test[\"bpe_13\"],d_test[\"bpe_14\"],\n",
    "    #                            d_test[\"bpe_15\"],d_test[\"bpe_16\"],d_test[\"bpe_17\"],d_test[\"bpe_18\"],d_test[\"bpe_19\"],d_test[\"bpe_20\"],d_test[\"bpe_21\"],\n",
    "    #                            d_test[\"bpe_22\"],d_test[\"bpe_23\"],d_test[\"bpe_24\"],d_test[\"bpe_25\"],d_test[\"bpe_26\"],d_test[\"bpe_27\"],d_test[\"bpe_28\"],\n",
    "    #                            d_test[\"bpe_29\"],d_test[\"bpe_30\"],d_test[\"bpe_31\"],d_test[\"bpe_32\"],d_test[\"bpe_33\"],d_test[\"bpe_34\"],d_test[\"bpe_35\"],\n",
    "    #                            d_test[\"bpe_36\"],d_test[\"bpe_37\"],d_test[\"bpe_38\"],d_test[\"bpe_39\"],d_test[\"bpe_40\"],d_test[\"bpe_41\"],d_test[\"bpe_42\"],\n",
    "    #                            d_test[\"bpe_43\"],d_test[\"bpe_44\"],d_test[\"bpe_45\"],d_test[\"bpe_46\"],d_test[\"bpe_47\"],d_test[\"bpe_48\"],d_test[\"bpe_49\"],\n",
    "    #                            d_test[\"bpe_50\"],d_test[\"bpe_51\"],d_test[\"bpe_52\"],d_test[\"bpe_53\"],d_test[\"bpe_54\"],d_test[\"bpe_55\"],d_test[\"rpe_1\"],\n",
    "    #                            d_test[\"rpe_2\"],d_test[\"rpe_3\"],d_test[\"rpe_4\"],d_test[\"rpe_5\"],d_test[\"rpe_6\"],d_test[\"rpe_7\"],d_test[\"rpe_8\"],\n",
    "    #                            d_test[\"rpe_9\"],d_test[\"rpe_10\"],d_test[\"rpe_11\"],d_test[\"rpe_12\"],d_test[\"rpe_13\"],d_test[\"rpe_14\"],d_test[\"rpe_15\"],\n",
    "    #                            d_test[\"rpe_16\"],d_test[\"rpe_17\"],d_test[\"rpe_18\"],d_test[\"rpe_19\"],d_test[\"rpe_20\"],d_test[\"rpe_21\"],d_test[\"rpe_22\"],\n",
    "    #                            d_test[\"rpe_23\"],d_test[\"rpe_24\"],d_test[\"rpe_25\"],d_test[\"rpe_26\"],d_test[\"rpe_27\"],d_test[\"rpe_28\"],d_test[\"rpe_29\"],\n",
    "    #                            d_test[\"rpe_30\"],d_test[\"rpe_31\"],d_test[\"rpe_32\"],d_test[\"rpe_33\"],d_test[\"rpe_34\"],d_test[\"rpe_35\"],d_test[\"rpe_36\"],\n",
    "    #                            d_test[\"rpe_37\"],d_test[\"rpe_38\"],d_test[\"rpe_39\"],d_test[\"rpe_40\"],d_test[\"rpe_41\"],d_test[\"rpe_42\"],d_test[\"rpe_43\"],\n",
    "    #                            d_test[\"rpe_44\"],d_test[\"rpe_45\"],d_test[\"rpe_46\"],d_test[\"rpe_47\"],d_test[\"rpe_48\"],d_test[\"rpe_49\"],d_test[\"rpe_50\"],\n",
    "    #                            d_test[\"rpe_51\"],d_test[\"rpe_52\"],d_test[\"rpe_53\"],d_test[\"rpe_54\"],d_test[\"rpe_55\"]])\n",
    "    # Print the groups\n",
    "    print(hierarchicalFile[\"/\"])\n",
    "    print(train)\n",
    "    print(test)\n",
    "    print(train['data'])\n",
    "    print(test[\"label\"])"
   ]
  },
  {
   "cell_type": "code",
   "execution_count": 6,
   "id": "88e03dc1-ebca-4f1b-bcfd-b5e7df8d014b",
   "metadata": {},
   "outputs": [
    {
     "name": "stdout",
     "output_type": "stream",
     "text": [
      "48182\n"
     ]
    }
   ],
   "source": [
    "with h5py.File(\"/arc/home/aydanmckay/mydata.h5\", 'r') as f:\n",
    "    d = f['group_2']['data']\n",
    "    dset = d[:]\n",
    "    print(f['group_2']['data'].shape[1])"
   ]
  },
  {
   "cell_type": "code",
   "execution_count": 7,
   "id": "e906b63c-a2ad-4e35-a5e1-bcfc6d4d1664",
   "metadata": {},
   "outputs": [
    {
     "data": {
      "text/plain": [
       "(3, 48182)"
      ]
     },
     "execution_count": 7,
     "metadata": {},
     "output_type": "execute_result"
    }
   ],
   "source": [
    "dset.shape"
   ]
  },
  {
   "cell_type": "code",
   "execution_count": 8,
   "id": "489525ec-7192-4fda-b789-24dcd19a56b7",
   "metadata": {},
   "outputs": [
    {
     "data": {
      "text/plain": [
       "True"
      ]
     },
     "execution_count": 8,
     "metadata": {},
     "output_type": "execute_result"
    }
   ],
   "source": [
    "dset.shape[1]+len(d_train) == len(data)"
   ]
  },
  {
   "cell_type": "code",
   "execution_count": null,
   "id": "039b9980-13b4-47a0-b5f4-39aaa819ab62",
   "metadata": {},
   "outputs": [],
   "source": []
  }
 ],
 "metadata": {
  "kernelspec": {
   "display_name": "Python 3 (ipykernel)",
   "language": "python",
   "name": "python3"
  },
  "language_info": {
   "codemirror_mode": {
    "name": "ipython",
    "version": 3
   },
   "file_extension": ".py",
   "mimetype": "text/x-python",
   "name": "python",
   "nbconvert_exporter": "python",
   "pygments_lexer": "ipython3",
   "version": "3.9.13"
  }
 },
 "nbformat": 4,
 "nbformat_minor": 5
}
