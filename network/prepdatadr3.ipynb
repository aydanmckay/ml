{
 "cells": [
  {
   "cell_type": "markdown",
   "id": "68d6ff70-d455-4f9c-a6c1-d14a8b47c829",
   "metadata": {
    "tags": []
   },
   "source": [
    "### Preparing the data in HDF5 Formatting\n",
    "Switching the .fits file to an HDF5 for better storage management and mainly practice"
   ]
  },
  {
   "cell_type": "markdown",
   "id": "7d43e9cf-061d-42dc-a21c-7e8a119e2e3f",
   "metadata": {
    "tags": []
   },
   "source": [
    "Importing the appropriate packages."
   ]
  },
  {
   "cell_type": "code",
   "execution_count": 1,
   "id": "0f53ab21-e249-4b49-b746-6ad2a5d2d20f",
   "metadata": {},
   "outputs": [],
   "source": [
    "from astropy.table import Table\n",
    "from astropy.io import fits\n",
    "import numpy as np\n",
    "from sklearn.model_selection import train_test_split\n",
    "import pandas as pd\n",
    "import h5py"
   ]
  },
  {
   "cell_type": "code",
   "execution_count": 2,
   "id": "58cd14ed-232c-4924-9d7e-340e2de9c8d2",
   "metadata": {},
   "outputs": [
    {
     "data": {
      "text/plain": [
       "(481813, 230)"
      ]
     },
     "execution_count": 2,
     "metadata": {},
     "output_type": "execute_result"
    }
   ],
   "source": [
    "data = Table.read('/arc/home/aydanmckay/gaiahike/bp_rp_apogee.fits').to_pandas()\n",
    "with pd.option_context('mode.use_inf_as_na', True):\n",
    "    data.dropna(inplace=True)\n",
    "data.shape"
   ]
  },
  {
   "cell_type": "code",
   "execution_count": 3,
   "id": "a2cba141-256c-464c-9dca-6ddeb88656a4",
   "metadata": {},
   "outputs": [
    {
     "data": {
      "text/plain": [
       "481813"
      ]
     },
     "execution_count": 3,
     "metadata": {},
     "output_type": "execute_result"
    }
   ],
   "source": [
    "d_train, d_test = train_test_split(data,test_size=0.1)\n",
    "len(data)"
   ]
  },
  {
   "cell_type": "code",
   "execution_count": 4,
   "id": "041ef08d-e338-41a7-96f2-fb9d22c2eecf",
   "metadata": {},
   "outputs": [
    {
     "data": {
      "text/plain": [
       "433631"
      ]
     },
     "execution_count": 4,
     "metadata": {},
     "output_type": "execute_result"
    }
   ],
   "source": [
    "len(d_train)"
   ]
  },
  {
   "cell_type": "code",
   "execution_count": 5,
   "id": "58887ba8-9ef9-4bb7-a33a-0d46c6470f95",
   "metadata": {},
   "outputs": [
    {
     "name": "stdout",
     "output_type": "stream",
     "text": [
      "<HDF5 group \"/\" (2 members)>\n",
      "<HDF5 group \"/group_1\" (2 members)>\n",
      "<HDF5 group \"/group_2\" (2 members)>\n",
      "<HDF5 dataset \"data\": shape (3, 433631), type \"<f4\">\n",
      "<HDF5 dataset \"label\": shape (110, 48182), type \"<f8\">\n"
     ]
    }
   ],
   "source": [
    "# Create a HDF5 file\n",
    "hierarchicalFileName  = \"/arc/home/aydanmckay/mydata.h5\"\n",
    "with h5py.File(hierarchicalFileName, 'w') as hierarchicalFile:\n",
    "    # Create a group under root\n",
    "    train = hierarchicalFile.create_group(\"group_1\")\n",
    "    test = hierarchicalFile.create_group(\"group_2\")\n",
    "\n",
    "    train['data'] = np.array([d_train['fe_h'],d_train['logg'],d_train['teff']],#dtype=[('fe_h','f4'),('logg','f4'),('teff','f4')])\n",
    "                            )\n",
    "    train['label'] = np.array([d_train[\"bp_1\"],d_train[\"bp_2\"],d_train[\"bp_3\"],d_train[\"bp_4\"],d_train[\"bp_5\"],d_train[\"bp_6\"],d_train[\"bp_7\"],\n",
    "                               d_train[\"bp_8\"],d_train[\"bp_9\"],d_train[\"bp_10\"],d_train[\"bp_11\"],d_train[\"bp_12\"],d_train[\"bp_13\"],d_train[\"bp_14\"],\n",
    "                               d_train[\"bp_15\"],d_train[\"bp_16\"],d_train[\"bp_17\"],d_train[\"bp_18\"],d_train[\"bp_19\"],d_train[\"bp_20\"],d_train[\"bp_21\"],\n",
    "                               d_train[\"bp_22\"],d_train[\"bp_23\"],d_train[\"bp_24\"],d_train[\"bp_25\"],d_train[\"bp_26\"],d_train[\"bp_27\"],d_train[\"bp_28\"],\n",
    "                               d_train[\"bp_29\"],d_train[\"bp_30\"],d_train[\"bp_31\"],d_train[\"bp_32\"],d_train[\"bp_33\"],d_train[\"bp_34\"],d_train[\"bp_35\"],\n",
    "                               d_train[\"bp_36\"],d_train[\"bp_37\"],d_train[\"bp_38\"],d_train[\"bp_39\"],d_train[\"bp_40\"],d_train[\"bp_41\"],d_train[\"bp_42\"],\n",
    "                               d_train[\"bp_43\"],d_train[\"bp_44\"],d_train[\"bp_45\"],d_train[\"bp_46\"],d_train[\"bp_47\"],d_train[\"bp_48\"],d_train[\"bp_49\"],\n",
    "                               d_train[\"bp_50\"],d_train[\"bp_51\"],d_train[\"bp_52\"],d_train[\"bp_53\"],d_train[\"bp_54\"],d_train[\"bp_55\"],d_train[\"rp_1\"],\n",
    "                               d_train[\"rp_2\"],d_train[\"rp_3\"],d_train[\"rp_4\"],d_train[\"rp_5\"],d_train[\"rp_6\"],d_train[\"rp_7\"],d_train[\"rp_8\"],\n",
    "                               d_train[\"rp_9\"],d_train[\"rp_10\"],d_train[\"rp_11\"],d_train[\"rp_12\"],d_train[\"rp_13\"],d_train[\"rp_14\"],d_train[\"rp_15\"],\n",
    "                               d_train[\"rp_16\"],d_train[\"rp_17\"],d_train[\"rp_18\"],d_train[\"rp_19\"],d_train[\"rp_20\"],d_train[\"rp_21\"],d_train[\"rp_22\"],\n",
    "                               d_train[\"rp_23\"],d_train[\"rp_24\"],d_train[\"rp_25\"],d_train[\"rp_26\"],d_train[\"rp_27\"],d_train[\"rp_28\"],d_train[\"rp_29\"],\n",
    "                               d_train[\"rp_30\"],d_train[\"rp_31\"],d_train[\"rp_32\"],d_train[\"rp_33\"],d_train[\"rp_34\"],d_train[\"rp_35\"],d_train[\"rp_36\"],\n",
    "                               d_train[\"rp_37\"],d_train[\"rp_38\"],d_train[\"rp_39\"],d_train[\"rp_40\"],d_train[\"rp_41\"],d_train[\"rp_42\"],d_train[\"rp_43\"],\n",
    "                               d_train[\"rp_44\"],d_train[\"rp_45\"],d_train[\"rp_46\"],d_train[\"rp_47\"],d_train[\"rp_48\"],d_train[\"rp_49\"],d_train[\"rp_50\"],\n",
    "                               d_train[\"rp_51\"],d_train[\"rp_52\"],d_train[\"rp_53\"],d_train[\"rp_54\"],d_train[\"rp_55\"]])\n",
    "    # train['e_label'] = np.array([d_train[\"bpe_1\"],d_train[\"bpe_2\"],d_train[\"bpe_3\"],d_train[\"bpe_4\"],d_train[\"bpe_5\"],d_train[\"bpe_6\"],d_train[\"bpe_7\"],\n",
    "    #                            d_train[\"bpe_8\"],d_train[\"bpe_9\"],d_train[\"bpe_10\"],d_train[\"bpe_11\"],d_train[\"bpe_12\"],d_train[\"bpe_13\"],d_train[\"bpe_14\"],\n",
    "    #                            d_train[\"bpe_15\"],d_train[\"bpe_16\"],d_train[\"bpe_17\"],d_train[\"bpe_18\"],d_train[\"bpe_19\"],d_train[\"bpe_20\"],d_train[\"bpe_21\"],\n",
    "    #                            d_train[\"bpe_22\"],d_train[\"bpe_23\"],d_train[\"bpe_24\"],d_train[\"bpe_25\"],d_train[\"bpe_26\"],d_train[\"bpe_27\"],d_train[\"bpe_28\"],\n",
    "    #                            d_train[\"bpe_29\"],d_train[\"bpe_30\"],d_train[\"bpe_31\"],d_train[\"bpe_32\"],d_train[\"bpe_33\"],d_train[\"bpe_34\"],d_train[\"bpe_35\"],\n",
    "    #                            d_train[\"bpe_36\"],d_train[\"bpe_37\"],d_train[\"bpe_38\"],d_train[\"bpe_39\"],d_train[\"bpe_40\"],d_train[\"bpe_41\"],d_train[\"bpe_42\"],\n",
    "    #                            d_train[\"bpe_43\"],d_train[\"bpe_44\"],d_train[\"bpe_45\"],d_train[\"bpe_46\"],d_train[\"bpe_47\"],d_train[\"bpe_48\"],d_train[\"bpe_49\"],\n",
    "    #                            d_train[\"bpe_50\"],d_train[\"bpe_51\"],d_train[\"bpe_52\"],d_train[\"bpe_53\"],d_train[\"bpe_54\"],d_train[\"bpe_55\"],d_train[\"rpe_1\"],\n",
    "    #                            d_train[\"rpe_2\"],d_train[\"rpe_3\"],d_train[\"rpe_4\"],d_train[\"rpe_5\"],d_train[\"rpe_6\"],d_train[\"rpe_7\"],d_train[\"rpe_8\"],\n",
    "    #                            d_train[\"rpe_9\"],d_train[\"rpe_10\"],d_train[\"rpe_11\"],d_train[\"rpe_12\"],d_train[\"rpe_13\"],d_train[\"rpe_14\"],d_train[\"rpe_15\"],\n",
    "    #                            d_train[\"rpe_16\"],d_train[\"rpe_17\"],d_train[\"rpe_18\"],d_train[\"rpe_19\"],d_train[\"rpe_20\"],d_train[\"rpe_21\"],d_train[\"rpe_22\"],\n",
    "    #                            d_train[\"rpe_23\"],d_train[\"rpe_24\"],d_train[\"rpe_25\"],d_train[\"rpe_26\"],d_train[\"rpe_27\"],d_train[\"rpe_28\"],d_train[\"rpe_29\"],\n",
    "    #                            d_train[\"rpe_30\"],d_train[\"rpe_31\"],d_train[\"rpe_32\"],d_train[\"rpe_33\"],d_train[\"rpe_34\"],d_train[\"rpe_35\"],d_train[\"rpe_36\"],\n",
    "    #                            d_train[\"rpe_37\"],d_train[\"rpe_38\"],d_train[\"rpe_39\"],d_train[\"rpe_40\"],d_train[\"rpe_41\"],d_train[\"rpe_42\"],d_train[\"rpe_43\"],\n",
    "    #                            d_train[\"rpe_44\"],d_train[\"rpe_45\"],d_train[\"rpe_46\"],d_train[\"rpe_47\"],d_train[\"rpe_48\"],d_train[\"rpe_49\"],d_train[\"rpe_50\"],\n",
    "    #                            d_train[\"rpe_51\"],d_train[\"rpe_52\"],d_train[\"rpe_53\"],d_train[\"rpe_54\"],d_train[\"rpe_55\"]])\n",
    "    test['data'] = np.array([d_test['fe_h'],d_test['logg'],d_test['teff']],#dtype=[('fe_h','f4'),('logg','f4'),('teff','f4')])\n",
    "                           )\n",
    "    test['label'] = np.array([d_test[\"bp_1\"],d_test[\"bp_2\"],d_test[\"bp_3\"],d_test[\"bp_4\"],d_test[\"bp_5\"],d_test[\"bp_6\"],d_test[\"bp_7\"],\n",
    "                               d_test[\"bp_8\"],d_test[\"bp_9\"],d_test[\"bp_10\"],d_test[\"bp_11\"],d_test[\"bp_12\"],d_test[\"bp_13\"],d_test[\"bp_14\"],\n",
    "                               d_test[\"bp_15\"],d_test[\"bp_16\"],d_test[\"bp_17\"],d_test[\"bp_18\"],d_test[\"bp_19\"],d_test[\"bp_20\"],d_test[\"bp_21\"],\n",
    "                               d_test[\"bp_22\"],d_test[\"bp_23\"],d_test[\"bp_24\"],d_test[\"bp_25\"],d_test[\"bp_26\"],d_test[\"bp_27\"],d_test[\"bp_28\"],\n",
    "                               d_test[\"bp_29\"],d_test[\"bp_30\"],d_test[\"bp_31\"],d_test[\"bp_32\"],d_test[\"bp_33\"],d_test[\"bp_34\"],d_test[\"bp_35\"],\n",
    "                               d_test[\"bp_36\"],d_test[\"bp_37\"],d_test[\"bp_38\"],d_test[\"bp_39\"],d_test[\"bp_40\"],d_test[\"bp_41\"],d_test[\"bp_42\"],\n",
    "                               d_test[\"bp_43\"],d_test[\"bp_44\"],d_test[\"bp_45\"],d_test[\"bp_46\"],d_test[\"bp_47\"],d_test[\"bp_48\"],d_test[\"bp_49\"],\n",
    "                               d_test[\"bp_50\"],d_test[\"bp_51\"],d_test[\"bp_52\"],d_test[\"bp_53\"],d_test[\"bp_54\"],d_test[\"bp_55\"],d_test[\"rp_1\"],\n",
    "                               d_test[\"rp_2\"],d_test[\"rp_3\"],d_test[\"rp_4\"],d_test[\"rp_5\"],d_test[\"rp_6\"],d_test[\"rp_7\"],d_test[\"rp_8\"],\n",
    "                               d_test[\"rp_9\"],d_test[\"rp_10\"],d_test[\"rp_11\"],d_test[\"rp_12\"],d_test[\"rp_13\"],d_test[\"rp_14\"],d_test[\"rp_15\"],\n",
    "                               d_test[\"rp_16\"],d_test[\"rp_17\"],d_test[\"rp_18\"],d_test[\"rp_19\"],d_test[\"rp_20\"],d_test[\"rp_21\"],d_test[\"rp_22\"],\n",
    "                               d_test[\"rp_23\"],d_test[\"rp_24\"],d_test[\"rp_25\"],d_test[\"rp_26\"],d_test[\"rp_27\"],d_test[\"rp_28\"],d_test[\"rp_29\"],\n",
    "                               d_test[\"rp_30\"],d_test[\"rp_31\"],d_test[\"rp_32\"],d_test[\"rp_33\"],d_test[\"rp_34\"],d_test[\"rp_35\"],d_test[\"rp_36\"],\n",
    "                               d_test[\"rp_37\"],d_test[\"rp_38\"],d_test[\"rp_39\"],d_test[\"rp_40\"],d_test[\"rp_41\"],d_test[\"rp_42\"],d_test[\"rp_43\"],\n",
    "                               d_test[\"rp_44\"],d_test[\"rp_45\"],d_test[\"rp_46\"],d_test[\"rp_47\"],d_test[\"rp_48\"],d_test[\"rp_49\"],d_test[\"rp_50\"],\n",
    "                               d_test[\"rp_51\"],d_test[\"rp_52\"],d_test[\"rp_53\"],d_test[\"rp_54\"],d_test[\"rp_55\"]])\n",
    "    # test['e_label'] = np.array([d_test[\"bpe_1\"],d_test[\"bpe_2\"],d_test[\"bpe_3\"],d_test[\"bpe_4\"],d_test[\"bpe_5\"],d_test[\"bpe_6\"],d_test[\"bpe_7\"],\n",
    "    #                            d_test[\"bpe_8\"],d_test[\"bpe_9\"],d_test[\"bpe_10\"],d_test[\"bpe_11\"],d_test[\"bpe_12\"],d_test[\"bpe_13\"],d_test[\"bpe_14\"],\n",
    "    #                            d_test[\"bpe_15\"],d_test[\"bpe_16\"],d_test[\"bpe_17\"],d_test[\"bpe_18\"],d_test[\"bpe_19\"],d_test[\"bpe_20\"],d_test[\"bpe_21\"],\n",
    "    #                            d_test[\"bpe_22\"],d_test[\"bpe_23\"],d_test[\"bpe_24\"],d_test[\"bpe_25\"],d_test[\"bpe_26\"],d_test[\"bpe_27\"],d_test[\"bpe_28\"],\n",
    "    #                            d_test[\"bpe_29\"],d_test[\"bpe_30\"],d_test[\"bpe_31\"],d_test[\"bpe_32\"],d_test[\"bpe_33\"],d_test[\"bpe_34\"],d_test[\"bpe_35\"],\n",
    "    #                            d_test[\"bpe_36\"],d_test[\"bpe_37\"],d_test[\"bpe_38\"],d_test[\"bpe_39\"],d_test[\"bpe_40\"],d_test[\"bpe_41\"],d_test[\"bpe_42\"],\n",
    "    #                            d_test[\"bpe_43\"],d_test[\"bpe_44\"],d_test[\"bpe_45\"],d_test[\"bpe_46\"],d_test[\"bpe_47\"],d_test[\"bpe_48\"],d_test[\"bpe_49\"],\n",
    "    #                            d_test[\"bpe_50\"],d_test[\"bpe_51\"],d_test[\"bpe_52\"],d_test[\"bpe_53\"],d_test[\"bpe_54\"],d_test[\"bpe_55\"],d_test[\"rpe_1\"],\n",
    "    #                            d_test[\"rpe_2\"],d_test[\"rpe_3\"],d_test[\"rpe_4\"],d_test[\"rpe_5\"],d_test[\"rpe_6\"],d_test[\"rpe_7\"],d_test[\"rpe_8\"],\n",
    "    #                            d_test[\"rpe_9\"],d_test[\"rpe_10\"],d_test[\"rpe_11\"],d_test[\"rpe_12\"],d_test[\"rpe_13\"],d_test[\"rpe_14\"],d_test[\"rpe_15\"],\n",
    "    #                            d_test[\"rpe_16\"],d_test[\"rpe_17\"],d_test[\"rpe_18\"],d_test[\"rpe_19\"],d_test[\"rpe_20\"],d_test[\"rpe_21\"],d_test[\"rpe_22\"],\n",
    "    #                            d_test[\"rpe_23\"],d_test[\"rpe_24\"],d_test[\"rpe_25\"],d_test[\"rpe_26\"],d_test[\"rpe_27\"],d_test[\"rpe_28\"],d_test[\"rpe_29\"],\n",
    "    #                            d_test[\"rpe_30\"],d_test[\"rpe_31\"],d_test[\"rpe_32\"],d_test[\"rpe_33\"],d_test[\"rpe_34\"],d_test[\"rpe_35\"],d_test[\"rpe_36\"],\n",
    "    #                            d_test[\"rpe_37\"],d_test[\"rpe_38\"],d_test[\"rpe_39\"],d_test[\"rpe_40\"],d_test[\"rpe_41\"],d_test[\"rpe_42\"],d_test[\"rpe_43\"],\n",
    "    #                            d_test[\"rpe_44\"],d_test[\"rpe_45\"],d_test[\"rpe_46\"],d_test[\"rpe_47\"],d_test[\"rpe_48\"],d_test[\"rpe_49\"],d_test[\"rpe_50\"],\n",
    "    #                            d_test[\"rpe_51\"],d_test[\"rpe_52\"],d_test[\"rpe_53\"],d_test[\"rpe_54\"],d_test[\"rpe_55\"]])\n",
    "    # Print the groups\n",
    "    print(hierarchicalFile[\"/\"])\n",
    "    print(train)\n",
    "    print(test)\n",
    "    print(train['data'])\n",
    "    print(test[\"label\"])"
   ]
  },
  {
   "cell_type": "code",
   "execution_count": 6,
   "id": "88e03dc1-ebca-4f1b-bcfd-b5e7df8d014b",
   "metadata": {},
   "outputs": [
    {
     "name": "stdout",
     "output_type": "stream",
     "text": [
      "48182\n"
     ]
    }
   ],
   "source": [
    "with h5py.File(\"/arc/home/aydanmckay/mydata.h5\", 'r') as f:\n",
    "    d = f['group_2']['data']\n",
    "    dset = d[:]\n",
    "    print(f['group_2']['data'].shape[1])"
   ]
  },
  {
   "cell_type": "code",
   "execution_count": 7,
   "id": "e906b63c-a2ad-4e35-a5e1-bcfc6d4d1664",
   "metadata": {},
   "outputs": [
    {
     "data": {
      "text/plain": [
       "(3, 48182)"
      ]
     },
     "execution_count": 7,
     "metadata": {},
     "output_type": "execute_result"
    }
   ],
   "source": [
    "dset.shape"
   ]
  },
  {
   "cell_type": "code",
   "execution_count": 8,
   "id": "489525ec-7192-4fda-b789-24dcd19a56b7",
   "metadata": {},
   "outputs": [
    {
     "data": {
      "text/plain": [
       "True"
      ]
     },
     "execution_count": 8,
     "metadata": {},
     "output_type": "execute_result"
    }
   ],
   "source": [
    "dset.shape[1]+len(d_train) == len(data)"
   ]
  },
  {
   "cell_type": "code",
   "execution_count": null,
   "id": "039b9980-13b4-47a0-b5f4-39aaa819ab62",
   "metadata": {},
   "outputs": [],
   "source": []
  }
 ],
 "metadata": {
  "kernelspec": {
   "display_name": "Python 3 (ipykernel)",
   "language": "python",
   "name": "python3"
  },
  "language_info": {
   "codemirror_mode": {
    "name": "ipython",
    "version": 3
   },
   "file_extension": ".py",
   "mimetype": "text/x-python",
   "name": "python",
   "nbconvert_exporter": "python",
   "pygments_lexer": "ipython3",
   "version": "3.9.13"
  }
 },
 "nbformat": 4,
 "nbformat_minor": 5
}
