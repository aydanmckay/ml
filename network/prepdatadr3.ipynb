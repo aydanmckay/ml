{
 "cells": [
  {
   "cell_type": "markdown",
   "id": "68d6ff70-d455-4f9c-a6c1-d14a8b47c829",
   "metadata": {
    "tags": []
   },
   "source": [
    "### Preparing the data in HDF5 Formatting\n",
    "Switching the .fits file to an HDF5 for better storage management and mainly practice"
   ]
  },
  {
   "cell_type": "markdown",
   "id": "7d43e9cf-061d-42dc-a21c-7e8a119e2e3f",
   "metadata": {
    "tags": []
   },
   "source": [
    "Importing the appropriate packages."
   ]
  },
  {
   "cell_type": "code",
   "execution_count": 1,
   "id": "0f53ab21-e249-4b49-b746-6ad2a5d2d20f",
   "metadata": {},
   "outputs": [],
   "source": [
    "from astropy.table import Table\n",
    "from astropy.io import fits\n",
    "import numpy as np\n",
    "from sklearn.model_selection import train_test_split\n",
    "import pandas as pd\n",
    "import h5py\n",
    "from sklearn.preprocessing import StandardScaler"
   ]
  },
  {
   "cell_type": "code",
   "execution_count": 2,
   "id": "8c8c3405-9409-4188-a894-799384ac4ea0",
   "metadata": {},
   "outputs": [],
   "source": [
    "data = Table.read('/arc/home/aydanmckay/gaiahike/bp_rp_apogee.fits').to_pandas()"
   ]
  },
  {
   "cell_type": "code",
   "execution_count": 3,
   "id": "e4366815-6ab9-4b24-a20d-57cf99b87c00",
   "metadata": {},
   "outputs": [
    {
     "data": {
      "text/plain": [
       "(642528, 230)"
      ]
     },
     "execution_count": 3,
     "metadata": {},
     "output_type": "execute_result"
    }
   ],
   "source": [
    "data.shape"
   ]
  },
  {
   "cell_type": "code",
   "execution_count": 4,
   "id": "a8e900f1-909f-406d-870e-6266bdd8df3e",
   "metadata": {},
   "outputs": [
    {
     "data": {
      "text/plain": [
       "count    642528.000000\n",
       "mean         -0.034857\n",
       "std           9.566036\n",
       "min       -2129.234821\n",
       "25%          -0.022924\n",
       "50%           0.037749\n",
       "75%           0.151573\n",
       "max        4242.768069\n",
       "Name: rp_55, dtype: float64"
      ]
     },
     "execution_count": 4,
     "metadata": {},
     "output_type": "execute_result"
    }
   ],
   "source": [
    "data['rp_55'].describe()"
   ]
  },
  {
   "cell_type": "code",
   "execution_count": 5,
   "id": "517ebfde-2b9a-4007-891b-6977b0044fc6",
   "metadata": {},
   "outputs": [
    {
     "data": {
      "text/plain": [
       "(481813, 230)"
      ]
     },
     "execution_count": 5,
     "metadata": {},
     "output_type": "execute_result"
    }
   ],
   "source": [
    "with pd.option_context('mode.use_inf_as_na', True):\n",
    "    data.dropna(inplace=True)\n",
    "data.shape"
   ]
  },
  {
   "cell_type": "code",
   "execution_count": 6,
   "id": "6c45ecbd-b1a2-46fa-be18-ff47ad2c8466",
   "metadata": {},
   "outputs": [],
   "source": [
    "labels = [\"bp_1\", \"bp_2\", \"bp_3\", \"bp_4\", \"bp_5\", \"bp_6\", \"bp_7\",\n",
    "          \"bp_8\", \"bp_9\", \"bp_10\", \"bp_11\", \"bp_12\", \"bp_13\", \"bp_14\",\n",
    "          \"bp_15\", \"bp_16\", \"bp_17\", \"bp_18\", \"bp_19\", \"bp_20\", \"bp_21\",\n",
    "          \"bp_22\", \"bp_23\", \"bp_24\", \"bp_25\", \"bp_26\", \"bp_27\", \"bp_28\",\n",
    "          \"bp_29\", \"bp_30\", \"bp_31\", \"bp_32\", \"bp_33\", \"bp_34\", \"bp_35\",\n",
    "          \"bp_36\", \"bp_37\", \"bp_38\", \"bp_39\", \"bp_40\", \"bp_41\", \"bp_42\",\n",
    "          \"bp_43\", \"bp_44\", \"bp_45\", \"bp_46\", \"bp_47\", \"bp_48\", \"bp_49\",\n",
    "          \"bp_50\", \"bp_51\", \"bp_52\", \"bp_53\", \"bp_54\", \"bp_55\", \"rp_1\",\n",
    "          \"rp_2\", \"rp_3\", \"rp_4\", \"rp_5\", \"rp_6\", \"rp_7\", \"rp_8\",\n",
    "          \"rp_9\", \"rp_10\", \"rp_11\", \"rp_12\", \"rp_13\", \"rp_14\", \"rp_15\",\n",
    "          \"rp_16\", \"rp_17\", \"rp_18\", \"rp_19\", \"rp_20\", \"rp_21\", \"rp_22\",\n",
    "          \"rp_23\", \"rp_24\", \"rp_25\", \"rp_26\", \"rp_27\", \"rp_28\", \"rp_29\",\n",
    "          \"rp_30\", \"rp_31\", \"rp_32\", \"rp_33\", \"rp_34\", \"rp_35\", \"rp_36\",\n",
    "          \"rp_37\", \"rp_38\", \"rp_39\", \"rp_40\", \"rp_41\", \"rp_42\", \"rp_43\",\n",
    "          \"rp_44\", \"rp_45\", \"rp_46\", \"rp_47\", \"rp_48\", \"rp_49\", \"rp_50\",\n",
    "          \"rp_51\", \"rp_52\", \"rp_53\", \"rp_54\", \"rp_55\"]\n",
    "elabels = [\"bpe_1\", \"bpe_2\", \"bpe_3\", \"bpe_4\", \"bpe_5\", \"bpe_6\", \"bpe_7\",\n",
    "          \"bpe_8\", \"bpe_9\", \"bpe_10\", \"bpe_11\", \"bpe_12\", \"bpe_13\", \"bpe_14\",\n",
    "          \"bpe_15\", \"bpe_16\", \"bpe_17\", \"bpe_18\", \"bpe_19\", \"bpe_20\", \"bpe_21\",\n",
    "          \"bpe_22\", \"bpe_23\", \"bpe_24\", \"bpe_25\", \"bpe_26\", \"bpe_27\", \"bpe_28\",\n",
    "          \"bpe_29\", \"bpe_30\", \"bpe_31\", \"bpe_32\", \"bpe_33\", \"bpe_34\", \"bpe_35\",\n",
    "          \"bpe_36\", \"bpe_37\", \"bpe_38\", \"bpe_39\", \"bpe_40\", \"bpe_41\", \"bpe_42\",\n",
    "          \"bpe_43\", \"bpe_44\", \"bpe_45\", \"bpe_46\", \"bpe_47\", \"bpe_48\", \"bpe_49\",\n",
    "          \"bpe_50\", \"bpe_51\", \"bpe_52\", \"bpe_53\", \"bpe_54\", \"bpe_55\", \"rpe_1\",\n",
    "          \"rpe_2\", \"rpe_3\", \"rpe_4\", \"rpe_5\", \"rpe_6\", \"rpe_7\", \"rpe_8\",\n",
    "          \"rpe_9\", \"rpe_10\", \"rpe_11\", \"rpe_12\", \"rpe_13\", \"rpe_14\", \"rpe_15\",\n",
    "          \"rpe_16\", \"rpe_17\", \"rpe_18\", \"rpe_19\", \"rpe_20\", \"rpe_21\", \"rpe_22\",\n",
    "          \"rpe_23\", \"rpe_24\", \"rpe_25\", \"rpe_26\", \"rpe_27\", \"rpe_28\", \"rpe_29\",\n",
    "          \"rpe_30\", \"rpe_31\", \"rpe_32\", \"rpe_33\", \"rpe_34\", \"rpe_35\", \"rpe_36\",\n",
    "          \"rpe_37\", \"rpe_38\", \"rpe_39\", \"rpe_40\", \"rpe_41\", \"rpe_42\", \"rpe_43\",\n",
    "          \"rpe_44\", \"rpe_45\", \"rpe_46\", \"rpe_47\", \"rpe_48\", \"rpe_49\", \"rpe_50\",\n",
    "          \"rpe_51\", \"rpe_52\", \"rpe_53\", \"rpe_54\", \"rpe_55\"]"
   ]
  },
  {
   "cell_type": "code",
   "execution_count": 7,
   "id": "9aad6685-ab81-44de-b3eb-0957ae45fa8c",
   "metadata": {},
   "outputs": [
    {
     "data": {
      "text/plain": [
       "(319316, 230)"
      ]
     },
     "execution_count": 7,
     "metadata": {},
     "output_type": "execute_result"
    }
   ],
   "source": [
    "for label in elabels:\n",
    "    data = data[(data[label] < 10) & (data[label] > -10)]\n",
    "data.shape"
   ]
  },
  {
   "cell_type": "code",
   "execution_count": 8,
   "id": "99e3cc55-b355-4c36-9f7f-430d9cfb987f",
   "metadata": {},
   "outputs": [],
   "source": [
    "# for small datasets\n",
    "data = data.sample(n=50000,random_state=42)"
   ]
  },
  {
   "cell_type": "code",
   "execution_count": 9,
   "id": "d1b39094-2024-4fe1-8d1d-96d47ddd5886",
   "metadata": {},
   "outputs": [
    {
     "data": {
      "text/plain": [
       "(50000, 230)"
      ]
     },
     "execution_count": 9,
     "metadata": {},
     "output_type": "execute_result"
    }
   ],
   "source": [
    "data.shape"
   ]
  },
  {
   "cell_type": "code",
   "execution_count": 10,
   "id": "a2cba141-256c-464c-9dca-6ddeb88656a4",
   "metadata": {},
   "outputs": [
    {
     "data": {
      "text/plain": [
       "50000"
      ]
     },
     "execution_count": 10,
     "metadata": {},
     "output_type": "execute_result"
    }
   ],
   "source": [
    "d_train, d_test = train_test_split(data,test_size=0.1)\n",
    "len(data)"
   ]
  },
  {
   "cell_type": "code",
   "execution_count": 11,
   "id": "041ef08d-e338-41a7-96f2-fb9d22c2eecf",
   "metadata": {},
   "outputs": [
    {
     "data": {
      "text/plain": [
       "45000"
      ]
     },
     "execution_count": 11,
     "metadata": {},
     "output_type": "execute_result"
    }
   ],
   "source": [
    "len(d_train)"
   ]
  },
  {
   "cell_type": "code",
   "execution_count": 12,
   "id": "322ca391-f07f-4266-8fef-efc201c3b524",
   "metadata": {},
   "outputs": [],
   "source": [
    "scaler = StandardScaler()"
   ]
  },
  {
   "cell_type": "code",
   "execution_count": 13,
   "id": "58887ba8-9ef9-4bb7-a33a-0d46c6470f95",
   "metadata": {},
   "outputs": [
    {
     "name": "stdout",
     "output_type": "stream",
     "text": [
      "<HDF5 group \"/\" (2 members)>\n",
      "<HDF5 group \"/group_1\" (3 members)>\n",
      "<HDF5 group \"/group_2\" (3 members)>\n",
      "<HDF5 dataset \"data\": shape (4, 45000), type \"<f4\">\n",
      "<HDF5 dataset \"label\": shape (110, 5000), type \"<f8\">\n"
     ]
    }
   ],
   "source": [
    "# Create a HDF5 file\n",
    "hierarchicalFileName  = \"/arc/home/aydanmckay/mydataelabelsalphasmallscalecuts.h5\"\n",
    "with h5py.File(hierarchicalFileName, 'w') as hierarchicalFile:\n",
    "    # Create a group under root\n",
    "    train = hierarchicalFile.create_group(\"group_1\")\n",
    "    test = hierarchicalFile.create_group(\"group_2\")\n",
    "\n",
    "    train['data'] = np.array([scaler.fit_transform(d_train[['fe_h']]).flatten(),\n",
    "                              scaler.fit_transform(d_train[['logg']]).flatten(),\n",
    "                              scaler.fit_transform(d_train[['teff']]).flatten(),\n",
    "                              scaler.fit_transform(d_train[['alpha_m']]).flatten()]\n",
    "                            )\n",
    "    test['data'] = np.array([scaler.fit_transform(d_test[['fe_h']]).flatten(),\n",
    "                             scaler.fit_transform(d_test[['logg']]).flatten(),\n",
    "                             scaler.fit_transform(d_test[['teff']]).flatten(),\n",
    "                             scaler.fit_transform(d_test[['alpha_m']]).flatten()]\n",
    "                            )\n",
    "    trainlabelset = []\n",
    "    trainelabelset = []\n",
    "    testlabelset = []\n",
    "    testelabelset = []\n",
    "    for elabel,label in zip(elabels,labels):\n",
    "        trainlabelset.append(scaler.fit_transform(d_train[[label]]).flatten())\n",
    "        trainelabelset.append(scaler.fit_transform(d_train[[elabel]]).flatten())\n",
    "        testlabelset.append(scaler.fit_transform(d_test[[label]]).flatten())\n",
    "        testelabelset.append(scaler.fit_transform(d_test[[elabel]]).flatten())\n",
    "    train['label'] = np.array(trainlabelset)\n",
    "    train['e_label'] = np.array(trainelabelset)\n",
    "    test['label'] = np.array(testlabelset)\n",
    "    test['e_label'] = np.array(testelabelset)\n",
    "\n",
    "    print(hierarchicalFile[\"/\"])\n",
    "    print(train)\n",
    "    print(test)\n",
    "    print(train['data'])\n",
    "    print(test[\"label\"])"
   ]
  },
  {
   "cell_type": "code",
   "execution_count": 14,
   "id": "88e03dc1-ebca-4f1b-bcfd-b5e7df8d014b",
   "metadata": {},
   "outputs": [
    {
     "name": "stdout",
     "output_type": "stream",
     "text": [
      "45000\n"
     ]
    }
   ],
   "source": [
    "with h5py.File(\"/arc/home/aydanmckay/mydataelabelsalphasmallscalecuts.h5\", 'r') as f:\n",
    "    d = f['group_1']['data']\n",
    "    dset = d[:]\n",
    "    print(f['group_1']['data'].shape[1])"
   ]
  },
  {
   "cell_type": "code",
   "execution_count": 15,
   "id": "e906b63c-a2ad-4e35-a5e1-bcfc6d4d1664",
   "metadata": {},
   "outputs": [
    {
     "data": {
      "text/plain": [
       "(4, 45000)"
      ]
     },
     "execution_count": 15,
     "metadata": {},
     "output_type": "execute_result"
    }
   ],
   "source": [
    "dset.shape"
   ]
  },
  {
   "cell_type": "code",
   "execution_count": 16,
   "id": "489525ec-7192-4fda-b789-24dcd19a56b7",
   "metadata": {},
   "outputs": [
    {
     "data": {
      "text/plain": [
       "False"
      ]
     },
     "execution_count": 16,
     "metadata": {},
     "output_type": "execute_result"
    }
   ],
   "source": [
    "dset.shape[1]+len(d_train) == len(data)"
   ]
  },
  {
   "cell_type": "code",
   "execution_count": 17,
   "id": "039b9980-13b4-47a0-b5f4-39aaa819ab62",
   "metadata": {},
   "outputs": [
    {
     "data": {
      "text/plain": [
       "array([[ 0.46133944, -0.4471368 ,  0.909664  , ...,  0.53947216,\n",
       "         0.84575164, -0.02851807],\n",
       "       [ 0.20372464, -1.3187717 ,  1.1842649 , ..., -0.4764116 ,\n",
       "         1.1795659 ,  1.0363988 ],\n",
       "       [ 0.55562735, -0.98717266, -0.63830835, ...,  0.11205226,\n",
       "        -0.32723388,  1.1223708 ],\n",
       "       [-0.27625093,  0.11538257, -1.0684503 , ..., -0.06927817,\n",
       "        -0.85130674,  0.7888909 ]], dtype=float32)"
      ]
     },
     "execution_count": 17,
     "metadata": {},
     "output_type": "execute_result"
    }
   ],
   "source": [
    "dset"
   ]
  },
  {
   "cell_type": "code",
   "execution_count": null,
   "id": "97a9d79b-4d9a-4d39-b402-bcee82c8dc7e",
   "metadata": {},
   "outputs": [],
   "source": []
  }
 ],
 "metadata": {
  "kernelspec": {
   "display_name": "Python 3 (ipykernel)",
   "language": "python",
   "name": "python3"
  },
  "language_info": {
   "codemirror_mode": {
    "name": "ipython",
    "version": 3
   },
   "file_extension": ".py",
   "mimetype": "text/x-python",
   "name": "python",
   "nbconvert_exporter": "python",
   "pygments_lexer": "ipython3",
   "version": "3.9.13"
  }
 },
 "nbformat": 4,
 "nbformat_minor": 5
}
