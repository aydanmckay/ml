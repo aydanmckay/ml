{
 "cells": [
  {
   "cell_type": "code",
   "execution_count": 3,
   "id": "b86f8d55-aad8-46be-8f2c-e7694f9c80db",
   "metadata": {},
   "outputs": [],
   "source": [
    "import numpy as np\n",
    "import scipy.stats\n",
    "import h5py\n",
    "import matplotlib.pyplot as plt"
   ]
  },
  {
   "cell_type": "code",
   "execution_count": 7,
   "id": "ac1aa5a9-c2cb-4833-ae2b-abd76501115b",
   "metadata": {},
   "outputs": [],
   "source": [
    "with h5py.File('/arc/home/aydanmckay/green2020-stellar-model/green2020_test_data_small.h5', 'r') as f:\n",
    "    d = f['data'][:]       # All the data needed to train or test the model\n",
    "    r_fit = f['r_fit'][:]  # The reddening inferred using the trained model\n",
    "    r_var = f['r_var'][:]  # The variance of the inferred reddening"
   ]
  },
  {
   "cell_type": "markdown",
   "id": "f8ac305d-9084-42cd-aeba-d3a413ed4290",
   "metadata": {},
   "source": [
    "The columns of the `data` array have the following meanings:\n",
    "\n",
    "* `atm_param` : Spectroscopic labels, $\\hat{\\theta}$. `shape = (# of stars, 3)`.\n",
    "* `atm_param_cov` : Covariance of spectroscopic labels, $C_{\\theta}$. `shape = (# of stars, 13, 13)`\n",
    "* `atm_param_p` : Like `atm_param`, but in normalized coordinates.\n",
    "* `atm_param_cov_p` : Like `atm_param_cov`, but in normalized coordinates.\n",
    "* `r` : Reddening estimate, $\\hat{E}$. `shape = (# of stars,)`.\n",
    "* `r_err` : Uncertainty in reddening estimate, $\\sigma_E$.\n",
    "* `mag` : Observed magnitudes, $\\hat{m}$. `shape = (# of stars, 13)`.\n",
    "* `mag_err` : Uncertainties in observed magnitudes, $\\vec{\\sigma}_m$.\n",
    "* `parallax` : Observed parallaxes, $\\hat{\\varpi}$. `shape = (# of stars,)`.\n",
    "* `parallax_err` : Uncertainties in observed parallaxes, $\\sigma_{\\varpi}$.\n",
    "* `atm_source` : The survey that the spectroscopic labels come from. `shape = (# of stars,)`.\n",
    "* `r_source` : The source of the reddening estimates. `shape = (# of stars,)`."
   ]
  },
  {
   "cell_type": "code",
   "execution_count": 58,
   "id": "adacae8f-9068-422d-9fec-bb5d2b90fad5",
   "metadata": {},
   "outputs": [],
   "source": [
    "# Plot histogram of reddening residuals\n",
    "dr = d['r']\n",
    "dm1,dm2,dm3,dm4,dm5,dm6,dm7,dm8,dm9,dm10,dm11,dm12,dm13 = d['mag'].T\n",
    "names = ['G','(BP-G)','(RP-G)','(g-G)','(r-G)','(i-G)','(z-G)','(y-G)','(J-G)','(H-G)','(K_s-G)','(W_1-G)','(W_2-G)']\n",
    "ds = [dm1,dm2,dm3,dm4,dm5,dm6,dm7,dm8,dm9,dm10,dm11,dm12,dm13]\n",
    "fig = plt.figure(figsize=(12,18))\n",
    "ax = fig.add_subplot(5,3,1)\n",
    "ax.hist(dr, range=(-0.15, 0.15), bins=50)\n",
    "dr_mean = np.nanmean(dr)\n",
    "dr_std = np.nanstd(dr)\n",
    "dr_skew = scipy.stats.moment(dr, moment=3, nan_policy='omit')\n",
    "dr_txt = r'$\\Delta E = {:+.3f} \\pm {:.3f}$'.format(dr_mean, dr_std)\n",
    "dr_skew /= (dr_std**1.5 + 1.e-5)\n",
    "dr_txt += '\\n' + r'$\\tilde{{\\mu}}_3 = {:+.3f}$'.format(dr_skew)\n",
    "ax.text(0.05, 0.95, dr_txt, ha='left', va='top', transform=ax.transAxes)\n",
    "ax.set_xlabel(r'$\\Delta E \\ \\left( \\mathrm{estimated} - \\mathrm{Bayestar19} \\right)$',fontsize=10)\n",
    "for it,(dr,name) in enumerate(zip(ds,names)):\n",
    "    ax = fig.add_subplot(5,3,it+2)\n",
    "    ax.hist(dr, bins=50)\n",
    "    dr_mean = np.nanmean(dr)\n",
    "    dr_std = np.nanstd(dr)\n",
    "    dr_skew = scipy.stats.moment(dr, moment=3, nan_policy='omit')\n",
    "    dr_txt = r'$\\Delta '+name+r' = {:+.3f} \\pm {:.3f}$'.format(dr_mean, dr_std)\n",
    "    dr_skew /= (dr_std**1.5 + 1.e-5)\n",
    "    dr_txt += '\\n' + r'$\\tilde{{\\mu}}_3 = {:+.3f}$'.format(dr_skew)\n",
    "    ax.text(0.05, 0.95, dr_txt, ha='left', va='top', transform=ax.transAxes)\n",
    "    ax.set_xlabel(r'$\\Delta '+name+r'\\ \\left( \\mathrm{estimated} - \\mathrm{observed} \\right)$',fontsize=10)\n",
    "fig.savefig('/arc/home/aydanmckay/yo.svg', dpi=150)\n",
    "plt.close(fig)"
   ]
  },
  {
   "cell_type": "code",
   "execution_count": null,
   "id": "dbb169de-74a2-4c3c-b8a7-06eab37fcc77",
   "metadata": {},
   "outputs": [],
   "source": []
  },
  {
   "cell_type": "code",
   "execution_count": null,
   "id": "21987653-b689-4dc8-a5f6-a46e8c9c2ef2",
   "metadata": {},
   "outputs": [],
   "source": []
  }
 ],
 "metadata": {
  "kernelspec": {
   "display_name": "Python 3 (ipykernel)",
   "language": "python",
   "name": "python3"
  },
  "language_info": {
   "codemirror_mode": {
    "name": "ipython",
    "version": 3
   },
   "file_extension": ".py",
   "mimetype": "text/x-python",
   "name": "python",
   "nbconvert_exporter": "python",
   "pygments_lexer": "ipython3",
   "version": "3.9.12"
  }
 },
 "nbformat": 4,
 "nbformat_minor": 5
}
