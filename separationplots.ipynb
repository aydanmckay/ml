{
 "cells": [
  {
   "cell_type": "code",
   "execution_count": 1,
   "id": "e99fc4e1-45e5-4d84-b9ea-c8b2317182fb",
   "metadata": {},
   "outputs": [],
   "source": [
    "import pandas as pd\n",
    "import numpy as np\n",
    "from astropy.io import fits"
   ]
  },
  {
   "cell_type": "code",
   "execution_count": 2,
   "id": "c12ba613-1e22-427a-a4ee-78f000f50b1f",
   "metadata": {},
   "outputs": [
    {
     "name": "stdout",
     "output_type": "stream",
     "text": [
      "CPU times: user 250 ms, sys: 42.3 ms, total: 292 ms\n",
      "Wall time: 293 ms\n"
     ]
    }
   ],
   "source": [
    "%%time\n",
    "hdu = fits.open('/arc/home/aydanmckay/pristine-xmatch-phottable-exact.fits')\n",
    "datafi = hdu[1].data"
   ]
  },
  {
   "cell_type": "code",
   "execution_count": 3,
   "id": "ed7c7e05-b5b2-438b-99b5-4e7c8fa15396",
   "metadata": {},
   "outputs": [
    {
     "name": "stdout",
     "output_type": "stream",
     "text": [
      "CPU times: user 43.1 s, sys: 54 s, total: 1min 37s\n",
      "Wall time: 1min 44s\n"
     ]
    }
   ],
   "source": [
    "%%time\n",
    "datapd = pd.read_csv('/arc/home/aydanmckay/pristine-xmatch-phottable-exact.csv')"
   ]
  },
  {
   "cell_type": "code",
   "execution_count": 6,
   "id": "86b1bdcb-dcf4-464c-b115-c05d8870a0fd",
   "metadata": {},
   "outputs": [
    {
     "data": {
      "text/plain": [
       "36331574"
      ]
     },
     "execution_count": 6,
     "metadata": {},
     "output_type": "execute_result"
    }
   ],
   "source": [
    "len(datafi['ra'])"
   ]
  },
  {
   "cell_type": "code",
   "execution_count": 8,
   "id": "b11a1c29-19a3-4c59-bbba-9c690f12a2c9",
   "metadata": {},
   "outputs": [
    {
     "data": {
      "text/plain": [
       "8364683"
      ]
     },
     "execution_count": 8,
     "metadata": {},
     "output_type": "execute_result"
    }
   ],
   "source": [
    "len(datapd['ra'])"
   ]
  },
  {
   "cell_type": "code",
   "execution_count": null,
   "id": "3f410a3e-4444-48f2-94c3-a12a017a6c63",
   "metadata": {},
   "outputs": [],
   "source": []
  }
 ],
 "metadata": {
  "kernelspec": {
   "display_name": "Python 3 (ipykernel)",
   "language": "python",
   "name": "python3"
  },
  "language_info": {
   "codemirror_mode": {
    "name": "ipython",
    "version": 3
   },
   "file_extension": ".py",
   "mimetype": "text/x-python",
   "name": "python",
   "nbconvert_exporter": "python",
   "pygments_lexer": "ipython3",
   "version": "3.9.10"
  }
 },
 "nbformat": 4,
 "nbformat_minor": 5
}
