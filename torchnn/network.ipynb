{
 "cells": [
  {
   "cell_type": "code",
   "execution_count": 1,
   "id": "9e588d14-da9c-4ae9-8da0-7290a55a6f4f",
   "metadata": {},
   "outputs": [],
   "source": [
    "from astropy.table import Table\n",
    "import numpy as np\n",
    "import torch\n",
    "import torch.nn as nn\n",
    "from torch.utils.data import Dataset\n",
    "from torch.utils.data import DataLoader\n",
    "import h5py\n",
    "import matplotlib.pyplot as plt\n",
    "from time import time"
   ]
  },
  {
   "cell_type": "code",
   "execution_count": 2,
   "id": "435aa99e-e23e-4e57-899c-48c883cecdb9",
   "metadata": {},
   "outputs": [
    {
     "data": {
      "text/plain": [
       "0"
      ]
     },
     "execution_count": 2,
     "metadata": {},
     "output_type": "execute_result"
    }
   ],
   "source": [
    "torch.cuda.current_device()"
   ]
  },
  {
   "cell_type": "code",
   "execution_count": 3,
   "id": "7de22752-e4bb-4432-aacf-77dd15cbb3f5",
   "metadata": {},
   "outputs": [
    {
     "data": {
      "text/plain": [
       "'NVIDIA A100-PCIE-40GB MIG 3g.20gb'"
      ]
     },
     "execution_count": 3,
     "metadata": {},
     "output_type": "execute_result"
    }
   ],
   "source": [
    "torch.cuda.get_device_name(0)"
   ]
  },
  {
   "cell_type": "code",
   "execution_count": 4,
   "id": "d04e2bfe-9f36-414e-a6cd-5a182788cc6f",
   "metadata": {},
   "outputs": [],
   "source": [
    "# defining the Dataset class\n",
    "class train_set(Dataset):\n",
    "    def __init__(self,file):\n",
    "        fn = h5py.File(file, 'r')\n",
    "        self.f = fn\n",
    "        \n",
    "    def __len__(self):\n",
    "        return self.f['group_1']['data'].shape[1]\n",
    "  \n",
    "    def __getitem__(self, index):\n",
    "        # get data\n",
    "        dset = self.f['group_1']['data']\n",
    "        x = dset[:].T\n",
    "        x = torch.Tensor(x[index])\n",
    "        \n",
    "\n",
    "        # get label\n",
    "        ydset = self.f['group_1']['label']\n",
    "        y = ydset[:].T\n",
    "        y = torch.Tensor(y[index])\n",
    "        # torch.from_numpy(y[index]) does not work since y is doubles and not floats.\n",
    "        \n",
    "        # get error in label # comment out for non-error label runs\n",
    "        errdset = self.f['group_1']['e_label']\n",
    "        err = errdset[:].T\n",
    "        err = torch.Tensor(err[index])\n",
    "        return (x,y,err)\n",
    "\n",
    "class test_set(Dataset):\n",
    "    def __init__(self,file):\n",
    "        fn = h5py.File(file, 'r')\n",
    "        self.f = fn\n",
    "        \n",
    "    def __len__(self):\n",
    "        return self.f['group_2']['data'].shape[1]\n",
    "  \n",
    "    def __getitem__(self, index):\n",
    "        # get data\n",
    "        dset = self.f['group_2']['data']\n",
    "        x = dset[:].T\n",
    "        x = torch.from_numpy(x[index])\n",
    "\n",
    "        # get label\n",
    "        ydset = self.f['group_2']['label']\n",
    "        y = ydset[:].T\n",
    "        y = torch.from_numpy(y[index])\n",
    "        \n",
    "        # get error in label # comment out for non-error label runs\n",
    "        errdset = self.f['group_2']['e_label']\n",
    "        err = errdset[:].T\n",
    "        err = torch.from_numpy(err[index])\n",
    "        return (x.float(),y.float(),err.float())"
   ]
  },
  {
   "cell_type": "code",
   "execution_count": 5,
   "id": "8f5195f6-8955-452b-9a37-53c484341d22",
   "metadata": {},
   "outputs": [],
   "source": [
    "# training_data = train_set(\"/arc/home/aydanmckay/mydata.h5\")\n",
    "# test_data = test_set(\"/arc/home/aydanmckay/mydata.h5\")\n",
    "training_data = train_set(\"/arc/home/aydanmckay/mydataelabelssmallscalecuts.h5\")\n",
    "test_data = test_set(\"/arc/home/aydanmckay/mydataelabelssmallscalecuts.h5\")\n",
    "##################################################################################\n",
    "# training_data = test_set(\"/arc/home/aydanmckay/mydataelabelssmallscalecuts.h5\")\n",
    "# test_data = test_set(\"/arc/home/aydanmckay/mydataelabelssmallscalecuts.h5\")"
   ]
  },
  {
   "cell_type": "code",
   "execution_count": 6,
   "id": "ad6a4b81-bcad-4074-b0df-339d4b387267",
   "metadata": {},
   "outputs": [],
   "source": [
    "class Net(nn.Module):\n",
    "    def __init__(self):\n",
    "        super(Net, self).__init__()\n",
    "        self.linear_relu_stack = nn.Sequential(\n",
    "            nn.Linear(3, 64),\n",
    "            nn.LeakyReLU(),\n",
    "            nn.Linear(64, 128),\n",
    "            nn.LeakyReLU(),\n",
    "            nn.Linear(128, 256),\n",
    "            nn.LeakyReLU(),\n",
    "            nn.Linear(256, 512),\n",
    "            nn.LeakyReLU(),\n",
    "            nn.Linear(512, 110)\n",
    "        )\n",
    "\n",
    "    def forward(self, x):\n",
    "        logits = self.linear_relu_stack(x)\n",
    "        return logits"
   ]
  },
  {
   "cell_type": "code",
   "execution_count": 7,
   "id": "77a956c7-1af4-433d-ba15-15ee29aa36dc",
   "metadata": {},
   "outputs": [],
   "source": [
    "batchlen = 16\n",
    "train_dataloader = DataLoader(\n",
    "    training_data,\n",
    "    batch_size=batchlen,\n",
    "    # shuffle=True\n",
    ")\n",
    "test_dataloader = DataLoader(\n",
    "    test_data,\n",
    "    batch_size=batchlen,\n",
    "    # shuffle=True\n",
    ")"
   ]
  },
  {
   "cell_type": "code",
   "execution_count": 8,
   "id": "1a2d4ab2-2f52-4659-95e8-adbc2de1b8e1",
   "metadata": {},
   "outputs": [
    {
     "data": {
      "text/plain": [
       "45008"
      ]
     },
     "execution_count": 8,
     "metadata": {},
     "output_type": "execute_result"
    }
   ],
   "source": [
    "len(train_dataloader)*batchlen"
   ]
  },
  {
   "cell_type": "code",
   "execution_count": 9,
   "id": "98d63eb4-0dcc-4349-a5f0-16927365f037",
   "metadata": {},
   "outputs": [
    {
     "name": "stdout",
     "output_type": "stream",
     "text": [
      "Net(\n",
      "  (linear_relu_stack): Sequential(\n",
      "    (0): Linear(in_features=3, out_features=64, bias=True)\n",
      "    (1): LeakyReLU(negative_slope=0.01)\n",
      "    (2): Linear(in_features=64, out_features=128, bias=True)\n",
      "    (3): LeakyReLU(negative_slope=0.01)\n",
      "    (4): Linear(in_features=128, out_features=256, bias=True)\n",
      "    (5): LeakyReLU(negative_slope=0.01)\n",
      "    (6): Linear(in_features=256, out_features=512, bias=True)\n",
      "    (7): LeakyReLU(negative_slope=0.01)\n",
      "    (8): Linear(in_features=512, out_features=110, bias=True)\n",
      "  )\n",
      ")\n"
     ]
    }
   ],
   "source": [
    "model = Net()\n",
    "print(model)"
   ]
  },
  {
   "cell_type": "code",
   "execution_count": 10,
   "id": "339472c1-88ef-47c4-8867-22722202c3a7",
   "metadata": {},
   "outputs": [],
   "source": [
    "lr = 1e-2\n",
    "epochs = 20"
   ]
  },
  {
   "cell_type": "code",
   "execution_count": 11,
   "id": "a623584c-4569-4587-8d05-e21f47b20735",
   "metadata": {},
   "outputs": [],
   "source": [
    "# loss_fn = nn.L1Loss()\n",
    "loss_fn = nn.MSELoss()\n",
    "# loss_fn = nn.GaussianNLLLoss()"
   ]
  },
  {
   "cell_type": "code",
   "execution_count": 12,
   "id": "f5d2ce5b-304a-4aeb-88da-d008d3cda243",
   "metadata": {},
   "outputs": [],
   "source": [
    "optimizer = torch.optim.SGD(\n",
    "    model.parameters(),\n",
    "    lr=lr,\n",
    "    momentum=0.9\n",
    ")\n",
    "# optimizer = torch.optim.Adam(\n",
    "#     model.parameters(),\n",
    "#     lr=lr\n",
    "# )"
   ]
  },
  {
   "cell_type": "code",
   "execution_count": 13,
   "id": "79ef33a4-ee7c-467f-9b6c-9c5dc489b396",
   "metadata": {},
   "outputs": [],
   "source": [
    "def res(preds,dataloader,epoch,resi='rel'):\n",
    "    fig, axs = plt.subplots(110)\n",
    "    fig.set_figheight(600)\n",
    "    \n",
    "    with torch.no_grad():\n",
    "        for num, (X, y, z) in enumerate(dataloader):\n",
    "            if resi == 'rel':\n",
    "                residual = (y-preds[num])/y\n",
    "                string = 'Relative Residual'\n",
    "            elif resi == 'err':\n",
    "                residual = (y-preds[num])/z\n",
    "                string = 'Residual Over Label Error'\n",
    "            elif resi == 'res':\n",
    "                residual = y-preds[num]\n",
    "                string = 'Residual'\n",
    "            for it in range(len(y.T)):\n",
    "                axs[it].plot(y.T[it],residual.T[it],'k.',alpha=0.1)\n",
    "                axs[it].set_xlabel('Observed XP Coefficient Value')\n",
    "                axs[it].set_ylabel('Relative Residual')\n",
    "                axs[it].set_title('XP Coefficient '+str(it+1)+' '+string)\n",
    "                \n",
    "    plt.savefig('/arc/home/aydanmckay/torchplots/test'+resi+'residualsWL1smallepoch'+str(epoch)+'scalecutsep5.png')\n",
    "    plt.close()\n",
    "    \n",
    "def corrplot(preds,dataloader,epoch):\n",
    "    fig, axs = plt.subplots(110)\n",
    "    fig.set_figheight(600)\n",
    "    \n",
    "    with torch.no_grad():\n",
    "        for num, (X, y, z) in enumerate(dataloader):\n",
    "            pred = preds[num]\n",
    "            # print(pred)\n",
    "            for it in range(len(y.T)):\n",
    "                axs[it].plot(y.T[it],pred.T[it],'k.',alpha=0.1)\n",
    "                axs[it].set_xlabel('Observed')\n",
    "                axs[it].set_ylabel('Predicted')\n",
    "                axs[it].set_title('XP Coefficient '+str(it+1))\n",
    "                \n",
    "    plt.savefig('/arc/home/aydanmckay/torchplots/testcorrWL1smallepoch'+str(epoch)+'scalecutsep5.png')\n",
    "    plt.close()"
   ]
  },
  {
   "cell_type": "code",
   "execution_count": 14,
   "id": "adf3653e-c574-488c-8ace-b2afc0012a58",
   "metadata": {},
   "outputs": [],
   "source": [
    "def train(dataloader, model, loss_fn, optimizer,epoch):\n",
    "    model.train()\n",
    "    size = len(dataloader.dataset)\n",
    "    running_loss = 0.\n",
    "    for batch, (X, y, z) in enumerate(dataloader):\n",
    "        # Compute prediction and loss\n",
    "        pred = model(X)\n",
    "        loss = loss_fn(pred,y)\n",
    "        # Backpropagation\n",
    "        optimizer.zero_grad()\n",
    "        loss.backward()\n",
    "        optimizer.step()\n",
    "        running_loss += loss.item()\n",
    "\n",
    "        if (batch % 100 == 0) and (batch != 0):\n",
    "            loss, current = loss.item(), batch * len(X)\n",
    "            print(f\"loss: {running_loss/batch:>7f}  [{current:>5d}/{size:>5d}]\")\n",
    "            \n",
    "    print(f\"loss: {running_loss/len(dataloader):>7f}  [45000/{size:>5d}]\")\n",
    "    return running_loss/len(dataloader)\n",
    "\n",
    "def test(dataloader, model, loss_fn,epoch):\n",
    "    model.eval()\n",
    "    size = len(dataloader.dataset)\n",
    "    num_batches = len(dataloader)\n",
    "    test_loss, correct = 0, 0\n",
    "\n",
    "    # preds = []\n",
    "    with torch.no_grad():\n",
    "        for X, y, z in dataloader:\n",
    "            pred = model(X)\n",
    "            test_loss += loss_fn(pred, y).item()\n",
    "            correct += (pred == y).type(torch.float).sum().item()\n",
    "            # preds.append(pred)\n",
    "    \n",
    "    # preds = np.array(preds)\n",
    "    # res(preds,dataloader,epoch,resi='res')\n",
    "    # res(preds,dataloader,epoch,resi='rel')\n",
    "    # res(preds,dataloader,epoch,resi='err')\n",
    "    # corrplot(preds,dataloader,epoch)\n",
    "    \n",
    "    test_loss /= num_batches\n",
    "    correct /= size\n",
    "    print(f\"Test Error: \\n Accuracy: {(100*correct):>0.1f}%, Avg loss: {test_loss:>8f} \\n\")\n",
    "    return test_loss"
   ]
  },
  {
   "cell_type": "code",
   "execution_count": null,
   "id": "4ad014d9-69c0-4678-9d56-f499f6a5a425",
   "metadata": {
    "tags": []
   },
   "outputs": [
    {
     "name": "stdout",
     "output_type": "stream",
     "text": [
      "Epoch 1\n",
      "-------------------------------\n",
      "loss: 1.001409  [ 1600/45000]\n",
      "loss: 0.979415  [ 3200/45000]\n",
      "loss: 0.990593  [ 4800/45000]\n",
      "loss: 0.988683  [ 6400/45000]\n",
      "loss: 0.994332  [ 8000/45000]\n",
      "loss: 0.987078  [ 9600/45000]\n",
      "loss: 0.970611  [11200/45000]\n",
      "loss: 0.961671  [12800/45000]\n",
      "loss: 0.946789  [14400/45000]\n",
      "loss: 0.940683  [16000/45000]\n",
      "loss: 0.933641  [17600/45000]\n",
      "loss: 0.928824  [19200/45000]\n",
      "loss: 0.922830  [20800/45000]\n",
      "loss: 0.915777  [22400/45000]\n",
      "loss: 0.913579  [24000/45000]\n",
      "loss: 0.907119  [25600/45000]\n",
      "loss: 0.907263  [27200/45000]\n",
      "loss: 0.905170  [28800/45000]\n",
      "loss: 0.901415  [30400/45000]\n",
      "loss: 0.901980  [32000/45000]\n",
      "loss: 0.896823  [33600/45000]\n",
      "loss: 0.894377  [35200/45000]\n",
      "loss: 0.889752  [36800/45000]\n",
      "loss: 0.886499  [38400/45000]\n",
      "loss: 0.884921  [40000/45000]\n",
      "loss: 0.883924  [41600/45000]\n",
      "loss: 0.880981  [43200/45000]\n",
      "loss: 0.877998  [44800/45000]\n",
      "loss: 0.877228  [45000/45000]\n",
      "Test Error: \n",
      " Accuracy: 0.0%, Avg loss: 0.840261 \n",
      "\n",
      "Elapsed epoch time: 1844.37 s\n",
      "Epoch 2\n",
      "-------------------------------\n",
      "loss: 0.835263  [ 1600/45000]\n",
      "loss: 0.823706  [ 3200/45000]\n",
      "loss: 0.838051  [ 4800/45000]\n",
      "loss: 0.842941  [ 6400/45000]\n",
      "loss: 0.854662  [ 8000/45000]\n"
     ]
    }
   ],
   "source": [
    "valloss = []\n",
    "traloss = []\n",
    "for t in range(epochs):\n",
    "    t0 = time()\n",
    "    print(f\"Epoch {t+1}\\n-------------------------------\")\n",
    "    trainloss = train(train_dataloader, model, loss_fn, optimizer,t)\n",
    "    testloss = test(test_dataloader, model, loss_fn,t)\n",
    "    valloss.append(testloss)\n",
    "    traloss.append(trainloss)\n",
    "    if valloss[t] > valloss[t-1]:\n",
    "        print('Validation loss increase.')\n",
    "        break\n",
    "    # torch.save({\n",
    "    #             'epoch': t,\n",
    "    #             'model_state_dict': model.state_dict(),\n",
    "    #             'optimizer_state_dict': optimizer.state_dict(),\n",
    "    #             'loss': tloss,\n",
    "    #             }, '/arc/home/aydanmckay/ml/torchnn/checkpoints/checkpointWGLsmallepoch'+str(t)+'scalecutsep5.pth')\n",
    "    # torch.save(model.state_dict(), \"/arc/home/aydanmckay/torchmodel/torchmodelWsmallscalecutsep5iter\"+str(t)+\".pth\")\n",
    "    t1 = time()\n",
    "    print(f'Elapsed epoch time: {t1-t0:.2f} s')\n",
    "print(\"Training completed\")"
   ]
  },
  {
   "cell_type": "code",
   "execution_count": null,
   "id": "983e9db6-f4f2-4460-8e85-80a7651e7bb5",
   "metadata": {},
   "outputs": [],
   "source": [
    "plt.plot(range(1,epochs+1),traloss,'-o',label='Train Loss')\n",
    "plt.plot(range(1,epochs+1),valloss,'-o',label='Val Loss')\n",
    "plt.xlabel('Epoch')\n",
    "plt.ylabel('Loss (L2)')\n",
    "# plt.ylim(0.65,0.67)\n",
    "plt.legend(fancybox=True)\n",
    "plt.title('Test Loss per Epoch')\n",
    "plt.savefig('/arc/home/aydanmckay/torchplots/lossL2smallscalecutsbl16lr-2SGDep20.png')\n",
    "plt.show()"
   ]
  },
  {
   "cell_type": "code",
   "execution_count": null,
   "id": "f880d560-115e-4973-930b-52595ba21aea",
   "metadata": {},
   "outputs": [],
   "source": [
    "torch.save(model.state_dict(), \"/arc/home/aydanmckay/torchmodel/torchmodelL2smallscalecutsbl16lr-2SGDep20.pth\")"
   ]
  },
  {
   "cell_type": "code",
   "execution_count": null,
   "id": "e676ae98-1cff-44bd-be50-421825c7b5c4",
   "metadata": {},
   "outputs": [],
   "source": []
  }
 ],
 "metadata": {
  "kernelspec": {
   "display_name": "Python 3 (ipykernel)",
   "language": "python",
   "name": "python3"
  },
  "language_info": {
   "codemirror_mode": {
    "name": "ipython",
    "version": 3
   },
   "file_extension": ".py",
   "mimetype": "text/x-python",
   "name": "python",
   "nbconvert_exporter": "python",
   "pygments_lexer": "ipython3",
   "version": "3.9.13"
  }
 },
 "nbformat": 4,
 "nbformat_minor": 5
}
