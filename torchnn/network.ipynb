{
 "cells": [
  {
   "cell_type": "code",
   "execution_count": 1,
   "id": "9e588d14-da9c-4ae9-8da0-7290a55a6f4f",
   "metadata": {},
   "outputs": [],
   "source": [
    "from astropy.table import Table\n",
    "import numpy as np\n",
    "import torch\n",
    "import torch.nn as nn\n",
    "from torch.utils.data import Dataset\n",
    "from torch.utils.data import DataLoader\n",
    "import h5py\n",
    "import matplotlib.pyplot as plt"
   ]
  },
  {
   "cell_type": "code",
   "execution_count": 2,
   "id": "d04e2bfe-9f36-414e-a6cd-5a182788cc6f",
   "metadata": {},
   "outputs": [],
   "source": [
    "# defining the Dataset class\n",
    "class train_set(Dataset):\n",
    "    def __init__(self,file):\n",
    "        fn = h5py.File(file, 'r')\n",
    "        self.f = fn\n",
    "        \n",
    "    def __len__(self):\n",
    "        return self.f['group_1']['data'].shape[1]\n",
    "  \n",
    "    def __getitem__(self, index):\n",
    "        # get data\n",
    "        dset = self.f['group_1']['data']\n",
    "        x = dset[:].T\n",
    "        x = torch.Tensor(x[index])\n",
    "        \n",
    "\n",
    "        # get label\n",
    "        ydset = self.f['group_1']['label']\n",
    "        y = ydset[:].T\n",
    "        y = torch.Tensor(y[index])\n",
    "        # torch.from_numpy(y[index]) does not work since y is doubles and not floats.\n",
    "        \n",
    "        # get error in label # comment out for non-error label runs\n",
    "        errdset = self.f['group_1']['e_label']\n",
    "        err = errdset[:].T\n",
    "        err = torch.Tensor(err[index])\n",
    "        return (x,y,err)\n",
    "\n",
    "class test_set(Dataset):\n",
    "    def __init__(self,file):\n",
    "        fn = h5py.File(file, 'r')\n",
    "        self.f = fn\n",
    "        \n",
    "    def __len__(self):\n",
    "        return self.f['group_2']['data'].shape[1]\n",
    "  \n",
    "    def __getitem__(self, index):\n",
    "        # get data\n",
    "        dset = self.f['group_2']['data']\n",
    "        x = dset[:].T\n",
    "        x = torch.from_numpy(x[index])\n",
    "\n",
    "        # get label\n",
    "        ydset = self.f['group_2']['label']\n",
    "        y = ydset[:].T\n",
    "        y = torch.from_numpy(y[index])\n",
    "        \n",
    "        # get error in label # comment out for non-error label runs\n",
    "        errdset = self.f['group_2']['e_label']\n",
    "        err = errdset[:].T\n",
    "        err = torch.from_numpy(err[index])\n",
    "        return (x.float(),y.float(),err.float())"
   ]
  },
  {
   "cell_type": "code",
   "execution_count": 3,
   "id": "8f5195f6-8955-452b-9a37-53c484341d22",
   "metadata": {},
   "outputs": [],
   "source": [
    "# training_data = train_set(\"/arc/home/aydanmckay/mydata.h5\")\n",
    "# test_data = test_set(\"/arc/home/aydanmckay/mydata.h5\")\n",
    "training_data = train_set(\"/arc/home/aydanmckay/mydataelabelssmallscalecuts.h5\")\n",
    "test_data = test_set(\"/arc/home/aydanmckay/mydataelabelssmallscalecuts.h5\")\n",
    "##################################################################################\n",
    "# training_data = test_set(\"/arc/home/aydanmckay/mydataelabelssmallscalecuts.h5\")\n",
    "# test_data = test_set(\"/arc/home/aydanmckay/mydataelabelssmallscalecuts.h5\")"
   ]
  },
  {
   "cell_type": "code",
   "execution_count": 4,
   "id": "ad6a4b81-bcad-4074-b0df-339d4b387267",
   "metadata": {},
   "outputs": [],
   "source": [
    "class Net(nn.Module):\n",
    "    def __init__(self):\n",
    "        super(Net, self).__init__()\n",
    "        self.linear_relu_stack = nn.Sequential(\n",
    "            nn.Linear(3, 64),\n",
    "            nn.ReLU(),\n",
    "            nn.Linear(64, 128),\n",
    "            nn.ReLU(),\n",
    "            nn.Linear(128, 256),\n",
    "            nn.ReLU(),\n",
    "            nn.Linear(256, 512),\n",
    "            nn.ReLU(),\n",
    "            nn.Linear(512, 110)\n",
    "        )\n",
    "\n",
    "    def forward(self, x):\n",
    "        logits = self.linear_relu_stack(x)\n",
    "        return logits"
   ]
  },
  {
   "cell_type": "code",
   "execution_count": 5,
   "id": "77a956c7-1af4-433d-ba15-15ee29aa36dc",
   "metadata": {},
   "outputs": [],
   "source": [
    "train_dataloader = DataLoader(\n",
    "    training_data,\n",
    "    batch_size=32,\n",
    "    # shuffle=True\n",
    ")\n",
    "test_dataloader = DataLoader(\n",
    "    test_data,\n",
    "    batch_size=32,\n",
    "    # shuffle=True\n",
    ")"
   ]
  },
  {
   "cell_type": "code",
   "execution_count": 6,
   "id": "98d63eb4-0dcc-4349-a5f0-16927365f037",
   "metadata": {},
   "outputs": [
    {
     "name": "stdout",
     "output_type": "stream",
     "text": [
      "Net(\n",
      "  (linear_relu_stack): Sequential(\n",
      "    (0): Linear(in_features=3, out_features=64, bias=True)\n",
      "    (1): ReLU()\n",
      "    (2): Linear(in_features=64, out_features=128, bias=True)\n",
      "    (3): ReLU()\n",
      "    (4): Linear(in_features=128, out_features=256, bias=True)\n",
      "    (5): ReLU()\n",
      "    (6): Linear(in_features=256, out_features=512, bias=True)\n",
      "    (7): ReLU()\n",
      "    (8): Linear(in_features=512, out_features=110, bias=True)\n",
      "  )\n",
      ")\n"
     ]
    }
   ],
   "source": [
    "model = Net()\n",
    "print(model)"
   ]
  },
  {
   "cell_type": "code",
   "execution_count": 7,
   "id": "339472c1-88ef-47c4-8867-22722202c3a7",
   "metadata": {},
   "outputs": [],
   "source": [
    "lr = 1e-3\n",
    "# batch_size = 64\n",
    "epochs = 10"
   ]
  },
  {
   "cell_type": "code",
   "execution_count": 8,
   "id": "a623584c-4569-4587-8d05-e21f47b20735",
   "metadata": {},
   "outputs": [],
   "source": [
    "loss_fn = nn.L1Loss()\n",
    "# loss_fn = nn.MSELoss()"
   ]
  },
  {
   "cell_type": "code",
   "execution_count": 9,
   "id": "f5d2ce5b-304a-4aeb-88da-d008d3cda243",
   "metadata": {},
   "outputs": [],
   "source": [
    "# optimizer = torch.optim.SGD(\n",
    "#     model.parameters(),\n",
    "#     lr=lr,\n",
    "#     momentum=0.9\n",
    "# )\n",
    "optimizer = torch.optim.Adam(\n",
    "    model.parameters(),\n",
    "    lr=lr\n",
    ")"
   ]
  },
  {
   "cell_type": "code",
   "execution_count": 10,
   "id": "0243088c-dfe0-449c-bcf6-ccc2cf8cf97d",
   "metadata": {},
   "outputs": [],
   "source": [
    "def train(dataloader, model, loss_fn, optimizer,epoch):\n",
    "    size = len(dataloader.dataset)\n",
    "    losslist = []\n",
    "    batchlist = []\n",
    "    for batch, (X, y, z) in enumerate(dataloader):\n",
    "        batchlist.append(batch)\n",
    "        # Compute prediction and loss\n",
    "        pred = model(X)\n",
    "        loss = loss_fn(pred/z**2, y/z**2)\n",
    "        losslist.append(loss.detach().numpy())\n",
    "        # Backpropagation\n",
    "        optimizer.zero_grad()\n",
    "        loss.backward()\n",
    "        optimizer.step()\n",
    "\n",
    "        if batch % 100 == 0:\n",
    "            loss, current = loss.item(), batch * len(X)\n",
    "            print(f\"loss: {loss:>7f}  [{current:>5d}/{size:>5d}]\")\n",
    "    plt.plot(batchlist,losslist)\n",
    "    plt.xlabel('Batch Number')\n",
    "    plt.ylabel('Loss (Weighted L1)')\n",
    "    plt.title('Training Loss Over Epoch '+str(epoch+1))\n",
    "    plt.savefig('/arc/home/aydanmckay/torchplots/trainlossWL1smallepoch'+str(epoch)+'scalecutsep10.png')\n",
    "    plt.show()\n",
    "\n",
    "def test(dataloader, model, loss_fn,epoch):\n",
    "    size = len(dataloader.dataset)\n",
    "    num_batches = len(dataloader)\n",
    "    test_loss, correct = 0, 0\n",
    "    #\n",
    "    fig, axs = plt.subplots(110)\n",
    "    # fig.tight_layout()\n",
    "    fig.set_figheight(600)\n",
    "\n",
    "    with torch.no_grad():\n",
    "        for X, y, z in dataloader:\n",
    "            pred = model(X)\n",
    "            test_loss += loss_fn(pred/z**2, y/z**2).item()\n",
    "            correct += (pred == y).type(torch.float).sum().item()\n",
    "            #\n",
    "            rel_res = (y-pred)/y\n",
    "            for it in range(len(y.T)):\n",
    "                axs[it].plot(y.T[it],rel_res.T[it],'k.',alpha=0.1)\n",
    "                axs[it].set_xlabel('Observed XP Coefficient Value')\n",
    "                axs[it].set_ylabel('Relative Residual')\n",
    "                axs[it].set_title('XP Coefficient '+str(it+1))\n",
    "                \n",
    "            # change algorithm as such: save pred to an array, and then call functions rel_res and res which will plot the \n",
    "            # residuals and loop through y in dataloader and pred in preds. there seems to be this asymptotic relationship between the\n",
    "            # relative residual and the label.\n",
    "            \n",
    "            # then start working on step two in slack\n",
    "            \n",
    "    test_loss /= num_batches\n",
    "    correct /= size\n",
    "    print(f\"Test Error: \\n Accuracy: {(100*correct):>0.1f}%, Avg loss: {test_loss:>8f} \\n\")\n",
    "    #\n",
    "    plt.savefig('/arc/home/aydanmckay/torchplots/testlossWL1smallepoch'+str(epoch)+'scalecutsep10.png')\n",
    "    plt.close()\n",
    "    return test_loss"
   ]
  },
  {
   "cell_type": "code",
   "execution_count": null,
   "id": "34e3beb2-95ea-45b0-86e8-f26bd693fdf9",
   "metadata": {
    "tags": []
   },
   "outputs": [
    {
     "name": "stdout",
     "output_type": "stream",
     "text": [
      "Epoch 1\n",
      "-------------------------------\n",
      "loss: 1.392730  [    0/45000]\n",
      "loss: 0.200346  [ 3200/45000]\n",
      "loss: 0.113304  [ 6400/45000]\n",
      "loss: 0.132719  [ 9600/45000]\n",
      "loss: 0.158228  [12800/45000]\n",
      "loss: 0.083776  [16000/45000]\n",
      "loss: 0.149796  [19200/45000]\n",
      "loss: 0.104454  [22400/45000]\n",
      "loss: 0.112503  [25600/45000]\n",
      "loss: 0.087184  [28800/45000]\n",
      "loss: 0.100943  [32000/45000]\n",
      "loss: 0.074507  [35200/45000]\n",
      "loss: 0.118429  [38400/45000]\n",
      "loss: 0.125917  [41600/45000]\n",
      "loss: 0.117514  [44800/45000]\n"
     ]
    },
    {
     "data": {
      "image/png": "[encoded data removed]",
      "text/plain": [
       "<Figure size 432x288 with 1 Axes>"
      ]
     },
     "metadata": {
      "needs_background": "light"
     },
     "output_type": "display_data"
    },
    {
     "name": "stdout",
     "output_type": "stream",
     "text": [
      "Test Error: \n",
      " Accuracy: 0.0%, Avg loss: 0.099709 \n",
      "\n",
      "Epoch 2\n",
      "-------------------------------\n",
      "loss: 0.083827  [    0/45000]\n",
      "loss: 0.155479  [ 3200/45000]\n",
      "loss: 0.084469  [ 6400/45000]\n",
      "loss: 0.101991  [ 9600/45000]\n",
      "loss: 0.139359  [12800/45000]\n",
      "loss: 0.090353  [16000/45000]\n",
      "loss: 0.115897  [19200/45000]\n",
      "loss: 0.120977  [22400/45000]\n",
      "loss: 0.083390  [25600/45000]\n",
      "loss: 0.083515  [28800/45000]\n",
      "loss: 0.089763  [32000/45000]\n",
      "loss: 0.071728  [35200/45000]\n",
      "loss: 0.092482  [38400/45000]\n",
      "loss: 0.111911  [41600/45000]\n",
      "loss: 0.116074  [44800/45000]\n"
     ]
    },
    {
     "data": {
      "image/png": "[encoded data removed]",
      "text/plain": [
       "<Figure size 432x288 with 1 Axes>"
      ]
     },
     "metadata": {
      "needs_background": "light"
     },
     "output_type": "display_data"
    },
    {
     "name": "stdout",
     "output_type": "stream",
     "text": [
      "Test Error: \n",
      " Accuracy: 0.0%, Avg loss: 0.099530 \n",
      "\n",
      "Epoch 3\n",
      "-------------------------------\n",
      "loss: 0.083726  [    0/45000]\n",
      "loss: 0.160125  [ 3200/45000]\n",
      "loss: 0.085072  [ 6400/45000]\n",
      "loss: 0.102285  [ 9600/45000]\n",
      "loss: 0.135263  [12800/45000]\n",
      "loss: 0.083539  [16000/45000]\n"
     ]
    }
   ],
   "source": [
    "testloss = []\n",
    "for t in range(epochs):\n",
    "    print(f\"Epoch {t+1}\\n-------------------------------\")\n",
    "    train(train_dataloader, model, loss_fn, optimizer,t)\n",
    "    tloss = test(test_dataloader, model, loss_fn,t)\n",
    "    testloss.append(tloss)\n",
    "print(\"Training completed\")"
   ]
  },
  {
   "cell_type": "code",
   "execution_count": null,
   "id": "2cf7d4a3-5283-4c36-a861-93a7991fa1bb",
   "metadata": {},
   "outputs": [],
   "source": [
    "plt.plot(range(1,epochs+1),testloss)\n",
    "plt.xlabel('Epoch')\n",
    "plt.ylabel('Loss (Weighted L1)')\n",
    "plt.title('Test Loss per Epoch')\n",
    "plt.savefig('/arc/home/aydanmckay/torchplots/testlossWL1smallscalecutsep10.png')\n",
    "plt.show()"
   ]
  },
  {
   "cell_type": "code",
   "execution_count": null,
   "id": "f880d560-115e-4973-930b-52595ba21aea",
   "metadata": {},
   "outputs": [],
   "source": [
    "torch.save(model.state_dict(), \"/arc/home/aydanmckay/torchmodel/torchmodelWL1smallscalecutsep10.pth\")"
   ]
  },
  {
   "cell_type": "code",
   "execution_count": null,
   "id": "2b6944c7-737c-4590-93a2-b2cdabd9eb0e",
   "metadata": {},
   "outputs": [],
   "source": []
  }
 ],
 "metadata": {
  "kernelspec": {
   "display_name": "Python 3 (ipykernel)",
   "language": "python",
   "name": "python3"
  },
  "language_info": {
   "codemirror_mode": {
    "name": "ipython",
    "version": 3
   },
   "file_extension": ".py",
   "mimetype": "text/x-python",
   "name": "python",
   "nbconvert_exporter": "python",
   "pygments_lexer": "ipython3",
   "version": "3.9.13"
  }
 },
 "nbformat": 4,
 "nbformat_minor": 5
}
