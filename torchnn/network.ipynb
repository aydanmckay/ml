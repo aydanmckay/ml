{
 "cells": [
  {
   "cell_type": "code",
   "execution_count": 1,
   "id": "9e588d14-da9c-4ae9-8da0-7290a55a6f4f",
   "metadata": {},
   "outputs": [],
   "source": [
    "from astropy.table import Table\n",
    "import numpy as np\n",
    "import torch\n",
    "import torch.nn as nn\n",
    "from torch.utils.data import Dataset\n",
    "from torch.utils.data import DataLoader\n",
    "import h5py"
   ]
  },
  {
   "cell_type": "code",
   "execution_count": 2,
   "id": "d04e2bfe-9f36-414e-a6cd-5a182788cc6f",
   "metadata": {},
   "outputs": [],
   "source": [
    "# defining the Dataset class\n",
    "class train_set(Dataset):\n",
    "    def __init__(self,file):\n",
    "        fn = h5py.File(file, 'r')\n",
    "        self.f = fn\n",
    "        \n",
    "    def __len__(self):\n",
    "        return self.f['group_1']['data'].shape[1]\n",
    "  \n",
    "    def __getitem__(self, index):\n",
    "        # get data\n",
    "        dset = self.f['group_1']['data']\n",
    "        x = dset[:].T\n",
    "        x = torch.Tensor(x[index])\n",
    "        \n",
    "\n",
    "        # get label\n",
    "        ydset = self.f['group_1']['label']\n",
    "        y = ydset[:].T\n",
    "        y = torch.Tensor(y[index])\n",
    "        # torch.from_numpy(y[index]) does not work since y is doubles and not floats.\n",
    "        return (x,y)\n",
    "\n",
    "class test_set(Dataset):\n",
    "    def __init__(self,file):\n",
    "        fn = h5py.File(file, 'r')\n",
    "        self.f = fn\n",
    "        \n",
    "    def __len__(self):\n",
    "        return self.f['group_2']['data'].shape[1]\n",
    "  \n",
    "    def __getitem__(self, index):\n",
    "        # get data\n",
    "        dset = self.f['group_2']['data']\n",
    "        x = dset[:].T\n",
    "        x = torch.from_numpy(x[index])\n",
    "\n",
    "        # get label\n",
    "        ydset = self.f['group_2']['label']\n",
    "        y = ydset[:].T\n",
    "        y = torch.from_numpy(y[index])\n",
    "        return (x.float(),y.float())"
   ]
  },
  {
   "cell_type": "code",
   "execution_count": 3,
   "id": "8f5195f6-8955-452b-9a37-53c484341d22",
   "metadata": {},
   "outputs": [],
   "source": [
    "training_data = train_set(\"/arc/home/aydanmckay/mydata.h5\")\n",
    "test_data = test_set(\"/arc/home/aydanmckay/mydata.h5\")"
   ]
  },
  {
   "cell_type": "code",
   "execution_count": 4,
   "id": "ad6a4b81-bcad-4074-b0df-339d4b387267",
   "metadata": {},
   "outputs": [],
   "source": [
    "class Net(nn.Module):\n",
    "    def __init__(self):\n",
    "        super(Net, self).__init__()\n",
    "        self.linear_relu_stack = nn.Sequential(\n",
    "            nn.Linear(3, 64),\n",
    "            nn.ReLU(),\n",
    "            nn.Linear(64, 128),\n",
    "            nn.ReLU(),\n",
    "            nn.Linear(128, 256),\n",
    "            nn.ReLU(),\n",
    "            nn.Linear(256, 512),\n",
    "            nn.Sigmoid(),\n",
    "            nn.Linear(512, 110)\n",
    "        )\n",
    "\n",
    "    def forward(self, x):\n",
    "        logits = self.linear_relu_stack(x)\n",
    "        return logits"
   ]
  },
  {
   "cell_type": "code",
   "execution_count": 5,
   "id": "77a956c7-1af4-433d-ba15-15ee29aa36dc",
   "metadata": {},
   "outputs": [],
   "source": [
    "train_dataloader = DataLoader(\n",
    "    training_data,\n",
    "    batch_size=32,\n",
    "    # shuffle=True\n",
    ")\n",
    "test_dataloader = DataLoader(\n",
    "    test_data,\n",
    "    batch_size=32,\n",
    "    # shuffle=True\n",
    ")"
   ]
  },
  {
   "cell_type": "code",
   "execution_count": 6,
   "id": "98d63eb4-0dcc-4349-a5f0-16927365f037",
   "metadata": {},
   "outputs": [
    {
     "name": "stdout",
     "output_type": "stream",
     "text": [
      "Net(\n",
      "  (linear_relu_stack): Sequential(\n",
      "    (0): Linear(in_features=3, out_features=64, bias=True)\n",
      "    (1): ReLU()\n",
      "    (2): Linear(in_features=64, out_features=128, bias=True)\n",
      "    (3): ReLU()\n",
      "    (4): Linear(in_features=128, out_features=256, bias=True)\n",
      "    (5): ReLU()\n",
      "    (6): Linear(in_features=256, out_features=512, bias=True)\n",
      "    (7): Sigmoid()\n",
      "    (8): Linear(in_features=512, out_features=110, bias=True)\n",
      "  )\n",
      ")\n"
     ]
    }
   ],
   "source": [
    "model = Net()\n",
    "print(model)"
   ]
  },
  {
   "cell_type": "code",
   "execution_count": 7,
   "id": "339472c1-88ef-47c4-8867-22722202c3a7",
   "metadata": {},
   "outputs": [],
   "source": [
    "lr = 1e-3\n",
    "batch_size = 64\n",
    "epochs = 5"
   ]
  },
  {
   "cell_type": "code",
   "execution_count": 8,
   "id": "a623584c-4569-4587-8d05-e21f47b20735",
   "metadata": {},
   "outputs": [],
   "source": [
    "loss_fn = nn.L1Loss()"
   ]
  },
  {
   "cell_type": "code",
   "execution_count": 9,
   "id": "f5d2ce5b-304a-4aeb-88da-d008d3cda243",
   "metadata": {},
   "outputs": [],
   "source": [
    "optimizer = torch.optim.SGD(\n",
    "    model.parameters(),\n",
    "    lr=lr,\n",
    "    momentum=0.9)"
   ]
  },
  {
   "cell_type": "code",
   "execution_count": 10,
   "id": "6882c7e3-5555-413d-ac90-c66ede2e12b7",
   "metadata": {},
   "outputs": [],
   "source": [
    "def train(dataloader, model, loss_fn, optimizer):\n",
    "    size = len(dataloader.dataset)\n",
    "    for batch, (X, y) in enumerate(dataloader):\n",
    "        # Compute prediction and loss\n",
    "        pred = model(X)\n",
    "        loss = loss_fn(pred, y)\n",
    "\n",
    "        # Backpropagation\n",
    "        optimizer.zero_grad()\n",
    "        loss.backward()\n",
    "        optimizer.step()\n",
    "\n",
    "        if batch % 100 == 0:\n",
    "            loss, current = loss.item(), batch * len(X)\n",
    "            print(f\"loss: {loss:>7f}  [{current:>5d}/{size:>5d}]\")\n",
    "        \n",
    "            if current == 51200:\n",
    "                break\n",
    "\n",
    "\n",
    "def test(dataloader, model, loss_fn):\n",
    "    size = len(dataloader.dataset)\n",
    "    num_batches = len(dataloader)\n",
    "    test_loss, correct = 0, 0\n",
    "\n",
    "    with torch.no_grad():\n",
    "        for X, y in dataloader:\n",
    "            pred = model(X)\n",
    "            test_loss += loss_fn(pred, y).item()\n",
    "            correct += (pred.argmax(1) == y).type(torch.float).sum().item()\n",
    "\n",
    "    test_loss /= num_batches\n",
    "    correct /= size\n",
    "    print(f\"Test Error: \\n Accuracy: {(100*correct):>0.1f}%, Avg loss: {test_loss:>8f} \\n\")"
   ]
  },
  {
   "cell_type": "code",
   "execution_count": 11,
   "id": "19a72935-c48a-4b63-81b1-575045b6a93c",
   "metadata": {},
   "outputs": [
    {
     "name": "stdout",
     "output_type": "stream",
     "text": [
      "Epoch 1\n",
      "-------------------------------\n",
      "loss: 847.765930  [    0/433631]\n",
      "loss: 559.802551  [ 3200/433631]\n",
      "loss: 551.999512  [ 6400/433631]\n",
      "loss: 766.703918  [ 9600/433631]\n",
      "loss: 413.348236  [12800/433631]\n",
      "loss: 449.316772  [16000/433631]\n",
      "loss: 415.576782  [19200/433631]\n",
      "loss: 407.484589  [22400/433631]\n",
      "loss: 590.003296  [25600/433631]\n",
      "loss: 443.029663  [28800/433631]\n",
      "loss: 426.553619  [32000/433631]\n",
      "loss: 438.032196  [35200/433631]\n",
      "loss: 527.451477  [38400/433631]\n",
      "loss: 895.032227  [41600/433631]\n",
      "loss: 409.583374  [44800/433631]\n",
      "loss: 520.473816  [48000/433631]\n",
      "loss: 333.219360  [51200/433631]\n"
     ]
    },
    {
     "ename": "RuntimeError",
     "evalue": "The size of tensor a (32) must match the size of tensor b (110) at non-singleton dimension 1",
     "output_type": "error",
     "traceback": [
      "\u001b[0;31m---------------------------------------------------------------------------\u001b[0m",
      "\u001b[0;31mRuntimeError\u001b[0m                              Traceback (most recent call last)",
      "Input \u001b[0;32mIn [11]\u001b[0m, in \u001b[0;36m<cell line: 1>\u001b[0;34m()\u001b[0m\n\u001b[1;32m      2\u001b[0m     \u001b[38;5;28mprint\u001b[39m(\u001b[38;5;124mf\u001b[39m\u001b[38;5;124m\"\u001b[39m\u001b[38;5;124mEpoch \u001b[39m\u001b[38;5;132;01m{\u001b[39;00mt\u001b[38;5;241m+\u001b[39m\u001b[38;5;241m1\u001b[39m\u001b[38;5;132;01m}\u001b[39;00m\u001b[38;5;130;01m\\n\u001b[39;00m\u001b[38;5;124m-------------------------------\u001b[39m\u001b[38;5;124m\"\u001b[39m)\n\u001b[1;32m      3\u001b[0m     train(train_dataloader, model, loss_fn, optimizer)\n\u001b[0;32m----> 4\u001b[0m     \u001b[43mtest\u001b[49m\u001b[43m(\u001b[49m\u001b[43mtest_dataloader\u001b[49m\u001b[43m,\u001b[49m\u001b[43m \u001b[49m\u001b[43mmodel\u001b[49m\u001b[43m,\u001b[49m\u001b[43m \u001b[49m\u001b[43mloss_fn\u001b[49m\u001b[43m)\u001b[49m\n\u001b[1;32m      5\u001b[0m     \u001b[38;5;28;01mbreak\u001b[39;00m\n\u001b[1;32m      6\u001b[0m \u001b[38;5;28mprint\u001b[39m(\u001b[38;5;124m\"\u001b[39m\u001b[38;5;124mTraining completed\u001b[39m\u001b[38;5;124m\"\u001b[39m)\n",
      "Input \u001b[0;32mIn [10]\u001b[0m, in \u001b[0;36mtest\u001b[0;34m(dataloader, model, loss_fn)\u001b[0m\n\u001b[1;32m     28\u001b[0m         pred \u001b[38;5;241m=\u001b[39m model(X)\n\u001b[1;32m     29\u001b[0m         test_loss \u001b[38;5;241m+\u001b[39m\u001b[38;5;241m=\u001b[39m loss_fn(pred, y)\u001b[38;5;241m.\u001b[39mitem()\n\u001b[0;32m---> 30\u001b[0m         correct \u001b[38;5;241m+\u001b[39m\u001b[38;5;241m=\u001b[39m (\u001b[43mpred\u001b[49m\u001b[38;5;241;43m.\u001b[39;49m\u001b[43margmax\u001b[49m\u001b[43m(\u001b[49m\u001b[38;5;241;43m1\u001b[39;49m\u001b[43m)\u001b[49m\u001b[43m \u001b[49m\u001b[38;5;241;43m==\u001b[39;49m\u001b[43m \u001b[49m\u001b[43my\u001b[49m)\u001b[38;5;241m.\u001b[39mtype(torch\u001b[38;5;241m.\u001b[39mfloat)\u001b[38;5;241m.\u001b[39msum()\u001b[38;5;241m.\u001b[39mitem()\n\u001b[1;32m     32\u001b[0m test_loss \u001b[38;5;241m/\u001b[39m\u001b[38;5;241m=\u001b[39m num_batches\n\u001b[1;32m     33\u001b[0m correct \u001b[38;5;241m/\u001b[39m\u001b[38;5;241m=\u001b[39m size\n",
      "\u001b[0;31mRuntimeError\u001b[0m: The size of tensor a (32) must match the size of tensor b (110) at non-singleton dimension 1"
     ]
    }
   ],
   "source": [
    "for t in range(epochs):\n",
    "    print(f\"Epoch {t+1}\\n-------------------------------\")\n",
    "    train(train_dataloader, model, loss_fn, optimizer)\n",
    "    test(test_dataloader, model, loss_fn)\n",
    "    break\n",
    "print(\"Training completed\")"
   ]
  },
  {
   "cell_type": "code",
   "execution_count": null,
   "id": "f880d560-115e-4973-930b-52595ba21aea",
   "metadata": {},
   "outputs": [],
   "source": [
    "torch.save(model.state_dict(), \"torchmodel.pth\")"
   ]
  },
  {
   "cell_type": "code",
   "execution_count": null,
   "id": "2b6944c7-737c-4590-93a2-b2cdabd9eb0e",
   "metadata": {},
   "outputs": [],
   "source": []
  }
 ],
 "metadata": {
  "kernelspec": {
   "display_name": "Python 3 (ipykernel)",
   "language": "python",
   "name": "python3"
  },
  "language_info": {
   "codemirror_mode": {
    "name": "ipython",
    "version": 3
   },
   "file_extension": ".py",
   "mimetype": "text/x-python",
   "name": "python",
   "nbconvert_exporter": "python",
   "pygments_lexer": "ipython3",
   "version": "3.9.13"
  }
 },
 "nbformat": 4,
 "nbformat_minor": 5
}
