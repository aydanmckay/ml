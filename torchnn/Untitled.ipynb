{
 "cells": [
  {
   "cell_type": "code",
   "execution_count": null,
   "id": "9e588d14-da9c-4ae9-8da0-7290a55a6f4f",
   "metadata": {},
   "outputs": [],
   "source": [
    "from astropy.table import Table\n",
    "import numpy as np\n",
    "import torch\n",
    "import torch.nn as nn\n",
    "# import torch.nn.functional as F"
   ]
  },
  {
   "cell_type": "code",
   "execution_count": null,
   "id": "d04e2bfe-9f36-414e-a6cd-5a182788cc6f",
   "metadata": {},
   "outputs": [],
   "source": [
    "# defining the Dataset class\n",
    "class data_set(Dataset):\n",
    "    def __init__(self,file):\n",
    "        datum = Table.read(file)\n",
    "        self.data = datum\n",
    "  \n",
    "    def __len__(self):\n",
    "        return len(self.data)\n",
    "  \n",
    "    def __getitem__(self, index):\n",
    "        return self.data[index]"
   ]
  },
  {
   "cell_type": "code",
   "execution_count": null,
   "id": "ad6a4b81-bcad-4074-b0df-339d4b387267",
   "metadata": {},
   "outputs": [],
   "source": []
  },
  {
   "cell_type": "code",
   "execution_count": null,
   "id": "77a956c7-1af4-433d-ba15-15ee29aa36dc",
   "metadata": {},
   "outputs": [],
   "source": [
    "dataset = data_set('/arc/home/aydanmckay/gaiahike/bp_rp_lamost.fits')\n",
    "\n",
    "len(dataset)\n",
    "# implementing dataloader on the dataset and printing per batch\n",
    "dataloader = DataLoader(dataset, batch_size=128, shuffle=True)\n",
    "for i, batch in enumerate(dataloader):\n",
    "    print(i, batch)\n",
    "    break\n",
    "# So this works the way that it should be working! at least for fits files."
   ]
  }
 ],
 "metadata": {
  "kernelspec": {
   "display_name": "Python 3 (ipykernel)",
   "language": "python",
   "name": "python3"
  },
  "language_info": {
   "codemirror_mode": {
    "name": "ipython",
    "version": 3
   },
   "file_extension": ".py",
   "mimetype": "text/x-python",
   "name": "python",
   "nbconvert_exporter": "python",
   "pygments_lexer": "ipython3",
   "version": "3.9.13"
  }
 },
 "nbformat": 4,
 "nbformat_minor": 5
}
