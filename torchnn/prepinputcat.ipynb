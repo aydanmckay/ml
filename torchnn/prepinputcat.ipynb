{
 "cells": [
  {
   "cell_type": "markdown",
   "id": "68d6ff70-d455-4f9c-a6c1-d14a8b47c829",
   "metadata": {
    "tags": []
   },
   "source": [
    "### Preparing the data in HDF5 Formatting\n",
    "Switching the .fits file to an HDF5 for better storage management and mainly practice"
   ]
  },
  {
   "cell_type": "markdown",
   "id": "7d43e9cf-061d-42dc-a21c-7e8a119e2e3f",
   "metadata": {
    "tags": []
   },
   "source": [
    "Importing the appropriate packages."
   ]
  },
  {
   "cell_type": "code",
   "execution_count": 1,
   "id": "0f53ab21-e249-4b49-b746-6ad2a5d2d20f",
   "metadata": {},
   "outputs": [],
   "source": [
    "from astropy.table import Table\n",
    "from astropy.io import fits\n",
    "import numpy as np\n",
    "from sklearn.model_selection import train_test_split\n",
    "import pandas as pd\n",
    "import h5py\n",
    "from sklearn.preprocessing import MinMaxScaler"
   ]
  },
  {
   "cell_type": "code",
   "execution_count": 2,
   "id": "8c8c3405-9409-4188-a894-799384ac4ea0",
   "metadata": {},
   "outputs": [],
   "source": [
    "data = Table.read('/arc/home/aydanmckay/input_catalogue_simple_average_datacuts.fits').to_pandas()"
   ]
  },
  {
   "cell_type": "code",
   "execution_count": 3,
   "id": "e4366815-6ab9-4b24-a20d-57cf99b87c00",
   "metadata": {},
   "outputs": [
    {
     "data": {
      "text/plain": [
       "(6756683, 224)"
      ]
     },
     "execution_count": 3,
     "metadata": {},
     "output_type": "execute_result"
    }
   ],
   "source": [
    "data.shape"
   ]
  },
  {
   "cell_type": "code",
   "execution_count": 4,
   "id": "a8e900f1-909f-406d-870e-6266bdd8df3e",
   "metadata": {},
   "outputs": [
    {
     "data": {
      "text/plain": [
       "count    3.187680e+06\n",
       "mean     5.576873e+03\n",
       "std      9.254797e+02\n",
       "min      2.000061e+03\n",
       "25%      4.925000e+03\n",
       "50%      5.551740e+03\n",
       "75%      6.003603e+03\n",
       "max      2.968421e+04\n",
       "Name: Teff, dtype: float64"
      ]
     },
     "execution_count": 4,
     "metadata": {},
     "output_type": "execute_result"
    }
   ],
   "source": [
    "data['Teff'].describe()"
   ]
  },
  {
   "cell_type": "code",
   "execution_count": 5,
   "id": "517ebfde-2b9a-4007-891b-6977b0044fc6",
   "metadata": {},
   "outputs": [
    {
     "data": {
      "text/plain": [
       "(3185660, 224)"
      ]
     },
     "execution_count": 5,
     "metadata": {},
     "output_type": "execute_result"
    }
   ],
   "source": [
    "with pd.option_context('mode.use_inf_as_na', True):\n",
    "    data.dropna(inplace=True)\n",
    "data.shape"
   ]
  },
  {
   "cell_type": "code",
   "execution_count": 6,
   "id": "6c45ecbd-b1a2-46fa-be18-ff47ad2c8466",
   "metadata": {},
   "outputs": [],
   "source": [
    "labels = [\"bp_1\", \"bp_2\", \"bp_3\", \"bp_4\", \"bp_5\", \"bp_6\", \"bp_7\",\n",
    "          \"bp_8\", \"bp_9\", \"bp_10\", \"bp_11\", \"bp_12\", \"bp_13\", \"bp_14\",\n",
    "          \"bp_15\", \"bp_16\", \"bp_17\", \"bp_18\", \"bp_19\", \"bp_20\", \"bp_21\",\n",
    "          \"bp_22\", \"bp_23\", \"bp_24\", \"bp_25\", \"bp_26\", \"bp_27\", \"bp_28\",\n",
    "          \"bp_29\", \"bp_30\", \"bp_31\", \"bp_32\", \"bp_33\", \"bp_34\", \"bp_35\",\n",
    "          \"bp_36\", \"bp_37\", \"bp_38\", \"bp_39\", \"bp_40\", \"bp_41\", \"bp_42\",\n",
    "          \"bp_43\", \"bp_44\", \"bp_45\", \"bp_46\", \"bp_47\", \"bp_48\", \"bp_49\",\n",
    "          \"bp_50\", \"bp_51\", \"bp_52\", \"bp_53\", \"bp_54\", \"bp_55\", \"rp_1\",\n",
    "          \"rp_2\", \"rp_3\", \"rp_4\", \"rp_5\", \"rp_6\", \"rp_7\", \"rp_8\",\n",
    "          \"rp_9\", \"rp_10\", \"rp_11\", \"rp_12\", \"rp_13\", \"rp_14\", \"rp_15\",\n",
    "          \"rp_16\", \"rp_17\", \"rp_18\", \"rp_19\", \"rp_20\", \"rp_21\", \"rp_22\",\n",
    "          \"rp_23\", \"rp_24\", \"rp_25\", \"rp_26\", \"rp_27\", \"rp_28\", \"rp_29\",\n",
    "          \"rp_30\", \"rp_31\", \"rp_32\", \"rp_33\", \"rp_34\", \"rp_35\", \"rp_36\",\n",
    "          \"rp_37\", \"rp_38\", \"rp_39\", \"rp_40\", \"rp_41\", \"rp_42\", \"rp_43\",\n",
    "          \"rp_44\", \"rp_45\", \"rp_46\", \"rp_47\", \"rp_48\", \"rp_49\", \"rp_50\",\n",
    "          \"rp_51\", \"rp_52\", \"rp_53\", \"rp_54\", \"rp_55\"]\n",
    "elabels = [\"bpe_1\", \"bpe_2\", \"bpe_3\", \"bpe_4\", \"bpe_5\", \"bpe_6\", \"bpe_7\",\n",
    "          \"bpe_8\", \"bpe_9\", \"bpe_10\", \"bpe_11\", \"bpe_12\", \"bpe_13\", \"bpe_14\",\n",
    "          \"bpe_15\", \"bpe_16\", \"bpe_17\", \"bpe_18\", \"bpe_19\", \"bpe_20\", \"bpe_21\",\n",
    "          \"bpe_22\", \"bpe_23\", \"bpe_24\", \"bpe_25\", \"bpe_26\", \"bpe_27\", \"bpe_28\",\n",
    "          \"bpe_29\", \"bpe_30\", \"bpe_31\", \"bpe_32\", \"bpe_33\", \"bpe_34\", \"bpe_35\",\n",
    "          \"bpe_36\", \"bpe_37\", \"bpe_38\", \"bpe_39\", \"bpe_40\", \"bpe_41\", \"bpe_42\",\n",
    "          \"bpe_43\", \"bpe_44\", \"bpe_45\", \"bpe_46\", \"bpe_47\", \"bpe_48\", \"bpe_49\",\n",
    "          \"bpe_50\", \"bpe_51\", \"bpe_52\", \"bpe_53\", \"bpe_54\", \"bpe_55\", \"rpe_1\",\n",
    "          \"rpe_2\", \"rpe_3\", \"rpe_4\", \"rpe_5\", \"rpe_6\", \"rpe_7\", \"rpe_8\",\n",
    "          \"rpe_9\", \"rpe_10\", \"rpe_11\", \"rpe_12\", \"rpe_13\", \"rpe_14\", \"rpe_15\",\n",
    "          \"rpe_16\", \"rpe_17\", \"rpe_18\", \"rpe_19\", \"rpe_20\", \"rpe_21\", \"rpe_22\",\n",
    "          \"rpe_23\", \"rpe_24\", \"rpe_25\", \"rpe_26\", \"rpe_27\", \"rpe_28\", \"rpe_29\",\n",
    "          \"rpe_30\", \"rpe_31\", \"rpe_32\", \"rpe_33\", \"rpe_34\", \"rpe_35\", \"rpe_36\",\n",
    "          \"rpe_37\", \"rpe_38\", \"rpe_39\", \"rpe_40\", \"rpe_41\", \"rpe_42\", \"rpe_43\",\n",
    "          \"rpe_44\", \"rpe_45\", \"rpe_46\", \"rpe_47\", \"rpe_48\", \"rpe_49\", \"rpe_50\",\n",
    "          \"rpe_51\", \"rpe_52\", \"rpe_53\", \"rpe_54\", \"rpe_55\"]"
   ]
  },
  {
   "cell_type": "code",
   "execution_count": 7,
   "id": "9aad6685-ab81-44de-b3eb-0957ae45fa8c",
   "metadata": {},
   "outputs": [
    {
     "data": {
      "text/plain": [
       "(2760468, 224)"
      ]
     },
     "execution_count": 7,
     "metadata": {},
     "output_type": "execute_result"
    }
   ],
   "source": [
    "for label in elabels:\n",
    "    data = data[(data[label] < 10) & (data[label] > -10)]\n",
    "data.shape"
   ]
  },
  {
   "cell_type": "code",
   "execution_count": 8,
   "id": "99e3cc55-b355-4c36-9f7f-430d9cfb987f",
   "metadata": {},
   "outputs": [],
   "source": [
    "# for small datasets\n",
    "data = data.sample(n=100000,random_state=42)"
   ]
  },
  {
   "cell_type": "code",
   "execution_count": 9,
   "id": "d1b39094-2024-4fe1-8d1d-96d47ddd5886",
   "metadata": {},
   "outputs": [
    {
     "data": {
      "text/plain": [
       "(100000, 224)"
      ]
     },
     "execution_count": 9,
     "metadata": {},
     "output_type": "execute_result"
    }
   ],
   "source": [
    "data.shape"
   ]
  },
  {
   "cell_type": "code",
   "execution_count": 10,
   "id": "87f98fab-c282-4ee7-a081-221d6e38f371",
   "metadata": {},
   "outputs": [
    {
     "data": {
      "text/html": [
       "<div>\n",
       "<style scoped>\n",
       "    .dataframe tbody tr th:only-of-type {\n",
       "        vertical-align: middle;\n",
       "    }\n",
       "\n",
       "    .dataframe tbody tr th {\n",
       "        vertical-align: top;\n",
       "    }\n",
       "\n",
       "    .dataframe thead th {\n",
       "        text-align: right;\n",
       "    }\n",
       "</style>\n",
       "<table border=\"1\" class=\"dataframe\">\n",
       "  <thead>\n",
       "    <tr style=\"text-align: right;\">\n",
       "      <th></th>\n",
       "      <th>Source</th>\n",
       "      <th>Teff</th>\n",
       "      <th>Fe/H</th>\n",
       "      <th>log_g</th>\n",
       "      <th>bp_1</th>\n",
       "      <th>bp_2</th>\n",
       "      <th>bp_3</th>\n",
       "      <th>bp_4</th>\n",
       "      <th>bp_5</th>\n",
       "      <th>bp_6</th>\n",
       "      <th>...</th>\n",
       "      <th>rpe_46</th>\n",
       "      <th>rpe_47</th>\n",
       "      <th>rpe_48</th>\n",
       "      <th>rpe_49</th>\n",
       "      <th>rpe_50</th>\n",
       "      <th>rpe_51</th>\n",
       "      <th>rpe_52</th>\n",
       "      <th>rpe_53</th>\n",
       "      <th>rpe_54</th>\n",
       "      <th>rpe_55</th>\n",
       "    </tr>\n",
       "  </thead>\n",
       "  <tbody>\n",
       "    <tr>\n",
       "      <th>count</th>\n",
       "      <td>1.000000e+05</td>\n",
       "      <td>100000.000000</td>\n",
       "      <td>100000.000000</td>\n",
       "      <td>100000.000000</td>\n",
       "      <td>100000.000000</td>\n",
       "      <td>100000.000000</td>\n",
       "      <td>100000.000000</td>\n",
       "      <td>100000.000000</td>\n",
       "      <td>100000.000000</td>\n",
       "      <td>100000.000000</td>\n",
       "      <td>...</td>\n",
       "      <td>100000.000000</td>\n",
       "      <td>100000.000000</td>\n",
       "      <td>100000.000000</td>\n",
       "      <td>100000.000000</td>\n",
       "      <td>100000.000000</td>\n",
       "      <td>100000.000000</td>\n",
       "      <td>100000.000000</td>\n",
       "      <td>100000.000000</td>\n",
       "      <td>100000.000000</td>\n",
       "      <td>100000.000000</td>\n",
       "    </tr>\n",
       "    <tr>\n",
       "      <th>mean</th>\n",
       "      <td>1.357008e+18</td>\n",
       "      <td>5557.616107</td>\n",
       "      <td>-0.304066</td>\n",
       "      <td>3.955390</td>\n",
       "      <td>3094.388270</td>\n",
       "      <td>-313.901187</td>\n",
       "      <td>-46.917334</td>\n",
       "      <td>10.010990</td>\n",
       "      <td>-14.516134</td>\n",
       "      <td>-0.248156</td>\n",
       "      <td>...</td>\n",
       "      <td>0.550444</td>\n",
       "      <td>0.462359</td>\n",
       "      <td>0.463847</td>\n",
       "      <td>0.423852</td>\n",
       "      <td>0.423121</td>\n",
       "      <td>0.377364</td>\n",
       "      <td>0.327072</td>\n",
       "      <td>0.293893</td>\n",
       "      <td>0.121472</td>\n",
       "      <td>0.063002</td>\n",
       "    </tr>\n",
       "    <tr>\n",
       "      <th>std</th>\n",
       "      <td>1.376080e+18</td>\n",
       "      <td>883.002990</td>\n",
       "      <td>0.397614</td>\n",
       "      <td>0.787175</td>\n",
       "      <td>3755.283734</td>\n",
       "      <td>677.531515</td>\n",
       "      <td>130.630736</td>\n",
       "      <td>45.555696</td>\n",
       "      <td>28.830252</td>\n",
       "      <td>34.257128</td>\n",
       "      <td>...</td>\n",
       "      <td>0.373572</td>\n",
       "      <td>0.337473</td>\n",
       "      <td>0.317843</td>\n",
       "      <td>0.288871</td>\n",
       "      <td>0.284523</td>\n",
       "      <td>0.261381</td>\n",
       "      <td>0.236770</td>\n",
       "      <td>0.214222</td>\n",
       "      <td>0.081782</td>\n",
       "      <td>0.043547</td>\n",
       "    </tr>\n",
       "    <tr>\n",
       "      <th>min</th>\n",
       "      <td>1.014042e+13</td>\n",
       "      <td>2030.272949</td>\n",
       "      <td>-4.353709</td>\n",
       "      <td>0.125449</td>\n",
       "      <td>1.597008</td>\n",
       "      <td>-8093.790249</td>\n",
       "      <td>-1506.438588</td>\n",
       "      <td>-966.519375</td>\n",
       "      <td>-293.873256</td>\n",
       "      <td>-423.964689</td>\n",
       "      <td>...</td>\n",
       "      <td>0.080018</td>\n",
       "      <td>0.080117</td>\n",
       "      <td>0.061216</td>\n",
       "      <td>0.059864</td>\n",
       "      <td>0.067603</td>\n",
       "      <td>0.054412</td>\n",
       "      <td>0.050695</td>\n",
       "      <td>0.047391</td>\n",
       "      <td>0.021595</td>\n",
       "      <td>0.011369</td>\n",
       "    </tr>\n",
       "    <tr>\n",
       "      <th>25%</th>\n",
       "      <td>3.637488e+17</td>\n",
       "      <td>4938.552490</td>\n",
       "      <td>-0.478198</td>\n",
       "      <td>3.743457</td>\n",
       "      <td>505.050919</td>\n",
       "      <td>-415.902063</td>\n",
       "      <td>-61.686463</td>\n",
       "      <td>-2.015507</td>\n",
       "      <td>-20.894948</td>\n",
       "      <td>-8.247684</td>\n",
       "      <td>...</td>\n",
       "      <td>0.285135</td>\n",
       "      <td>0.240958</td>\n",
       "      <td>0.225372</td>\n",
       "      <td>0.209638</td>\n",
       "      <td>0.218754</td>\n",
       "      <td>0.185536</td>\n",
       "      <td>0.164691</td>\n",
       "      <td>0.149408</td>\n",
       "      <td>0.069914</td>\n",
       "      <td>0.037748</td>\n",
       "    </tr>\n",
       "    <tr>\n",
       "      <th>50%</th>\n",
       "      <td>8.487921e+17</td>\n",
       "      <td>5541.995117</td>\n",
       "      <td>-0.245896</td>\n",
       "      <td>4.186402</td>\n",
       "      <td>1561.657054</td>\n",
       "      <td>-93.170644</td>\n",
       "      <td>-14.944624</td>\n",
       "      <td>3.219701</td>\n",
       "      <td>-6.171808</td>\n",
       "      <td>-0.870559</td>\n",
       "      <td>...</td>\n",
       "      <td>0.431067</td>\n",
       "      <td>0.360477</td>\n",
       "      <td>0.370791</td>\n",
       "      <td>0.335921</td>\n",
       "      <td>0.334118</td>\n",
       "      <td>0.300449</td>\n",
       "      <td>0.256870</td>\n",
       "      <td>0.229912</td>\n",
       "      <td>0.095491</td>\n",
       "      <td>0.049597</td>\n",
       "    </tr>\n",
       "    <tr>\n",
       "      <th>75%</th>\n",
       "      <td>1.897676e+18</td>\n",
       "      <td>5974.780029</td>\n",
       "      <td>-0.058427</td>\n",
       "      <td>4.472950</td>\n",
       "      <td>4207.905548</td>\n",
       "      <td>-4.600740</td>\n",
       "      <td>-0.294461</td>\n",
       "      <td>18.544834</td>\n",
       "      <td>-0.972295</td>\n",
       "      <td>6.086163</td>\n",
       "      <td>...</td>\n",
       "      <td>0.701081</td>\n",
       "      <td>0.575179</td>\n",
       "      <td>0.611190</td>\n",
       "      <td>0.554913</td>\n",
       "      <td>0.541015</td>\n",
       "      <td>0.492351</td>\n",
       "      <td>0.415077</td>\n",
       "      <td>0.370437</td>\n",
       "      <td>0.146070</td>\n",
       "      <td>0.073704</td>\n",
       "    </tr>\n",
       "    <tr>\n",
       "      <th>max</th>\n",
       "      <td>6.914412e+18</td>\n",
       "      <td>29455.115234</td>\n",
       "      <td>4.088487</td>\n",
       "      <td>5.866668</td>\n",
       "      <td>31738.167769</td>\n",
       "      <td>4884.597533</td>\n",
       "      <td>2001.826776</td>\n",
       "      <td>563.420642</td>\n",
       "      <td>390.531768</td>\n",
       "      <td>843.071150</td>\n",
       "      <td>...</td>\n",
       "      <td>6.935789</td>\n",
       "      <td>5.663420</td>\n",
       "      <td>3.021415</td>\n",
       "      <td>2.873138</td>\n",
       "      <td>4.066447</td>\n",
       "      <td>2.850769</td>\n",
       "      <td>3.415339</td>\n",
       "      <td>3.086045</td>\n",
       "      <td>1.619962</td>\n",
       "      <td>1.565852</td>\n",
       "    </tr>\n",
       "  </tbody>\n",
       "</table>\n",
       "<p>8 rows × 224 columns</p>\n",
       "</div>"
      ],
      "text/plain": [
       "             Source           Teff           Fe/H          log_g  \\\n",
       "count  1.000000e+05  100000.000000  100000.000000  100000.000000   \n",
       "mean   1.357008e+18    5557.616107      -0.304066       3.955390   \n",
       "std    1.376080e+18     883.002990       0.397614       0.787175   \n",
       "min    1.014042e+13    2030.272949      -4.353709       0.125449   \n",
       "25%    3.637488e+17    4938.552490      -0.478198       3.743457   \n",
       "50%    8.487921e+17    5541.995117      -0.245896       4.186402   \n",
       "75%    1.897676e+18    5974.780029      -0.058427       4.472950   \n",
       "max    6.914412e+18   29455.115234       4.088487       5.866668   \n",
       "\n",
       "                bp_1           bp_2           bp_3           bp_4  \\\n",
       "count  100000.000000  100000.000000  100000.000000  100000.000000   \n",
       "mean     3094.388270    -313.901187     -46.917334      10.010990   \n",
       "std      3755.283734     677.531515     130.630736      45.555696   \n",
       "min         1.597008   -8093.790249   -1506.438588    -966.519375   \n",
       "25%       505.050919    -415.902063     -61.686463      -2.015507   \n",
       "50%      1561.657054     -93.170644     -14.944624       3.219701   \n",
       "75%      4207.905548      -4.600740      -0.294461      18.544834   \n",
       "max     31738.167769    4884.597533    2001.826776     563.420642   \n",
       "\n",
       "                bp_5           bp_6  ...         rpe_46         rpe_47  \\\n",
       "count  100000.000000  100000.000000  ...  100000.000000  100000.000000   \n",
       "mean      -14.516134      -0.248156  ...       0.550444       0.462359   \n",
       "std        28.830252      34.257128  ...       0.373572       0.337473   \n",
       "min      -293.873256    -423.964689  ...       0.080018       0.080117   \n",
       "25%       -20.894948      -8.247684  ...       0.285135       0.240958   \n",
       "50%        -6.171808      -0.870559  ...       0.431067       0.360477   \n",
       "75%        -0.972295       6.086163  ...       0.701081       0.575179   \n",
       "max       390.531768     843.071150  ...       6.935789       5.663420   \n",
       "\n",
       "              rpe_48         rpe_49         rpe_50         rpe_51  \\\n",
       "count  100000.000000  100000.000000  100000.000000  100000.000000   \n",
       "mean        0.463847       0.423852       0.423121       0.377364   \n",
       "std         0.317843       0.288871       0.284523       0.261381   \n",
       "min         0.061216       0.059864       0.067603       0.054412   \n",
       "25%         0.225372       0.209638       0.218754       0.185536   \n",
       "50%         0.370791       0.335921       0.334118       0.300449   \n",
       "75%         0.611190       0.554913       0.541015       0.492351   \n",
       "max         3.021415       2.873138       4.066447       2.850769   \n",
       "\n",
       "              rpe_52         rpe_53         rpe_54         rpe_55  \n",
       "count  100000.000000  100000.000000  100000.000000  100000.000000  \n",
       "mean        0.327072       0.293893       0.121472       0.063002  \n",
       "std         0.236770       0.214222       0.081782       0.043547  \n",
       "min         0.050695       0.047391       0.021595       0.011369  \n",
       "25%         0.164691       0.149408       0.069914       0.037748  \n",
       "50%         0.256870       0.229912       0.095491       0.049597  \n",
       "75%         0.415077       0.370437       0.146070       0.073704  \n",
       "max         3.415339       3.086045       1.619962       1.565852  \n",
       "\n",
       "[8 rows x 224 columns]"
      ]
     },
     "execution_count": 10,
     "metadata": {},
     "output_type": "execute_result"
    }
   ],
   "source": [
    "data.describe()"
   ]
  },
  {
   "cell_type": "code",
   "execution_count": 11,
   "id": "39cb2a67-849f-45b9-8204-6677a7369de7",
   "metadata": {},
   "outputs": [],
   "source": [
    "feh = data['Fe/H']\n",
    "teff = data['Teff']\n",
    "logg = data['log_g']\n",
    "xp = []\n",
    "xpe = []\n",
    "for elabel,label in zip(elabels,labels):\n",
    "    xp.append(data[label])\n",
    "    xpe.append(data[elabel])\n",
    "xp = np.array(xp)\n",
    "xpe = np.array(xpe)"
   ]
  },
  {
   "cell_type": "code",
   "execution_count": 12,
   "id": "0048ad73-fb96-4189-9d04-00019af2c2fe",
   "metadata": {},
   "outputs": [
    {
     "data": {
      "text/plain": [
       "(100000, 110)"
      ]
     },
     "execution_count": 12,
     "metadata": {},
     "output_type": "execute_result"
    }
   ],
   "source": [
    "xp.T.shape"
   ]
  },
  {
   "cell_type": "code",
   "execution_count": 13,
   "id": "05e4b6e5-51f7-4348-927d-582bf9db1ee2",
   "metadata": {},
   "outputs": [],
   "source": [
    "feh_train, feh_test, teff_train, teff_test, logg_train, logg_test, xp_train, xp_test, xpe_train, xpe_test = train_test_split(\n",
    "    feh,\n",
    "    teff,\n",
    "    logg,\n",
    "    xp.T,\n",
    "    xpe.T,\n",
    "    test_size=0.1,\n",
    "    random_state=42\n",
    ")"
   ]
  },
  {
   "cell_type": "code",
   "execution_count": 14,
   "id": "da3679b7-7c82-4f75-a60f-864bb6988e52",
   "metadata": {},
   "outputs": [],
   "source": [
    "feh_train, feh_valid, teff_train, teff_valid, logg_train, logg_valid, xp_train, xp_valid, xpe_train, xpe_valid = train_test_split(\n",
    "    feh_train,\n",
    "    teff_train,\n",
    "    logg_train,\n",
    "    xp_train,\n",
    "    xpe_train,\n",
    "    test_size=0.1,\n",
    "    random_state=42\n",
    ")"
   ]
  },
  {
   "cell_type": "code",
   "execution_count": 15,
   "id": "58887ba8-9ef9-4bb7-a33a-0d46c6470f95",
   "metadata": {},
   "outputs": [
    {
     "name": "stdout",
     "output_type": "stream",
     "text": [
      "<HDF5 group \"/\" (3 members)>\n",
      "<HDF5 group \"/group_1\" (3 members)>\n",
      "<HDF5 group \"/group_2\" (3 members)>\n",
      "<HDF5 dataset \"data\": shape (3, 81000), type \"<f8\">\n",
      "<HDF5 dataset \"label\": shape (110, 9000), type \"<f8\">\n",
      "<HDF5 dataset \"e_label\": shape (110, 10000), type \"<f4\">\n"
     ]
    }
   ],
   "source": [
    "# Create a HDF5 file\n",
    "hierarchicalFileName  = \"/arc/home/aydanmckay/input_catalogue_simple_average_datacuts_small.h5\"\n",
    "with h5py.File(hierarchicalFileName, 'w') as hierarchicalFile:\n",
    "    # Create a group under root\n",
    "    train = hierarchicalFile.create_group(\"group_1\")\n",
    "    valid = hierarchicalFile.create_group(\"group_2\")\n",
    "    test = hierarchicalFile.create_group(\"group_3\")\n",
    "    \n",
    "    train['data'] = np.array(\n",
    "        [feh_train,\n",
    "         logg_train,\n",
    "         teff_train,\n",
    "        ]\n",
    "    )\n",
    "    valid['data'] = np.array(\n",
    "        [feh_valid,\n",
    "         logg_valid,\n",
    "         teff_valid,\n",
    "        ]\n",
    "    )\n",
    "    test['data'] = np.array(\n",
    "        [feh_test,\n",
    "         logg_test,\n",
    "         teff_test,\n",
    "        ]\n",
    "    )\n",
    "    train['label'] = xp_train.T\n",
    "    train['e_label'] = xpe_train.T\n",
    "    valid['label'] = xp_valid.T\n",
    "    valid['e_label'] = xpe_valid.T\n",
    "    test['label'] = xp_test.T\n",
    "    test['e_label'] = xpe_test.T\n",
    "\n",
    "    print(hierarchicalFile[\"/\"])\n",
    "    print(train)\n",
    "    print(valid)\n",
    "    print(train['data'])\n",
    "    print(valid[\"label\"])\n",
    "    print(test['e_label'])"
   ]
  },
  {
   "cell_type": "code",
   "execution_count": 20,
   "id": "88e03dc1-ebca-4f1b-bcfd-b5e7df8d014b",
   "metadata": {},
   "outputs": [
    {
     "name": "stdout",
     "output_type": "stream",
     "text": [
      "81000\n",
      "81000\n",
      "(3, 81000)\n"
     ]
    }
   ],
   "source": [
    "scalerlist = [MinMaxScaler() for _ in range(110)]\n",
    "with h5py.File(\"/arc/home/aydanmckay/input_catalogue_simple_average_datacuts_small.h5\", 'r') as f:\n",
    "    d = f['group_1']['label']\n",
    "    dset = d[:]\n",
    "    ydat = np.array([\n",
    "        scaler.fit_transform(d[[it]].T).flatten() for it,scaler in enumerate(scalerlist)\n",
    "    ])\n",
    "    print(ydat.shape[1])\n",
    "    print(f['group_1']['label'].shape[1])\n",
    "    print(f['group_1']['data'].shape)"
   ]
  },
  {
   "cell_type": "code",
   "execution_count": 21,
   "id": "e906b63c-a2ad-4e35-a5e1-bcfc6d4d1664",
   "metadata": {},
   "outputs": [
    {
     "data": {
      "text/plain": [
       "(110, 81000)"
      ]
     },
     "execution_count": 21,
     "metadata": {},
     "output_type": "execute_result"
    }
   ],
   "source": [
    "dset.shape"
   ]
  },
  {
   "cell_type": "code",
   "execution_count": 18,
   "id": "039b9980-13b4-47a0-b5f4-39aaa819ab62",
   "metadata": {},
   "outputs": [
    {
     "data": {
      "text/plain": [
       "array([[ 1.44275007e+03,  1.75053293e+02,  1.41029422e+03, ...,\n",
       "         8.65066654e+03,  1.14079576e+03,  1.35344359e+04],\n",
       "       [-2.07735711e+02,  2.42542750e+01, -2.53880404e+02, ...,\n",
       "        -5.46103976e+02,  8.47314849e+01, -1.92039108e+03],\n",
       "       [-9.05241543e+00, -8.57547133e+00,  3.39417630e+00, ...,\n",
       "        -2.44984606e+02, -6.02366251e+01, -8.42325102e+01],\n",
       "       ...,\n",
       "       [-5.56626897e-02,  7.79964292e-02, -3.05931445e-01, ...,\n",
       "         1.02885173e+00, -2.85930101e-01, -6.16398939e-01],\n",
       "       [ 9.57125720e-02,  1.14148847e-02,  7.53857657e-02, ...,\n",
       "         6.84546904e-02,  1.81205810e-01, -2.90834291e-01],\n",
       "       [ 9.06119373e-03, -4.37103252e-02, -1.96612291e-02, ...,\n",
       "         1.56366203e-01,  7.34393748e-02,  8.13877371e-02]])"
      ]
     },
     "execution_count": 18,
     "metadata": {},
     "output_type": "execute_result"
    }
   ],
   "source": [
    "dset"
   ]
  },
  {
   "cell_type": "code",
   "execution_count": 19,
   "id": "c9e5e0f8-a8e6-4f30-8049-0d4056718fb1",
   "metadata": {
    "tags": []
   },
   "outputs": [
    {
     "data": {
      "text/plain": [
       "array([[0.04540681, 0.00546233, 0.04438415, ..., 0.27252459, 0.03589239,\n",
       "        0.42640968],\n",
       "       [0.60762975, 0.62550485, 0.60407425, ..., 0.58155808, 0.63016469,\n",
       "        0.47566765],\n",
       "       [0.47995422, 0.48010709, 0.4839437 , ..., 0.40433134, 0.46354825,\n",
       "        0.45585689],\n",
       "       ...,\n",
       "       [0.36635725, 0.38429685, 0.33276641, ..., 0.51191976, 0.33545098,\n",
       "        0.29109576],\n",
       "       [0.34996055, 0.34068258, 0.34772334, ..., 0.34696049, 0.35937011,\n",
       "        0.30741644],\n",
       "       [0.40600898, 0.395369  , 0.40021786, ..., 0.43570911, 0.41898912,\n",
       "        0.4205917 ]])"
      ]
     },
     "execution_count": 19,
     "metadata": {},
     "output_type": "execute_result"
    }
   ],
   "source": [
    "ydat"
   ]
  },
  {
   "cell_type": "code",
   "execution_count": null,
   "id": "38acff94-ac70-44cf-9b8b-f1e4cc0b646b",
   "metadata": {},
   "outputs": [],
   "source": []
  }
 ],
 "metadata": {
  "kernelspec": {
   "display_name": "Python 3 (ipykernel)",
   "language": "python",
   "name": "python3"
  },
  "language_info": {
   "codemirror_mode": {
    "name": "ipython",
    "version": 3
   },
   "file_extension": ".py",
   "mimetype": "text/x-python",
   "name": "python",
   "nbconvert_exporter": "python",
   "pygments_lexer": "ipython3",
   "version": "3.9.13"
  }
 },
 "nbformat": 4,
 "nbformat_minor": 5
}
