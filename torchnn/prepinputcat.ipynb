{
 "cells": [
  {
   "cell_type": "markdown",
   "id": "68d6ff70-d455-4f9c-a6c1-d14a8b47c829",
   "metadata": {
    "tags": []
   },
   "source": [
    "### Preparing the data in HDF5 Formatting\n",
    "Switching the .fits file to an HDF5 for better storage management and mainly practice"
   ]
  },
  {
   "cell_type": "markdown",
   "id": "7d43e9cf-061d-42dc-a21c-7e8a119e2e3f",
   "metadata": {
    "tags": []
   },
   "source": [
    "Importing the appropriate packages."
   ]
  },
  {
   "cell_type": "code",
   "execution_count": 1,
   "id": "0f53ab21-e249-4b49-b746-6ad2a5d2d20f",
   "metadata": {},
   "outputs": [],
   "source": [
    "from astropy.table import Table\n",
    "from astropy.io import fits\n",
    "import numpy as np\n",
    "from sklearn.model_selection import train_test_split\n",
    "import pandas as pd\n",
    "import h5py\n",
    "from sklearn.preprocessing import MinMaxScaler"
   ]
  },
  {
   "cell_type": "code",
   "execution_count": 2,
   "id": "8c8c3405-9409-4188-a894-799384ac4ea0",
   "metadata": {},
   "outputs": [],
   "source": [
    "data = Table.read('/arc/home/aydanmckay/input_catalogue_datacuts.fits').to_pandas()"
   ]
  },
  {
   "cell_type": "code",
   "execution_count": 3,
   "id": "e4366815-6ab9-4b24-a20d-57cf99b87c00",
   "metadata": {},
   "outputs": [
    {
     "data": {
      "text/plain": [
       "(3052372, 223)"
      ]
     },
     "execution_count": 3,
     "metadata": {},
     "output_type": "execute_result"
    }
   ],
   "source": [
    "data.shape"
   ]
  },
  {
   "cell_type": "code",
   "execution_count": 4,
   "id": "a8e900f1-909f-406d-870e-6266bdd8df3e",
   "metadata": {},
   "outputs": [
    {
     "data": {
      "text/plain": [
       "count    3.048424e+06\n",
       "mean     5.577048e+03\n",
       "std      8.973194e+02\n",
       "min      2.000061e+03\n",
       "25%      4.931297e+03\n",
       "50%      5.565683e+03\n",
       "75%      6.002468e+03\n",
       "max      9.996015e+03\n",
       "Name: Teff, dtype: float64"
      ]
     },
     "execution_count": 4,
     "metadata": {},
     "output_type": "execute_result"
    }
   ],
   "source": [
    "data['Teff'].describe()"
   ]
  },
  {
   "cell_type": "code",
   "execution_count": 5,
   "id": "517ebfde-2b9a-4007-891b-6977b0044fc6",
   "metadata": {},
   "outputs": [
    {
     "data": {
      "text/plain": [
       "(3046382, 223)"
      ]
     },
     "execution_count": 5,
     "metadata": {},
     "output_type": "execute_result"
    }
   ],
   "source": [
    "with pd.option_context('mode.use_inf_as_na', True):\n",
    "    data.dropna(inplace=True)\n",
    "data.shape"
   ]
  },
  {
   "cell_type": "code",
   "execution_count": 6,
   "id": "6c45ecbd-b1a2-46fa-be18-ff47ad2c8466",
   "metadata": {},
   "outputs": [],
   "source": [
    "labels = [\"bp_1\", \"bp_2\", \"bp_3\", \"bp_4\", \"bp_5\", \"bp_6\", \"bp_7\",\n",
    "          \"bp_8\", \"bp_9\", \"bp_10\", \"bp_11\", \"bp_12\", \"bp_13\", \"bp_14\",\n",
    "          \"bp_15\", \"bp_16\", \"bp_17\", \"bp_18\", \"bp_19\", \"bp_20\", \"bp_21\",\n",
    "          \"bp_22\", \"bp_23\", \"bp_24\", \"bp_25\", \"bp_26\", \"bp_27\", \"bp_28\",\n",
    "          \"bp_29\", \"bp_30\", \"bp_31\", \"bp_32\", \"bp_33\", \"bp_34\", \"bp_35\",\n",
    "          \"bp_36\", \"bp_37\", \"bp_38\", \"bp_39\", \"bp_40\", \"bp_41\", \"bp_42\",\n",
    "          \"bp_43\", \"bp_44\", \"bp_45\", \"bp_46\", \"bp_47\", \"bp_48\", \"bp_49\",\n",
    "          \"bp_50\", \"bp_51\", \"bp_52\", \"bp_53\", \"bp_54\", \"bp_55\", \"rp_1\",\n",
    "          \"rp_2\", \"rp_3\", \"rp_4\", \"rp_5\", \"rp_6\", \"rp_7\", \"rp_8\",\n",
    "          \"rp_9\", \"rp_10\", \"rp_11\", \"rp_12\", \"rp_13\", \"rp_14\", \"rp_15\",\n",
    "          \"rp_16\", \"rp_17\", \"rp_18\", \"rp_19\", \"rp_20\", \"rp_21\", \"rp_22\",\n",
    "          \"rp_23\", \"rp_24\", \"rp_25\", \"rp_26\", \"rp_27\", \"rp_28\", \"rp_29\",\n",
    "          \"rp_30\", \"rp_31\", \"rp_32\", \"rp_33\", \"rp_34\", \"rp_35\", \"rp_36\",\n",
    "          \"rp_37\", \"rp_38\", \"rp_39\", \"rp_40\", \"rp_41\", \"rp_42\", \"rp_43\",\n",
    "          \"rp_44\", \"rp_45\", \"rp_46\", \"rp_47\", \"rp_48\", \"rp_49\", \"rp_50\",\n",
    "          \"rp_51\", \"rp_52\", \"rp_53\", \"rp_54\", \"rp_55\"]\n",
    "elabels = [\"bpe_1\", \"bpe_2\", \"bpe_3\", \"bpe_4\", \"bpe_5\", \"bpe_6\", \"bpe_7\",\n",
    "          \"bpe_8\", \"bpe_9\", \"bpe_10\", \"bpe_11\", \"bpe_12\", \"bpe_13\", \"bpe_14\",\n",
    "          \"bpe_15\", \"bpe_16\", \"bpe_17\", \"bpe_18\", \"bpe_19\", \"bpe_20\", \"bpe_21\",\n",
    "          \"bpe_22\", \"bpe_23\", \"bpe_24\", \"bpe_25\", \"bpe_26\", \"bpe_27\", \"bpe_28\",\n",
    "          \"bpe_29\", \"bpe_30\", \"bpe_31\", \"bpe_32\", \"bpe_33\", \"bpe_34\", \"bpe_35\",\n",
    "          \"bpe_36\", \"bpe_37\", \"bpe_38\", \"bpe_39\", \"bpe_40\", \"bpe_41\", \"bpe_42\",\n",
    "          \"bpe_43\", \"bpe_44\", \"bpe_45\", \"bpe_46\", \"bpe_47\", \"bpe_48\", \"bpe_49\",\n",
    "          \"bpe_50\", \"bpe_51\", \"bpe_52\", \"bpe_53\", \"bpe_54\", \"bpe_55\", \"rpe_1\",\n",
    "          \"rpe_2\", \"rpe_3\", \"rpe_4\", \"rpe_5\", \"rpe_6\", \"rpe_7\", \"rpe_8\",\n",
    "          \"rpe_9\", \"rpe_10\", \"rpe_11\", \"rpe_12\", \"rpe_13\", \"rpe_14\", \"rpe_15\",\n",
    "          \"rpe_16\", \"rpe_17\", \"rpe_18\", \"rpe_19\", \"rpe_20\", \"rpe_21\", \"rpe_22\",\n",
    "          \"rpe_23\", \"rpe_24\", \"rpe_25\", \"rpe_26\", \"rpe_27\", \"rpe_28\", \"rpe_29\",\n",
    "          \"rpe_30\", \"rpe_31\", \"rpe_32\", \"rpe_33\", \"rpe_34\", \"rpe_35\", \"rpe_36\",\n",
    "          \"rpe_37\", \"rpe_38\", \"rpe_39\", \"rpe_40\", \"rpe_41\", \"rpe_42\", \"rpe_43\",\n",
    "          \"rpe_44\", \"rpe_45\", \"rpe_46\", \"rpe_47\", \"rpe_48\", \"rpe_49\", \"rpe_50\",\n",
    "          \"rpe_51\", \"rpe_52\", \"rpe_53\", \"rpe_54\", \"rpe_55\"]"
   ]
  },
  {
   "cell_type": "code",
   "execution_count": 7,
   "id": "9aad6685-ab81-44de-b3eb-0957ae45fa8c",
   "metadata": {},
   "outputs": [
    {
     "data": {
      "text/plain": [
       "(2712022, 223)"
      ]
     },
     "execution_count": 7,
     "metadata": {},
     "output_type": "execute_result"
    }
   ],
   "source": [
    "for label in elabels:\n",
    "    data = data[(data[label] < 10) & (data[label] > -10)]\n",
    "data.shape"
   ]
  },
  {
   "cell_type": "code",
   "execution_count": 8,
   "id": "99e3cc55-b355-4c36-9f7f-430d9cfb987f",
   "metadata": {},
   "outputs": [],
   "source": [
    "# for small datasets\n",
    "# data = data.sample(n=100000,random_state=42)"
   ]
  },
  {
   "cell_type": "code",
   "execution_count": 9,
   "id": "d1b39094-2024-4fe1-8d1d-96d47ddd5886",
   "metadata": {},
   "outputs": [
    {
     "data": {
      "text/plain": [
       "(2712022, 223)"
      ]
     },
     "execution_count": 9,
     "metadata": {},
     "output_type": "execute_result"
    }
   ],
   "source": [
    "data.shape"
   ]
  },
  {
   "cell_type": "code",
   "execution_count": 10,
   "id": "87f98fab-c282-4ee7-a081-221d6e38f371",
   "metadata": {},
   "outputs": [
    {
     "data": {
      "text/html": [
       "<div>\n",
       "<style scoped>\n",
       "    .dataframe tbody tr th:only-of-type {\n",
       "        vertical-align: middle;\n",
       "    }\n",
       "\n",
       "    .dataframe tbody tr th {\n",
       "        vertical-align: top;\n",
       "    }\n",
       "\n",
       "    .dataframe thead th {\n",
       "        text-align: right;\n",
       "    }\n",
       "</style>\n",
       "<table border=\"1\" class=\"dataframe\">\n",
       "  <thead>\n",
       "    <tr style=\"text-align: right;\">\n",
       "      <th></th>\n",
       "      <th>Teff</th>\n",
       "      <th>Fe/H</th>\n",
       "      <th>log_g</th>\n",
       "      <th>bp_1</th>\n",
       "      <th>bp_2</th>\n",
       "      <th>bp_3</th>\n",
       "      <th>bp_4</th>\n",
       "      <th>bp_5</th>\n",
       "      <th>bp_6</th>\n",
       "      <th>bp_7</th>\n",
       "      <th>...</th>\n",
       "      <th>rpe_46</th>\n",
       "      <th>rpe_47</th>\n",
       "      <th>rpe_48</th>\n",
       "      <th>rpe_49</th>\n",
       "      <th>rpe_50</th>\n",
       "      <th>rpe_51</th>\n",
       "      <th>rpe_52</th>\n",
       "      <th>rpe_53</th>\n",
       "      <th>rpe_54</th>\n",
       "      <th>rpe_55</th>\n",
       "    </tr>\n",
       "  </thead>\n",
       "  <tbody>\n",
       "    <tr>\n",
       "      <th>count</th>\n",
       "      <td>2.712022e+06</td>\n",
       "      <td>2.712022e+06</td>\n",
       "      <td>2.712022e+06</td>\n",
       "      <td>2.712022e+06</td>\n",
       "      <td>2.712022e+06</td>\n",
       "      <td>2.712022e+06</td>\n",
       "      <td>2.712022e+06</td>\n",
       "      <td>2.712022e+06</td>\n",
       "      <td>2.712022e+06</td>\n",
       "      <td>2.712022e+06</td>\n",
       "      <td>...</td>\n",
       "      <td>2.712022e+06</td>\n",
       "      <td>2.712022e+06</td>\n",
       "      <td>2.712022e+06</td>\n",
       "      <td>2.712022e+06</td>\n",
       "      <td>2.712022e+06</td>\n",
       "      <td>2.712022e+06</td>\n",
       "      <td>2.712022e+06</td>\n",
       "      <td>2.712022e+06</td>\n",
       "      <td>2.712022e+06</td>\n",
       "      <td>2.712022e+06</td>\n",
       "    </tr>\n",
       "    <tr>\n",
       "      <th>mean</th>\n",
       "      <td>5.560763e+03</td>\n",
       "      <td>-2.718661e-01</td>\n",
       "      <td>3.982041e+00</td>\n",
       "      <td>2.857443e+03</td>\n",
       "      <td>-2.915848e+02</td>\n",
       "      <td>-4.172583e+01</td>\n",
       "      <td>8.030056e+00</td>\n",
       "      <td>-1.298594e+01</td>\n",
       "      <td>4.899001e-01</td>\n",
       "      <td>-5.599894e+00</td>\n",
       "      <td>...</td>\n",
       "      <td>5.337316e-01</td>\n",
       "      <td>4.491993e-01</td>\n",
       "      <td>4.488879e-01</td>\n",
       "      <td>4.101714e-01</td>\n",
       "      <td>4.102095e-01</td>\n",
       "      <td>3.658979e-01</td>\n",
       "      <td>3.175931e-01</td>\n",
       "      <td>2.853877e-01</td>\n",
       "      <td>1.181880e-01</td>\n",
       "      <td>6.142255e-02</td>\n",
       "    </tr>\n",
       "    <tr>\n",
       "      <th>std</th>\n",
       "      <td>8.726990e+02</td>\n",
       "      <td>4.096093e-01</td>\n",
       "      <td>7.868529e-01</td>\n",
       "      <td>3.494174e+03</td>\n",
       "      <td>6.439511e+02</td>\n",
       "      <td>1.212520e+02</td>\n",
       "      <td>4.185671e+01</td>\n",
       "      <td>2.618954e+01</td>\n",
       "      <td>3.271361e+01</td>\n",
       "      <td>1.776866e+01</td>\n",
       "      <td>...</td>\n",
       "      <td>3.641321e-01</td>\n",
       "      <td>3.316904e-01</td>\n",
       "      <td>3.083564e-01</td>\n",
       "      <td>2.797580e-01</td>\n",
       "      <td>2.770696e-01</td>\n",
       "      <td>2.541609e-01</td>\n",
       "      <td>2.321594e-01</td>\n",
       "      <td>2.100467e-01</td>\n",
       "      <td>8.020779e-02</td>\n",
       "      <td>4.324020e-02</td>\n",
       "    </tr>\n",
       "    <tr>\n",
       "      <th>min</th>\n",
       "      <td>2.000061e+03</td>\n",
       "      <td>-4.487347e+00</td>\n",
       "      <td>5.394999e-43</td>\n",
       "      <td>-9.222329e-01</td>\n",
       "      <td>-1.158789e+04</td>\n",
       "      <td>-1.718666e+03</td>\n",
       "      <td>-1.205797e+03</td>\n",
       "      <td>-4.306089e+02</td>\n",
       "      <td>-4.856790e+02</td>\n",
       "      <td>-1.133120e+03</td>\n",
       "      <td>...</td>\n",
       "      <td>6.487440e-02</td>\n",
       "      <td>6.264918e-02</td>\n",
       "      <td>5.036612e-02</td>\n",
       "      <td>4.899616e-02</td>\n",
       "      <td>5.481264e-02</td>\n",
       "      <td>4.443664e-02</td>\n",
       "      <td>4.371226e-02</td>\n",
       "      <td>4.235824e-02</td>\n",
       "      <td>1.816171e-02</td>\n",
       "      <td>1.120560e-02</td>\n",
       "    </tr>\n",
       "    <tr>\n",
       "      <th>25%</th>\n",
       "      <td>4.937920e+03</td>\n",
       "      <td>-4.498981e-01</td>\n",
       "      <td>3.776349e+00</td>\n",
       "      <td>4.802662e+02</td>\n",
       "      <td>-3.874779e+02</td>\n",
       "      <td>-5.671171e+01</td>\n",
       "      <td>-2.096837e+00</td>\n",
       "      <td>-1.929551e+01</td>\n",
       "      <td>-7.600808e+00</td>\n",
       "      <td>-8.909830e+00</td>\n",
       "      <td>...</td>\n",
       "      <td>2.813886e-01</td>\n",
       "      <td>2.376655e-01</td>\n",
       "      <td>2.215750e-01</td>\n",
       "      <td>2.063369e-01</td>\n",
       "      <td>2.159241e-01</td>\n",
       "      <td>1.823347e-01</td>\n",
       "      <td>1.623157e-01</td>\n",
       "      <td>1.471646e-01</td>\n",
       "      <td>6.919803e-02</td>\n",
       "      <td>3.737602e-02</td>\n",
       "    </tr>\n",
       "    <tr>\n",
       "      <th>50%</th>\n",
       "      <td>5.550926e+03</td>\n",
       "      <td>-2.113507e-01</td>\n",
       "      <td>4.199539e+00</td>\n",
       "      <td>1.460717e+03</td>\n",
       "      <td>-8.680237e+01</td>\n",
       "      <td>-1.409114e+01</td>\n",
       "      <td>2.909846e+00</td>\n",
       "      <td>-5.746578e+00</td>\n",
       "      <td>-7.741510e-01</td>\n",
       "      <td>-1.691054e+00</td>\n",
       "      <td>...</td>\n",
       "      <td>4.203166e-01</td>\n",
       "      <td>3.512707e-01</td>\n",
       "      <td>3.605437e-01</td>\n",
       "      <td>3.267774e-01</td>\n",
       "      <td>3.257406e-01</td>\n",
       "      <td>2.922344e-01</td>\n",
       "      <td>2.499530e-01</td>\n",
       "      <td>2.238688e-01</td>\n",
       "      <td>9.358199e-02</td>\n",
       "      <td>4.867428e-02</td>\n",
       "    </tr>\n",
       "    <tr>\n",
       "      <th>75%</th>\n",
       "      <td>5.975766e+03</td>\n",
       "      <td>-2.535014e-02</td>\n",
       "      <td>4.483057e+00</td>\n",
       "      <td>3.874248e+03</td>\n",
       "      <td>-4.105660e+00</td>\n",
       "      <td>-1.253087e-01</td>\n",
       "      <td>1.664249e+01</td>\n",
       "      <td>-8.981975e-01</td>\n",
       "      <td>5.998727e+00</td>\n",
       "      <td>4.102218e-01</td>\n",
       "      <td>...</td>\n",
       "      <td>6.698429e-01</td>\n",
       "      <td>5.515379e-01</td>\n",
       "      <td>5.851300e-01</td>\n",
       "      <td>5.291217e-01</td>\n",
       "      <td>5.174929e-01</td>\n",
       "      <td>4.720198e-01</td>\n",
       "      <td>3.976967e-01</td>\n",
       "      <td>3.547610e-01</td>\n",
       "      <td>1.396926e-01</td>\n",
       "      <td>7.059544e-02</td>\n",
       "    </tr>\n",
       "    <tr>\n",
       "      <th>max</th>\n",
       "      <td>9.994979e+03</td>\n",
       "      <td>4.591588e+00</td>\n",
       "      <td>7.899983e+00</td>\n",
       "      <td>3.692985e+04</td>\n",
       "      <td>5.510930e+03</td>\n",
       "      <td>2.606343e+03</td>\n",
       "      <td>6.267605e+02</td>\n",
       "      <td>6.271200e+02</td>\n",
       "      <td>9.009338e+02</td>\n",
       "      <td>3.053074e+02</td>\n",
       "      <td>...</td>\n",
       "      <td>6.935789e+00</td>\n",
       "      <td>7.062778e+00</td>\n",
       "      <td>3.908607e+00</td>\n",
       "      <td>3.928383e+00</td>\n",
       "      <td>4.231868e+00</td>\n",
       "      <td>3.720495e+00</td>\n",
       "      <td>4.366210e+00</td>\n",
       "      <td>3.997701e+00</td>\n",
       "      <td>1.664967e+00</td>\n",
       "      <td>1.756402e+00</td>\n",
       "    </tr>\n",
       "  </tbody>\n",
       "</table>\n",
       "<p>8 rows × 223 columns</p>\n",
       "</div>"
      ],
      "text/plain": [
       "               Teff          Fe/H         log_g          bp_1          bp_2  \\\n",
       "count  2.712022e+06  2.712022e+06  2.712022e+06  2.712022e+06  2.712022e+06   \n",
       "mean   5.560763e+03 -2.718661e-01  3.982041e+00  2.857443e+03 -2.915848e+02   \n",
       "std    8.726990e+02  4.096093e-01  7.868529e-01  3.494174e+03  6.439511e+02   \n",
       "min    2.000061e+03 -4.487347e+00  5.394999e-43 -9.222329e-01 -1.158789e+04   \n",
       "25%    4.937920e+03 -4.498981e-01  3.776349e+00  4.802662e+02 -3.874779e+02   \n",
       "50%    5.550926e+03 -2.113507e-01  4.199539e+00  1.460717e+03 -8.680237e+01   \n",
       "75%    5.975766e+03 -2.535014e-02  4.483057e+00  3.874248e+03 -4.105660e+00   \n",
       "max    9.994979e+03  4.591588e+00  7.899983e+00  3.692985e+04  5.510930e+03   \n",
       "\n",
       "               bp_3          bp_4          bp_5          bp_6          bp_7  \\\n",
       "count  2.712022e+06  2.712022e+06  2.712022e+06  2.712022e+06  2.712022e+06   \n",
       "mean  -4.172583e+01  8.030056e+00 -1.298594e+01  4.899001e-01 -5.599894e+00   \n",
       "std    1.212520e+02  4.185671e+01  2.618954e+01  3.271361e+01  1.776866e+01   \n",
       "min   -1.718666e+03 -1.205797e+03 -4.306089e+02 -4.856790e+02 -1.133120e+03   \n",
       "25%   -5.671171e+01 -2.096837e+00 -1.929551e+01 -7.600808e+00 -8.909830e+00   \n",
       "50%   -1.409114e+01  2.909846e+00 -5.746578e+00 -7.741510e-01 -1.691054e+00   \n",
       "75%   -1.253087e-01  1.664249e+01 -8.981975e-01  5.998727e+00  4.102218e-01   \n",
       "max    2.606343e+03  6.267605e+02  6.271200e+02  9.009338e+02  3.053074e+02   \n",
       "\n",
       "       ...        rpe_46        rpe_47        rpe_48        rpe_49  \\\n",
       "count  ...  2.712022e+06  2.712022e+06  2.712022e+06  2.712022e+06   \n",
       "mean   ...  5.337316e-01  4.491993e-01  4.488879e-01  4.101714e-01   \n",
       "std    ...  3.641321e-01  3.316904e-01  3.083564e-01  2.797580e-01   \n",
       "min    ...  6.487440e-02  6.264918e-02  5.036612e-02  4.899616e-02   \n",
       "25%    ...  2.813886e-01  2.376655e-01  2.215750e-01  2.063369e-01   \n",
       "50%    ...  4.203166e-01  3.512707e-01  3.605437e-01  3.267774e-01   \n",
       "75%    ...  6.698429e-01  5.515379e-01  5.851300e-01  5.291217e-01   \n",
       "max    ...  6.935789e+00  7.062778e+00  3.908607e+00  3.928383e+00   \n",
       "\n",
       "             rpe_50        rpe_51        rpe_52        rpe_53        rpe_54  \\\n",
       "count  2.712022e+06  2.712022e+06  2.712022e+06  2.712022e+06  2.712022e+06   \n",
       "mean   4.102095e-01  3.658979e-01  3.175931e-01  2.853877e-01  1.181880e-01   \n",
       "std    2.770696e-01  2.541609e-01  2.321594e-01  2.100467e-01  8.020779e-02   \n",
       "min    5.481264e-02  4.443664e-02  4.371226e-02  4.235824e-02  1.816171e-02   \n",
       "25%    2.159241e-01  1.823347e-01  1.623157e-01  1.471646e-01  6.919803e-02   \n",
       "50%    3.257406e-01  2.922344e-01  2.499530e-01  2.238688e-01  9.358199e-02   \n",
       "75%    5.174929e-01  4.720198e-01  3.976967e-01  3.547610e-01  1.396926e-01   \n",
       "max    4.231868e+00  3.720495e+00  4.366210e+00  3.997701e+00  1.664967e+00   \n",
       "\n",
       "             rpe_55  \n",
       "count  2.712022e+06  \n",
       "mean   6.142255e-02  \n",
       "std    4.324020e-02  \n",
       "min    1.120560e-02  \n",
       "25%    3.737602e-02  \n",
       "50%    4.867428e-02  \n",
       "75%    7.059544e-02  \n",
       "max    1.756402e+00  \n",
       "\n",
       "[8 rows x 223 columns]"
      ]
     },
     "execution_count": 10,
     "metadata": {},
     "output_type": "execute_result"
    }
   ],
   "source": [
    "data.describe()"
   ]
  },
  {
   "cell_type": "code",
   "execution_count": 11,
   "id": "39cb2a67-849f-45b9-8204-6677a7369de7",
   "metadata": {},
   "outputs": [],
   "source": [
    "feh = data['Fe/H']\n",
    "teff = data['Teff']\n",
    "logg = data['log_g']\n",
    "xp = []\n",
    "xpe = []\n",
    "for elabel,label in zip(elabels,labels):\n",
    "    xp.append(data[label])\n",
    "    xpe.append(data[elabel])\n",
    "xp = np.array(xp)\n",
    "xpe = np.array(xpe)"
   ]
  },
  {
   "cell_type": "code",
   "execution_count": 12,
   "id": "0048ad73-fb96-4189-9d04-00019af2c2fe",
   "metadata": {},
   "outputs": [
    {
     "data": {
      "text/plain": [
       "(2712022, 110)"
      ]
     },
     "execution_count": 12,
     "metadata": {},
     "output_type": "execute_result"
    }
   ],
   "source": [
    "xp.T.shape"
   ]
  },
  {
   "cell_type": "code",
   "execution_count": 13,
   "id": "05e4b6e5-51f7-4348-927d-582bf9db1ee2",
   "metadata": {},
   "outputs": [],
   "source": [
    "feh_train, feh_test, teff_train, teff_test, logg_train, logg_test, xp_train, xp_test, xpe_train, xpe_test = train_test_split(\n",
    "    feh,\n",
    "    teff,\n",
    "    logg,\n",
    "    xp.T,\n",
    "    xpe.T,\n",
    "    test_size=0.1,\n",
    "    random_state=42\n",
    ")"
   ]
  },
  {
   "cell_type": "code",
   "execution_count": 14,
   "id": "da3679b7-7c82-4f75-a60f-864bb6988e52",
   "metadata": {},
   "outputs": [],
   "source": [
    "feh_train, feh_valid, teff_train, teff_valid, logg_train, logg_valid, xp_train, xp_valid, xpe_train, xpe_valid = train_test_split(\n",
    "    feh_train,\n",
    "    teff_train,\n",
    "    logg_train,\n",
    "    xp_train,\n",
    "    xpe_train,\n",
    "    test_size=0.1,\n",
    "    random_state=42\n",
    ")"
   ]
  },
  {
   "cell_type": "code",
   "execution_count": 16,
   "id": "58887ba8-9ef9-4bb7-a33a-0d46c6470f95",
   "metadata": {},
   "outputs": [
    {
     "name": "stdout",
     "output_type": "stream",
     "text": [
      "<HDF5 group \"/\" (3 members)>\n",
      "<HDF5 group \"/group_1\" (3 members)>\n",
      "<HDF5 group \"/group_2\" (3 members)>\n",
      "<HDF5 dataset \"data\": shape (3, 2196737), type \"<f8\">\n",
      "<HDF5 dataset \"label\": shape (110, 244082), type \"<f8\">\n",
      "<HDF5 dataset \"e_label\": shape (110, 271203), type \"<f4\">\n"
     ]
    }
   ],
   "source": [
    "# Create a HDF5 file\n",
    "hierarchicalFileName  = \"/arc/home/aydanmckay/input_catalogue_datacuts.h5\"\n",
    "with h5py.File(hierarchicalFileName, 'w') as hierarchicalFile:\n",
    "    # Create a group under root\n",
    "    train = hierarchicalFile.create_group(\"group_1\")\n",
    "    valid = hierarchicalFile.create_group(\"group_2\")\n",
    "    test = hierarchicalFile.create_group(\"group_3\")\n",
    "    \n",
    "    train['data'] = np.array(\n",
    "        [feh_train,\n",
    "         logg_train,\n",
    "         teff_train,\n",
    "        ]\n",
    "    )\n",
    "    valid['data'] = np.array(\n",
    "        [feh_valid,\n",
    "         logg_valid,\n",
    "         teff_valid,\n",
    "        ]\n",
    "    )\n",
    "    test['data'] = np.array(\n",
    "        [feh_test,\n",
    "         logg_test,\n",
    "         teff_test,\n",
    "        ]\n",
    "    )\n",
    "    train['label'] = xp_train.T\n",
    "    train['e_label'] = xpe_train.T\n",
    "    valid['label'] = xp_valid.T\n",
    "    valid['e_label'] = xpe_valid.T\n",
    "    test['label'] = xp_test.T\n",
    "    test['e_label'] = xpe_test.T\n",
    "\n",
    "    print(hierarchicalFile[\"/\"])\n",
    "    print(train)\n",
    "    print(valid)\n",
    "    print(train['data'])\n",
    "    print(valid[\"label\"])\n",
    "    print(test['e_label'])"
   ]
  },
  {
   "cell_type": "code",
   "execution_count": 17,
   "id": "88e03dc1-ebca-4f1b-bcfd-b5e7df8d014b",
   "metadata": {},
   "outputs": [
    {
     "name": "stdout",
     "output_type": "stream",
     "text": [
      "2196737\n",
      "2196737\n",
      "(3, 2196737)\n"
     ]
    }
   ],
   "source": [
    "scalerlist = [MinMaxScaler() for _ in range(110)]\n",
    "with h5py.File(\"/arc/home/aydanmckay/input_catalogue_datacuts.h5\", 'r') as f:\n",
    "    d = f['group_1']['label']\n",
    "    dset = d[:]\n",
    "    ydat = np.array([\n",
    "        scaler.fit_transform(d[[it]].T).flatten() for it,scaler in enumerate(scalerlist)\n",
    "    ])\n",
    "    print(ydat.shape[1])\n",
    "    print(f['group_1']['label'].shape[1])\n",
    "    print(f['group_1']['data'].shape)"
   ]
  },
  {
   "cell_type": "code",
   "execution_count": 18,
   "id": "e906b63c-a2ad-4e35-a5e1-bcfc6d4d1664",
   "metadata": {},
   "outputs": [
    {
     "data": {
      "text/plain": [
       "(110, 2196737)"
      ]
     },
     "execution_count": 18,
     "metadata": {},
     "output_type": "execute_result"
    }
   ],
   "source": [
    "dset.shape"
   ]
  },
  {
   "cell_type": "code",
   "execution_count": 19,
   "id": "039b9980-13b4-47a0-b5f4-39aaa819ab62",
   "metadata": {},
   "outputs": [
    {
     "data": {
      "text/plain": [
       "array([[ 2.81883400e+03,  1.12563800e+03,  2.40741050e+02, ...,\n",
       "         2.38541368e+02,  1.04766772e+03,  1.67672333e+02],\n",
       "       [-1.97867809e+02,  1.46399185e+02, -5.17441102e+01, ...,\n",
       "         4.60346598e-01, -2.03776757e+02,  2.81848275e+01],\n",
       "       [-7.44846716e+01, -4.54510032e+01,  5.40537537e+00, ...,\n",
       "        -1.11525344e+01,  5.93269192e+00, -5.81011150e+00],\n",
       "       ...,\n",
       "       [ 2.80717567e-01,  1.23606306e-01,  5.30820837e-02, ...,\n",
       "         1.71450877e-01,  1.27200510e-01,  9.25572597e-02],\n",
       "       [-7.48794964e-02,  8.63666709e-02,  3.28213002e-02, ...,\n",
       "         7.11810626e-02,  2.49668675e-02, -8.42950902e-02],\n",
       "       [ 9.99931633e-03, -3.47431194e-02,  8.97592493e-02, ...,\n",
       "         4.02395195e-02, -7.08080643e-03, -7.07059473e-03]])"
      ]
     },
     "execution_count": 19,
     "metadata": {},
     "output_type": "execute_result"
    }
   ],
   "source": [
    "dset"
   ]
  },
  {
   "cell_type": "code",
   "execution_count": 20,
   "id": "c9e5e0f8-a8e6-4f30-8049-0d4056718fb1",
   "metadata": {
    "tags": []
   },
   "outputs": [
    {
     "data": {
      "text/plain": [
       "array([[0.07635249, 0.03050465, 0.00654368, ..., 0.00648412, 0.0283934 ,\n",
       "        0.00456515],\n",
       "       [0.66612915, 0.68626311, 0.67467498, ..., 0.67772809, 0.66578357,\n",
       "        0.67934951],\n",
       "       [0.36219622, 0.36910371, 0.3812031 , ..., 0.37726376, 0.38132856,\n",
       "        0.37853479],\n",
       "       ...,\n",
       "       [0.68256749, 0.67141907, 0.66641475, ..., 0.67481406, 0.67167411,\n",
       "        0.66921586],\n",
       "       [0.5768464 , 0.58802292, 0.5843115 , ..., 0.58697035, 0.58376709,\n",
       "        0.57619377],\n",
       "       [0.30878393, 0.30559242, 0.31447326, ..., 0.31094099, 0.30756559,\n",
       "        0.30756632]])"
      ]
     },
     "execution_count": 20,
     "metadata": {},
     "output_type": "execute_result"
    }
   ],
   "source": [
    "ydat"
   ]
  },
  {
   "cell_type": "code",
   "execution_count": null,
   "id": "38acff94-ac70-44cf-9b8b-f1e4cc0b646b",
   "metadata": {},
   "outputs": [],
   "source": []
  }
 ],
 "metadata": {
  "kernelspec": {
   "display_name": "Python 3 (ipykernel)",
   "language": "python",
   "name": "python3"
  },
  "language_info": {
   "codemirror_mode": {
    "name": "ipython",
    "version": 3
   },
   "file_extension": ".py",
   "mimetype": "text/x-python",
   "name": "python",
   "nbconvert_exporter": "python",
   "pygments_lexer": "ipython3",
   "version": "3.9.13"
  }
 },
 "nbformat": 4,
 "nbformat_minor": 5
}
