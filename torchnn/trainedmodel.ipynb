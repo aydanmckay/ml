{
 "cells": [
  {
   "cell_type": "code",
   "execution_count": 1,
   "id": "37ef0cdc-e104-4f0c-bd3c-8104f5405f63",
   "metadata": {
    "tags": []
   },
   "outputs": [],
   "source": [
    "from astropy.table import Table\n",
    "import numpy as np\n",
    "import torch\n",
    "import torch.nn as nn\n",
    "from torch.utils.data import Dataset\n",
    "from torch.utils.data import DataLoader\n",
    "import h5py\n",
    "import matplotlib.pyplot as plt\n",
    "from gaiaxpy import generate, PhotometricSystem\n",
    "import pandas as pd\n",
    "from sklearn.preprocessing import StandardScaler, MinMaxScaler"
   ]
  },
  {
   "cell_type": "code",
   "execution_count": 2,
   "id": "9c04af09-2db0-4cfe-a60a-08096d2ce1e5",
   "metadata": {
    "tags": []
   },
   "outputs": [
    {
     "name": "stdout",
     "output_type": "stream",
     "text": [
      "cuda\n"
     ]
    }
   ],
   "source": [
    "device = torch.device('cuda' if torch.cuda.is_available() else 'cpu')\n",
    "print(device)"
   ]
  },
  {
   "cell_type": "code",
   "execution_count": 3,
   "id": "aa2ce829-5169-46f9-b2ec-152215834b06",
   "metadata": {
    "jupyter": {
     "source_hidden": true
    },
    "tags": []
   },
   "outputs": [],
   "source": [
    "# # scalers for dataloading\n",
    "# metscaler = MinMaxScaler()\n",
    "# logscaler = MinMaxScaler()\n",
    "# tefscaler = MinMaxScaler()\n",
    "# scalerlist = [MinMaxScaler() for _ in range(110)] # Hardcoded since we know number of xp coefficients is static\n",
    "\n",
    "# # dataloader batchlength, learning rate, epochs for training\n",
    "# batchlen = 32\n",
    "# lr = 1e-2\n",
    "# epochs = 100\n",
    "\n",
    "# class ResBlock(nn.Module):\n",
    "#     def __init__(self, nodes):\n",
    "#         super(ResBlock, self).__init__()\n",
    "#         self.res_block1 = nn.Sequential(\n",
    "#             nn.Linear(nodes,nodes),\n",
    "#             nn.BatchNorm1d(nodes),\n",
    "#             nn.LeakyReLU(),\n",
    "#         )\n",
    "#         self.res_block2 = nn.Sequential(\n",
    "#             nn.Linear(nodes,nodes),\n",
    "#             nn.BatchNorm1d(nodes),\n",
    "#         )\n",
    "#         self.lrelu = nn.LeakyReLU()\n",
    "    \n",
    "#     def forward(self, x):\n",
    "#         res = x\n",
    "#         x = self.res_block1(x)\n",
    "#         x = self.res_block2(x)\n",
    "#         x = x + res\n",
    "#         output = self.lrelu(x)\n",
    "#         return output\n",
    "        \n",
    "# class ResNetMcK(nn.Module):\n",
    "#     def __init__(self):\n",
    "#         super(ResNetMcK, self).__init__()\n",
    "#         self.input_block = nn.Sequential(\n",
    "#             nn.Linear(3,16),\n",
    "#             nn.LeakyReLU(),\n",
    "#         )\n",
    "#         self.blocklist = nn.ModuleList([\n",
    "#             ResBlock(16),\n",
    "#             ResBlock(16),\n",
    "#             nn.Linear(16,32),\n",
    "#             ResBlock(32),\n",
    "#             ResBlock(32),\n",
    "#             nn.Linear(32,64),\n",
    "#             ResBlock(64),\n",
    "#             ResBlock(64),\n",
    "#             nn.Linear(64,128),\n",
    "#             ResBlock(128),\n",
    "#             ResBlock(128),\n",
    "#         ])\n",
    "#         self.output_block = nn.Sequential(\n",
    "#             nn.Linear(128,110),\n",
    "#         )\n",
    "        \n",
    "#     def forward(self,x):\n",
    "#         x = self.input_block(x)\n",
    "#         for i, _ in enumerate(self.blocklist):\n",
    "#             x = self.blocklist[i](x)\n",
    "#         logits = self.output_block(x)\n",
    "#         return logits\n",
    "    \n",
    "# # defining the Dataset class\n",
    "# class train_set(Dataset):\n",
    "#     def __init__(self,file):\n",
    "#         fn = h5py.File(file, 'r')\n",
    "#         self.f = fn\n",
    "        \n",
    "#         # get data\n",
    "#         dset = fn['group_1']['data']\n",
    "#         self.x = torch.Tensor(dset[:].T)\n",
    "        \n",
    "#         # get label\n",
    "#         ydset = self.f['group_1']['label']\n",
    "#         self.y = torch.Tensor(ydset[:].T)\n",
    "#         # torch.from_numpy(y[index]) does not work since y is doubles and not floats.\n",
    "        \n",
    "#         # get error in label # comment out for non-error label runs\n",
    "#         errdset = self.f['group_1']['e_label']\n",
    "#         self.err = torch.Tensor(errdset[:].T)\n",
    "        \n",
    "#     def __len__(self):\n",
    "#         return self.f['group_1']['data'].shape[1]\n",
    "  \n",
    "#     def __getitem__(self, index):\n",
    "#         xg = self.x[index]\n",
    "#         yg = self.y[index]\n",
    "#         errg = self.err[index]\n",
    "#         return (xg,yg,errg)\n",
    "\n",
    "# class valid_set(Dataset):\n",
    "#     def __init__(self,file):\n",
    "#         fn = h5py.File(file, 'r')\n",
    "#         self.f = fn\n",
    "        \n",
    "#         # get data\n",
    "#         dset = self.f['group_2']['data']\n",
    "#         self.x = torch.Tensor(dset[:].T)\n",
    "        \n",
    "#         # get label\n",
    "#         ydset = self.f['group_2']['label']\n",
    "#         self.y = torch.Tensor(ydset[:].T)\n",
    "#         # torch.from_numpy(y[index]) does not work since y is doubles and not floats.\n",
    "        \n",
    "#         # get error in label # comment out for non-error label runs\n",
    "#         errdset = self.f['group_2']['e_label']\n",
    "#         self.err = torch.Tensor(errdset[:].T)\n",
    "        \n",
    "#     def __len__(self):\n",
    "#         return self.f['group_2']['data'].shape[1]\n",
    "  \n",
    "#     def __getitem__(self, index):\n",
    "#         xg = self.x[index]\n",
    "#         yg = self.y[index]\n",
    "#         errg = self.err[index]\n",
    "#         return (xg,yg,errg)\n",
    "    \n",
    "# class new_data_set(Dataset):\n",
    "#     def __init__(self,file,train=True,valid=False):\n",
    "#         fn = h5py.File(file, 'r')\n",
    "#         self.f = fn\n",
    "        \n",
    "#         # get data\n",
    "#         dset = fn['group_1']['data']\n",
    "#         d = dset[:]\n",
    "#         dat = np.array([\n",
    "#             metscaler.fit_transform(d[[0]].T).flatten(),\n",
    "#             logscaler.fit_transform(d[[1]].T).flatten(),\n",
    "#             tefscaler.fit_transform(d[[2]].T).flatten(),\n",
    "#         ])\n",
    "#         if train:\n",
    "#             self.l = dat.shape[1]\n",
    "#             self.x = torch.Tensor(dat.T)\n",
    "#         elif valid:\n",
    "#             dset = fn['group_2']['data']\n",
    "#             d = dset[:]\n",
    "#             dat = np.array([\n",
    "#                 metscaler.transform(d[[0]].T).flatten(),\n",
    "#                 logscaler.transform(d[[1]].T).flatten(),\n",
    "#                 tefscaler.transform(d[[2]].T).flatten(),\n",
    "#             ])\n",
    "#             self.l = dat.shape[1]\n",
    "#             self.x = torch.Tensor(dat.T)\n",
    "        \n",
    "#         # get label\n",
    "#         ydset = self.f['group_1']['label']\n",
    "#         yd = ydset[:]\n",
    "#         ydat = np.array([\n",
    "#             scaler.fit_transform(yd[[it]].T).flatten() for it,scaler in enumerate(scalerlist)\n",
    "#         ])\n",
    "#         if train:\n",
    "#             self.y = torch.Tensor(ydat[:].T) # torch.from_numpy(y[index]) does not work since y is doubles and not floats.\n",
    "#         elif valid:\n",
    "#             ydset = self.f['group_2']['label']\n",
    "#             yd = ydset[:]\n",
    "#             ydat = np.array([\n",
    "#                 scaler.transform(yd[[it]].T).flatten() for it,scaler in enumerate(scalerlist)\n",
    "#             ])\n",
    "#             self.y = torch.Tensor(ydat[:].T)\n",
    "        \n",
    "#         # get error in label # comment out for non-error label runs\n",
    "#         if train:\n",
    "#             errdset = self.f['group_1']['e_label']\n",
    "#             self.err = torch.Tensor(errdset[:].T)\n",
    "#         elif valid:\n",
    "#             errdset = self.f['group_2']['e_label']\n",
    "#             self.err = torch.Tensor(errdset[:].T)\n",
    "        \n",
    "#     def __len__(self):\n",
    "#         return self.l\n",
    "  \n",
    "#     def __getitem__(self, index):\n",
    "#         xg = self.x[index]\n",
    "#         yg = self.y[index]\n",
    "#         errg = self.err[index]\n",
    "#         return (xg,yg,errg)"
   ]
  },
  {
   "cell_type": "code",
   "execution_count": 4,
   "id": "5d560aeb-8c4e-437b-8109-9aeaaf920304",
   "metadata": {
    "tags": []
   },
   "outputs": [],
   "source": [
    "# scalers for dataloading\n",
    "metscaler = MinMaxScaler()\n",
    "logscaler = MinMaxScaler()\n",
    "tefscaler = MinMaxScaler()\n",
    "amscaler = MinMaxScaler()\n",
    "scalerlist = [MinMaxScaler() for _ in range(110)] # Hardcoded since we know number of xp coefficients is static\n",
    "\n",
    "scale = 'MinMax'\n",
    "batchlen = 32\n",
    "lr = 1e-2\n",
    "epochs = 2\n",
    "optimize = 'SGD'\n",
    "datafname = '/arc/home/aydanmckay/input_catalogue_simple_average_datacuts.h5'\n",
    "lossname = 'L2'\n",
    "# datafname = '/arc/home/aydanmckay/input_catalogue_datacuts.h5'"
   ]
  },
  {
   "cell_type": "code",
   "execution_count": 5,
   "id": "edc017f7-13ec-4e59-9120-992beccce9c1",
   "metadata": {
    "tags": []
   },
   "outputs": [],
   "source": [
    "class new_data_set(Dataset):\n",
    "    def __init__(self,file,train=True,valid=False,test=False,noscale=False):\n",
    "        fn = h5py.File(file, 'r')\n",
    "        self.f = fn\n",
    "        \n",
    "        # get data\n",
    "        dset = fn['group_1']['data']\n",
    "        d = dset[:]\n",
    "        dat = np.array([\n",
    "            metscaler.fit_transform(d[[0]].T).flatten(),\n",
    "            logscaler.fit_transform(d[[1]].T).flatten(),\n",
    "            tefscaler.fit_transform(d[[2]].T).flatten(),\n",
    "            # amscaler.fit_transform(d[[3]].T).flatten(), # comment out if not\n",
    "        ])\n",
    "        if train:\n",
    "            self.l = dat.shape[1]\n",
    "            self.x = torch.Tensor(dat.T)\n",
    "        elif valid:\n",
    "            dset = fn['group_2']['data']\n",
    "            d = dset[:]\n",
    "            dat = np.array([\n",
    "                metscaler.transform(d[[0]].T).flatten(),\n",
    "                logscaler.transform(d[[1]].T).flatten(),\n",
    "                tefscaler.transform(d[[2]].T).flatten(),\n",
    "                # amscaler.transform(d[[3]].T).flatten(), # comment out if not\n",
    "            ])\n",
    "            self.l = dat.shape[1]\n",
    "            self.x = torch.Tensor(dat.T)\n",
    "        elif test:\n",
    "            dset = fn['group_3']['data']\n",
    "            d = dset[:]\n",
    "            dat = np.array([\n",
    "                metscaler.transform(d[[0]].T).flatten(),\n",
    "                logscaler.transform(d[[1]].T).flatten(),\n",
    "                tefscaler.transform(d[[2]].T).flatten(),\n",
    "                # amscaler.transform(d[[3]].T).flatten(), # comment out if not\n",
    "            ])\n",
    "            self.l = dat.shape[1]\n",
    "            self.x = torch.Tensor(dat.T)\n",
    "            self.x = dat.T\n",
    "        elif noscale:\n",
    "            dset = fn['group_3']['data']\n",
    "            d = dset[:]\n",
    "            self.l = d.shape[1]\n",
    "            self.x = torch.Tensor(d.T)\n",
    "            self.x = d.T\n",
    "        \n",
    "        # get label\n",
    "        ydset = self.f['group_1']['label']\n",
    "        yd = ydset[:]\n",
    "        ydat = np.array([\n",
    "            scaler.fit_transform(yd[[it]].T).flatten() for it,scaler in enumerate(scalerlist)\n",
    "        ])\n",
    "        if train:\n",
    "            self.y = torch.Tensor(ydat[:].T) # torch.from_numpy(y[index]) does not work since y is doubles and not floats.\n",
    "        elif valid:\n",
    "            ydset = self.f['group_2']['label']\n",
    "            yd = ydset[:]\n",
    "            ydat = np.array([\n",
    "                scaler.transform(yd[[it]].T).flatten() for it,scaler in enumerate(scalerlist)\n",
    "            ])\n",
    "            self.y = torch.Tensor(ydat[:].T)\n",
    "        elif test:\n",
    "            ydset = self.f['group_3']['label']\n",
    "            yd = ydset[:]\n",
    "            ydat = np.array([\n",
    "                scaler.transform(yd[[it]].T).flatten() for it,scaler in enumerate(scalerlist)\n",
    "            ])\n",
    "            self.y = torch.Tensor(ydat[:].T)\n",
    "        elif noscale:\n",
    "            ydset = self.f['group_3']['label']\n",
    "            yd = ydset[:]\n",
    "            self.y = torch.Tensor(yd.T)\n",
    "        \n",
    "        # get error in label # comment out for non-error label runs\n",
    "        if train:\n",
    "            errdset = self.f['group_1']['e_label']\n",
    "            self.err = torch.Tensor(errdset[:].T)\n",
    "        elif valid:\n",
    "            errdset = self.f['group_2']['e_label']\n",
    "            self.err = torch.Tensor(errdset[:].T)\n",
    "        elif test or noscale:\n",
    "            errdset = self.f['group_3']['e_label']\n",
    "            self.err = torch.Tensor(errdset[:].T)\n",
    "        \n",
    "    def __len__(self):\n",
    "        return self.l\n",
    "  \n",
    "    def __getitem__(self, index):\n",
    "        xg = self.x[index]\n",
    "        yg = self.y[index]\n",
    "        errg = self.err[index]\n",
    "        return (xg,yg,errg)\n",
    "    \n",
    "class ResBlock(nn.Module):\n",
    "    def __init__(self, nodes):\n",
    "        super(ResBlock, self).__init__()\n",
    "        self.res_block1 = nn.Sequential(\n",
    "            nn.Linear(nodes,nodes),\n",
    "            nn.BatchNorm1d(nodes),\n",
    "            nn.LeakyReLU(),\n",
    "        )\n",
    "        self.res_block2 = nn.Sequential(\n",
    "            nn.Linear(nodes,nodes),\n",
    "            nn.BatchNorm1d(nodes),\n",
    "        )\n",
    "        self.lrelu = nn.LeakyReLU()\n",
    "#         add dropout in the init\n",
    "        self.do = nn.Dropout() #\n",
    "    \n",
    "    def forward(self, x):\n",
    "        res = x\n",
    "        x = self.res_block1(x)\n",
    "        x = self.res_block2(x)\n",
    "        x = x + res\n",
    "        output = self.lrelu(x)\n",
    "#         add dropout after the relu\n",
    "        output = self.do(x) #\n",
    "        return output\n",
    "        \n",
    "class ResNetMcK(nn.Module):\n",
    "    def __init__(self):\n",
    "        super(ResNetMcK, self).__init__()\n",
    "        self.input_block = nn.Sequential(\n",
    "            nn.Linear(3,16),\n",
    "            nn.LeakyReLU(),\n",
    "        )\n",
    "        self.blocklist = nn.ModuleList([\n",
    "            ResBlock(16),\n",
    "            ResBlock(16),\n",
    "            nn.Linear(16,32),\n",
    "            ResBlock(32),\n",
    "            ResBlock(32),\n",
    "            nn.Linear(32,64),\n",
    "            ResBlock(64),\n",
    "            ResBlock(64),\n",
    "            nn.Linear(64,128),\n",
    "            ResBlock(128),\n",
    "            ResBlock(128),\n",
    "        ])\n",
    "        self.output_block = nn.Sequential(\n",
    "            nn.Linear(128,110),\n",
    "        )\n",
    "        \n",
    "    def forward(self,x):\n",
    "        x = self.input_block(x)\n",
    "        for i, _ in enumerate(self.blocklist):\n",
    "            x = self.blocklist[i](x)\n",
    "        logits = self.output_block(x)\n",
    "        return logits\n",
    "\n",
    "class Net(nn.Module):\n",
    "    def __init__(self):\n",
    "        super(Net, self).__init__()\n",
    "        self.linear_relu_stack = nn.Sequential(\n",
    "            nn.Linear(3, 64),\n",
    "            nn.LeakyReLU(),\n",
    "            nn.Linear(64, 128),\n",
    "            nn.LeakyReLU(),\n",
    "            nn.Linear(128, 256),\n",
    "            nn.LeakyReLU(),\n",
    "            nn.Linear(256, 512),\n",
    "            nn.LeakyReLU(),\n",
    "            nn.Linear(512, 110),\n",
    "            nn.Sigmoid(),\n",
    "        )\n",
    "\n",
    "    def forward(self, x):\n",
    "        logits = self.linear_relu_stack(x)\n",
    "        return logits\n",
    "\n",
    "# try 3-layer simple network with sigmoid"
   ]
  },
  {
   "cell_type": "code",
   "execution_count": 6,
   "id": "ae3dcf76-fd8c-4128-b47d-f97e35802dfd",
   "metadata": {
    "jupyter": {
     "source_hidden": true
    },
    "tags": []
   },
   "outputs": [],
   "source": [
    "# # training_data = train_set(\"/arc/home/aydanmckay/mydataelabelssmallscalecuts.h5\")\n",
    "# # data = valid_set(\"/arc/home/aydanmckay/smallcutdataMinMaxscaled.h5\")\n",
    "# # training_data = new_data_set('/arc/home/aydanmckay/smallcutdata.h5',train=True,valid=False)\n",
    "# valid_data = new_data_set('/arc/home/aydanmckay/smallcutdata.h5',train=False,valid=True)\n",
    "# loaded_data = DataLoader(\n",
    "#     valid_data,\n",
    "#     batch_size=32,\n",
    "#     num_workers=0\n",
    "#     # shuffle=True\n",
    "# )"
   ]
  },
  {
   "cell_type": "code",
   "execution_count": 7,
   "id": "9e947bc7-365e-481b-8710-b20acaa37390",
   "metadata": {},
   "outputs": [],
   "source": [
    "test_data = new_data_set(datafname,train=False,test=True)\n",
    "loaded_data = DataLoader(\n",
    "    test_data,\n",
    "    batch_size=batchlen,\n",
    "    # shuffle=True,\n",
    "    num_workers=0\n",
    ")\n",
    "unscaled_data = new_data_set(datafname,train=False,noscale=True)\n",
    "unscaled_dataloader = DataLoader(\n",
    "    unscaled_data,\n",
    "    batch_size=batchlen,\n",
    "    # shuffle=True,\n",
    "    num_workers=0\n",
    ")"
   ]
  },
  {
   "cell_type": "code",
   "execution_count": 8,
   "id": "7cac8107-bf95-4d2e-b383-8df05a37b1e5",
   "metadata": {},
   "outputs": [],
   "source": [
    "scales = []\n",
    "noscales = []\n",
    "with torch.no_grad():\n",
    "    for (X, y, z), (X2, y2, z2) in zip(loaded_data,unscaled_data):\n",
    "        for scaled,noscaled in zip(y,y2):\n",
    "            # print(scaled)\n",
    "            scales.append(scaled)\n",
    "            noscales.append(noscaled)"
   ]
  },
  {
   "cell_type": "code",
   "execution_count": 11,
   "id": "bfd3e3ed-3f78-4ac7-88c7-2794b683b94e",
   "metadata": {
    "tags": []
   },
   "outputs": [
    {
     "data": {
      "text/plain": [
       "276047"
      ]
     },
     "execution_count": 11,
     "metadata": {},
     "output_type": "execute_result"
    }
   ],
   "source": [
    "len(noscales)"
   ]
  },
  {
   "cell_type": "code",
   "execution_count": 12,
   "id": "824b197c-6182-4d5c-9aec-a9df556707e9",
   "metadata": {},
   "outputs": [
    {
     "name": "stderr",
     "output_type": "stream",
     "text": [
      "/arc/home/aydanmckay/.local/lib/python3.9/site-packages/numpy/core/fromnumeric.py:1970: FutureWarning: The input object of type 'Tensor' is an array-like implementing one of the corresponding protocols (`__array__`, `__array_interface__` or `__array_struct__`); but not a sequence (or 0-D). In the future, this object will be coerced as if it was first converted using `np.array(obj)`. To retain the old behaviour, you have to either modify the type 'Tensor', or assign to an empty array created with `np.empty(correct_shape, dtype=object)`.\n",
      "  result = asarray(a).shape\n",
      "/arc/home/aydanmckay/.local/lib/python3.9/site-packages/numpy/core/fromnumeric.py:1970: VisibleDeprecationWarning: Creating an ndarray from ragged nested sequences (which is a list-or-tuple of lists-or-tuples-or ndarrays with different lengths or shapes) is deprecated. If you meant to do this, you must specify 'dtype=object' when creating the ndarray.\n",
      "  result = asarray(a).shape\n"
     ]
    },
    {
     "data": {
      "text/plain": [
       "(276047,)"
      ]
     },
     "execution_count": 12,
     "metadata": {},
     "output_type": "execute_result"
    }
   ],
   "source": [
    "np.shape(scales)"
   ]
  },
  {
   "cell_type": "code",
   "execution_count": 7,
   "id": "418b766b-cc85-4746-9639-b00542e4531c",
   "metadata": {
    "tags": []
   },
   "outputs": [
    {
     "data": {
      "text/plain": [
       "<All keys matched successfully>"
      ]
     },
     "execution_count": 7,
     "metadata": {},
     "output_type": "execute_result"
    }
   ],
   "source": [
    "model = ResNetMcK()\n",
    "model.load_state_dict(torch.load(\"/arc/home/aydanmckay/torchresmodel/modelL2smallminmaxscalecutsbl32lr-2wd-5SGDep100new.pth\"))\n",
    "# model.eval()"
   ]
  },
  {
   "cell_type": "code",
   "execution_count": 8,
   "id": "351acb68-bc96-48dc-86d2-3146c1f45ecd",
   "metadata": {
    "tags": []
   },
   "outputs": [],
   "source": [
    "model = model.to(device)"
   ]
  },
  {
   "cell_type": "code",
   "execution_count": 9,
   "id": "f8fe2f35-a8b6-42ba-95f8-a0cacc436fa8",
   "metadata": {},
   "outputs": [],
   "source": [
    "preds = []\n",
    "covbs = []\n",
    "covrs = []\n",
    "with torch.no_grad():\n",
    "    for X, y, z in loaded_data:\n",
    "        X = X.to(device)\n",
    "        y = y.to(device)\n",
    "        z = z.to(device)\n",
    "        pred = model(X)\n",
    "        for prediction,err in zip(pred,z):\n",
    "            covbp = np.zeros((55,55))\n",
    "            covrp = np.zeros((55,55))\n",
    "            preds.append(prediction)\n",
    "            for it in range(len(err[:55])):\n",
    "                covbp[it][it] += err[it].item()**2\n",
    "                covrp[it][it] += err[it+55].item()**2\n",
    "            covbs.append(covbp)\n",
    "            covrs.append(covrp)"
   ]
  },
  {
   "cell_type": "code",
   "execution_count": 10,
   "id": "33f35426-91fd-4c63-bf4f-a3c8d2138587",
   "metadata": {},
   "outputs": [
    {
     "data": {
      "text/plain": [
       "(10000, 55, 55)"
      ]
     },
     "execution_count": 10,
     "metadata": {},
     "output_type": "execute_result"
    }
   ],
   "source": [
    "np.array(covrs).shape"
   ]
  },
  {
   "cell_type": "markdown",
   "id": "b0d8031b-3043-4758-a4c7-6ec39bf17474",
   "metadata": {},
   "source": [
    "(5000, 55, 55)"
   ]
  },
  {
   "cell_type": "code",
   "execution_count": 11,
   "id": "6f61c145-e8f9-4293-9dee-960ed8c657f5",
   "metadata": {
    "jupyter": {
     "source_hidden": true
    },
    "tags": []
   },
   "outputs": [],
   "source": [
    "# phot_system_list = [\n",
    "#     PhotometricSystem.Gaia_2,\n",
    "#     PhotometricSystem.Gaia_DR3_Vega,\n",
    "#     PhotometricSystem.PanSTARRS1,\n",
    "#     PhotometricSystem.PanSTARRS1_Std,\n",
    "#     PhotometricSystem.Pristine,\n",
    "#     PhotometricSystem.SDSS,\n",
    "#     PhotometricSystem.SDSS_Std\n",
    "# ]"
   ]
  },
  {
   "cell_type": "code",
   "execution_count": 12,
   "id": "c40c11cf-771e-4eda-9a3a-3f64d6d04a31",
   "metadata": {
    "jupyter": {
     "source_hidden": true
    },
    "tags": []
   },
   "outputs": [],
   "source": [
    "# df = pd.DataFrame(\n",
    "#     {'source_id':range(len(preds)),\n",
    "#      'bp_coefficients':[pred.to('cpu').numpy()[:55] for pred in preds],\n",
    "#      'bp_standard_deviation':[np.std(pred.to('cpu').numpy()[:55]) for pred in preds],\n",
    "#      'bp_coefficient_covariances':covbs,\n",
    "#      'rp_coefficients':[pred.to('cpu').numpy()[55:] for pred in preds],\n",
    "#      'rp_coefficient_covariances':covrs,\n",
    "#      'rp_standard_deviation':[np.std(pred.to('cpu').numpy()[55:]) for pred in preds]\n",
    "#     }\n",
    "# )"
   ]
  },
  {
   "cell_type": "code",
   "execution_count": 13,
   "id": "98d74f77-d3f0-43eb-95e1-dab6e76eafe4",
   "metadata": {},
   "outputs": [],
   "source": [
    "# df"
   ]
  },
  {
   "cell_type": "code",
   "execution_count": 14,
   "id": "3baf749d-06c5-4074-9500-8f05084d6e15",
   "metadata": {},
   "outputs": [],
   "source": [
    "f = \"select TOP 1 source_id from gaiadr3.gaia_source where source_id = '4486317061229025280'\""
   ]
  },
  {
   "cell_type": "code",
   "execution_count": 15,
   "id": "7b62083e-e308-4259-a6d2-c902da83c40b",
   "metadata": {},
   "outputs": [
    {
     "name": "stdout",
     "output_type": "stream",
     "text": [
      "INFO: Query finished. [astroquery.utils.tap.core]\n",
      "                              \r"
     ]
    }
   ],
   "source": [
    "synthetic_photometry = generate(f, photometric_system=PhotometricSystem.Pristine)\n",
    "# synthetic_photometry = generate(df, photometric_system=PhotometricSystem.Pristine)\n",
    "# synthetic_photometry"
   ]
  },
  {
   "cell_type": "code",
   "execution_count": 16,
   "id": "414a7e18-c9d9-4a93-954f-33639c554026",
   "metadata": {},
   "outputs": [
    {
     "data": {
      "text/html": [
       "<div>\n",
       "<style scoped>\n",
       "    .dataframe tbody tr th:only-of-type {\n",
       "        vertical-align: middle;\n",
       "    }\n",
       "\n",
       "    .dataframe tbody tr th {\n",
       "        vertical-align: top;\n",
       "    }\n",
       "\n",
       "    .dataframe thead th {\n",
       "        text-align: right;\n",
       "    }\n",
       "</style>\n",
       "<table border=\"1\" class=\"dataframe\">\n",
       "  <thead>\n",
       "    <tr style=\"text-align: right;\">\n",
       "      <th></th>\n",
       "      <th>source_id</th>\n",
       "      <th>Pristine_mag_CaHK</th>\n",
       "      <th>Pristine_flux_CaHK</th>\n",
       "      <th>Pristine_flux_error_CaHK</th>\n",
       "    </tr>\n",
       "  </thead>\n",
       "  <tbody>\n",
       "    <tr>\n",
       "      <th>0</th>\n",
       "      <td>4486317061229025280</td>\n",
       "      <td>18.390889</td>\n",
       "      <td>3.205711e-18</td>\n",
       "      <td>2.908615e-19</td>\n",
       "    </tr>\n",
       "  </tbody>\n",
       "</table>\n",
       "</div>"
      ],
      "text/plain": [
       "             source_id  Pristine_mag_CaHK  Pristine_flux_CaHK  \\\n",
       "0  4486317061229025280          18.390889        3.205711e-18   \n",
       "\n",
       "   Pristine_flux_error_CaHK  \n",
       "0              2.908615e-19  "
      ]
     },
     "execution_count": 16,
     "metadata": {},
     "output_type": "execute_result"
    }
   ],
   "source": [
    "synthetic_photometry"
   ]
  },
  {
   "cell_type": "code",
   "execution_count": 17,
   "id": "d5a61659-d6ab-4da5-842c-51b9a857b731",
   "metadata": {},
   "outputs": [],
   "source": [
    "# PhotometricSystem.get_available_systems()"
   ]
  },
  {
   "cell_type": "code",
   "execution_count": 18,
   "id": "3ec924a3-bef6-42ad-8169-1b0106708293",
   "metadata": {
    "tags": []
   },
   "outputs": [],
   "source": [
    "preds = np.array([pred.to('cpu').numpy() for pred in preds]).T"
   ]
  },
  {
   "cell_type": "code",
   "execution_count": 19,
   "id": "3a0c13da-0d2d-44d1-aa32-0d16cadd177f",
   "metadata": {},
   "outputs": [
    {
     "data": {
      "text/plain": [
       "(110, 10000)"
      ]
     },
     "execution_count": 19,
     "metadata": {},
     "output_type": "execute_result"
    }
   ],
   "source": [
    "preds.shape"
   ]
  },
  {
   "cell_type": "markdown",
   "id": "1adf1e3c-9fe3-49b5-896a-49a0bb9319cd",
   "metadata": {},
   "source": [
    "(110, 5000)"
   ]
  },
  {
   "cell_type": "code",
   "execution_count": 20,
   "id": "9fe1d0ef-e35b-4f96-bb2a-24a951540784",
   "metadata": {},
   "outputs": [],
   "source": [
    "# rpnewpred = []\n",
    "xpnewpred = []\n",
    "for pred,scaler in zip(preds,scalerlist):\n",
    "    xpnewpred.append(scaler.inverse_transform(np.array([pred]).T).flatten())"
   ]
  },
  {
   "cell_type": "code",
   "execution_count": 21,
   "id": "ae50bc1c-c447-403b-bee6-f5bbc5091135",
   "metadata": {},
   "outputs": [
    {
     "data": {
      "text/plain": [
       "(10000, 55)"
      ]
     },
     "execution_count": 21,
     "metadata": {},
     "output_type": "execute_result"
    }
   ],
   "source": [
    "bpnews = np.array(xpnewpred[:55]).T\n",
    "rpnews = np.array(xpnewpred[55:]).T\n",
    "rpnews.shape"
   ]
  },
  {
   "cell_type": "markdown",
   "id": "79281b5f-0dd1-4099-bd99-c1e68dbcc533",
   "metadata": {},
   "source": [
    "(5000, 55)"
   ]
  },
  {
   "cell_type": "code",
   "execution_count": 22,
   "id": "25208419-3660-4b1b-a448-a407677da9a7",
   "metadata": {},
   "outputs": [
    {
     "data": {
      "text/plain": [
       "(10000, 55)"
      ]
     },
     "execution_count": 22,
     "metadata": {},
     "output_type": "execute_result"
    }
   ],
   "source": [
    "bpnews.shape"
   ]
  },
  {
   "cell_type": "markdown",
   "id": "7454116c-5d0e-4717-8b53-61a5cac89988",
   "metadata": {},
   "source": [
    "(5000, 55)"
   ]
  },
  {
   "cell_type": "code",
   "execution_count": 23,
   "id": "f2fbefd7-1e53-4ece-826d-ce65ee79c224",
   "metadata": {},
   "outputs": [
    {
     "data": {
      "text/plain": [
       "10000"
      ]
     },
     "execution_count": 23,
     "metadata": {},
     "output_type": "execute_result"
    }
   ],
   "source": [
    "len(preds.T)"
   ]
  },
  {
   "cell_type": "markdown",
   "id": "2c73ca03-7b3c-4dd8-9410-3542568664cb",
   "metadata": {},
   "source": [
    "5000"
   ]
  },
  {
   "cell_type": "code",
   "execution_count": 24,
   "id": "8be6085f-2ed0-4d7a-8d7b-26e4b8b36834",
   "metadata": {},
   "outputs": [],
   "source": [
    "dfnew = pd.DataFrame(\n",
    "    {'source_id':range(len(preds.T)),\n",
    "     'bp_coefficients':list(bpnews),\n",
    "     'bp_standard_deviation':[np.std(bp) for bp in bpnews],\n",
    "     'bp_coefficient_covariances':covbs,\n",
    "     'rp_coefficients':list(rpnews),\n",
    "     'rp_coefficient_covariances':covrs,\n",
    "     'rp_standard_deviation':[np.std(rp) for rp in rpnews]\n",
    "    }\n",
    ")"
   ]
  },
  {
   "cell_type": "code",
   "execution_count": 25,
   "id": "286b2ff8-5c59-4cb8-a2cb-84d10cec25d2",
   "metadata": {},
   "outputs": [
    {
     "data": {
      "text/html": [
       "<div>\n",
       "<style scoped>\n",
       "    .dataframe tbody tr th:only-of-type {\n",
       "        vertical-align: middle;\n",
       "    }\n",
       "\n",
       "    .dataframe tbody tr th {\n",
       "        vertical-align: top;\n",
       "    }\n",
       "\n",
       "    .dataframe thead th {\n",
       "        text-align: right;\n",
       "    }\n",
       "</style>\n",
       "<table border=\"1\" class=\"dataframe\">\n",
       "  <thead>\n",
       "    <tr style=\"text-align: right;\">\n",
       "      <th></th>\n",
       "      <th>source_id</th>\n",
       "      <th>bp_coefficients</th>\n",
       "      <th>bp_standard_deviation</th>\n",
       "      <th>bp_coefficient_covariances</th>\n",
       "      <th>rp_coefficients</th>\n",
       "      <th>rp_coefficient_covariances</th>\n",
       "      <th>rp_standard_deviation</th>\n",
       "    </tr>\n",
       "  </thead>\n",
       "  <tbody>\n",
       "    <tr>\n",
       "      <th>0</th>\n",
       "      <td>0</td>\n",
       "      <td>[-5905.6226, -1215.184, 1559.697, -313.47748, ...</td>\n",
       "      <td>846.757812</td>\n",
       "      <td>[[1.3530883679632097, 0.0, 0.0, 0.0, 0.0, 0.0,...</td>\n",
       "      <td>[25110.87, 279.11584, -1814.1895, 376.4323, 39...</td>\n",
       "      <td>[[1.1188093113034938, 0.0, 0.0, 0.0, 0.0, 0.0,...</td>\n",
       "      <td>3373.192871</td>\n",
       "    </tr>\n",
       "    <tr>\n",
       "      <th>1</th>\n",
       "      <td>1</td>\n",
       "      <td>[3543.8823, -6340.8555, -541.6055, -489.0615, ...</td>\n",
       "      <td>1066.301514</td>\n",
       "      <td>[[19.642633873536397, 0.0, 0.0, 0.0, 0.0, 0.0,...</td>\n",
       "      <td>[53649.625, 17997.78, -2144.7546, 1298.442, 74...</td>\n",
       "      <td>[[5.241453255338456, 0.0, 0.0, 0.0, 0.0, 0.0, ...</td>\n",
       "      <td>7529.217285</td>\n",
       "    </tr>\n",
       "    <tr>\n",
       "      <th>2</th>\n",
       "      <td>2</td>\n",
       "      <td>[-18121.795, -14873.444, -4684.9556, 85.684074...</td>\n",
       "      <td>3205.214844</td>\n",
       "      <td>[[10.414952383322088, 0.0, 0.0, 0.0, 0.0, 0.0,...</td>\n",
       "      <td>[22770.793, -34523.12, 2959.793, -4993.6235, -...</td>\n",
       "      <td>[[3.9151179899335062, 0.0, 0.0, 0.0, 0.0, 0.0,...</td>\n",
       "      <td>5632.783203</td>\n",
       "    </tr>\n",
       "    <tr>\n",
       "      <th>3</th>\n",
       "      <td>3</td>\n",
       "      <td>[74228.78, -63193.508, 11874.315, -11346.983, ...</td>\n",
       "      <td>13356.910156</td>\n",
       "      <td>[[24.14848358416043, 0.0, 0.0, 0.0, 0.0, 0.0, ...</td>\n",
       "      <td>[-9087.588, -9726.781, -13977.768, -9820.643, ...</td>\n",
       "      <td>[[6.402672176555143, 0.0, 0.0, 0.0, 0.0, 0.0, ...</td>\n",
       "      <td>2913.840820</td>\n",
       "    </tr>\n",
       "    <tr>\n",
       "      <th>4</th>\n",
       "      <td>4</td>\n",
       "      <td>[63526.473, 7293.811, -2686.6008, -2493.1125, ...</td>\n",
       "      <td>8549.365234</td>\n",
       "      <td>[[39.53359646402532, 0.0, 0.0, 0.0, 0.0, 0.0, ...</td>\n",
       "      <td>[51949.1, 15222.029, 3457.7043, 696.895, -436....</td>\n",
       "      <td>[[9.302246653374425, 0.0, 0.0, 0.0, 0.0, 0.0, ...</td>\n",
       "      <td>7198.860840</td>\n",
       "    </tr>\n",
       "    <tr>\n",
       "      <th>...</th>\n",
       "      <td>...</td>\n",
       "      <td>...</td>\n",
       "      <td>...</td>\n",
       "      <td>...</td>\n",
       "      <td>...</td>\n",
       "      <td>...</td>\n",
       "      <td>...</td>\n",
       "    </tr>\n",
       "    <tr>\n",
       "      <th>9995</th>\n",
       "      <td>9995</td>\n",
       "      <td>[-43774.258, -16060.549, -5608.4014, 261.2793,...</td>\n",
       "      <td>6205.309570</td>\n",
       "      <td>[[1.5814655857644198, 0.0, 0.0, 0.0, 0.0, 0.0,...</td>\n",
       "      <td>[81333.85, -16514.398, 868.03937, 2071.5874, -...</td>\n",
       "      <td>[[0.6920138775812212, 0.0, 0.0, 0.0, 0.0, 0.0,...</td>\n",
       "      <td>11138.761719</td>\n",
       "    </tr>\n",
       "    <tr>\n",
       "      <th>9996</th>\n",
       "      <td>9996</td>\n",
       "      <td>[-36239.164, 19862.447, -68.03998, -1044.1726,...</td>\n",
       "      <td>5578.966797</td>\n",
       "      <td>[[49.99674966231487, 0.0, 0.0, 0.0, 0.0, 0.0, ...</td>\n",
       "      <td>[23858.613, 9060.119, -2028.4557, 3508.6978, -...</td>\n",
       "      <td>[[13.394225427033746, 0.0, 0.0, 0.0, 0.0, 0.0,...</td>\n",
       "      <td>3442.674072</td>\n",
       "    </tr>\n",
       "    <tr>\n",
       "      <th>9997</th>\n",
       "      <td>9997</td>\n",
       "      <td>[-1181.7491, -8527.546, -671.3713, 556.43445, ...</td>\n",
       "      <td>1160.019897</td>\n",
       "      <td>[[2.182061821133189, 0.0, 0.0, 0.0, 0.0, 0.0, ...</td>\n",
       "      <td>[31380.875, 10094.56, -2253.3164, 3487.9404, -...</td>\n",
       "      <td>[[0.9831897800609681, 0.0, 0.0, 0.0, 0.0, 0.0,...</td>\n",
       "      <td>4421.782227</td>\n",
       "    </tr>\n",
       "    <tr>\n",
       "      <th>9998</th>\n",
       "      <td>9998</td>\n",
       "      <td>[371.5981, 16171.61, -4141.5454, 1050.4727, -5...</td>\n",
       "      <td>2264.471680</td>\n",
       "      <td>[[0.31816607356086024, 0.0, 0.0, 0.0, 0.0, 0.0...</td>\n",
       "      <td>[-45958.836, 8950.568, 2978.9514, 4108.747, -8...</td>\n",
       "      <td>[[0.18097798081726157, 0.0, 0.0, 0.0, 0.0, 0.0...</td>\n",
       "      <td>6324.713379</td>\n",
       "    </tr>\n",
       "    <tr>\n",
       "      <th>9999</th>\n",
       "      <td>9999</td>\n",
       "      <td>[182768.75, 10451.05, -11687.024, 3536.0066, 1...</td>\n",
       "      <td>24525.912109</td>\n",
       "      <td>[[0.6278850116997639, 0.0, 0.0, 0.0, 0.0, 0.0,...</td>\n",
       "      <td>[-141458.0, -38415.84, -4823.138, 5183.2915, -...</td>\n",
       "      <td>[[0.33574912218870523, 0.0, 0.0, 0.0, 0.0, 0.0...</td>\n",
       "      <td>19508.433594</td>\n",
       "    </tr>\n",
       "  </tbody>\n",
       "</table>\n",
       "<p>10000 rows × 7 columns</p>\n",
       "</div>"
      ],
      "text/plain": [
       "      source_id                                    bp_coefficients  \\\n",
       "0             0  [-5905.6226, -1215.184, 1559.697, -313.47748, ...   \n",
       "1             1  [3543.8823, -6340.8555, -541.6055, -489.0615, ...   \n",
       "2             2  [-18121.795, -14873.444, -4684.9556, 85.684074...   \n",
       "3             3  [74228.78, -63193.508, 11874.315, -11346.983, ...   \n",
       "4             4  [63526.473, 7293.811, -2686.6008, -2493.1125, ...   \n",
       "...         ...                                                ...   \n",
       "9995       9995  [-43774.258, -16060.549, -5608.4014, 261.2793,...   \n",
       "9996       9996  [-36239.164, 19862.447, -68.03998, -1044.1726,...   \n",
       "9997       9997  [-1181.7491, -8527.546, -671.3713, 556.43445, ...   \n",
       "9998       9998  [371.5981, 16171.61, -4141.5454, 1050.4727, -5...   \n",
       "9999       9999  [182768.75, 10451.05, -11687.024, 3536.0066, 1...   \n",
       "\n",
       "      bp_standard_deviation  \\\n",
       "0                846.757812   \n",
       "1               1066.301514   \n",
       "2               3205.214844   \n",
       "3              13356.910156   \n",
       "4               8549.365234   \n",
       "...                     ...   \n",
       "9995            6205.309570   \n",
       "9996            5578.966797   \n",
       "9997            1160.019897   \n",
       "9998            2264.471680   \n",
       "9999           24525.912109   \n",
       "\n",
       "                             bp_coefficient_covariances  \\\n",
       "0     [[1.3530883679632097, 0.0, 0.0, 0.0, 0.0, 0.0,...   \n",
       "1     [[19.642633873536397, 0.0, 0.0, 0.0, 0.0, 0.0,...   \n",
       "2     [[10.414952383322088, 0.0, 0.0, 0.0, 0.0, 0.0,...   \n",
       "3     [[24.14848358416043, 0.0, 0.0, 0.0, 0.0, 0.0, ...   \n",
       "4     [[39.53359646402532, 0.0, 0.0, 0.0, 0.0, 0.0, ...   \n",
       "...                                                 ...   \n",
       "9995  [[1.5814655857644198, 0.0, 0.0, 0.0, 0.0, 0.0,...   \n",
       "9996  [[49.99674966231487, 0.0, 0.0, 0.0, 0.0, 0.0, ...   \n",
       "9997  [[2.182061821133189, 0.0, 0.0, 0.0, 0.0, 0.0, ...   \n",
       "9998  [[0.31816607356086024, 0.0, 0.0, 0.0, 0.0, 0.0...   \n",
       "9999  [[0.6278850116997639, 0.0, 0.0, 0.0, 0.0, 0.0,...   \n",
       "\n",
       "                                        rp_coefficients  \\\n",
       "0     [25110.87, 279.11584, -1814.1895, 376.4323, 39...   \n",
       "1     [53649.625, 17997.78, -2144.7546, 1298.442, 74...   \n",
       "2     [22770.793, -34523.12, 2959.793, -4993.6235, -...   \n",
       "3     [-9087.588, -9726.781, -13977.768, -9820.643, ...   \n",
       "4     [51949.1, 15222.029, 3457.7043, 696.895, -436....   \n",
       "...                                                 ...   \n",
       "9995  [81333.85, -16514.398, 868.03937, 2071.5874, -...   \n",
       "9996  [23858.613, 9060.119, -2028.4557, 3508.6978, -...   \n",
       "9997  [31380.875, 10094.56, -2253.3164, 3487.9404, -...   \n",
       "9998  [-45958.836, 8950.568, 2978.9514, 4108.747, -8...   \n",
       "9999  [-141458.0, -38415.84, -4823.138, 5183.2915, -...   \n",
       "\n",
       "                             rp_coefficient_covariances  rp_standard_deviation  \n",
       "0     [[1.1188093113034938, 0.0, 0.0, 0.0, 0.0, 0.0,...            3373.192871  \n",
       "1     [[5.241453255338456, 0.0, 0.0, 0.0, 0.0, 0.0, ...            7529.217285  \n",
       "2     [[3.9151179899335062, 0.0, 0.0, 0.0, 0.0, 0.0,...            5632.783203  \n",
       "3     [[6.402672176555143, 0.0, 0.0, 0.0, 0.0, 0.0, ...            2913.840820  \n",
       "4     [[9.302246653374425, 0.0, 0.0, 0.0, 0.0, 0.0, ...            7198.860840  \n",
       "...                                                 ...                    ...  \n",
       "9995  [[0.6920138775812212, 0.0, 0.0, 0.0, 0.0, 0.0,...           11138.761719  \n",
       "9996  [[13.394225427033746, 0.0, 0.0, 0.0, 0.0, 0.0,...            3442.674072  \n",
       "9997  [[0.9831897800609681, 0.0, 0.0, 0.0, 0.0, 0.0,...            4421.782227  \n",
       "9998  [[0.18097798081726157, 0.0, 0.0, 0.0, 0.0, 0.0...            6324.713379  \n",
       "9999  [[0.33574912218870523, 0.0, 0.0, 0.0, 0.0, 0.0...           19508.433594  \n",
       "\n",
       "[10000 rows x 7 columns]"
      ]
     },
     "execution_count": 25,
     "metadata": {},
     "output_type": "execute_result"
    }
   ],
   "source": [
    "dfnew"
   ]
  },
  {
   "cell_type": "code",
   "execution_count": 26,
   "id": "d4773165-a1c4-440a-bf90-0bc5a2fbb10d",
   "metadata": {},
   "outputs": [
    {
     "name": "stdout",
     "output_type": "stream",
     "text": [
      "                              \r"
     ]
    },
    {
     "data": {
      "text/html": [
       "<div>\n",
       "<style scoped>\n",
       "    .dataframe tbody tr th:only-of-type {\n",
       "        vertical-align: middle;\n",
       "    }\n",
       "\n",
       "    .dataframe tbody tr th {\n",
       "        vertical-align: top;\n",
       "    }\n",
       "\n",
       "    .dataframe thead th {\n",
       "        text-align: right;\n",
       "    }\n",
       "</style>\n",
       "<table border=\"1\" class=\"dataframe\">\n",
       "  <thead>\n",
       "    <tr style=\"text-align: right;\">\n",
       "      <th></th>\n",
       "      <th>source_id</th>\n",
       "      <th>Pristine_mag_CaHK</th>\n",
       "      <th>Pristine_flux_CaHK</th>\n",
       "      <th>Pristine_flux_error_CaHK</th>\n",
       "    </tr>\n",
       "  </thead>\n",
       "  <tbody>\n",
       "    <tr>\n",
       "      <th>0</th>\n",
       "      <td>0</td>\n",
       "      <td>14.463028</td>\n",
       "      <td>1.194178e-16</td>\n",
       "      <td>4.910124e-16</td>\n",
       "    </tr>\n",
       "    <tr>\n",
       "      <th>1</th>\n",
       "      <td>1</td>\n",
       "      <td>12.523589</td>\n",
       "      <td>7.125977e-16</td>\n",
       "      <td>2.345415e-15</td>\n",
       "    </tr>\n",
       "    <tr>\n",
       "      <th>2</th>\n",
       "      <td>2</td>\n",
       "      <td>NaN</td>\n",
       "      <td>-6.654155e-16</td>\n",
       "      <td>5.142384e-15</td>\n",
       "    </tr>\n",
       "    <tr>\n",
       "      <th>3</th>\n",
       "      <td>3</td>\n",
       "      <td>9.932576</td>\n",
       "      <td>7.749071e-15</td>\n",
       "      <td>3.137539e-14</td>\n",
       "    </tr>\n",
       "    <tr>\n",
       "      <th>4</th>\n",
       "      <td>4</td>\n",
       "      <td>12.546494</td>\n",
       "      <td>6.977217e-16</td>\n",
       "      <td>3.005030e-14</td>\n",
       "    </tr>\n",
       "    <tr>\n",
       "      <th>...</th>\n",
       "      <td>...</td>\n",
       "      <td>...</td>\n",
       "      <td>...</td>\n",
       "      <td>...</td>\n",
       "    </tr>\n",
       "    <tr>\n",
       "      <th>9995</th>\n",
       "      <td>9995</td>\n",
       "      <td>NaN</td>\n",
       "      <td>-5.727967e-16</td>\n",
       "      <td>4.368852e-15</td>\n",
       "    </tr>\n",
       "    <tr>\n",
       "      <th>9996</th>\n",
       "      <td>9996</td>\n",
       "      <td>NaN</td>\n",
       "      <td>-1.886638e-15</td>\n",
       "      <td>1.816834e-14</td>\n",
       "    </tr>\n",
       "    <tr>\n",
       "      <th>9997</th>\n",
       "      <td>9997</td>\n",
       "      <td>13.008219</td>\n",
       "      <td>4.560290e-16</td>\n",
       "      <td>9.928421e-16</td>\n",
       "    </tr>\n",
       "    <tr>\n",
       "      <th>9998</th>\n",
       "      <td>9998</td>\n",
       "      <td>NaN</td>\n",
       "      <td>-1.285963e-15</td>\n",
       "      <td>1.046627e-15</td>\n",
       "    </tr>\n",
       "    <tr>\n",
       "      <th>9999</th>\n",
       "      <td>9999</td>\n",
       "      <td>NaN</td>\n",
       "      <td>-4.832879e-16</td>\n",
       "      <td>1.147225e-14</td>\n",
       "    </tr>\n",
       "  </tbody>\n",
       "</table>\n",
       "<p>10000 rows × 4 columns</p>\n",
       "</div>"
      ],
      "text/plain": [
       "      source_id  Pristine_mag_CaHK  Pristine_flux_CaHK  \\\n",
       "0             0          14.463028        1.194178e-16   \n",
       "1             1          12.523589        7.125977e-16   \n",
       "2             2                NaN       -6.654155e-16   \n",
       "3             3           9.932576        7.749071e-15   \n",
       "4             4          12.546494        6.977217e-16   \n",
       "...         ...                ...                 ...   \n",
       "9995       9995                NaN       -5.727967e-16   \n",
       "9996       9996                NaN       -1.886638e-15   \n",
       "9997       9997          13.008219        4.560290e-16   \n",
       "9998       9998                NaN       -1.285963e-15   \n",
       "9999       9999                NaN       -4.832879e-16   \n",
       "\n",
       "      Pristine_flux_error_CaHK  \n",
       "0                 4.910124e-16  \n",
       "1                 2.345415e-15  \n",
       "2                 5.142384e-15  \n",
       "3                 3.137539e-14  \n",
       "4                 3.005030e-14  \n",
       "...                        ...  \n",
       "9995              4.368852e-15  \n",
       "9996              1.816834e-14  \n",
       "9997              9.928421e-16  \n",
       "9998              1.046627e-15  \n",
       "9999              1.147225e-14  \n",
       "\n",
       "[10000 rows x 4 columns]"
      ]
     },
     "execution_count": 26,
     "metadata": {},
     "output_type": "execute_result"
    }
   ],
   "source": [
    "synthetic_photometry = generate(dfnew, photometric_system=PhotometricSystem.Pristine)\n",
    "synthetic_photometry"
   ]
  },
  {
   "cell_type": "code",
   "execution_count": 27,
   "id": "ce0cee82-9534-4c8e-9434-a133c849e403",
   "metadata": {},
   "outputs": [
    {
     "data": {
      "text/html": [
       "<div>\n",
       "<style scoped>\n",
       "    .dataframe tbody tr th:only-of-type {\n",
       "        vertical-align: middle;\n",
       "    }\n",
       "\n",
       "    .dataframe tbody tr th {\n",
       "        vertical-align: top;\n",
       "    }\n",
       "\n",
       "    .dataframe thead th {\n",
       "        text-align: right;\n",
       "    }\n",
       "</style>\n",
       "<table border=\"1\" class=\"dataframe\">\n",
       "  <thead>\n",
       "    <tr style=\"text-align: right;\">\n",
       "      <th></th>\n",
       "      <th>source_id</th>\n",
       "      <th>Pristine_mag_CaHK</th>\n",
       "      <th>Pristine_flux_CaHK</th>\n",
       "      <th>Pristine_flux_error_CaHK</th>\n",
       "    </tr>\n",
       "  </thead>\n",
       "  <tbody>\n",
       "    <tr>\n",
       "      <th>count</th>\n",
       "      <td>10000.00000</td>\n",
       "      <td>5645.000000</td>\n",
       "      <td>1.000000e+04</td>\n",
       "      <td>1.000000e+04</td>\n",
       "    </tr>\n",
       "    <tr>\n",
       "      <th>mean</th>\n",
       "      <td>4999.50000</td>\n",
       "      <td>12.570289</td>\n",
       "      <td>2.599149e-16</td>\n",
       "      <td>7.971491e-15</td>\n",
       "    </tr>\n",
       "    <tr>\n",
       "      <th>std</th>\n",
       "      <td>2886.89568</td>\n",
       "      <td>1.353390</td>\n",
       "      <td>1.823737e-15</td>\n",
       "      <td>1.168975e-14</td>\n",
       "    </tr>\n",
       "    <tr>\n",
       "      <th>min</th>\n",
       "      <td>0.00000</td>\n",
       "      <td>8.329516</td>\n",
       "      <td>-1.177966e-14</td>\n",
       "      <td>9.130998e-17</td>\n",
       "    </tr>\n",
       "    <tr>\n",
       "      <th>25%</th>\n",
       "      <td>2499.75000</td>\n",
       "      <td>11.714833</td>\n",
       "      <td>-5.501543e-16</td>\n",
       "      <td>2.064881e-15</td>\n",
       "    </tr>\n",
       "    <tr>\n",
       "      <th>50%</th>\n",
       "      <td>4999.50000</td>\n",
       "      <td>12.414171</td>\n",
       "      <td>1.622733e-16</td>\n",
       "      <td>4.263972e-15</td>\n",
       "    </tr>\n",
       "    <tr>\n",
       "      <th>75%</th>\n",
       "      <td>7499.25000</td>\n",
       "      <td>13.251829</td>\n",
       "      <td>9.133238e-16</td>\n",
       "      <td>9.048648e-15</td>\n",
       "    </tr>\n",
       "    <tr>\n",
       "      <th>max</th>\n",
       "      <td>9999.00000</td>\n",
       "      <td>20.545167</td>\n",
       "      <td>3.392138e-14</td>\n",
       "      <td>1.909764e-13</td>\n",
       "    </tr>\n",
       "  </tbody>\n",
       "</table>\n",
       "</div>"
      ],
      "text/plain": [
       "         source_id  Pristine_mag_CaHK  Pristine_flux_CaHK  \\\n",
       "count  10000.00000        5645.000000        1.000000e+04   \n",
       "mean    4999.50000          12.570289        2.599149e-16   \n",
       "std     2886.89568           1.353390        1.823737e-15   \n",
       "min        0.00000           8.329516       -1.177966e-14   \n",
       "25%     2499.75000          11.714833       -5.501543e-16   \n",
       "50%     4999.50000          12.414171        1.622733e-16   \n",
       "75%     7499.25000          13.251829        9.133238e-16   \n",
       "max     9999.00000          20.545167        3.392138e-14   \n",
       "\n",
       "       Pristine_flux_error_CaHK  \n",
       "count              1.000000e+04  \n",
       "mean               7.971491e-15  \n",
       "std                1.168975e-14  \n",
       "min                9.130998e-17  \n",
       "25%                2.064881e-15  \n",
       "50%                4.263972e-15  \n",
       "75%                9.048648e-15  \n",
       "max                1.909764e-13  "
      ]
     },
     "execution_count": 27,
     "metadata": {},
     "output_type": "execute_result"
    }
   ],
   "source": [
    "synthetic_photometry.describe()"
   ]
  },
  {
   "cell_type": "code",
   "execution_count": 28,
   "id": "143abbec-4ac8-4e27-920c-752d24d138fa",
   "metadata": {},
   "outputs": [
    {
     "ename": "NameError",
     "evalue": "name 'synthetic_pho' is not defined",
     "output_type": "error",
     "traceback": [
      "\u001b[0;31m---------------------------------------------------------------------------\u001b[0m",
      "\u001b[0;31mNameError\u001b[0m                                 Traceback (most recent call last)",
      "Input \u001b[0;32mIn [28]\u001b[0m, in \u001b[0;36m<cell line: 1>\u001b[0;34m()\u001b[0m\n\u001b[0;32m----> 1\u001b[0m \u001b[38;5;28mmax\u001b[39m(\u001b[43msynthetic_pho\u001b[49m)\n",
      "\u001b[0;31mNameError\u001b[0m: name 'synthetic_pho' is not defined"
     ]
    }
   ],
   "source": [
    "# max(synthetic_pho)"
   ]
  },
  {
   "cell_type": "markdown",
   "id": "b04e27b1-56d9-47ab-9e40-498c761eeb7f",
   "metadata": {},
   "source": [
    "## Cleaning the Dataset"
   ]
  },
  {
   "cell_type": "code",
   "execution_count": 1,
   "id": "9357034a-f6a7-4750-94fa-d56964cd9fac",
   "metadata": {},
   "outputs": [],
   "source": [
    "from astropy.table import Table\n",
    "from astropy.io import fits\n",
    "import numpy as np\n",
    "from sklearn.model_selection import train_test_split\n",
    "import pandas as pd\n",
    "import h5py\n",
    "from sklearn.preprocessing import MinMaxScaler\n",
    "import matplotlib.pyplot as plt\n",
    "from matplotlib.ticker import MultipleLocator\n",
    "plt.rcParams['text.usetex'] = True\n",
    "plt.rcParams['font.size'] = 14\n",
    "plt.rcParams['legend.fontsize'] = 14\n",
    "plt.rcParams['xtick.direction'] = 'in'\n",
    "plt.rcParams['ytick.direction'] = 'in'\n",
    "plt.rcParams['xtick.major.size'] = 5.0\n",
    "plt.rcParams['xtick.minor.size'] = 3.0\n",
    "plt.rcParams['ytick.major.size'] = 5.0\n",
    "plt.rcParams['ytick.minor.size'] = 3.0\n",
    "plt.rcParams['xtick.top'] = True\n",
    "plt.rcParams['ytick.right'] = True"
   ]
  },
  {
   "cell_type": "code",
   "execution_count": 3,
   "id": "e14b69ab-3baa-4d3b-b01d-06c5d9939cdb",
   "metadata": {},
   "outputs": [],
   "source": [
    "data = Table.read('/arc/home/aydanmckay/input_catalogue_simple_average_datacuts.fits').to_pandas()"
   ]
  },
  {
   "cell_type": "code",
   "execution_count": 4,
   "id": "4be6599a-4bcb-4c70-9483-0d3fc4822d3d",
   "metadata": {},
   "outputs": [
    {
     "data": {
      "text/plain": [
       "(6756683, 224)"
      ]
     },
     "execution_count": 4,
     "metadata": {},
     "output_type": "execute_result"
    }
   ],
   "source": [
    "data.shape"
   ]
  },
  {
   "cell_type": "code",
   "execution_count": 5,
   "id": "0bf8814c-c84c-4b28-9651-c5a8446e751b",
   "metadata": {},
   "outputs": [
    {
     "data": {
      "text/plain": [
       "count    3.187680e+06\n",
       "mean     5.576873e+03\n",
       "std      9.254797e+02\n",
       "min      2.000061e+03\n",
       "25%      4.925000e+03\n",
       "50%      5.551740e+03\n",
       "75%      6.003603e+03\n",
       "max      2.968421e+04\n",
       "Name: Teff, dtype: float64"
      ]
     },
     "execution_count": 5,
     "metadata": {},
     "output_type": "execute_result"
    }
   ],
   "source": [
    "data['Teff'].describe()"
   ]
  },
  {
   "cell_type": "code",
   "execution_count": 6,
   "id": "98adb751-9725-4fdd-ad7b-6fe441d8cb59",
   "metadata": {},
   "outputs": [
    {
     "data": {
      "text/plain": [
       "(3185660, 224)"
      ]
     },
     "execution_count": 6,
     "metadata": {},
     "output_type": "execute_result"
    }
   ],
   "source": [
    "with pd.option_context('mode.use_inf_as_na', True):\n",
    "    data.dropna(inplace=True)\n",
    "data.shape"
   ]
  },
  {
   "cell_type": "code",
   "execution_count": 7,
   "id": "a3aa0e05-6eca-434d-83ac-a6ce4303ad76",
   "metadata": {},
   "outputs": [],
   "source": [
    "labels = [\"bp_1\", \"bp_2\", \"bp_3\", \"bp_4\", \"bp_5\", \"bp_6\", \"bp_7\",\n",
    "          \"bp_8\", \"bp_9\", \"bp_10\", \"bp_11\", \"bp_12\", \"bp_13\", \"bp_14\",\n",
    "          \"bp_15\", \"bp_16\", \"bp_17\", \"bp_18\", \"bp_19\", \"bp_20\", \"bp_21\",\n",
    "          \"bp_22\", \"bp_23\", \"bp_24\", \"bp_25\", \"bp_26\", \"bp_27\", \"bp_28\",\n",
    "          \"bp_29\", \"bp_30\", \"bp_31\", \"bp_32\", \"bp_33\", \"bp_34\", \"bp_35\",\n",
    "          \"bp_36\", \"bp_37\", \"bp_38\", \"bp_39\", \"bp_40\", \"bp_41\", \"bp_42\",\n",
    "          \"bp_43\", \"bp_44\", \"bp_45\", \"bp_46\", \"bp_47\", \"bp_48\", \"bp_49\",\n",
    "          \"bp_50\", \"bp_51\", \"bp_52\", \"bp_53\", \"bp_54\", \"bp_55\", \"rp_1\",\n",
    "          \"rp_2\", \"rp_3\", \"rp_4\", \"rp_5\", \"rp_6\", \"rp_7\", \"rp_8\",\n",
    "          \"rp_9\", \"rp_10\", \"rp_11\", \"rp_12\", \"rp_13\", \"rp_14\", \"rp_15\",\n",
    "          \"rp_16\", \"rp_17\", \"rp_18\", \"rp_19\", \"rp_20\", \"rp_21\", \"rp_22\",\n",
    "          \"rp_23\", \"rp_24\", \"rp_25\", \"rp_26\", \"rp_27\", \"rp_28\", \"rp_29\",\n",
    "          \"rp_30\", \"rp_31\", \"rp_32\", \"rp_33\", \"rp_34\", \"rp_35\", \"rp_36\",\n",
    "          \"rp_37\", \"rp_38\", \"rp_39\", \"rp_40\", \"rp_41\", \"rp_42\", \"rp_43\",\n",
    "          \"rp_44\", \"rp_45\", \"rp_46\", \"rp_47\", \"rp_48\", \"rp_49\", \"rp_50\",\n",
    "          \"rp_51\", \"rp_52\", \"rp_53\", \"rp_54\", \"rp_55\"]\n",
    "elabels = [\"bpe_1\", \"bpe_2\", \"bpe_3\", \"bpe_4\", \"bpe_5\", \"bpe_6\", \"bpe_7\",\n",
    "          \"bpe_8\", \"bpe_9\", \"bpe_10\", \"bpe_11\", \"bpe_12\", \"bpe_13\", \"bpe_14\",\n",
    "          \"bpe_15\", \"bpe_16\", \"bpe_17\", \"bpe_18\", \"bpe_19\", \"bpe_20\", \"bpe_21\",\n",
    "          \"bpe_22\", \"bpe_23\", \"bpe_24\", \"bpe_25\", \"bpe_26\", \"bpe_27\", \"bpe_28\",\n",
    "          \"bpe_29\", \"bpe_30\", \"bpe_31\", \"bpe_32\", \"bpe_33\", \"bpe_34\", \"bpe_35\",\n",
    "          \"bpe_36\", \"bpe_37\", \"bpe_38\", \"bpe_39\", \"bpe_40\", \"bpe_41\", \"bpe_42\",\n",
    "          \"bpe_43\", \"bpe_44\", \"bpe_45\", \"bpe_46\", \"bpe_47\", \"bpe_48\", \"bpe_49\",\n",
    "          \"bpe_50\", \"bpe_51\", \"bpe_52\", \"bpe_53\", \"bpe_54\", \"bpe_55\", \"rpe_1\",\n",
    "          \"rpe_2\", \"rpe_3\", \"rpe_4\", \"rpe_5\", \"rpe_6\", \"rpe_7\", \"rpe_8\",\n",
    "          \"rpe_9\", \"rpe_10\", \"rpe_11\", \"rpe_12\", \"rpe_13\", \"rpe_14\", \"rpe_15\",\n",
    "          \"rpe_16\", \"rpe_17\", \"rpe_18\", \"rpe_19\", \"rpe_20\", \"rpe_21\", \"rpe_22\",\n",
    "          \"rpe_23\", \"rpe_24\", \"rpe_25\", \"rpe_26\", \"rpe_27\", \"rpe_28\", \"rpe_29\",\n",
    "          \"rpe_30\", \"rpe_31\", \"rpe_32\", \"rpe_33\", \"rpe_34\", \"rpe_35\", \"rpe_36\",\n",
    "          \"rpe_37\", \"rpe_38\", \"rpe_39\", \"rpe_40\", \"rpe_41\", \"rpe_42\", \"rpe_43\",\n",
    "          \"rpe_44\", \"rpe_45\", \"rpe_46\", \"rpe_47\", \"rpe_48\", \"rpe_49\", \"rpe_50\",\n",
    "          \"rpe_51\", \"rpe_52\", \"rpe_53\", \"rpe_54\", \"rpe_55\"]"
   ]
  },
  {
   "cell_type": "code",
   "execution_count": 8,
   "id": "bab2c1cf-5c67-46b6-bdb1-02801cc97275",
   "metadata": {},
   "outputs": [
    {
     "data": {
      "text/plain": [
       "(2760468, 224)"
      ]
     },
     "execution_count": 8,
     "metadata": {},
     "output_type": "execute_result"
    }
   ],
   "source": [
    "for label in elabels:\n",
    "    data = data[(data[label] < 10) & (data[label] > -10)]\n",
    "data.shape"
   ]
  },
  {
   "cell_type": "code",
   "execution_count": 9,
   "id": "8666fc80-56b4-469a-9b94-56d745767a0a",
   "metadata": {},
   "outputs": [
    {
     "data": {
      "text/html": [
       "<div>\n",
       "<style scoped>\n",
       "    .dataframe tbody tr th:only-of-type {\n",
       "        vertical-align: middle;\n",
       "    }\n",
       "\n",
       "    .dataframe tbody tr th {\n",
       "        vertical-align: top;\n",
       "    }\n",
       "\n",
       "    .dataframe thead th {\n",
       "        text-align: right;\n",
       "    }\n",
       "</style>\n",
       "<table border=\"1\" class=\"dataframe\">\n",
       "  <thead>\n",
       "    <tr style=\"text-align: right;\">\n",
       "      <th></th>\n",
       "      <th>Source</th>\n",
       "      <th>Teff</th>\n",
       "      <th>Fe/H</th>\n",
       "      <th>log_g</th>\n",
       "      <th>bp_1</th>\n",
       "      <th>bp_2</th>\n",
       "      <th>bp_3</th>\n",
       "      <th>bp_4</th>\n",
       "      <th>bp_5</th>\n",
       "      <th>bp_6</th>\n",
       "      <th>...</th>\n",
       "      <th>rpe_46</th>\n",
       "      <th>rpe_47</th>\n",
       "      <th>rpe_48</th>\n",
       "      <th>rpe_49</th>\n",
       "      <th>rpe_50</th>\n",
       "      <th>rpe_51</th>\n",
       "      <th>rpe_52</th>\n",
       "      <th>rpe_53</th>\n",
       "      <th>rpe_54</th>\n",
       "      <th>rpe_55</th>\n",
       "    </tr>\n",
       "  </thead>\n",
       "  <tbody>\n",
       "    <tr>\n",
       "      <th>count</th>\n",
       "      <td>2.760468e+06</td>\n",
       "      <td>2.760468e+06</td>\n",
       "      <td>2.760468e+06</td>\n",
       "      <td>2.760468e+06</td>\n",
       "      <td>2.760468e+06</td>\n",
       "      <td>2.760468e+06</td>\n",
       "      <td>2.760468e+06</td>\n",
       "      <td>2.760468e+06</td>\n",
       "      <td>2.760468e+06</td>\n",
       "      <td>2.760468e+06</td>\n",
       "      <td>...</td>\n",
       "      <td>2.760468e+06</td>\n",
       "      <td>2.760468e+06</td>\n",
       "      <td>2.760468e+06</td>\n",
       "      <td>2.760468e+06</td>\n",
       "      <td>2.760468e+06</td>\n",
       "      <td>2.760468e+06</td>\n",
       "      <td>2.760468e+06</td>\n",
       "      <td>2.760468e+06</td>\n",
       "      <td>2.760468e+06</td>\n",
       "      <td>2.760468e+06</td>\n",
       "    </tr>\n",
       "    <tr>\n",
       "      <th>mean</th>\n",
       "      <td>1.354867e+18</td>\n",
       "      <td>5.559839e+03</td>\n",
       "      <td>-3.047135e-01</td>\n",
       "      <td>3.956259e+00</td>\n",
       "      <td>3.081158e+03</td>\n",
       "      <td>-3.142178e+02</td>\n",
       "      <td>-4.649970e+01</td>\n",
       "      <td>1.017612e+01</td>\n",
       "      <td>-1.458162e+01</td>\n",
       "      <td>-2.401143e-01</td>\n",
       "      <td>...</td>\n",
       "      <td>5.481881e-01</td>\n",
       "      <td>4.597329e-01</td>\n",
       "      <td>4.614236e-01</td>\n",
       "      <td>4.215364e-01</td>\n",
       "      <td>4.208722e-01</td>\n",
       "      <td>3.755934e-01</td>\n",
       "      <td>3.253556e-01</td>\n",
       "      <td>2.922394e-01</td>\n",
       "      <td>1.209549e-01</td>\n",
       "      <td>6.283754e-02</td>\n",
       "    </tr>\n",
       "    <tr>\n",
       "      <th>std</th>\n",
       "      <td>1.375249e+18</td>\n",
       "      <td>8.749845e+02</td>\n",
       "      <td>4.000597e-01</td>\n",
       "      <td>7.839472e-01</td>\n",
       "      <td>3.753270e+03</td>\n",
       "      <td>6.744630e+02</td>\n",
       "      <td>1.294352e+02</td>\n",
       "      <td>4.501367e+01</td>\n",
       "      <td>2.864284e+01</td>\n",
       "      <td>3.383810e+01</td>\n",
       "      <td>...</td>\n",
       "      <td>3.724654e-01</td>\n",
       "      <td>3.350996e-01</td>\n",
       "      <td>3.157487e-01</td>\n",
       "      <td>2.867222e-01</td>\n",
       "      <td>2.830562e-01</td>\n",
       "      <td>2.593105e-01</td>\n",
       "      <td>2.351276e-01</td>\n",
       "      <td>2.125289e-01</td>\n",
       "      <td>8.153095e-02</td>\n",
       "      <td>4.395291e-02</td>\n",
       "    </tr>\n",
       "    <tr>\n",
       "      <th>min</th>\n",
       "      <td>1.275606e+12</td>\n",
       "      <td>2.000061e+03</td>\n",
       "      <td>-4.487347e+00</td>\n",
       "      <td>1.022424e-01</td>\n",
       "      <td>-4.954706e-01</td>\n",
       "      <td>-1.158789e+04</td>\n",
       "      <td>-1.718666e+03</td>\n",
       "      <td>-1.205797e+03</td>\n",
       "      <td>-4.306089e+02</td>\n",
       "      <td>-4.856790e+02</td>\n",
       "      <td>...</td>\n",
       "      <td>7.365149e-02</td>\n",
       "      <td>7.936749e-02</td>\n",
       "      <td>5.036612e-02</td>\n",
       "      <td>5.157712e-02</td>\n",
       "      <td>5.979707e-02</td>\n",
       "      <td>4.697054e-02</td>\n",
       "      <td>4.695595e-02</td>\n",
       "      <td>4.460493e-02</td>\n",
       "      <td>2.037394e-02</td>\n",
       "      <td>1.122545e-02</td>\n",
       "    </tr>\n",
       "    <tr>\n",
       "      <th>25%</th>\n",
       "      <td>3.633004e+17</td>\n",
       "      <td>4.942549e+03</td>\n",
       "      <td>-4.803064e-01</td>\n",
       "      <td>3.748853e+00</td>\n",
       "      <td>5.008719e+02</td>\n",
       "      <td>-4.151244e+02</td>\n",
       "      <td>-6.100787e+01</td>\n",
       "      <td>-1.954040e+00</td>\n",
       "      <td>-2.091621e+01</td>\n",
       "      <td>-8.224856e+00</td>\n",
       "      <td>...</td>\n",
       "      <td>2.848472e-01</td>\n",
       "      <td>2.404903e-01</td>\n",
       "      <td>2.252530e-01</td>\n",
       "      <td>2.094404e-01</td>\n",
       "      <td>2.186622e-01</td>\n",
       "      <td>1.851985e-01</td>\n",
       "      <td>1.645335e-01</td>\n",
       "      <td>1.491396e-01</td>\n",
       "      <td>6.983764e-02</td>\n",
       "      <td>3.768071e-02</td>\n",
       "    </tr>\n",
       "    <tr>\n",
       "      <th>50%</th>\n",
       "      <td>8.513440e+17</td>\n",
       "      <td>5.544362e+03</td>\n",
       "      <td>-2.458427e-01</td>\n",
       "      <td>4.185440e+00</td>\n",
       "      <td>1.548965e+03</td>\n",
       "      <td>-9.261651e+01</td>\n",
       "      <td>-1.484639e+01</td>\n",
       "      <td>3.209242e+00</td>\n",
       "      <td>-6.181377e+00</td>\n",
       "      <td>-8.639159e-01</td>\n",
       "      <td>...</td>\n",
       "      <td>4.303732e-01</td>\n",
       "      <td>3.592551e-01</td>\n",
       "      <td>3.700105e-01</td>\n",
       "      <td>3.351032e-01</td>\n",
       "      <td>3.334721e-01</td>\n",
       "      <td>2.997078e-01</td>\n",
       "      <td>2.559782e-01</td>\n",
       "      <td>2.291866e-01</td>\n",
       "      <td>9.526259e-02</td>\n",
       "      <td>4.943595e-02</td>\n",
       "    </tr>\n",
       "    <tr>\n",
       "      <th>75%</th>\n",
       "      <td>1.890435e+18</td>\n",
       "      <td>5.974675e+03</td>\n",
       "      <td>-5.855548e-02</td>\n",
       "      <td>4.470944e+00</td>\n",
       "      <td>4.164026e+03</td>\n",
       "      <td>-5.177086e+00</td>\n",
       "      <td>-2.172130e-01</td>\n",
       "      <td>1.842319e+01</td>\n",
       "      <td>-9.847219e-01</td>\n",
       "      <td>5.993603e+00</td>\n",
       "      <td>...</td>\n",
       "      <td>6.969030e-01</td>\n",
       "      <td>5.726636e-01</td>\n",
       "      <td>6.083570e-01</td>\n",
       "      <td>5.503203e-01</td>\n",
       "      <td>5.376198e-01</td>\n",
       "      <td>4.903553e-01</td>\n",
       "      <td>4.130568e-01</td>\n",
       "      <td>3.683050e-01</td>\n",
       "      <td>1.450107e-01</td>\n",
       "      <td>7.325711e-02</td>\n",
       "    </tr>\n",
       "    <tr>\n",
       "      <th>max</th>\n",
       "      <td>6.917529e+18</td>\n",
       "      <td>2.945512e+04</td>\n",
       "      <td>4.591588e+00</td>\n",
       "      <td>5.980000e+00</td>\n",
       "      <td>3.692985e+04</td>\n",
       "      <td>5.510930e+03</td>\n",
       "      <td>2.606343e+03</td>\n",
       "      <td>6.267605e+02</td>\n",
       "      <td>6.271200e+02</td>\n",
       "      <td>9.009338e+02</td>\n",
       "      <td>...</td>\n",
       "      <td>6.935789e+00</td>\n",
       "      <td>6.231711e+00</td>\n",
       "      <td>3.908607e+00</td>\n",
       "      <td>3.928383e+00</td>\n",
       "      <td>4.231868e+00</td>\n",
       "      <td>3.302374e+00</td>\n",
       "      <td>4.092391e+00</td>\n",
       "      <td>3.842599e+00</td>\n",
       "      <td>1.664967e+00</td>\n",
       "      <td>2.041306e+00</td>\n",
       "    </tr>\n",
       "  </tbody>\n",
       "</table>\n",
       "<p>8 rows × 224 columns</p>\n",
       "</div>"
      ],
      "text/plain": [
       "             Source          Teff          Fe/H         log_g          bp_1  \\\n",
       "count  2.760468e+06  2.760468e+06  2.760468e+06  2.760468e+06  2.760468e+06   \n",
       "mean   1.354867e+18  5.559839e+03 -3.047135e-01  3.956259e+00  3.081158e+03   \n",
       "std    1.375249e+18  8.749845e+02  4.000597e-01  7.839472e-01  3.753270e+03   \n",
       "min    1.275606e+12  2.000061e+03 -4.487347e+00  1.022424e-01 -4.954706e-01   \n",
       "25%    3.633004e+17  4.942549e+03 -4.803064e-01  3.748853e+00  5.008719e+02   \n",
       "50%    8.513440e+17  5.544362e+03 -2.458427e-01  4.185440e+00  1.548965e+03   \n",
       "75%    1.890435e+18  5.974675e+03 -5.855548e-02  4.470944e+00  4.164026e+03   \n",
       "max    6.917529e+18  2.945512e+04  4.591588e+00  5.980000e+00  3.692985e+04   \n",
       "\n",
       "               bp_2          bp_3          bp_4          bp_5          bp_6  \\\n",
       "count  2.760468e+06  2.760468e+06  2.760468e+06  2.760468e+06  2.760468e+06   \n",
       "mean  -3.142178e+02 -4.649970e+01  1.017612e+01 -1.458162e+01 -2.401143e-01   \n",
       "std    6.744630e+02  1.294352e+02  4.501367e+01  2.864284e+01  3.383810e+01   \n",
       "min   -1.158789e+04 -1.718666e+03 -1.205797e+03 -4.306089e+02 -4.856790e+02   \n",
       "25%   -4.151244e+02 -6.100787e+01 -1.954040e+00 -2.091621e+01 -8.224856e+00   \n",
       "50%   -9.261651e+01 -1.484639e+01  3.209242e+00 -6.181377e+00 -8.639159e-01   \n",
       "75%   -5.177086e+00 -2.172130e-01  1.842319e+01 -9.847219e-01  5.993603e+00   \n",
       "max    5.510930e+03  2.606343e+03  6.267605e+02  6.271200e+02  9.009338e+02   \n",
       "\n",
       "       ...        rpe_46        rpe_47        rpe_48        rpe_49  \\\n",
       "count  ...  2.760468e+06  2.760468e+06  2.760468e+06  2.760468e+06   \n",
       "mean   ...  5.481881e-01  4.597329e-01  4.614236e-01  4.215364e-01   \n",
       "std    ...  3.724654e-01  3.350996e-01  3.157487e-01  2.867222e-01   \n",
       "min    ...  7.365149e-02  7.936749e-02  5.036612e-02  5.157712e-02   \n",
       "25%    ...  2.848472e-01  2.404903e-01  2.252530e-01  2.094404e-01   \n",
       "50%    ...  4.303732e-01  3.592551e-01  3.700105e-01  3.351032e-01   \n",
       "75%    ...  6.969030e-01  5.726636e-01  6.083570e-01  5.503203e-01   \n",
       "max    ...  6.935789e+00  6.231711e+00  3.908607e+00  3.928383e+00   \n",
       "\n",
       "             rpe_50        rpe_51        rpe_52        rpe_53        rpe_54  \\\n",
       "count  2.760468e+06  2.760468e+06  2.760468e+06  2.760468e+06  2.760468e+06   \n",
       "mean   4.208722e-01  3.755934e-01  3.253556e-01  2.922394e-01  1.209549e-01   \n",
       "std    2.830562e-01  2.593105e-01  2.351276e-01  2.125289e-01  8.153095e-02   \n",
       "min    5.979707e-02  4.697054e-02  4.695595e-02  4.460493e-02  2.037394e-02   \n",
       "25%    2.186622e-01  1.851985e-01  1.645335e-01  1.491396e-01  6.983764e-02   \n",
       "50%    3.334721e-01  2.997078e-01  2.559782e-01  2.291866e-01  9.526259e-02   \n",
       "75%    5.376198e-01  4.903553e-01  4.130568e-01  3.683050e-01  1.450107e-01   \n",
       "max    4.231868e+00  3.302374e+00  4.092391e+00  3.842599e+00  1.664967e+00   \n",
       "\n",
       "             rpe_55  \n",
       "count  2.760468e+06  \n",
       "mean   6.283754e-02  \n",
       "std    4.395291e-02  \n",
       "min    1.122545e-02  \n",
       "25%    3.768071e-02  \n",
       "50%    4.943595e-02  \n",
       "75%    7.325711e-02  \n",
       "max    2.041306e+00  \n",
       "\n",
       "[8 rows x 224 columns]"
      ]
     },
     "execution_count": 9,
     "metadata": {},
     "output_type": "execute_result"
    }
   ],
   "source": [
    "data.describe()"
   ]
  },
  {
   "cell_type": "code",
   "execution_count": 10,
   "id": "60745333-5449-4b81-b5ed-2c46c02ca9d2",
   "metadata": {},
   "outputs": [
    {
     "data": {
      "image/png": "[encoded data removed]",
      "text/plain": [
       "<Figure size 432x288 with 1 Axes>"
      ]
     },
     "metadata": {
      "needs_background": "light"
     },
     "output_type": "display_data"
    }
   ],
   "source": [
    "plt.hist(data['Teff'],bins=50,log=True);\n",
    "plt.xlabel('Teff');"
   ]
  },
  {
   "cell_type": "code",
   "execution_count": 11,
   "id": "4db12c42-98e5-463c-9f8c-cbca6cad8f21",
   "metadata": {},
   "outputs": [
    {
     "data": {
      "image/png": "[encoded data removed]",
      "text/plain": [
       "<Figure size 432x288 with 1 Axes>"
      ]
     },
     "metadata": {
      "needs_background": "light"
     },
     "output_type": "display_data"
    }
   ],
   "source": [
    "plt.hist(data['Fe/H'],bins=50,log=True);\n",
    "plt.xlabel('Fe/H');"
   ]
  },
  {
   "cell_type": "code",
   "execution_count": 12,
   "id": "3bcfbca2-de30-431e-82ed-36c00601e175",
   "metadata": {},
   "outputs": [
    {
     "data": {
      "image/png": "[encoded data removed]",
      "text/plain": [
       "<Figure size 432x288 with 1 Axes>"
      ]
     },
     "metadata": {
      "needs_background": "light"
     },
     "output_type": "display_data"
    }
   ],
   "source": [
    "plt.hist(data['log_g'],bins=50,log=True)\n",
    "plt.xlabel('log g');"
   ]
  },
  {
   "cell_type": "code",
   "execution_count": 13,
   "id": "7e06887c-aeb9-463e-88c9-092ccffdf231",
   "metadata": {},
   "outputs": [
    {
     "data": {
      "image/png": "[encoded data removed]",
      "text/plain": [
       "<Figure size 432x288 with 1 Axes>"
      ]
     },
     "metadata": {
      "needs_background": "light"
     },
     "output_type": "display_data"
    }
   ],
   "source": [
    "ax = plt.gca()\n",
    "ax.xaxis.set_minor_locator(MultipleLocator(1000))\n",
    "ax.yaxis.set_minor_locator(MultipleLocator(.2))\n",
    "\n",
    "plt.hexbin(data['Teff'],data['log_g'],mincnt=1)\n",
    "plt.xlim(30000,0);plt.ylim(6,0);\n",
    "plt.xlabel('Teff (K)')\n",
    "plt.ylabel('log g (dex)')\n",
    "plt.savefig('/arc/home/aydanmckay/meetingplots/hexbindata.png')"
   ]
  },
  {
   "cell_type": "code",
   "execution_count": 14,
   "id": "dba7c6ac-f2d7-4c93-8a8b-17b71db47e58",
   "metadata": {},
   "outputs": [
    {
     "data": {
      "image/png": "[encoded data removed]",
      "text/plain": [
       "<Figure size 432x288 with 1 Axes>"
      ]
     },
     "metadata": {
      "needs_background": "light"
     },
     "output_type": "display_data"
    }
   ],
   "source": [
    "ax = plt.gca()\n",
    "ax.xaxis.set_minor_locator(MultipleLocator(200))\n",
    "ax.yaxis.set_minor_locator(MultipleLocator(.2))\n",
    "\n",
    "plt.hexbin(data['Teff'][data['Teff'] < 10000],data['log_g'][data['Teff'] < 10000],mincnt=1)\n",
    "plt.xlabel('Teff (K)')\n",
    "plt.ylabel('log g (dex)')\n",
    "plt.xlim(10000,2000);plt.ylim(6,0);"
   ]
  },
  {
   "cell_type": "code",
   "execution_count": 15,
   "id": "b1c3d61b-0871-4150-84a8-2112c40a7330",
   "metadata": {},
   "outputs": [
    {
     "data": {
      "image/png": "[encoded data removed]",
      "text/plain": [
       "<Figure size 432x288 with 1 Axes>"
      ]
     },
     "metadata": {
      "needs_background": "light"
     },
     "output_type": "display_data"
    }
   ],
   "source": [
    "ax = plt.gca()\n",
    "ax.xaxis.set_minor_locator(MultipleLocator(200))\n",
    "ax.yaxis.set_minor_locator(MultipleLocator(.2))\n",
    "\n",
    "plt.scatter(data['Teff'][data['Teff'] < 10000],data['log_g'][data['Teff'] < 10000],alpha=0.01)\n",
    "plt.xlabel('Teff (K)')\n",
    "plt.ylabel('log g (dex)')\n",
    "plt.xlim(10000,2000);plt.ylim(6,0);"
   ]
  },
  {
   "cell_type": "code",
   "execution_count": 16,
   "id": "23c08663-5090-4a16-9525-026715e04b8f",
   "metadata": {},
   "outputs": [
    {
     "data": {
      "image/png": "[encoded data removed]",
      "text/plain": [
       "<Figure size 432x288 with 1 Axes>"
      ]
     },
     "metadata": {
      "needs_background": "light"
     },
     "output_type": "display_data"
    }
   ],
   "source": [
    "ax = plt.gca()\n",
    "ax.xaxis.set_minor_locator(MultipleLocator(200))\n",
    "ax.yaxis.set_minor_locator(MultipleLocator(.2))\n",
    "\n",
    "h = plt.hist2d(data['Teff'][data['Teff'] < 10000],data['log_g'][data['Teff'] < 10000],bins=100,cmin=100)\n",
    "plt.xlabel('Teff (K)')\n",
    "plt.ylabel('log g (dex)')\n",
    "plt.xlim(10000,2000);plt.ylim(6,0);"
   ]
  },
  {
   "cell_type": "code",
   "execution_count": 17,
   "id": "4ffcd8e4-eda0-4069-804d-a48ddca756da",
   "metadata": {
    "collapsed": true,
    "jupyter": {
     "outputs_hidden": true
    },
    "tags": []
   },
   "outputs": [
    {
     "name": "stderr",
     "output_type": "stream",
     "text": [
      "/tmp/ipykernel_4213/1126459005.py:1: SettingWithCopyWarning: \n",
      "A value is trying to be set on a copy of a slice from a DataFrame\n",
      "\n",
      "See the caveats in the documentation: https://pandas.pydata.org/pandas-docs/stable/user_guide/indexing.html#returning-a-view-versus-a-copy\n",
      "  data['log_g'][data['Teff'] > 10000] *= np.nan\n",
      "/tmp/ipykernel_4213/1126459005.py:2: SettingWithCopyWarning: \n",
      "A value is trying to be set on a copy of a slice from a DataFrame\n",
      "\n",
      "See the caveats in the documentation: https://pandas.pydata.org/pandas-docs/stable/user_guide/indexing.html#returning-a-view-versus-a-copy\n",
      "  data['Teff'][data['Teff'] > 10000] *= np.nan\n"
     ]
    },
    {
     "name": "stdout",
     "output_type": "stream",
     "text": [
      "0\n",
      "1\n",
      "2\n",
      "3\n",
      "4\n",
      "5\n",
      "6\n",
      "7\n",
      "8\n",
      "9\n",
      "10\n",
      "11\n",
      "12\n",
      "13\n",
      "14\n",
      "15\n",
      "16\n",
      "17\n",
      "18\n",
      "19\n",
      "20\n",
      "21\n",
      "22\n",
      "23\n",
      "24\n",
      "25\n",
      "26\n",
      "27\n",
      "28\n",
      "29\n",
      "30\n",
      "31\n",
      "32\n",
      "33\n",
      "34\n",
      "35\n",
      "36\n",
      "37\n",
      "38\n",
      "39\n",
      "40\n",
      "41\n",
      "42\n",
      "43\n",
      "44\n",
      "45\n",
      "46\n",
      "47\n",
      "48\n",
      "49\n",
      "50\n",
      "51\n",
      "52\n",
      "53\n",
      "54\n",
      "55\n",
      "56\n",
      "57\n",
      "58\n",
      "59\n",
      "60\n",
      "61\n",
      "62\n",
      "63\n",
      "64\n",
      "65\n",
      "66\n",
      "67\n",
      "68\n",
      "69\n",
      "70\n",
      "71\n",
      "72\n",
      "73\n",
      "74\n",
      "75\n",
      "76\n",
      "77\n",
      "78\n",
      "79\n",
      "80\n",
      "81\n",
      "82\n",
      "83\n",
      "84\n",
      "85\n",
      "86\n",
      "87\n",
      "88\n",
      "89\n",
      "90\n",
      "91\n",
      "92\n",
      "93\n",
      "94\n",
      "95\n",
      "96\n",
      "97\n",
      "98\n",
      "99\n"
     ]
    }
   ],
   "source": [
    "data['log_g'][data['Teff'] > 10000] *= np.nan\n",
    "data['Teff'][data['Teff'] > 10000] *= np.nan\n",
    "for i in range(len(h[0][0])):\n",
    "    for j in range(len(h[0][0])):\n",
    "        if np.isnan(h[0][i][j]) or h[0][i][j] == 1.:\n",
    "            data[(data['Teff'] >= h[1][i]) & (data['Teff'] <= h[1][i+1]) & (data['log_g'] >= h[2][j]) & (data['log_g'] <= h[2][j+1])] *= np.nan\n",
    "            # continue\n",
    "        # print(i,j)\n",
    "    print(i)"
   ]
  },
  {
   "cell_type": "code",
   "execution_count": 18,
   "id": "df3e2a4f-41db-4f31-9ab2-7db829873b09",
   "metadata": {},
   "outputs": [
    {
     "data": {
      "text/html": [
       "<div>\n",
       "<style scoped>\n",
       "    .dataframe tbody tr th:only-of-type {\n",
       "        vertical-align: middle;\n",
       "    }\n",
       "\n",
       "    .dataframe tbody tr th {\n",
       "        vertical-align: top;\n",
       "    }\n",
       "\n",
       "    .dataframe thead th {\n",
       "        text-align: right;\n",
       "    }\n",
       "</style>\n",
       "<table border=\"1\" class=\"dataframe\">\n",
       "  <thead>\n",
       "    <tr style=\"text-align: right;\">\n",
       "      <th></th>\n",
       "      <th>Source</th>\n",
       "      <th>Teff</th>\n",
       "      <th>Fe/H</th>\n",
       "      <th>log_g</th>\n",
       "      <th>bp_1</th>\n",
       "      <th>bp_2</th>\n",
       "      <th>bp_3</th>\n",
       "      <th>bp_4</th>\n",
       "      <th>bp_5</th>\n",
       "      <th>bp_6</th>\n",
       "      <th>...</th>\n",
       "      <th>rpe_46</th>\n",
       "      <th>rpe_47</th>\n",
       "      <th>rpe_48</th>\n",
       "      <th>rpe_49</th>\n",
       "      <th>rpe_50</th>\n",
       "      <th>rpe_51</th>\n",
       "      <th>rpe_52</th>\n",
       "      <th>rpe_53</th>\n",
       "      <th>rpe_54</th>\n",
       "      <th>rpe_55</th>\n",
       "    </tr>\n",
       "  </thead>\n",
       "  <tbody>\n",
       "    <tr>\n",
       "      <th>count</th>\n",
       "      <td>2.682219e+06</td>\n",
       "      <td>2.681433e+06</td>\n",
       "      <td>2.682219e+06</td>\n",
       "      <td>2.681433e+06</td>\n",
       "      <td>2.682219e+06</td>\n",
       "      <td>2.682219e+06</td>\n",
       "      <td>2.682219e+06</td>\n",
       "      <td>2.682219e+06</td>\n",
       "      <td>2.682219e+06</td>\n",
       "      <td>2.682219e+06</td>\n",
       "      <td>...</td>\n",
       "      <td>2.682219e+06</td>\n",
       "      <td>2.682219e+06</td>\n",
       "      <td>2.682219e+06</td>\n",
       "      <td>2.682219e+06</td>\n",
       "      <td>2.682219e+06</td>\n",
       "      <td>2.682219e+06</td>\n",
       "      <td>2.682219e+06</td>\n",
       "      <td>2.682219e+06</td>\n",
       "      <td>2.682219e+06</td>\n",
       "      <td>2.682219e+06</td>\n",
       "    </tr>\n",
       "    <tr>\n",
       "      <th>mean</th>\n",
       "      <td>1.351461e+18</td>\n",
       "      <td>5.546035e+03</td>\n",
       "      <td>-3.000421e-01</td>\n",
       "      <td>3.969936e+00</td>\n",
       "      <td>3.113714e+03</td>\n",
       "      <td>-3.183485e+02</td>\n",
       "      <td>-4.740819e+01</td>\n",
       "      <td>1.068877e+01</td>\n",
       "      <td>-1.487185e+01</td>\n",
       "      <td>-5.375756e-01</td>\n",
       "      <td>...</td>\n",
       "      <td>5.498134e-01</td>\n",
       "      <td>4.604103e-01</td>\n",
       "      <td>4.629267e-01</td>\n",
       "      <td>4.229596e-01</td>\n",
       "      <td>4.219684e-01</td>\n",
       "      <td>3.765686e-01</td>\n",
       "      <td>3.259322e-01</td>\n",
       "      <td>2.926867e-01</td>\n",
       "      <td>1.211535e-01</td>\n",
       "      <td>6.290972e-02</td>\n",
       "    </tr>\n",
       "    <tr>\n",
       "      <th>std</th>\n",
       "      <td>1.371780e+18</td>\n",
       "      <td>8.169841e+02</td>\n",
       "      <td>3.831210e-01</td>\n",
       "      <td>7.550998e-01</td>\n",
       "      <td>3.765433e+03</td>\n",
       "      <td>6.740856e+02</td>\n",
       "      <td>1.293590e+02</td>\n",
       "      <td>4.478552e+01</td>\n",
       "      <td>2.862737e+01</td>\n",
       "      <td>3.370769e+01</td>\n",
       "      <td>...</td>\n",
       "      <td>3.711257e-01</td>\n",
       "      <td>3.329442e-01</td>\n",
       "      <td>3.140532e-01</td>\n",
       "      <td>2.853907e-01</td>\n",
       "      <td>2.815865e-01</td>\n",
       "      <td>2.576782e-01</td>\n",
       "      <td>2.335232e-01</td>\n",
       "      <td>2.110315e-01</td>\n",
       "      <td>8.119288e-02</td>\n",
       "      <td>4.373329e-02</td>\n",
       "    </tr>\n",
       "    <tr>\n",
       "      <th>min</th>\n",
       "      <td>1.275606e+12</td>\n",
       "      <td>3.439595e+03</td>\n",
       "      <td>-4.487347e+00</td>\n",
       "      <td>7.490956e-01</td>\n",
       "      <td>2.832256e-01</td>\n",
       "      <td>-1.158789e+04</td>\n",
       "      <td>-1.718666e+03</td>\n",
       "      <td>-1.150163e+03</td>\n",
       "      <td>-3.607251e+02</td>\n",
       "      <td>-4.856790e+02</td>\n",
       "      <td>...</td>\n",
       "      <td>7.365149e-02</td>\n",
       "      <td>7.936749e-02</td>\n",
       "      <td>5.036612e-02</td>\n",
       "      <td>5.157712e-02</td>\n",
       "      <td>5.979707e-02</td>\n",
       "      <td>4.697054e-02</td>\n",
       "      <td>4.695595e-02</td>\n",
       "      <td>4.460493e-02</td>\n",
       "      <td>2.037394e-02</td>\n",
       "      <td>1.122545e-02</td>\n",
       "    </tr>\n",
       "    <tr>\n",
       "      <th>25%</th>\n",
       "      <td>3.638841e+17</td>\n",
       "      <td>4.949711e+03</td>\n",
       "      <td>-4.746255e-01</td>\n",
       "      <td>3.777219e+00</td>\n",
       "      <td>5.169034e+02</td>\n",
       "      <td>-4.222742e+02</td>\n",
       "      <td>-6.206029e+01</td>\n",
       "      <td>-1.795162e+00</td>\n",
       "      <td>-2.129777e+01</td>\n",
       "      <td>-8.518698e+00</td>\n",
       "      <td>...</td>\n",
       "      <td>2.867781e-01</td>\n",
       "      <td>2.419620e-01</td>\n",
       "      <td>2.273667e-01</td>\n",
       "      <td>2.112264e-01</td>\n",
       "      <td>2.201500e-01</td>\n",
       "      <td>1.867957e-01</td>\n",
       "      <td>1.657138e-01</td>\n",
       "      <td>1.501373e-01</td>\n",
       "      <td>7.013765e-02</td>\n",
       "      <td>3.779534e-02</td>\n",
       "    </tr>\n",
       "    <tr>\n",
       "      <th>50%</th>\n",
       "      <td>8.514924e+17</td>\n",
       "      <td>5.540424e+03</td>\n",
       "      <td>-2.440411e-01</td>\n",
       "      <td>4.189994e+00</td>\n",
       "      <td>1.585159e+03</td>\n",
       "      <td>-9.580362e+01</td>\n",
       "      <td>-1.538792e+01</td>\n",
       "      <td>3.425675e+00</td>\n",
       "      <td>-6.436154e+00</td>\n",
       "      <td>-9.667317e-01</td>\n",
       "      <td>...</td>\n",
       "      <td>4.331532e-01</td>\n",
       "      <td>3.611529e-01</td>\n",
       "      <td>3.726194e-01</td>\n",
       "      <td>3.374985e-01</td>\n",
       "      <td>3.355100e-01</td>\n",
       "      <td>3.016334e-01</td>\n",
       "      <td>2.574194e-01</td>\n",
       "      <td>2.304260e-01</td>\n",
       "      <td>9.567341e-02</td>\n",
       "      <td>4.960389e-02</td>\n",
       "    </tr>\n",
       "    <tr>\n",
       "      <th>75%</th>\n",
       "      <td>1.886502e+18</td>\n",
       "      <td>5.960428e+03</td>\n",
       "      <td>-5.920461e-02</td>\n",
       "      <td>4.468626e+00</td>\n",
       "      <td>4.211853e+03</td>\n",
       "      <td>-6.168601e+00</td>\n",
       "      <td>-4.894555e-01</td>\n",
       "      <td>1.896615e+01</td>\n",
       "      <td>-1.074456e+00</td>\n",
       "      <td>5.849769e+00</td>\n",
       "      <td>...</td>\n",
       "      <td>6.993301e-01</td>\n",
       "      <td>5.739192e-01</td>\n",
       "      <td>6.104327e-01</td>\n",
       "      <td>5.523270e-01</td>\n",
       "      <td>5.392164e-01</td>\n",
       "      <td>4.918147e-01</td>\n",
       "      <td>4.140189e-01</td>\n",
       "      <td>3.691120e-01</td>\n",
       "      <td>1.453844e-01</td>\n",
       "      <td>7.343186e-02</td>\n",
       "    </tr>\n",
       "    <tr>\n",
       "      <th>max</th>\n",
       "      <td>6.917529e+18</td>\n",
       "      <td>9.115372e+03</td>\n",
       "      <td>4.550797e+00</td>\n",
       "      <td>5.392057e+00</td>\n",
       "      <td>3.692985e+04</td>\n",
       "      <td>5.510930e+03</td>\n",
       "      <td>2.594202e+03</td>\n",
       "      <td>6.267605e+02</td>\n",
       "      <td>6.271200e+02</td>\n",
       "      <td>9.009338e+02</td>\n",
       "      <td>...</td>\n",
       "      <td>6.935789e+00</td>\n",
       "      <td>6.231711e+00</td>\n",
       "      <td>3.908607e+00</td>\n",
       "      <td>3.928383e+00</td>\n",
       "      <td>4.231868e+00</td>\n",
       "      <td>3.302374e+00</td>\n",
       "      <td>4.092391e+00</td>\n",
       "      <td>3.842599e+00</td>\n",
       "      <td>1.664967e+00</td>\n",
       "      <td>2.041306e+00</td>\n",
       "    </tr>\n",
       "  </tbody>\n",
       "</table>\n",
       "<p>8 rows × 224 columns</p>\n",
       "</div>"
      ],
      "text/plain": [
       "             Source          Teff          Fe/H         log_g          bp_1  \\\n",
       "count  2.682219e+06  2.681433e+06  2.682219e+06  2.681433e+06  2.682219e+06   \n",
       "mean   1.351461e+18  5.546035e+03 -3.000421e-01  3.969936e+00  3.113714e+03   \n",
       "std    1.371780e+18  8.169841e+02  3.831210e-01  7.550998e-01  3.765433e+03   \n",
       "min    1.275606e+12  3.439595e+03 -4.487347e+00  7.490956e-01  2.832256e-01   \n",
       "25%    3.638841e+17  4.949711e+03 -4.746255e-01  3.777219e+00  5.169034e+02   \n",
       "50%    8.514924e+17  5.540424e+03 -2.440411e-01  4.189994e+00  1.585159e+03   \n",
       "75%    1.886502e+18  5.960428e+03 -5.920461e-02  4.468626e+00  4.211853e+03   \n",
       "max    6.917529e+18  9.115372e+03  4.550797e+00  5.392057e+00  3.692985e+04   \n",
       "\n",
       "               bp_2          bp_3          bp_4          bp_5          bp_6  \\\n",
       "count  2.682219e+06  2.682219e+06  2.682219e+06  2.682219e+06  2.682219e+06   \n",
       "mean  -3.183485e+02 -4.740819e+01  1.068877e+01 -1.487185e+01 -5.375756e-01   \n",
       "std    6.740856e+02  1.293590e+02  4.478552e+01  2.862737e+01  3.370769e+01   \n",
       "min   -1.158789e+04 -1.718666e+03 -1.150163e+03 -3.607251e+02 -4.856790e+02   \n",
       "25%   -4.222742e+02 -6.206029e+01 -1.795162e+00 -2.129777e+01 -8.518698e+00   \n",
       "50%   -9.580362e+01 -1.538792e+01  3.425675e+00 -6.436154e+00 -9.667317e-01   \n",
       "75%   -6.168601e+00 -4.894555e-01  1.896615e+01 -1.074456e+00  5.849769e+00   \n",
       "max    5.510930e+03  2.594202e+03  6.267605e+02  6.271200e+02  9.009338e+02   \n",
       "\n",
       "       ...        rpe_46        rpe_47        rpe_48        rpe_49  \\\n",
       "count  ...  2.682219e+06  2.682219e+06  2.682219e+06  2.682219e+06   \n",
       "mean   ...  5.498134e-01  4.604103e-01  4.629267e-01  4.229596e-01   \n",
       "std    ...  3.711257e-01  3.329442e-01  3.140532e-01  2.853907e-01   \n",
       "min    ...  7.365149e-02  7.936749e-02  5.036612e-02  5.157712e-02   \n",
       "25%    ...  2.867781e-01  2.419620e-01  2.273667e-01  2.112264e-01   \n",
       "50%    ...  4.331532e-01  3.611529e-01  3.726194e-01  3.374985e-01   \n",
       "75%    ...  6.993301e-01  5.739192e-01  6.104327e-01  5.523270e-01   \n",
       "max    ...  6.935789e+00  6.231711e+00  3.908607e+00  3.928383e+00   \n",
       "\n",
       "             rpe_50        rpe_51        rpe_52        rpe_53        rpe_54  \\\n",
       "count  2.682219e+06  2.682219e+06  2.682219e+06  2.682219e+06  2.682219e+06   \n",
       "mean   4.219684e-01  3.765686e-01  3.259322e-01  2.926867e-01  1.211535e-01   \n",
       "std    2.815865e-01  2.576782e-01  2.335232e-01  2.110315e-01  8.119288e-02   \n",
       "min    5.979707e-02  4.697054e-02  4.695595e-02  4.460493e-02  2.037394e-02   \n",
       "25%    2.201500e-01  1.867957e-01  1.657138e-01  1.501373e-01  7.013765e-02   \n",
       "50%    3.355100e-01  3.016334e-01  2.574194e-01  2.304260e-01  9.567341e-02   \n",
       "75%    5.392164e-01  4.918147e-01  4.140189e-01  3.691120e-01  1.453844e-01   \n",
       "max    4.231868e+00  3.302374e+00  4.092391e+00  3.842599e+00  1.664967e+00   \n",
       "\n",
       "             rpe_55  \n",
       "count  2.682219e+06  \n",
       "mean   6.290972e-02  \n",
       "std    4.373329e-02  \n",
       "min    1.122545e-02  \n",
       "25%    3.779534e-02  \n",
       "50%    4.960389e-02  \n",
       "75%    7.343186e-02  \n",
       "max    2.041306e+00  \n",
       "\n",
       "[8 rows x 224 columns]"
      ]
     },
     "execution_count": 18,
     "metadata": {},
     "output_type": "execute_result"
    }
   ],
   "source": [
    "data.describe()"
   ]
  },
  {
   "cell_type": "code",
   "execution_count": 19,
   "id": "4ca48063-2a8b-4d80-ba9a-86e80802818e",
   "metadata": {},
   "outputs": [
    {
     "data": {
      "text/plain": [
       "(2681433, 224)"
      ]
     },
     "execution_count": 19,
     "metadata": {},
     "output_type": "execute_result"
    }
   ],
   "source": [
    "with pd.option_context('mode.use_inf_as_na', True):\n",
    "    data.dropna(inplace=True)\n",
    "data.shape"
   ]
  },
  {
   "cell_type": "code",
   "execution_count": 20,
   "id": "daf812b3-317c-49e3-8943-d3d99de02801",
   "metadata": {},
   "outputs": [
    {
     "data": {
      "image/png": "[encoded data removed]",
      "text/plain": [
       "<Figure size 432x288 with 1 Axes>"
      ]
     },
     "metadata": {
      "needs_background": "light"
     },
     "output_type": "display_data"
    }
   ],
   "source": [
    "ax = plt.gca()\n",
    "ax.xaxis.set_minor_locator(MultipleLocator(200))\n",
    "ax.yaxis.set_minor_locator(MultipleLocator(.2))\n",
    "\n",
    "plt.scatter(data['Teff'],data['log_g'],alpha=0.01)\n",
    "plt.xlim(10000,2000);plt.ylim(6,0);\n",
    "plt.xlabel('Teff (K)')\n",
    "plt.ylabel('log g (dex)')\n",
    "plt.savefig('/arc/home/aydanmckay/meetingplots/scattercleandata.png')"
   ]
  },
  {
   "cell_type": "code",
   "execution_count": 21,
   "id": "eb060f62-fdaf-4c6b-9214-a9967501c586",
   "metadata": {},
   "outputs": [
    {
     "data": {
      "image/png": "[encoded data removed]",
      "text/plain": [
       "<Figure size 432x288 with 1 Axes>"
      ]
     },
     "metadata": {
      "needs_background": "light"
     },
     "output_type": "display_data"
    }
   ],
   "source": [
    "ax = plt.gca()\n",
    "ax.xaxis.set_minor_locator(MultipleLocator(200))\n",
    "ax.yaxis.set_minor_locator(MultipleLocator(.2))\n",
    "\n",
    "h = plt.hist2d(\n",
    "    data['Teff'],\n",
    "    data['log_g'],\n",
    "    bins=100,\n",
    "    cmin=1\n",
    ")\n",
    "plt.xlim(10000,2000);plt.ylim(6,0);\n",
    "plt.xlabel('Teff (K)')\n",
    "plt.ylabel('log g (dex)')\n",
    "plt.savefig('/arc/home/aydanmckay/meetingplots/hist2dcleandata.png')"
   ]
  },
  {
   "cell_type": "code",
   "execution_count": null,
   "id": "6be4a584-4738-4687-8712-ff797baa2747",
   "metadata": {},
   "outputs": [],
   "source": [
    "feh = data['Fe/H']\n",
    "teff = data['Teff']\n",
    "logg = data['log_g']\n",
    "xp = []\n",
    "xpe = []\n",
    "for elabel,label in zip(elabels,labels):\n",
    "    xp.append(data[label])\n",
    "    xpe.append(data[elabel])\n",
    "xp = np.array(xp)\n",
    "xpe = np.array(xpe)"
   ]
  },
  {
   "cell_type": "code",
   "execution_count": null,
   "id": "f593c42a-5e5f-4b78-8dec-f137bb636739",
   "metadata": {},
   "outputs": [],
   "source": [
    "xp.T.shape"
   ]
  },
  {
   "cell_type": "code",
   "execution_count": null,
   "id": "909779c8-bd56-4320-8241-b1f4574e423a",
   "metadata": {},
   "outputs": [],
   "source": [
    "feh_train, feh_test, teff_train, teff_test, logg_train, logg_test, xp_train, xp_test, xpe_train, xpe_test = train_test_split(\n",
    "    feh,\n",
    "    teff,\n",
    "    logg,\n",
    "    xp.T,\n",
    "    xpe.T,\n",
    "    test_size=0.1,\n",
    "    random_state=42\n",
    ")"
   ]
  },
  {
   "cell_type": "code",
   "execution_count": null,
   "id": "bc4764db-b920-4cb2-b4d4-57581b6a1583",
   "metadata": {},
   "outputs": [],
   "source": [
    "feh_train, feh_valid, teff_train, teff_valid, logg_train, logg_valid, xp_train, xp_valid, xpe_train, xpe_valid = train_test_split(\n",
    "    feh_train,\n",
    "    teff_train,\n",
    "    logg_train,\n",
    "    xp_train,\n",
    "    xpe_train,\n",
    "    test_size=0.1,\n",
    "    random_state=42\n",
    ")"
   ]
  },
  {
   "cell_type": "code",
   "execution_count": null,
   "id": "339895b4-c858-406d-9a0e-5d9e6e64364a",
   "metadata": {},
   "outputs": [],
   "source": [
    "# Create a HDF5 file\n",
    "hierarchicalFileName  = \"/arc/home/aydanmckay/input_catalogue_simple_average_hugedatacuts.h5\"\n",
    "with h5py.File(hierarchicalFileName, 'w') as hierarchicalFile:\n",
    "    # Create a group under root\n",
    "    train = hierarchicalFile.create_group(\"group_1\")\n",
    "    valid = hierarchicalFile.create_group(\"group_2\")\n",
    "    test = hierarchicalFile.create_group(\"group_3\")\n",
    "    \n",
    "    train['data'] = np.array(\n",
    "        [feh_train,\n",
    "         logg_train,\n",
    "         teff_train,\n",
    "        ]\n",
    "    )\n",
    "    valid['data'] = np.array(\n",
    "        [feh_valid,\n",
    "         logg_valid,\n",
    "         teff_valid,\n",
    "        ]\n",
    "    )\n",
    "    test['data'] = np.array(\n",
    "        [feh_test,\n",
    "         logg_test,\n",
    "         teff_test,\n",
    "        ]\n",
    "    )\n",
    "    train['label'] = xp_train.T\n",
    "    train['e_label'] = xpe_train.T\n",
    "    valid['label'] = xp_valid.T\n",
    "    valid['e_label'] = xpe_valid.T\n",
    "    test['label'] = xp_test.T\n",
    "    test['e_label'] = xpe_test.T\n",
    "\n",
    "    print(hierarchicalFile[\"/\"])\n",
    "    print(train)\n",
    "    print(valid)\n",
    "    print(train['data'])\n",
    "    print(valid[\"label\"])\n",
    "    print(test['e_label'])"
   ]
  },
  {
   "cell_type": "code",
   "execution_count": null,
   "id": "5578e39c-605e-4b27-aceb-c332136f15a8",
   "metadata": {},
   "outputs": [],
   "source": [
    "scalerlist = [MinMaxScaler() for _ in range(110)]\n",
    "with h5py.File(\"/arc/home/aydanmckay/input_catalogue_simple_average_hugedatacuts.h5\", 'r') as f:\n",
    "    d = f['group_1']['label']\n",
    "    dset = d[:]\n",
    "    ydat = np.array([\n",
    "        scaler.fit_transform(d[[it]].T).flatten() for it,scaler in enumerate(scalerlist)\n",
    "    ])\n",
    "    print(ydat.shape[1])\n",
    "    print(f['group_1']['label'].shape[1])\n",
    "    print(f['group_1']['data'].shape)"
   ]
  },
  {
   "cell_type": "code",
   "execution_count": null,
   "id": "aaa443b9-40eb-4993-9e16-d8adb044b7ce",
   "metadata": {},
   "outputs": [],
   "source": [
    "dset.shape"
   ]
  },
  {
   "cell_type": "code",
   "execution_count": null,
   "id": "6588b67d-0612-4be8-ae7f-212f444d8965",
   "metadata": {},
   "outputs": [],
   "source": [
    "dset"
   ]
  },
  {
   "cell_type": "code",
   "execution_count": null,
   "id": "e28bfab2-0c48-455f-8419-ea997f0931bf",
   "metadata": {},
   "outputs": [],
   "source": [
    "ydat"
   ]
  },
  {
   "cell_type": "code",
   "execution_count": null,
   "id": "da962a4e-17af-455d-8bcc-fe260563ce4d",
   "metadata": {},
   "outputs": [],
   "source": []
  }
 ],
 "metadata": {
  "kernelspec": {
   "display_name": "Python 3 (ipykernel)",
   "language": "python",
   "name": "python3"
  },
  "language_info": {
   "codemirror_mode": {
    "name": "ipython",
    "version": 3
   },
   "file_extension": ".py",
   "mimetype": "text/x-python",
   "name": "python",
   "nbconvert_exporter": "python",
   "pygments_lexer": "ipython3",
   "version": "3.9.13"
  }
 },
 "nbformat": 4,
 "nbformat_minor": 5
}
