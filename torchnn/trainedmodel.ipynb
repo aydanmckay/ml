{
 "cells": [
  {
   "cell_type": "code",
   "execution_count": 65,
   "id": "37ef0cdc-e104-4f0c-bd3c-8104f5405f63",
   "metadata": {},
   "outputs": [],
   "source": [
    "from astropy.table import Table\n",
    "import numpy as np\n",
    "import torch\n",
    "import torch.nn as nn\n",
    "from torch.utils.data import Dataset\n",
    "from torch.utils.data import DataLoader\n",
    "import h5py\n",
    "import matplotlib.pyplot as plt\n",
    "from gaiaxpy import generate, PhotometricSystem\n",
    "import pandas as pd"
   ]
  },
  {
   "cell_type": "code",
   "execution_count": 2,
   "id": "4da8b331-44a1-46ad-a1a5-7007f9d62843",
   "metadata": {},
   "outputs": [],
   "source": [
    "class Net(nn.Module):\n",
    "    def __init__(self):\n",
    "        super(Net, self).__init__()\n",
    "        self.linear_relu_stack = nn.Sequential(\n",
    "            nn.Linear(3, 64),\n",
    "            nn.ReLU(),\n",
    "            nn.Linear(64, 128),\n",
    "            nn.ReLU(),\n",
    "            nn.Linear(128, 256),\n",
    "            nn.ReLU(),\n",
    "            nn.Linear(256, 512),\n",
    "            nn.ReLU(),\n",
    "            nn.Linear(512, 110)\n",
    "        )\n",
    "\n",
    "    def forward(self, x):\n",
    "        logits = self.linear_relu_stack(x)\n",
    "        return logits\n",
    "    \n",
    "# defining the Dataset class\n",
    "class train_set(Dataset):\n",
    "    def __init__(self,file):\n",
    "        fn = h5py.File(file, 'r')\n",
    "        self.f = fn\n",
    "        \n",
    "    def __len__(self):\n",
    "        return self.f['group_1']['data'].shape[1]\n",
    "  \n",
    "    def __getitem__(self, index):\n",
    "        # get data\n",
    "        dset = self.f['group_1']['data']\n",
    "        x = dset[:].T\n",
    "        x = torch.Tensor(x[index])\n",
    "        \n",
    "\n",
    "        # get label\n",
    "        ydset = self.f['group_1']['label']\n",
    "        y = ydset[:].T\n",
    "        y = torch.Tensor(y[index])\n",
    "        # torch.from_numpy(y[index]) does not work since y is doubles and not floats.\n",
    "        \n",
    "        # get error in label # comment out for non-error label runs\n",
    "        errdset = self.f['group_1']['e_label']\n",
    "        err = errdset[:].T\n",
    "        err = torch.Tensor(err[index])\n",
    "        return (x,y,err)\n",
    "\n",
    "class test_set(Dataset):\n",
    "    def __init__(self,file):\n",
    "        fn = h5py.File(file, 'r')\n",
    "        self.f = fn\n",
    "        \n",
    "    def __len__(self):\n",
    "        return self.f['group_2']['data'].shape[1]\n",
    "  \n",
    "    def __getitem__(self, index):\n",
    "        # get data\n",
    "        dset = self.f['group_2']['data']\n",
    "        x = dset[:].T\n",
    "        x = torch.from_numpy(x[index])\n",
    "\n",
    "        # get label\n",
    "        ydset = self.f['group_2']['label']\n",
    "        y = ydset[:].T\n",
    "        y = torch.from_numpy(y[index])\n",
    "        \n",
    "        # get error in label # comment out for non-error label runs\n",
    "        errdset = self.f['group_2']['e_label']\n",
    "        err = errdset[:].T\n",
    "        err = torch.from_numpy(err[index])\n",
    "        return (x.float(),y.float(),err.float())"
   ]
  },
  {
   "cell_type": "code",
   "execution_count": 3,
   "id": "ae3dcf76-fd8c-4128-b47d-f97e35802dfd",
   "metadata": {},
   "outputs": [],
   "source": [
    "# training_data = train_set(\"/arc/home/aydanmckay/mydataelabelssmallscalecuts.h5\")\n",
    "data = test_set(\"/arc/home/aydanmckay/mydataelabelssmallscalecuts.h5\")\n",
    "loaded_data = DataLoader(\n",
    "    data,\n",
    "    batch_size=32,\n",
    "    # shuffle=True\n",
    ")"
   ]
  },
  {
   "cell_type": "code",
   "execution_count": 4,
   "id": "418b766b-cc85-4746-9639-b00542e4531c",
   "metadata": {},
   "outputs": [
    {
     "data": {
      "text/plain": [
       "Net(\n",
       "  (linear_relu_stack): Sequential(\n",
       "    (0): Linear(in_features=3, out_features=64, bias=True)\n",
       "    (1): ReLU()\n",
       "    (2): Linear(in_features=64, out_features=128, bias=True)\n",
       "    (3): ReLU()\n",
       "    (4): Linear(in_features=128, out_features=256, bias=True)\n",
       "    (5): ReLU()\n",
       "    (6): Linear(in_features=256, out_features=512, bias=True)\n",
       "    (7): ReLU()\n",
       "    (8): Linear(in_features=512, out_features=110, bias=True)\n",
       "  )\n",
       ")"
      ]
     },
     "execution_count": 4,
     "metadata": {},
     "output_type": "execute_result"
    }
   ],
   "source": [
    "model = Net()\n",
    "model.load_state_dict(torch.load(\"/arc/home/aydanmckay/torchmodel/torchmodelWL1smallscalecutsep5.pth\"))\n",
    "model.eval()"
   ]
  },
  {
   "cell_type": "code",
   "execution_count": 103,
   "id": "f8fe2f35-a8b6-42ba-95f8-a0cacc436fa8",
   "metadata": {},
   "outputs": [],
   "source": [
    "preds = []\n",
    "covbp = np.zeros((55,55))\n",
    "covrp = np.zeros((55,55))\n",
    "covms = []\n",
    "with torch.no_grad():\n",
    "    for X, y, z in loaded_data:\n",
    "        pred = model(X)\n",
    "        preds.append(pred)\n",
    "        for m in z:\n",
    "            for i in range(len(m[:55])):\n",
    "                covbp[i][i] += m[i].item()**2\n",
    "                covrp[i][i] += m[55+i].item()**2\n",
    "            break\n",
    "        break"
   ]
  },
  {
   "cell_type": "code",
   "execution_count": 104,
   "id": "54c8f4dd-7c44-4f44-9a6b-dcf5bedf985c",
   "metadata": {},
   "outputs": [
    {
     "data": {
      "text/plain": [
       "(55, 55)"
      ]
     },
     "execution_count": 104,
     "metadata": {},
     "output_type": "execute_result"
    }
   ],
   "source": [
    "covbp.shape"
   ]
  },
  {
   "cell_type": "code",
   "execution_count": 105,
   "id": "72ed98f7-b419-4fdf-b470-179af525be2c",
   "metadata": {},
   "outputs": [
    {
     "data": {
      "text/plain": [
       "'DECam, Els_Custom_W09_S2, Euclid_VIS, Gaia_2, Gaia_DR3_Vega, Halpha_Custom_AB, H_Custom, Hipparcos_Tycho, HST_ACSWFC, HST_HUGS_Std, HST_WFC3UVIS, HST_WFPC2, IPHAS, JKC, JKC_Std, JPAS, JPLUS, JWST_NIRCAM, PanSTARRS1, PanSTARRS1_Std, Pristine, SDSS, SDSS_Std, Sky_Mapper, Stromgren, Stromgren_Std, WFIRST'"
      ]
     },
     "execution_count": 105,
     "metadata": {},
     "output_type": "execute_result"
    }
   ],
   "source": [
    "PhotometricSystem.get_available_systems()"
   ]
  },
  {
   "cell_type": "code",
   "execution_count": 106,
   "id": "6f61c145-e8f9-4293-9dee-960ed8c657f5",
   "metadata": {},
   "outputs": [],
   "source": [
    "phot_system_list = [\n",
    "    PhotometricSystem.Gaia_2,\n",
    "    PhotometricSystem.Gaia_DR3_Vega,\n",
    "    PhotometricSystem.PanSTARRS1,\n",
    "    PhotometricSystem.PanSTARRS1_Std,\n",
    "    PhotometricSystem.Pristine,\n",
    "    PhotometricSystem.SDSS,\n",
    "    PhotometricSystem.SDSS_Std\n",
    "]"
   ]
  },
  {
   "cell_type": "code",
   "execution_count": 107,
   "id": "fdcfaab9-361d-4653-a808-8fe7b13ba907",
   "metadata": {},
   "outputs": [
    {
     "data": {
      "text/plain": [
       "55"
      ]
     },
     "execution_count": 107,
     "metadata": {},
     "output_type": "execute_result"
    }
   ],
   "source": [
    "len(preds[0][0].numpy()[55:])"
   ]
  },
  {
   "cell_type": "code",
   "execution_count": 108,
   "id": "c40c11cf-771e-4eda-9a3a-3f64d6d04a31",
   "metadata": {},
   "outputs": [],
   "source": [
    "df = pd.DataFrame({'source_id':1,'bp_coefficients':[preds[0][0].numpy()[:55]],'bp_standard_deviation':np.std(preds[0][0].numpy()[:55]),'bp_coefficient_covariances':[covbp],'rp_coefficients':[preds[0][0].numpy()[55:]],'rp_coefficient_covariances':[covrp],'rp_standard_deviation':np.std(preds[0][0].numpy()[55:])})"
   ]
  },
  {
   "cell_type": "code",
   "execution_count": 109,
   "id": "98d74f77-d3f0-43eb-95e1-dab6e76eafe4",
   "metadata": {},
   "outputs": [
    {
     "data": {
      "text/html": [
       "<div>\n",
       "<style scoped>\n",
       "    .dataframe tbody tr th:only-of-type {\n",
       "        vertical-align: middle;\n",
       "    }\n",
       "\n",
       "    .dataframe tbody tr th {\n",
       "        vertical-align: top;\n",
       "    }\n",
       "\n",
       "    .dataframe thead th {\n",
       "        text-align: right;\n",
       "    }\n",
       "</style>\n",
       "<table border=\"1\" class=\"dataframe\">\n",
       "  <thead>\n",
       "    <tr style=\"text-align: right;\">\n",
       "      <th></th>\n",
       "      <th>source_id</th>\n",
       "      <th>bp_coefficients</th>\n",
       "      <th>bp_standard_deviation</th>\n",
       "      <th>bp_coefficient_covariances</th>\n",
       "      <th>rp_coefficients</th>\n",
       "      <th>rp_coefficient_covariances</th>\n",
       "      <th>rp_standard_deviation</th>\n",
       "    </tr>\n",
       "  </thead>\n",
       "  <tbody>\n",
       "    <tr>\n",
       "      <th>0</th>\n",
       "      <td>1</td>\n",
       "      <td>[-0.66917336, 0.48170173, 0.3844219, -0.878041...</td>\n",
       "      <td>0.395025</td>\n",
       "      <td>[[0.8794816779873713, 0.0, 0.0, 0.0, 0.0, 0.0,...</td>\n",
       "      <td>[-0.5746207, 0.38471243, 0.55732507, -0.361483...</td>\n",
       "      <td>[[0.8618410848556302, 0.0, 0.0, 0.0, 0.0, 0.0,...</td>\n",
       "      <td>0.332891</td>\n",
       "    </tr>\n",
       "  </tbody>\n",
       "</table>\n",
       "</div>"
      ],
      "text/plain": [
       "   source_id                                    bp_coefficients  \\\n",
       "0          1  [-0.66917336, 0.48170173, 0.3844219, -0.878041...   \n",
       "\n",
       "   bp_standard_deviation                         bp_coefficient_covariances  \\\n",
       "0               0.395025  [[0.8794816779873713, 0.0, 0.0, 0.0, 0.0, 0.0,...   \n",
       "\n",
       "                                     rp_coefficients  \\\n",
       "0  [-0.5746207, 0.38471243, 0.55732507, -0.361483...   \n",
       "\n",
       "                          rp_coefficient_covariances  rp_standard_deviation  \n",
       "0  [[0.8618410848556302, 0.0, 0.0, 0.0, 0.0, 0.0,...               0.332891  "
      ]
     },
     "execution_count": 109,
     "metadata": {},
     "output_type": "execute_result"
    }
   ],
   "source": [
    "df"
   ]
  },
  {
   "cell_type": "code",
   "execution_count": 110,
   "id": "3baf749d-06c5-4074-9500-8f05084d6e15",
   "metadata": {},
   "outputs": [],
   "source": [
    "f = '/arc/home/aydanmckay/XpContinuousMeanSpectrum_407725-409897.csv'"
   ]
  },
  {
   "cell_type": "code",
   "execution_count": 111,
   "id": "7b62083e-e308-4259-a6d2-c902da83c40b",
   "metadata": {},
   "outputs": [
    {
     "name": "stdout",
     "output_type": "stream",
     "text": [
      "                              \r"
     ]
    },
    {
     "data": {
      "text/html": [
       "<div>\n",
       "<style scoped>\n",
       "    .dataframe tbody tr th:only-of-type {\n",
       "        vertical-align: middle;\n",
       "    }\n",
       "\n",
       "    .dataframe tbody tr th {\n",
       "        vertical-align: top;\n",
       "    }\n",
       "\n",
       "    .dataframe thead th {\n",
       "        text-align: right;\n",
       "    }\n",
       "</style>\n",
       "<table border=\"1\" class=\"dataframe\">\n",
       "  <thead>\n",
       "    <tr style=\"text-align: right;\">\n",
       "      <th></th>\n",
       "      <th>source_id</th>\n",
       "      <th>Pristine_mag_CaHK</th>\n",
       "      <th>Pristine_flux_CaHK</th>\n",
       "      <th>Pristine_flux_error_CaHK</th>\n",
       "    </tr>\n",
       "  </thead>\n",
       "  <tbody>\n",
       "    <tr>\n",
       "      <th>0</th>\n",
       "      <td>1</td>\n",
       "      <td>21.31737</td>\n",
       "      <td>2.164373e-19</td>\n",
       "      <td>5.092641e-19</td>\n",
       "    </tr>\n",
       "  </tbody>\n",
       "</table>\n",
       "</div>"
      ],
      "text/plain": [
       "   source_id  Pristine_mag_CaHK  Pristine_flux_CaHK  Pristine_flux_error_CaHK\n",
       "0          1           21.31737        2.164373e-19              5.092641e-19"
      ]
     },
     "execution_count": 111,
     "metadata": {},
     "output_type": "execute_result"
    }
   ],
   "source": [
    "# synthetic_photometry = generate(f, photometric_system=phot_system_list)\n",
    "synthetic_photometry = generate(df, photometric_system=PhotometricSystem.Pristine)\n",
    "synthetic_photometry"
   ]
  },
  {
   "cell_type": "code",
   "execution_count": 63,
   "id": "0c2d01c9-1844-4ff0-9e00-24b3820f67bf",
   "metadata": {},
   "outputs": [],
   "source": [
    "from gaiaxpy.core.satellite import BANDS"
   ]
  },
  {
   "cell_type": "code",
   "execution_count": 64,
   "id": "f7a0cce2-38a4-4201-930f-95193ef84db1",
   "metadata": {},
   "outputs": [
    {
     "name": "stdout",
     "output_type": "stream",
     "text": [
      "bp\n",
      "rp\n"
     ]
    }
   ],
   "source": [
    "for band in BANDS:\n",
    "    print(band)"
   ]
  },
  {
   "cell_type": "code",
   "execution_count": null,
   "id": "cd9335af-5fa7-48ec-845b-e48511f0aa72",
   "metadata": {},
   "outputs": [],
   "source": []
  }
 ],
 "metadata": {
  "kernelspec": {
   "display_name": "Python 3 (ipykernel)",
   "language": "python",
   "name": "python3"
  },
  "language_info": {
   "codemirror_mode": {
    "name": "ipython",
    "version": 3
   },
   "file_extension": ".py",
   "mimetype": "text/x-python",
   "name": "python",
   "nbconvert_exporter": "python",
   "pygments_lexer": "ipython3",
   "version": "3.9.13"
  }
 },
 "nbformat": 4,
 "nbformat_minor": 5
}
