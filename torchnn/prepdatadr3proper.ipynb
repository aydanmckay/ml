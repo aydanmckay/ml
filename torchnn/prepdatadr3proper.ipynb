{
 "cells": [
  {
   "cell_type": "markdown",
   "id": "68d6ff70-d455-4f9c-a6c1-d14a8b47c829",
   "metadata": {
    "tags": []
   },
   "source": [
    "### Preparing the data in HDF5 Formatting\n",
    "Switching the .fits file to an HDF5 for better storage management and mainly practice"
   ]
  },
  {
   "cell_type": "markdown",
   "id": "7d43e9cf-061d-42dc-a21c-7e8a119e2e3f",
   "metadata": {
    "tags": []
   },
   "source": [
    "Importing the appropriate packages."
   ]
  },
  {
   "cell_type": "code",
   "execution_count": 1,
   "id": "0f53ab21-e249-4b49-b746-6ad2a5d2d20f",
   "metadata": {},
   "outputs": [],
   "source": [
    "from astropy.table import Table\n",
    "from astropy.io import fits\n",
    "import numpy as np\n",
    "from sklearn.model_selection import train_test_split\n",
    "import pandas as pd\n",
    "import h5py\n",
    "from sklearn.preprocessing import MinMaxScaler"
   ]
  },
  {
   "cell_type": "code",
   "execution_count": 2,
   "id": "8c8c3405-9409-4188-a894-799384ac4ea0",
   "metadata": {},
   "outputs": [],
   "source": [
    "# data = Table.read('/arc/home/aydanmckay/gaiahike/bp_rp_apogee.fits').to_pandas()\n",
    "data = Table.read('/arc/home/aydanmckay/bp_rp_apogee_filtered.fits').to_pandas()"
   ]
  },
  {
   "cell_type": "code",
   "execution_count": 3,
   "id": "e4366815-6ab9-4b24-a20d-57cf99b87c00",
   "metadata": {},
   "outputs": [
    {
     "data": {
      "text/plain": [
       "(443406, 236)"
      ]
     },
     "execution_count": 3,
     "metadata": {},
     "output_type": "execute_result"
    }
   ],
   "source": [
    "data.shape"
   ]
  },
  {
   "cell_type": "code",
   "execution_count": 22,
   "id": "a8e900f1-909f-406d-870e-6266bdd8df3e",
   "metadata": {},
   "outputs": [
    {
     "name": "stdout",
     "output_type": "stream",
     "text": [
      "<class 'pandas.core.frame.DataFrame'>\n",
      "Int64Index: 342402 entries, 0 to 443405\n",
      "Columns: 236 entries, dr3_source_id to gaiaedr3_phot_g_mean_mag\n",
      "dtypes: float32(10), float64(223), int64(1), object(2)\n",
      "memory usage: 606.1+ MB\n"
     ]
    }
   ],
   "source": [
    "data.info()"
   ]
  },
  {
   "cell_type": "code",
   "execution_count": 5,
   "id": "517ebfde-2b9a-4007-891b-6977b0044fc6",
   "metadata": {},
   "outputs": [
    {
     "data": {
      "text/plain": [
       "(342402, 236)"
      ]
     },
     "execution_count": 5,
     "metadata": {},
     "output_type": "execute_result"
    }
   ],
   "source": [
    "with pd.option_context('mode.use_inf_as_na', True):\n",
    "    data.dropna(inplace=True)\n",
    "data.shape"
   ]
  },
  {
   "cell_type": "markdown",
   "id": "886ef1da-edff-4d39-8075-0521c11a61bd",
   "metadata": {},
   "source": [
    "needs to be 342402 ^^"
   ]
  },
  {
   "cell_type": "code",
   "execution_count": 6,
   "id": "6c45ecbd-b1a2-46fa-be18-ff47ad2c8466",
   "metadata": {},
   "outputs": [],
   "source": [
    "labels = [\"bp_1\", \"bp_2\", \"bp_3\", \"bp_4\", \"bp_5\", \"bp_6\", \"bp_7\",\n",
    "          \"bp_8\", \"bp_9\", \"bp_10\", \"bp_11\", \"bp_12\", \"bp_13\", \"bp_14\",\n",
    "          \"bp_15\", \"bp_16\", \"bp_17\", \"bp_18\", \"bp_19\", \"bp_20\", \"bp_21\",\n",
    "          \"bp_22\", \"bp_23\", \"bp_24\", \"bp_25\", \"bp_26\", \"bp_27\", \"bp_28\",\n",
    "          \"bp_29\", \"bp_30\", \"bp_31\", \"bp_32\", \"bp_33\", \"bp_34\", \"bp_35\",\n",
    "          \"bp_36\", \"bp_37\", \"bp_38\", \"bp_39\", \"bp_40\", \"bp_41\", \"bp_42\",\n",
    "          \"bp_43\", \"bp_44\", \"bp_45\", \"bp_46\", \"bp_47\", \"bp_48\", \"bp_49\",\n",
    "          \"bp_50\", \"bp_51\", \"bp_52\", \"bp_53\", \"bp_54\", \"bp_55\", \"rp_1\",\n",
    "          \"rp_2\", \"rp_3\", \"rp_4\", \"rp_5\", \"rp_6\", \"rp_7\", \"rp_8\",\n",
    "          \"rp_9\", \"rp_10\", \"rp_11\", \"rp_12\", \"rp_13\", \"rp_14\", \"rp_15\",\n",
    "          \"rp_16\", \"rp_17\", \"rp_18\", \"rp_19\", \"rp_20\", \"rp_21\", \"rp_22\",\n",
    "          \"rp_23\", \"rp_24\", \"rp_25\", \"rp_26\", \"rp_27\", \"rp_28\", \"rp_29\",\n",
    "          \"rp_30\", \"rp_31\", \"rp_32\", \"rp_33\", \"rp_34\", \"rp_35\", \"rp_36\",\n",
    "          \"rp_37\", \"rp_38\", \"rp_39\", \"rp_40\", \"rp_41\", \"rp_42\", \"rp_43\",\n",
    "          \"rp_44\", \"rp_45\", \"rp_46\", \"rp_47\", \"rp_48\", \"rp_49\", \"rp_50\",\n",
    "          \"rp_51\", \"rp_52\", \"rp_53\", \"rp_54\", \"rp_55\"]\n",
    "elabels = [\"bpe_1\", \"bpe_2\", \"bpe_3\", \"bpe_4\", \"bpe_5\", \"bpe_6\", \"bpe_7\",\n",
    "          \"bpe_8\", \"bpe_9\", \"bpe_10\", \"bpe_11\", \"bpe_12\", \"bpe_13\", \"bpe_14\",\n",
    "          \"bpe_15\", \"bpe_16\", \"bpe_17\", \"bpe_18\", \"bpe_19\", \"bpe_20\", \"bpe_21\",\n",
    "          \"bpe_22\", \"bpe_23\", \"bpe_24\", \"bpe_25\", \"bpe_26\", \"bpe_27\", \"bpe_28\",\n",
    "          \"bpe_29\", \"bpe_30\", \"bpe_31\", \"bpe_32\", \"bpe_33\", \"bpe_34\", \"bpe_35\",\n",
    "          \"bpe_36\", \"bpe_37\", \"bpe_38\", \"bpe_39\", \"bpe_40\", \"bpe_41\", \"bpe_42\",\n",
    "          \"bpe_43\", \"bpe_44\", \"bpe_45\", \"bpe_46\", \"bpe_47\", \"bpe_48\", \"bpe_49\",\n",
    "          \"bpe_50\", \"bpe_51\", \"bpe_52\", \"bpe_53\", \"bpe_54\", \"bpe_55\", \"rpe_1\",\n",
    "          \"rpe_2\", \"rpe_3\", \"rpe_4\", \"rpe_5\", \"rpe_6\", \"rpe_7\", \"rpe_8\",\n",
    "          \"rpe_9\", \"rpe_10\", \"rpe_11\", \"rpe_12\", \"rpe_13\", \"rpe_14\", \"rpe_15\",\n",
    "          \"rpe_16\", \"rpe_17\", \"rpe_18\", \"rpe_19\", \"rpe_20\", \"rpe_21\", \"rpe_22\",\n",
    "          \"rpe_23\", \"rpe_24\", \"rpe_25\", \"rpe_26\", \"rpe_27\", \"rpe_28\", \"rpe_29\",\n",
    "          \"rpe_30\", \"rpe_31\", \"rpe_32\", \"rpe_33\", \"rpe_34\", \"rpe_35\", \"rpe_36\",\n",
    "          \"rpe_37\", \"rpe_38\", \"rpe_39\", \"rpe_40\", \"rpe_41\", \"rpe_42\", \"rpe_43\",\n",
    "          \"rpe_44\", \"rpe_45\", \"rpe_46\", \"rpe_47\", \"rpe_48\", \"rpe_49\", \"rpe_50\",\n",
    "          \"rpe_51\", \"rpe_52\", \"rpe_53\", \"rpe_54\", \"rpe_55\"]"
   ]
  },
  {
   "cell_type": "code",
   "execution_count": 7,
   "id": "9aad6685-ab81-44de-b3eb-0957ae45fa8c",
   "metadata": {},
   "outputs": [],
   "source": [
    "# for label in elabels:\n",
    "#     data = data[(data[label] < 10) & (data[label] > -10)]\n",
    "# data.shape"
   ]
  },
  {
   "cell_type": "code",
   "execution_count": 8,
   "id": "99e3cc55-b355-4c36-9f7f-430d9cfb987f",
   "metadata": {},
   "outputs": [],
   "source": [
    "# for small datasets\n",
    "# data = data.sample(n=50000,random_state=42)"
   ]
  },
  {
   "cell_type": "code",
   "execution_count": 9,
   "id": "d1b39094-2024-4fe1-8d1d-96d47ddd5886",
   "metadata": {},
   "outputs": [
    {
     "data": {
      "text/plain": [
       "(342402, 236)"
      ]
     },
     "execution_count": 9,
     "metadata": {},
     "output_type": "execute_result"
    }
   ],
   "source": [
    "data.shape"
   ]
  },
  {
   "cell_type": "code",
   "execution_count": 10,
   "id": "39cb2a67-849f-45b9-8204-6677a7369de7",
   "metadata": {},
   "outputs": [],
   "source": [
    "# feh = data['fe_h']\n",
    "feh = data['feh']\n",
    "teff = data['teff']\n",
    "# am = data['alpha_m']\n",
    "am = data['alpha_fe']\n",
    "logg = data['logg']\n",
    "gmag = data['gaiaedr3_phot_g_mean_mag']\n",
    "normalize = lambda x, n: x / (10 ** (8.5 - n / 2.5))\n",
    "xp = []\n",
    "xpe = []\n",
    "for elabel,label,g in zip(elabels,labels,gmag):\n",
    "    xp.append(data[label])\n",
    "    xpe.append(data[elabel])\n",
    "xp = np.array(xp)\n",
    "xpe = np.array(xpe)"
   ]
  },
  {
   "cell_type": "code",
   "execution_count": 11,
   "id": "0048ad73-fb96-4189-9d04-00019af2c2fe",
   "metadata": {},
   "outputs": [
    {
     "data": {
      "text/plain": [
       "(342402, 110)"
      ]
     },
     "execution_count": 11,
     "metadata": {},
     "output_type": "execute_result"
    }
   ],
   "source": [
    "xp.T.shape"
   ]
  },
  {
   "cell_type": "code",
   "execution_count": 12,
   "id": "05e4b6e5-51f7-4348-927d-582bf9db1ee2",
   "metadata": {},
   "outputs": [],
   "source": [
    "gmag_train, gmag_test, feh_train, feh_test, teff_train, teff_test, am_train, am_test, logg_train, logg_test, xp_train, xp_test, xpe_train, xpe_test = train_test_split(\n",
    "    gmag,\n",
    "    feh,\n",
    "    teff,\n",
    "    am,\n",
    "    logg,\n",
    "    xp.T,\n",
    "    xpe.T,\n",
    "    test_size=0.1,\n",
    "    random_state=42\n",
    ")"
   ]
  },
  {
   "cell_type": "code",
   "execution_count": 13,
   "id": "da3679b7-7c82-4f75-a60f-864bb6988e52",
   "metadata": {},
   "outputs": [],
   "source": [
    "gmag_train, gmag_valid, feh_train, feh_valid, teff_train, teff_valid, am_train, am_valid, logg_train, logg_valid, xp_train, xp_valid, xpe_train, xpe_valid = train_test_split(\n",
    "    gmag_train,\n",
    "    feh_train,\n",
    "    teff_train,\n",
    "    am_train,\n",
    "    logg_train,\n",
    "    xp_train,\n",
    "    xpe_train,\n",
    "    test_size=0.1,\n",
    "    random_state=42\n",
    ")"
   ]
  },
  {
   "cell_type": "code",
   "execution_count": 14,
   "id": "5b1259b8-17ee-4992-98a6-386104c509fc",
   "metadata": {},
   "outputs": [
    {
     "data": {
      "text/plain": [
       "(277344, 110)"
      ]
     },
     "execution_count": 14,
     "metadata": {},
     "output_type": "execute_result"
    }
   ],
   "source": [
    "xp_train.shape"
   ]
  },
  {
   "cell_type": "code",
   "execution_count": 15,
   "id": "58887ba8-9ef9-4bb7-a33a-0d46c6470f95",
   "metadata": {},
   "outputs": [
    {
     "name": "stdout",
     "output_type": "stream",
     "text": [
      "<HDF5 group \"/\" (3 members)>\n",
      "<HDF5 group \"/group_1\" (4 members)>\n",
      "<HDF5 group \"/group_2\" (4 members)>\n",
      "<HDF5 dataset \"data\": shape (4, 277344), type \"<f4\">\n",
      "<HDF5 dataset \"label\": shape (110, 30817), type \"<f8\">\n",
      "<HDF5 dataset \"e_label\": shape (110, 34241), type \"<f8\">\n",
      "<HDF5 dataset \"gmag\": shape (277344,), type \"<f8\">\n"
     ]
    }
   ],
   "source": [
    "# Create a HDF5 file\n",
    "hierarchicalFileName  = \"/arc/home/aydanmckay/filtered_apogee_bprp_gmag.h5\"\n",
    "with h5py.File(hierarchicalFileName, 'w') as hierarchicalFile:\n",
    "    # Create a group under root\n",
    "    \n",
    "    train = hierarchicalFile.create_group(\"group_1\")\n",
    "    valid = hierarchicalFile.create_group(\"group_2\")\n",
    "    test = hierarchicalFile.create_group(\"group_3\")\n",
    "    \n",
    "    train['data'] = np.array(\n",
    "        [feh_train,\n",
    "         logg_train,\n",
    "         teff_train,\n",
    "         am_train\n",
    "        ]\n",
    "    )\n",
    "    valid['data'] = np.array(\n",
    "        [feh_valid,\n",
    "         logg_valid,\n",
    "         teff_valid,\n",
    "         am_valid\n",
    "        ]\n",
    "    )\n",
    "    test['data'] = np.array(\n",
    "        [feh_test,\n",
    "         logg_test,\n",
    "         teff_test,\n",
    "         am_test\n",
    "        ]\n",
    "    )\n",
    "    train['label'] = xp_train.T\n",
    "    train['e_label'] = xpe_train.T\n",
    "    valid['label'] = xp_valid.T\n",
    "    valid['e_label'] = xpe_valid.T\n",
    "    test['label'] = xp_test.T\n",
    "    test['e_label'] = xpe_test.T\n",
    "    \n",
    "    train['gmag'] = gmag_train\n",
    "    valid['gmag'] = gmag_valid\n",
    "    test['gmag'] = gmag_test\n",
    "\n",
    "    print(hierarchicalFile[\"/\"])\n",
    "    print(train)\n",
    "    print(valid)\n",
    "    print(train['data'])\n",
    "    print(valid[\"label\"])\n",
    "    print(test['e_label'])\n",
    "    print(train['gmag'])"
   ]
  },
  {
   "cell_type": "code",
   "execution_count": 1,
   "id": "88e03dc1-ebca-4f1b-bcfd-b5e7df8d014b",
   "metadata": {},
   "outputs": [
    {
     "ename": "NameError",
     "evalue": "name 'MinMaxScaler' is not defined",
     "output_type": "error",
     "traceback": [
      "\u001b[0;31m---------------------------------------------------------------------------\u001b[0m",
      "\u001b[0;31mNameError\u001b[0m                                 Traceback (most recent call last)",
      "Cell \u001b[0;32mIn [1], line 1\u001b[0m\n\u001b[0;32m----> 1\u001b[0m scalerlist \u001b[38;5;241m=\u001b[39m [MinMaxScaler() \u001b[38;5;28;01mfor\u001b[39;00m _ \u001b[38;5;129;01min\u001b[39;00m \u001b[38;5;28mrange\u001b[39m(\u001b[38;5;241m110\u001b[39m)]\n\u001b[1;32m      2\u001b[0m \u001b[38;5;28;01mwith\u001b[39;00m h5py\u001b[38;5;241m.\u001b[39mFile(\u001b[38;5;124m\"\u001b[39m\u001b[38;5;124m/arc/home/aydanmckay/filtered_apogee_bprp_gmag.h5\u001b[39m\u001b[38;5;124m\"\u001b[39m, \u001b[38;5;124m'\u001b[39m\u001b[38;5;124mr\u001b[39m\u001b[38;5;124m'\u001b[39m) \u001b[38;5;28;01mas\u001b[39;00m f:\n\u001b[1;32m      3\u001b[0m     d \u001b[38;5;241m=\u001b[39m f[\u001b[38;5;124m'\u001b[39m\u001b[38;5;124mgroup_1\u001b[39m\u001b[38;5;124m'\u001b[39m][\u001b[38;5;124m'\u001b[39m\u001b[38;5;124mlabel\u001b[39m\u001b[38;5;124m'\u001b[39m]\n",
      "Cell \u001b[0;32mIn [1], line 1\u001b[0m, in \u001b[0;36m<listcomp>\u001b[0;34m(.0)\u001b[0m\n\u001b[0;32m----> 1\u001b[0m scalerlist \u001b[38;5;241m=\u001b[39m [\u001b[43mMinMaxScaler\u001b[49m() \u001b[38;5;28;01mfor\u001b[39;00m _ \u001b[38;5;129;01min\u001b[39;00m \u001b[38;5;28mrange\u001b[39m(\u001b[38;5;241m110\u001b[39m)]\n\u001b[1;32m      2\u001b[0m \u001b[38;5;28;01mwith\u001b[39;00m h5py\u001b[38;5;241m.\u001b[39mFile(\u001b[38;5;124m\"\u001b[39m\u001b[38;5;124m/arc/home/aydanmckay/filtered_apogee_bprp_gmag.h5\u001b[39m\u001b[38;5;124m\"\u001b[39m, \u001b[38;5;124m'\u001b[39m\u001b[38;5;124mr\u001b[39m\u001b[38;5;124m'\u001b[39m) \u001b[38;5;28;01mas\u001b[39;00m f:\n\u001b[1;32m      3\u001b[0m     d \u001b[38;5;241m=\u001b[39m f[\u001b[38;5;124m'\u001b[39m\u001b[38;5;124mgroup_1\u001b[39m\u001b[38;5;124m'\u001b[39m][\u001b[38;5;124m'\u001b[39m\u001b[38;5;124mlabel\u001b[39m\u001b[38;5;124m'\u001b[39m]\n",
      "\u001b[0;31mNameError\u001b[0m: name 'MinMaxScaler' is not defined"
     ]
    }
   ],
   "source": [
    "scalerlist = [MinMaxScaler() for _ in range(110)]\n",
    "with h5py.File(\"/arc/home/aydanmckay/filtered_apogee_bprp_gmag.h5\", 'r') as f:\n",
    "    d = f['group_1']['label']\n",
    "    dn = f['group_1']['gmag']\n",
    "    dnset = dn[:]\n",
    "    dset = d[:]\n",
    "    ydat = np.array([\n",
    "        scaler.fit_transform(d[[it]].T).flatten() for it,scaler in enumerate(scalerlist)\n",
    "    ])\n",
    "    print(ydat.shape[1])\n",
    "    print(f['group_1']['label'].shape[1])\n",
    "    print(f['group_1']['data'].T.shape)"
   ]
  },
  {
   "cell_type": "code",
   "execution_count": 17,
   "id": "5472bc6a-ee08-453e-ba98-8faffe8eae79",
   "metadata": {},
   "outputs": [
    {
     "data": {
      "text/plain": [
       "array([11.97159958, 11.47179985, 12.67520046, ..., 14.96010017,\n",
       "       15.31709957, 12.98519993])"
      ]
     },
     "execution_count": 17,
     "metadata": {},
     "output_type": "execute_result"
    }
   ],
   "source": [
    "dnset"
   ]
  },
  {
   "cell_type": "code",
   "execution_count": 18,
   "id": "e906b63c-a2ad-4e35-a5e1-bcfc6d4d1664",
   "metadata": {},
   "outputs": [
    {
     "data": {
      "text/plain": [
       "(110, 277344)"
      ]
     },
     "execution_count": 18,
     "metadata": {},
     "output_type": "execute_result"
    }
   ],
   "source": [
    "dset.shape"
   ]
  },
  {
   "cell_type": "code",
   "execution_count": 19,
   "id": "039b9980-13b4-47a0-b5f4-39aaa819ab62",
   "metadata": {},
   "outputs": [
    {
     "data": {
      "text/plain": [
       "array([[ 2.02609231e+04,  2.69782349e+04,  9.86446161e+03, ...,\n",
       "         7.13351425e+02,  3.89955423e+02,  7.57215395e+03],\n",
       "       [-3.65745808e+03,  7.91457178e+02, -4.22764807e+02, ...,\n",
       "         1.70263116e+02,  7.25752556e+01, -7.15883206e+02],\n",
       "       [ 1.32147719e+02, -1.33373084e+03, -4.08674320e+02, ...,\n",
       "        -2.53846923e+01,  3.26919076e+00, -1.82072189e+02],\n",
       "       ...,\n",
       "       [-2.44042793e-01, -2.59422665e-01, -2.75467906e-01, ...,\n",
       "         1.94004979e-01, -1.72063488e-01,  3.15333724e-01],\n",
       "       [ 5.17330957e-01,  4.15424507e-01,  4.90012641e-02, ...,\n",
       "         6.51290154e-02,  3.22979936e-02,  5.82865063e-02],\n",
       "       [ 1.63693117e-01,  1.06058644e-01,  8.65011167e-02, ...,\n",
       "         6.83874160e-02, -4.01585216e-02,  1.84792293e-01]])"
      ]
     },
     "execution_count": 19,
     "metadata": {},
     "output_type": "execute_result"
    }
   ],
   "source": [
    "dset"
   ]
  },
  {
   "cell_type": "code",
   "execution_count": 20,
   "id": "c9e5e0f8-a8e6-4f30-8049-0d4056718fb1",
   "metadata": {
    "tags": []
   },
   "outputs": [
    {
     "data": {
      "text/plain": [
       "array([[5.66649602e-03, 7.54559994e-03, 2.75818503e-03, ...,\n",
       "        1.98249206e-04, 1.07782258e-04, 2.11693382e-03],\n",
       "       [9.61146515e-01, 9.64305799e-01, 9.63443550e-01, ...,\n",
       "        9.63864673e-01, 9.63795303e-01, 9.63235399e-01],\n",
       "       [1.42388271e-01, 1.37683569e-01, 1.40652516e-01, ...,\n",
       "        1.41882674e-01, 1.41974638e-01, 1.41379790e-01],\n",
       "       ...,\n",
       "       [2.58098531e-01, 2.58089488e-01, 2.58080054e-01, ...,\n",
       "        2.58356089e-01, 2.58140852e-01, 2.58427426e-01],\n",
       "       [1.96157082e-01, 1.96030872e-01, 1.95577059e-01, ...,\n",
       "        1.95597033e-01, 1.95556372e-01, 1.95588559e-01],\n",
       "       [4.31941235e-01, 4.31820620e-01, 4.31779690e-01, ...,\n",
       "        4.31741783e-01, 4.31514621e-01, 4.31985391e-01]])"
      ]
     },
     "execution_count": 20,
     "metadata": {},
     "output_type": "execute_result"
    }
   ],
   "source": [
    "ydat"
   ]
  },
  {
   "cell_type": "code",
   "execution_count": 21,
   "id": "38acff94-ac70-44cf-9b8b-f1e4cc0b646b",
   "metadata": {},
   "outputs": [
    {
     "data": {
      "text/plain": [
       "(277344, 110)"
      ]
     },
     "execution_count": 21,
     "metadata": {},
     "output_type": "execute_result"
    }
   ],
   "source": [
    "dset.T.shape"
   ]
  },
  {
   "cell_type": "code",
   "execution_count": null,
   "id": "94963d46-b328-4c47-aec8-20fed14ab57b",
   "metadata": {},
   "outputs": [],
   "source": []
  }
 ],
 "metadata": {
  "kernelspec": {
   "display_name": "Python 3 (ipykernel)",
   "language": "python",
   "name": "python3"
  },
  "language_info": {
   "codemirror_mode": {
    "name": "ipython",
    "version": 3
   },
   "file_extension": ".py",
   "mimetype": "text/x-python",
   "name": "python",
   "nbconvert_exporter": "python",
   "pygments_lexer": "ipython3",
   "version": "3.9.16"
  }
 },
 "nbformat": 4,
 "nbformat_minor": 5
}
