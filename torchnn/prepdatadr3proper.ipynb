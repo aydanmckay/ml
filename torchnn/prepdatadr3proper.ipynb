{
 "cells": [
  {
   "cell_type": "markdown",
   "id": "68d6ff70-d455-4f9c-a6c1-d14a8b47c829",
   "metadata": {
    "tags": []
   },
   "source": [
    "### Preparing the data in HDF5 Formatting\n",
    "Switching the .fits file to an HDF5 for better storage management and mainly practice"
   ]
  },
  {
   "cell_type": "markdown",
   "id": "7d43e9cf-061d-42dc-a21c-7e8a119e2e3f",
   "metadata": {
    "tags": []
   },
   "source": [
    "Importing the appropriate packages."
   ]
  },
  {
   "cell_type": "code",
   "execution_count": 24,
   "id": "0f53ab21-e249-4b49-b746-6ad2a5d2d20f",
   "metadata": {},
   "outputs": [],
   "source": [
    "from astropy.table import Table\n",
    "from astropy.io import fits\n",
    "import numpy as np\n",
    "from sklearn.model_selection import train_test_split\n",
    "import pandas as pd\n",
    "import h5py\n",
    "from sklearn.preprocessing import MinMaxScaler"
   ]
  },
  {
   "cell_type": "code",
   "execution_count": 25,
   "id": "8c8c3405-9409-4188-a894-799384ac4ea0",
   "metadata": {},
   "outputs": [],
   "source": [
    "data = Table.read('/arc/home/aydanmckay/gaiahike/bp_rp_apogee.fits').to_pandas()"
   ]
  },
  {
   "cell_type": "code",
   "execution_count": 26,
   "id": "e4366815-6ab9-4b24-a20d-57cf99b87c00",
   "metadata": {},
   "outputs": [
    {
     "data": {
      "text/plain": [
       "(642528, 230)"
      ]
     },
     "execution_count": 26,
     "metadata": {},
     "output_type": "execute_result"
    }
   ],
   "source": [
    "data.shape"
   ]
  },
  {
   "cell_type": "code",
   "execution_count": 27,
   "id": "a8e900f1-909f-406d-870e-6266bdd8df3e",
   "metadata": {},
   "outputs": [
    {
     "data": {
      "text/html": [
       "<div>\n",
       "<style scoped>\n",
       "    .dataframe tbody tr th:only-of-type {\n",
       "        vertical-align: middle;\n",
       "    }\n",
       "\n",
       "    .dataframe tbody tr th {\n",
       "        vertical-align: top;\n",
       "    }\n",
       "\n",
       "    .dataframe thead th {\n",
       "        text-align: right;\n",
       "    }\n",
       "</style>\n",
       "<table border=\"1\" class=\"dataframe\">\n",
       "  <thead>\n",
       "    <tr style=\"text-align: right;\">\n",
       "      <th></th>\n",
       "      <th>sfd_ebv</th>\n",
       "      <th>gaiaedr3_phot_g_mean_mag</th>\n",
       "      <th>source_id</th>\n",
       "      <th>fe_h</th>\n",
       "      <th>m_h</th>\n",
       "      <th>alpha_m</th>\n",
       "      <th>logg</th>\n",
       "      <th>teff</th>\n",
       "      <th>ra</th>\n",
       "      <th>dec</th>\n",
       "      <th>...</th>\n",
       "      <th>rpe_46</th>\n",
       "      <th>rpe_47</th>\n",
       "      <th>rpe_48</th>\n",
       "      <th>rpe_49</th>\n",
       "      <th>rpe_50</th>\n",
       "      <th>rpe_51</th>\n",
       "      <th>rpe_52</th>\n",
       "      <th>rpe_53</th>\n",
       "      <th>rpe_54</th>\n",
       "      <th>rpe_55</th>\n",
       "    </tr>\n",
       "  </thead>\n",
       "  <tbody>\n",
       "    <tr>\n",
       "      <th>count</th>\n",
       "      <td>535928.000000</td>\n",
       "      <td>642528.000000</td>\n",
       "      <td>6.425280e+05</td>\n",
       "      <td>572305.000000</td>\n",
       "      <td>572279.000000</td>\n",
       "      <td>572028.000000</td>\n",
       "      <td>608715.000000</td>\n",
       "      <td>608715.000000</td>\n",
       "      <td>642528.000000</td>\n",
       "      <td>642528.000000</td>\n",
       "      <td>...</td>\n",
       "      <td>642528.000000</td>\n",
       "      <td>642528.000000</td>\n",
       "      <td>642528.000000</td>\n",
       "      <td>642528.000000</td>\n",
       "      <td>642528.000000</td>\n",
       "      <td>642528.000000</td>\n",
       "      <td>642528.000000</td>\n",
       "      <td>642528.000000</td>\n",
       "      <td>642528.000000</td>\n",
       "      <td>642528.000000</td>\n",
       "    </tr>\n",
       "    <tr>\n",
       "      <th>mean</th>\n",
       "      <td>0.220359</td>\n",
       "      <td>13.210278</td>\n",
       "      <td>2.830327e+18</td>\n",
       "      <td>-0.234036</td>\n",
       "      <td>-0.234631</td>\n",
       "      <td>0.072114</td>\n",
       "      <td>3.094697</td>\n",
       "      <td>5013.174316</td>\n",
       "      <td>175.519527</td>\n",
       "      <td>7.960083</td>\n",
       "      <td>...</td>\n",
       "      <td>4.854111</td>\n",
       "      <td>3.789136</td>\n",
       "      <td>3.838794</td>\n",
       "      <td>3.560125</td>\n",
       "      <td>3.602133</td>\n",
       "      <td>3.097025</td>\n",
       "      <td>2.747941</td>\n",
       "      <td>2.496227</td>\n",
       "      <td>1.032372</td>\n",
       "      <td>0.588982</td>\n",
       "    </tr>\n",
       "    <tr>\n",
       "      <th>std</th>\n",
       "      <td>1.075900</td>\n",
       "      <td>1.901047</td>\n",
       "      <td>1.841647e+18</td>\n",
       "      <td>0.371935</td>\n",
       "      <td>0.375699</td>\n",
       "      <td>0.102390</td>\n",
       "      <td>1.222225</td>\n",
       "      <td>1338.826050</td>\n",
       "      <td>95.943660</td>\n",
       "      <td>41.185402</td>\n",
       "      <td>...</td>\n",
       "      <td>96.112526</td>\n",
       "      <td>67.441620</td>\n",
       "      <td>71.901985</td>\n",
       "      <td>66.543945</td>\n",
       "      <td>66.796387</td>\n",
       "      <td>54.086079</td>\n",
       "      <td>48.531826</td>\n",
       "      <td>42.599335</td>\n",
       "      <td>16.954266</td>\n",
       "      <td>12.840849</td>\n",
       "    </tr>\n",
       "    <tr>\n",
       "      <th>min</th>\n",
       "      <td>0.002474</td>\n",
       "      <td>2.651680</td>\n",
       "      <td>2.851858e+12</td>\n",
       "      <td>-2.468600</td>\n",
       "      <td>-2.468600</td>\n",
       "      <td>-0.714365</td>\n",
       "      <td>-0.482825</td>\n",
       "      <td>3100.844482</td>\n",
       "      <td>0.000103</td>\n",
       "      <td>-87.224808</td>\n",
       "      <td>...</td>\n",
       "      <td>0.091793</td>\n",
       "      <td>0.084758</td>\n",
       "      <td>0.064332</td>\n",
       "      <td>0.065701</td>\n",
       "      <td>0.075551</td>\n",
       "      <td>0.055099</td>\n",
       "      <td>0.053387</td>\n",
       "      <td>0.048981</td>\n",
       "      <td>0.023190</td>\n",
       "      <td>0.011225</td>\n",
       "    </tr>\n",
       "    <tr>\n",
       "      <th>25%</th>\n",
       "      <td>0.029444</td>\n",
       "      <td>11.959400</td>\n",
       "      <td>1.313496e+18</td>\n",
       "      <td>-0.404150</td>\n",
       "      <td>-0.402940</td>\n",
       "      <td>0.004917</td>\n",
       "      <td>2.308385</td>\n",
       "      <td>4412.790039</td>\n",
       "      <td>89.839767</td>\n",
       "      <td>-23.176965</td>\n",
       "      <td>...</td>\n",
       "      <td>0.500238</td>\n",
       "      <td>0.453001</td>\n",
       "      <td>0.441088</td>\n",
       "      <td>0.393016</td>\n",
       "      <td>0.400751</td>\n",
       "      <td>0.367162</td>\n",
       "      <td>0.324858</td>\n",
       "      <td>0.293619</td>\n",
       "      <td>0.110627</td>\n",
       "      <td>0.056413</td>\n",
       "    </tr>\n",
       "    <tr>\n",
       "      <th>50%</th>\n",
       "      <td>0.062410</td>\n",
       "      <td>13.144300</td>\n",
       "      <td>2.536361e+18</td>\n",
       "      <td>-0.174640</td>\n",
       "      <td>-0.176610</td>\n",
       "      <td>0.042937</td>\n",
       "      <td>2.995981</td>\n",
       "      <td>4800.755859</td>\n",
       "      <td>178.490082</td>\n",
       "      <td>16.192937</td>\n",
       "      <td>...</td>\n",
       "      <td>0.972698</td>\n",
       "      <td>0.823608</td>\n",
       "      <td>0.848126</td>\n",
       "      <td>0.764647</td>\n",
       "      <td>0.757259</td>\n",
       "      <td>0.689114</td>\n",
       "      <td>0.592611</td>\n",
       "      <td>0.531611</td>\n",
       "      <td>0.203665</td>\n",
       "      <td>0.104177</td>\n",
       "    </tr>\n",
       "    <tr>\n",
       "      <th>75%</th>\n",
       "      <td>0.208363</td>\n",
       "      <td>14.581500</td>\n",
       "      <td>4.204890e+18</td>\n",
       "      <td>0.009171</td>\n",
       "      <td>0.008376</td>\n",
       "      <td>0.109349</td>\n",
       "      <td>4.314407</td>\n",
       "      <td>5223.474609</td>\n",
       "      <td>261.744846</td>\n",
       "      <td>41.740414</td>\n",
       "      <td>...</td>\n",
       "      <td>2.151097</td>\n",
       "      <td>1.763614</td>\n",
       "      <td>1.771294</td>\n",
       "      <td>1.627090</td>\n",
       "      <td>1.622607</td>\n",
       "      <td>1.431115</td>\n",
       "      <td>1.250225</td>\n",
       "      <td>1.124677</td>\n",
       "      <td>0.462224</td>\n",
       "      <td>0.240940</td>\n",
       "    </tr>\n",
       "    <tr>\n",
       "      <th>max</th>\n",
       "      <td>62.374294</td>\n",
       "      <td>20.164499</td>\n",
       "      <td>6.917528e+18</td>\n",
       "      <td>0.957890</td>\n",
       "      <td>0.968570</td>\n",
       "      <td>0.992785</td>\n",
       "      <td>5.370551</td>\n",
       "      <td>19869.988281</td>\n",
       "      <td>359.999181</td>\n",
       "      <td>87.608246</td>\n",
       "      <td>...</td>\n",
       "      <td>44037.816406</td>\n",
       "      <td>31293.429688</td>\n",
       "      <td>33479.109375</td>\n",
       "      <td>28020.875000</td>\n",
       "      <td>29163.664062</td>\n",
       "      <td>23545.835938</td>\n",
       "      <td>22205.037109</td>\n",
       "      <td>19124.441406</td>\n",
       "      <td>7081.585449</td>\n",
       "      <td>5876.122559</td>\n",
       "    </tr>\n",
       "  </tbody>\n",
       "</table>\n",
       "<p>8 rows × 230 columns</p>\n",
       "</div>"
      ],
      "text/plain": [
       "             sfd_ebv  gaiaedr3_phot_g_mean_mag     source_id           fe_h  \\\n",
       "count  535928.000000             642528.000000  6.425280e+05  572305.000000   \n",
       "mean        0.220359                 13.210278  2.830327e+18      -0.234036   \n",
       "std         1.075900                  1.901047  1.841647e+18       0.371935   \n",
       "min         0.002474                  2.651680  2.851858e+12      -2.468600   \n",
       "25%         0.029444                 11.959400  1.313496e+18      -0.404150   \n",
       "50%         0.062410                 13.144300  2.536361e+18      -0.174640   \n",
       "75%         0.208363                 14.581500  4.204890e+18       0.009171   \n",
       "max        62.374294                 20.164499  6.917528e+18       0.957890   \n",
       "\n",
       "                 m_h        alpha_m           logg           teff  \\\n",
       "count  572279.000000  572028.000000  608715.000000  608715.000000   \n",
       "mean       -0.234631       0.072114       3.094697    5013.174316   \n",
       "std         0.375699       0.102390       1.222225    1338.826050   \n",
       "min        -2.468600      -0.714365      -0.482825    3100.844482   \n",
       "25%        -0.402940       0.004917       2.308385    4412.790039   \n",
       "50%        -0.176610       0.042937       2.995981    4800.755859   \n",
       "75%         0.008376       0.109349       4.314407    5223.474609   \n",
       "max         0.968570       0.992785       5.370551   19869.988281   \n",
       "\n",
       "                  ra            dec  ...         rpe_46         rpe_47  \\\n",
       "count  642528.000000  642528.000000  ...  642528.000000  642528.000000   \n",
       "mean      175.519527       7.960083  ...       4.854111       3.789136   \n",
       "std        95.943660      41.185402  ...      96.112526      67.441620   \n",
       "min         0.000103     -87.224808  ...       0.091793       0.084758   \n",
       "25%        89.839767     -23.176965  ...       0.500238       0.453001   \n",
       "50%       178.490082      16.192937  ...       0.972698       0.823608   \n",
       "75%       261.744846      41.740414  ...       2.151097       1.763614   \n",
       "max       359.999181      87.608246  ...   44037.816406   31293.429688   \n",
       "\n",
       "              rpe_48         rpe_49         rpe_50         rpe_51  \\\n",
       "count  642528.000000  642528.000000  642528.000000  642528.000000   \n",
       "mean        3.838794       3.560125       3.602133       3.097025   \n",
       "std        71.901985      66.543945      66.796387      54.086079   \n",
       "min         0.064332       0.065701       0.075551       0.055099   \n",
       "25%         0.441088       0.393016       0.400751       0.367162   \n",
       "50%         0.848126       0.764647       0.757259       0.689114   \n",
       "75%         1.771294       1.627090       1.622607       1.431115   \n",
       "max     33479.109375   28020.875000   29163.664062   23545.835938   \n",
       "\n",
       "              rpe_52         rpe_53         rpe_54         rpe_55  \n",
       "count  642528.000000  642528.000000  642528.000000  642528.000000  \n",
       "mean        2.747941       2.496227       1.032372       0.588982  \n",
       "std        48.531826      42.599335      16.954266      12.840849  \n",
       "min         0.053387       0.048981       0.023190       0.011225  \n",
       "25%         0.324858       0.293619       0.110627       0.056413  \n",
       "50%         0.592611       0.531611       0.203665       0.104177  \n",
       "75%         1.250225       1.124677       0.462224       0.240940  \n",
       "max     22205.037109   19124.441406    7081.585449    5876.122559  \n",
       "\n",
       "[8 rows x 230 columns]"
      ]
     },
     "execution_count": 27,
     "metadata": {},
     "output_type": "execute_result"
    }
   ],
   "source": [
    "data.describe()"
   ]
  },
  {
   "cell_type": "code",
   "execution_count": 28,
   "id": "517ebfde-2b9a-4007-891b-6977b0044fc6",
   "metadata": {},
   "outputs": [
    {
     "data": {
      "text/plain": [
       "(481813, 230)"
      ]
     },
     "execution_count": 28,
     "metadata": {},
     "output_type": "execute_result"
    }
   ],
   "source": [
    "with pd.option_context('mode.use_inf_as_na', True):\n",
    "    data.dropna(inplace=True)\n",
    "data.shape"
   ]
  },
  {
   "cell_type": "code",
   "execution_count": 29,
   "id": "6c45ecbd-b1a2-46fa-be18-ff47ad2c8466",
   "metadata": {},
   "outputs": [],
   "source": [
    "labels = [\"bp_1\", \"bp_2\", \"bp_3\", \"bp_4\", \"bp_5\", \"bp_6\", \"bp_7\",\n",
    "          \"bp_8\", \"bp_9\", \"bp_10\", \"bp_11\", \"bp_12\", \"bp_13\", \"bp_14\",\n",
    "          \"bp_15\", \"bp_16\", \"bp_17\", \"bp_18\", \"bp_19\", \"bp_20\", \"bp_21\",\n",
    "          \"bp_22\", \"bp_23\", \"bp_24\", \"bp_25\", \"bp_26\", \"bp_27\", \"bp_28\",\n",
    "          \"bp_29\", \"bp_30\", \"bp_31\", \"bp_32\", \"bp_33\", \"bp_34\", \"bp_35\",\n",
    "          \"bp_36\", \"bp_37\", \"bp_38\", \"bp_39\", \"bp_40\", \"bp_41\", \"bp_42\",\n",
    "          \"bp_43\", \"bp_44\", \"bp_45\", \"bp_46\", \"bp_47\", \"bp_48\", \"bp_49\",\n",
    "          \"bp_50\", \"bp_51\", \"bp_52\", \"bp_53\", \"bp_54\", \"bp_55\", \"rp_1\",\n",
    "          \"rp_2\", \"rp_3\", \"rp_4\", \"rp_5\", \"rp_6\", \"rp_7\", \"rp_8\",\n",
    "          \"rp_9\", \"rp_10\", \"rp_11\", \"rp_12\", \"rp_13\", \"rp_14\", \"rp_15\",\n",
    "          \"rp_16\", \"rp_17\", \"rp_18\", \"rp_19\", \"rp_20\", \"rp_21\", \"rp_22\",\n",
    "          \"rp_23\", \"rp_24\", \"rp_25\", \"rp_26\", \"rp_27\", \"rp_28\", \"rp_29\",\n",
    "          \"rp_30\", \"rp_31\", \"rp_32\", \"rp_33\", \"rp_34\", \"rp_35\", \"rp_36\",\n",
    "          \"rp_37\", \"rp_38\", \"rp_39\", \"rp_40\", \"rp_41\", \"rp_42\", \"rp_43\",\n",
    "          \"rp_44\", \"rp_45\", \"rp_46\", \"rp_47\", \"rp_48\", \"rp_49\", \"rp_50\",\n",
    "          \"rp_51\", \"rp_52\", \"rp_53\", \"rp_54\", \"rp_55\"]\n",
    "elabels = [\"bpe_1\", \"bpe_2\", \"bpe_3\", \"bpe_4\", \"bpe_5\", \"bpe_6\", \"bpe_7\",\n",
    "          \"bpe_8\", \"bpe_9\", \"bpe_10\", \"bpe_11\", \"bpe_12\", \"bpe_13\", \"bpe_14\",\n",
    "          \"bpe_15\", \"bpe_16\", \"bpe_17\", \"bpe_18\", \"bpe_19\", \"bpe_20\", \"bpe_21\",\n",
    "          \"bpe_22\", \"bpe_23\", \"bpe_24\", \"bpe_25\", \"bpe_26\", \"bpe_27\", \"bpe_28\",\n",
    "          \"bpe_29\", \"bpe_30\", \"bpe_31\", \"bpe_32\", \"bpe_33\", \"bpe_34\", \"bpe_35\",\n",
    "          \"bpe_36\", \"bpe_37\", \"bpe_38\", \"bpe_39\", \"bpe_40\", \"bpe_41\", \"bpe_42\",\n",
    "          \"bpe_43\", \"bpe_44\", \"bpe_45\", \"bpe_46\", \"bpe_47\", \"bpe_48\", \"bpe_49\",\n",
    "          \"bpe_50\", \"bpe_51\", \"bpe_52\", \"bpe_53\", \"bpe_54\", \"bpe_55\", \"rpe_1\",\n",
    "          \"rpe_2\", \"rpe_3\", \"rpe_4\", \"rpe_5\", \"rpe_6\", \"rpe_7\", \"rpe_8\",\n",
    "          \"rpe_9\", \"rpe_10\", \"rpe_11\", \"rpe_12\", \"rpe_13\", \"rpe_14\", \"rpe_15\",\n",
    "          \"rpe_16\", \"rpe_17\", \"rpe_18\", \"rpe_19\", \"rpe_20\", \"rpe_21\", \"rpe_22\",\n",
    "          \"rpe_23\", \"rpe_24\", \"rpe_25\", \"rpe_26\", \"rpe_27\", \"rpe_28\", \"rpe_29\",\n",
    "          \"rpe_30\", \"rpe_31\", \"rpe_32\", \"rpe_33\", \"rpe_34\", \"rpe_35\", \"rpe_36\",\n",
    "          \"rpe_37\", \"rpe_38\", \"rpe_39\", \"rpe_40\", \"rpe_41\", \"rpe_42\", \"rpe_43\",\n",
    "          \"rpe_44\", \"rpe_45\", \"rpe_46\", \"rpe_47\", \"rpe_48\", \"rpe_49\", \"rpe_50\",\n",
    "          \"rpe_51\", \"rpe_52\", \"rpe_53\", \"rpe_54\", \"rpe_55\"]"
   ]
  },
  {
   "cell_type": "code",
   "execution_count": 30,
   "id": "9aad6685-ab81-44de-b3eb-0957ae45fa8c",
   "metadata": {},
   "outputs": [],
   "source": [
    "# for label in elabels:\n",
    "#     data = data[(data[label] < 10) & (data[label] > -10)]\n",
    "# data.shape"
   ]
  },
  {
   "cell_type": "code",
   "execution_count": 31,
   "id": "99e3cc55-b355-4c36-9f7f-430d9cfb987f",
   "metadata": {},
   "outputs": [],
   "source": [
    "# for small datasets\n",
    "# data = data.sample(n=50000,random_state=42)"
   ]
  },
  {
   "cell_type": "code",
   "execution_count": 32,
   "id": "d1b39094-2024-4fe1-8d1d-96d47ddd5886",
   "metadata": {},
   "outputs": [
    {
     "data": {
      "text/plain": [
       "(481813, 230)"
      ]
     },
     "execution_count": 32,
     "metadata": {},
     "output_type": "execute_result"
    }
   ],
   "source": [
    "data.shape"
   ]
  },
  {
   "cell_type": "code",
   "execution_count": 33,
   "id": "39cb2a67-849f-45b9-8204-6677a7369de7",
   "metadata": {},
   "outputs": [],
   "source": [
    "feh = data['fe_h']\n",
    "teff = data['teff']\n",
    "am = data['alpha_m']\n",
    "logg = data['logg']\n",
    "gmag = data['gaiaedr3_phot_g_mean_mag']\n",
    "normalize = lambda x, n: x / (10 ** (8.5 - n / 2.5))\n",
    "xp = []\n",
    "xpe = []\n",
    "for elabel,label,g in zip(elabels,labels,gmag):\n",
    "    xp.append(data[label])\n",
    "    xpe.append(data[elabel])\n",
    "xp = np.array(xp)\n",
    "xpe = np.array(xpe)"
   ]
  },
  {
   "cell_type": "code",
   "execution_count": 34,
   "id": "0048ad73-fb96-4189-9d04-00019af2c2fe",
   "metadata": {},
   "outputs": [
    {
     "data": {
      "text/plain": [
       "(481813, 110)"
      ]
     },
     "execution_count": 34,
     "metadata": {},
     "output_type": "execute_result"
    }
   ],
   "source": [
    "xp.T.shape"
   ]
  },
  {
   "cell_type": "code",
   "execution_count": 35,
   "id": "05e4b6e5-51f7-4348-927d-582bf9db1ee2",
   "metadata": {},
   "outputs": [],
   "source": [
    "gmag_train, gmag_test, feh_train, feh_test, teff_train, teff_test, am_train, am_test, logg_train, logg_test, xp_train, xp_test, xpe_train, xpe_test = train_test_split(\n",
    "    gmag,\n",
    "    feh,\n",
    "    teff,\n",
    "    am,\n",
    "    logg,\n",
    "    xp.T,\n",
    "    xpe.T,\n",
    "    test_size=0.1,\n",
    "    random_state=42\n",
    ")"
   ]
  },
  {
   "cell_type": "code",
   "execution_count": 36,
   "id": "da3679b7-7c82-4f75-a60f-864bb6988e52",
   "metadata": {},
   "outputs": [],
   "source": [
    "gmag_train, gmag_valid, feh_train, feh_valid, teff_train, teff_valid, am_train, am_valid, logg_train, logg_valid, xp_train, xp_valid, xpe_train, xpe_valid = train_test_split(\n",
    "    gmag_train,\n",
    "    feh_train,\n",
    "    teff_train,\n",
    "    am_train,\n",
    "    logg_train,\n",
    "    xp_train,\n",
    "    xpe_train,\n",
    "    test_size=0.1,\n",
    "    random_state=42\n",
    ")"
   ]
  },
  {
   "cell_type": "code",
   "execution_count": 37,
   "id": "5b1259b8-17ee-4992-98a6-386104c509fc",
   "metadata": {},
   "outputs": [
    {
     "data": {
      "text/plain": [
       "(390267, 110)"
      ]
     },
     "execution_count": 37,
     "metadata": {},
     "output_type": "execute_result"
    }
   ],
   "source": [
    "xp_train.shape"
   ]
  },
  {
   "cell_type": "code",
   "execution_count": 38,
   "id": "58887ba8-9ef9-4bb7-a33a-0d46c6470f95",
   "metadata": {},
   "outputs": [
    {
     "name": "stdout",
     "output_type": "stream",
     "text": [
      "<HDF5 group \"/\" (3 members)>\n",
      "<HDF5 group \"/group_1\" (4 members)>\n",
      "<HDF5 group \"/group_2\" (4 members)>\n",
      "<HDF5 dataset \"data\": shape (3, 390267), type \"<f4\">\n",
      "<HDF5 dataset \"label\": shape (110, 43364), type \"<f8\">\n",
      "<HDF5 dataset \"e_label\": shape (110, 48182), type \"<f4\">\n",
      "<HDF5 dataset \"gmag\": shape (390267,), type \"<f4\">\n"
     ]
    }
   ],
   "source": [
    "# Create a HDF5 file\n",
    "hierarchicalFileName  = \"/arc/home/aydanmckay/apogee_bprp_gmag.h5\"\n",
    "with h5py.File(hierarchicalFileName, 'w') as hierarchicalFile:\n",
    "    # Create a group under root\n",
    "    \n",
    "    train = hierarchicalFile.create_group(\"group_1\")\n",
    "    valid = hierarchicalFile.create_group(\"group_2\")\n",
    "    test = hierarchicalFile.create_group(\"group_3\")\n",
    "    \n",
    "    train['data'] = np.array(\n",
    "        [feh_train,\n",
    "         logg_train,\n",
    "         teff_train,\n",
    "         # am_train\n",
    "        ]\n",
    "    )\n",
    "    valid['data'] = np.array(\n",
    "        [feh_valid,\n",
    "         logg_valid,\n",
    "         teff_valid,\n",
    "         # am_valid\n",
    "        ]\n",
    "    )\n",
    "    test['data'] = np.array(\n",
    "        [feh_test,\n",
    "         logg_test,\n",
    "         teff_test,\n",
    "         # am_test\n",
    "        ]\n",
    "    )\n",
    "    train['label'] = xp_train.T\n",
    "    train['e_label'] = xpe_train.T\n",
    "    valid['label'] = xp_valid.T\n",
    "    valid['e_label'] = xpe_valid.T\n",
    "    test['label'] = xp_test.T\n",
    "    test['e_label'] = xpe_test.T\n",
    "    \n",
    "    train['gmag'] = gmag_train\n",
    "    valid['gmag'] = gmag_valid\n",
    "    test['gmag'] = gmag_test\n",
    "\n",
    "    print(hierarchicalFile[\"/\"])\n",
    "    print(train)\n",
    "    print(valid)\n",
    "    print(train['data'])\n",
    "    print(valid[\"label\"])\n",
    "    print(test['e_label'])\n",
    "    print(train['gmag'])"
   ]
  },
  {
   "cell_type": "code",
   "execution_count": 39,
   "id": "88e03dc1-ebca-4f1b-bcfd-b5e7df8d014b",
   "metadata": {},
   "outputs": [
    {
     "name": "stdout",
     "output_type": "stream",
     "text": [
      "390267\n",
      "390267\n",
      "(3, 390267)\n"
     ]
    }
   ],
   "source": [
    "scalerlist = [MinMaxScaler() for _ in range(110)]\n",
    "with h5py.File(\"/arc/home/aydanmckay/apogee_bprp_gmag.h5\", 'r') as f:\n",
    "    d = f['group_1']['label']\n",
    "    dn = f['group_1']['gmag']\n",
    "    dnset = dn[:]\n",
    "    dset = d[:]\n",
    "    ydat = np.array([\n",
    "        scaler.fit_transform(d[[it]].T).flatten() for it,scaler in enumerate(scalerlist)\n",
    "    ])\n",
    "    print(ydat.shape[1])\n",
    "    print(f['group_1']['label'].shape[1])\n",
    "    print(f['group_1']['data'].shape)"
   ]
  },
  {
   "cell_type": "code",
   "execution_count": 41,
   "id": "5472bc6a-ee08-453e-ba98-8faffe8eae79",
   "metadata": {},
   "outputs": [
    {
     "data": {
      "text/plain": [
       "array([14.1472, 14.2514, 11.4446, ..., 11.5993, 11.2877, 14.1614],\n",
       "      dtype=float32)"
      ]
     },
     "execution_count": 41,
     "metadata": {},
     "output_type": "execute_result"
    }
   ],
   "source": [
    "dnset"
   ]
  },
  {
   "cell_type": "code",
   "execution_count": 16,
   "id": "e906b63c-a2ad-4e35-a5e1-bcfc6d4d1664",
   "metadata": {},
   "outputs": [
    {
     "data": {
      "text/plain": [
       "(110, 390267)"
      ]
     },
     "execution_count": 16,
     "metadata": {},
     "output_type": "execute_result"
    }
   ],
   "source": [
    "dset.shape"
   ]
  },
  {
   "cell_type": "code",
   "execution_count": 17,
   "id": "039b9980-13b4-47a0-b5f4-39aaa819ab62",
   "metadata": {},
   "outputs": [
    {
     "data": {
      "text/plain": [
       "array([[ 2.32948541e+03,  1.87748561e+03,  3.05437837e+04, ...,\n",
       "         2.93273792e+04,  3.36147429e+04,  1.93787806e+03],\n",
       "       [ 4.07548300e+01,  1.79590140e+02, -1.31551022e+03, ...,\n",
       "        -6.05281620e+03,  2.47677654e+02,  2.76209241e+02],\n",
       "       [-1.13494776e+02, -9.85013410e+01, -1.10829670e+03, ...,\n",
       "         2.97819643e+02, -1.54011844e+03, -9.17349044e+01],\n",
       "       ...,\n",
       "       [ 4.09214963e-01,  1.84395003e-01,  6.10825795e-01, ...,\n",
       "         1.21317120e-01,  1.98121742e-01, -1.97503163e-01],\n",
       "       [ 2.58034467e-02, -6.32892527e-02, -7.94160894e-02, ...,\n",
       "        -3.49411580e-01, -5.80855590e-01,  2.35294369e-01],\n",
       "       [-3.63938200e-02,  4.51327252e-02,  1.19896489e+00, ...,\n",
       "         3.12188173e-02, -2.27753775e-02,  1.29013234e-01]])"
      ]
     },
     "execution_count": 17,
     "metadata": {},
     "output_type": "execute_result"
    }
   ],
   "source": [
    "dset"
   ]
  },
  {
   "cell_type": "code",
   "execution_count": 18,
   "id": "c9e5e0f8-a8e6-4f30-8049-0d4056718fb1",
   "metadata": {
    "tags": []
   },
   "outputs": [
    {
     "data": {
      "text/plain": [
       "array([[6.51188736e-04, 5.24746209e-04, 8.54386303e-03, ...,\n",
       "        8.20358574e-03, 9.40293385e-03, 5.41640407e-04],\n",
       "       [9.66160955e-01, 9.66259790e-01, 9.65195451e-01, ...,\n",
       "        9.61823038e-01, 9.66308260e-01, 9.66328571e-01],\n",
       "       [9.77605555e-02, 9.78111342e-02, 9.44047038e-02, ...,\n",
       "        9.91480782e-02, 9.29480020e-02, 9.78339600e-02],\n",
       "       ...,\n",
       "       [2.58482625e-01, 2.58350438e-01, 2.58601166e-01, ...,\n",
       "        2.58313351e-01, 2.58358509e-01, 2.58125895e-01],\n",
       "       [5.56681276e-01, 5.56389712e-01, 5.56336936e-01, ...,\n",
       "        5.55453350e-01, 5.54695928e-01, 5.57366855e-01],\n",
       "       [4.31522500e-01, 4.31693116e-01, 4.34107820e-01, ...,\n",
       "        4.31663997e-01, 4.31551000e-01, 4.31868659e-01]])"
      ]
     },
     "execution_count": 18,
     "metadata": {},
     "output_type": "execute_result"
    }
   ],
   "source": [
    "ydat"
   ]
  },
  {
   "cell_type": "code",
   "execution_count": 23,
   "id": "38acff94-ac70-44cf-9b8b-f1e4cc0b646b",
   "metadata": {},
   "outputs": [
    {
     "data": {
      "text/plain": [
       "(390267, 110)"
      ]
     },
     "execution_count": 23,
     "metadata": {},
     "output_type": "execute_result"
    }
   ],
   "source": [
    "dset.T.shape"
   ]
  },
  {
   "cell_type": "code",
   "execution_count": null,
   "id": "94963d46-b328-4c47-aec8-20fed14ab57b",
   "metadata": {},
   "outputs": [],
   "source": []
  }
 ],
 "metadata": {
  "kernelspec": {
   "display_name": "Python 3 (ipykernel)",
   "language": "python",
   "name": "python3"
  },
  "language_info": {
   "codemirror_mode": {
    "name": "ipython",
    "version": 3
   },
   "file_extension": ".py",
   "mimetype": "text/x-python",
   "name": "python",
   "nbconvert_exporter": "python",
   "pygments_lexer": "ipython3",
   "version": "3.9.13"
  }
 },
 "nbformat": 4,
 "nbformat_minor": 5
}
